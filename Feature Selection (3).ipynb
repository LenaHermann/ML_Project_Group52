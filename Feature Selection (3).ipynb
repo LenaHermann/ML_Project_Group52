{
 "cells": [
  {
   "cell_type": "code",
   "execution_count": 1,
   "id": "dd90feba-4fd0-452a-9509-61931487c49b",
   "metadata": {},
   "outputs": [],
   "source": [
    "# imports\n",
    "import pandas as pd\n",
    "import os\n",
    "import matplotlib.pyplot as plt\n",
    "import numpy as np\n",
    "\n",
    "#notebook settings\n",
    "pd.set_option('display.max_columns', None)\n",
    "\n",
    "from scipy.stats import uniform, randint\n",
    "\n",
    "# building a pipeline to preprocess the data\n",
    "from sklearn.preprocessing import StandardScaler, OneHotEncoder, LabelEncoder, OrdinalEncoder\n",
    "from sklearn.compose import ColumnTransformer\n",
    "from sklearn.model_selection import train_test_split, cross_val_score, StratifiedKFold, learning_curve, validation_curve, RandomizedSearchCV\n",
    "from sklearn.feature_selection import RFECV\n",
    "from sklearn.ensemble import RandomForestClassifier\n",
    "from sklearn.pipeline import Pipeline\n",
    "from sklearn.metrics import classification_report\n",
    "from xgboost import XGBClassifier\n",
    "from sklearn.linear_model import LogisticRegression\n",
    "from sklearn.model_selection import StratifiedKFold\n",
    "\n",
    "\n",
    "from sklearn.compose import ColumnTransformer\n",
    "from sklearn.pipeline import Pipeline\n",
    "from sklearn.preprocessing import OrdinalEncoder, OneHotEncoder, StandardScaler\n",
    "import pickle\n",
    "import seaborn as sns\n",
    "import matplotlib.pyplot as plt\n",
    "from sklearn.linear_model import LassoCV\n",
    "from sklearn.model_selection import train_test_split\n",
    "from sklearn.preprocessing import LabelEncoder, StandardScaler\n",
    "from sklearn.metrics import mean_squared_error, r2_score\n",
    "from sklearn.metrics import mean_squared_error, r2_score\n",
    "from sklearn.preprocessing import StandardScaler\n",
    "\n",
    "import os"
   ]
  },
  {
   "cell_type": "markdown",
   "id": "4a5bc6df-e36f-437f-8ed0-f5fb97afa89c",
   "metadata": {},
   "source": [
    "# File Loading"
   ]
  },
  {
   "cell_type": "code",
   "execution_count": 2,
   "id": "4e3a9d31-dde5-400d-9f4b-ed223d3520f5",
   "metadata": {},
   "outputs": [
    {
     "name": "stdout",
     "output_type": "stream",
     "text": [
      "X_train shape: (346576, 42) y_train shape: (346576, 1)\n",
      "X_val shape: (91844, 42) y_val shape: (91844, 1)\n",
      "X_test shape: (114806, 42) y_test shape: (114806, 1)\n"
     ]
    },
    {
     "name": "stderr",
     "output_type": "stream",
     "text": [
      "/var/folders/2m/t2s2zdt15tgd3q3dmyd7y88r0000gn/T/ipykernel_78335/3407831173.py:14: DtypeWarning: Columns (15) have mixed types. Specify dtype option on import or set low_memory=False.\n",
      "  X_test = pd.read_csv(test_path)\n"
     ]
    }
   ],
   "source": [
    "# Paths to feature files\n",
    "train_path = \"/Users/pedrocosta/Desktop/NOVA IMS/Mestrado DSAA/1º Semestre/Apredizagem automática/project_data/processed test/prepared_claims_data_train_median.csv\"\n",
    "val_path = \"/Users/pedrocosta/Desktop/NOVA IMS/Mestrado DSAA/1º Semestre/Apredizagem automática/project_data/processed test/prepared_claims_data_val_median.csv\"\n",
    "test_path = \"/Users/pedrocosta/Desktop/NOVA IMS/Mestrado DSAA/1º Semestre/Apredizagem automática/project_data/processed test/prepared_claims_data_test_median.csv\"\n",
    "\n",
    "# Paths to target files\n",
    "ytrain_path = \"/Users/pedrocosta/Desktop/NOVA IMS/Mestrado DSAA/1º Semestre/Apredizagem automática/project_data/processed test/y_train_encoded_median.csv\"\n",
    "yval_path = \"/Users/pedrocosta/Desktop/NOVA IMS/Mestrado DSAA/1º Semestre/Apredizagem automática/project_data/processed test/y_val_encoded_median.csv\"\n",
    "ytest_path = \"/Users/pedrocosta/Desktop/NOVA IMS/Mestrado DSAA/1º Semestre/Apredizagem automática/project_data/processed test/y_test_encoded_median.csv\"\n",
    "\n",
    "# Load the feature datasets\n",
    "X_train = pd.read_csv(train_path)\n",
    "X_val = pd.read_csv(val_path)\n",
    "X_test = pd.read_csv(test_path)\n",
    "\n",
    "# Load the target datasets\n",
    "y_train = pd.read_csv(ytrain_path)\n",
    "y_val = pd.read_csv(yval_path)\n",
    "y_test = pd.read_csv(ytest_path)\n",
    "\n",
    "# Inspect loaded data\n",
    "print(\"X_train shape:\", X_train.shape, \"y_train shape:\", y_train.shape)\n",
    "print(\"X_val shape:\", X_val.shape, \"y_val shape:\", y_val.shape)\n",
    "print(\"X_test shape:\", X_test.shape, \"y_test shape:\", y_test.shape)\n"
   ]
  },
  {
   "cell_type": "code",
   "execution_count": 3,
   "id": "db83a72c-6dc5-492a-9316-4470d1cbcd05",
   "metadata": {},
   "outputs": [
    {
     "name": "stdout",
     "output_type": "stream",
     "text": [
      "Index(['Age at Injury', 'Attorney/Representative', 'Average Weekly Wage',\n",
      "       'Carrier Name', 'Carrier Type', 'Claim Identifier', 'County of Injury',\n",
      "       'COVID-19 Indicator', 'District Name', 'Gender',\n",
      "       'Industry Code Description', 'Medical Fee Region',\n",
      "       'WCIO Cause of Injury Description', 'WCIO Nature of Injury Description',\n",
      "       'WCIO Part Of Body Description', 'Zip Code', 'Number of Dependents',\n",
      "       'Cause Injury Category', 'Nature of Injury Category',\n",
      "       'Body Part Category', 'Age_Group', 'Wage_Group', 'Carrier Name Grouped',\n",
      "       'Lag_Time', 'Accident_to_C2_Lag', 'Accident Date_Year',\n",
      "       'Accident Date_Month', 'Assembly Date_Month', 'Assembly Date_Day',\n",
      "       'C-2 Date_Year', 'C-2 Date_Month', 'C-2 Date_Day', 'Accident_Month_Sin',\n",
      "       'Accident_Month_Cos', 'Accident_Day', 'Assembly_Year',\n",
      "       'Assembly_Month_Sin', 'Assembly_Month_Cos', 'Assembly_Day',\n",
      "       'C-2_Month_Sin', 'C-2_Month_Cos', 'C-2_Day'],\n",
      "      dtype='object')\n"
     ]
    }
   ],
   "source": [
    "print(X_train.columns)\n"
   ]
  },
  {
   "cell_type": "code",
   "execution_count": 4,
   "id": "dda3a0ef-b7b0-455f-a924-2220bb1ebf5f",
   "metadata": {},
   "outputs": [
    {
     "data": {
      "text/html": [
       "<div>\n",
       "<style scoped>\n",
       "    .dataframe tbody tr th:only-of-type {\n",
       "        vertical-align: middle;\n",
       "    }\n",
       "\n",
       "    .dataframe tbody tr th {\n",
       "        vertical-align: top;\n",
       "    }\n",
       "\n",
       "    .dataframe thead th {\n",
       "        text-align: right;\n",
       "    }\n",
       "</style>\n",
       "<table border=\"1\" class=\"dataframe\">\n",
       "  <thead>\n",
       "    <tr style=\"text-align: right;\">\n",
       "      <th></th>\n",
       "      <th>Claim Injury Type</th>\n",
       "    </tr>\n",
       "  </thead>\n",
       "  <tbody>\n",
       "    <tr>\n",
       "      <th>0</th>\n",
       "      <td>0.0</td>\n",
       "    </tr>\n",
       "    <tr>\n",
       "      <th>1</th>\n",
       "      <td>2.0</td>\n",
       "    </tr>\n",
       "    <tr>\n",
       "      <th>2</th>\n",
       "      <td>4.0</td>\n",
       "    </tr>\n",
       "    <tr>\n",
       "      <th>3</th>\n",
       "      <td>1.0</td>\n",
       "    </tr>\n",
       "    <tr>\n",
       "      <th>4</th>\n",
       "      <td>1.0</td>\n",
       "    </tr>\n",
       "  </tbody>\n",
       "</table>\n",
       "</div>"
      ],
      "text/plain": [
       "   Claim Injury Type\n",
       "0                0.0\n",
       "1                2.0\n",
       "2                4.0\n",
       "3                1.0\n",
       "4                1.0"
      ]
     },
     "execution_count": 4,
     "metadata": {},
     "output_type": "execute_result"
    }
   ],
   "source": [
    "y_train.head()"
   ]
  },
  {
   "cell_type": "code",
   "execution_count": 5,
   "id": "41031f20-20ea-48f3-8fc4-98be7ac0c5a2",
   "metadata": {},
   "outputs": [
    {
     "data": {
      "text/html": [
       "<div>\n",
       "<style scoped>\n",
       "    .dataframe tbody tr th:only-of-type {\n",
       "        vertical-align: middle;\n",
       "    }\n",
       "\n",
       "    .dataframe tbody tr th {\n",
       "        vertical-align: top;\n",
       "    }\n",
       "\n",
       "    .dataframe thead th {\n",
       "        text-align: right;\n",
       "    }\n",
       "</style>\n",
       "<table border=\"1\" class=\"dataframe\">\n",
       "  <thead>\n",
       "    <tr style=\"text-align: right;\">\n",
       "      <th></th>\n",
       "      <th>Claim Injury Type</th>\n",
       "    </tr>\n",
       "  </thead>\n",
       "  <tbody>\n",
       "    <tr>\n",
       "      <th>0</th>\n",
       "      <td>0.0</td>\n",
       "    </tr>\n",
       "    <tr>\n",
       "      <th>1</th>\n",
       "      <td>2.0</td>\n",
       "    </tr>\n",
       "    <tr>\n",
       "      <th>2</th>\n",
       "      <td>4.0</td>\n",
       "    </tr>\n",
       "    <tr>\n",
       "      <th>3</th>\n",
       "      <td>1.0</td>\n",
       "    </tr>\n",
       "    <tr>\n",
       "      <th>4</th>\n",
       "      <td>1.0</td>\n",
       "    </tr>\n",
       "  </tbody>\n",
       "</table>\n",
       "</div>"
      ],
      "text/plain": [
       "   Claim Injury Type\n",
       "0                0.0\n",
       "1                2.0\n",
       "2                4.0\n",
       "3                1.0\n",
       "4                1.0"
      ]
     },
     "execution_count": 5,
     "metadata": {},
     "output_type": "execute_result"
    }
   ],
   "source": [
    "y_train.head()"
   ]
  },
  {
   "cell_type": "markdown",
   "id": "1084fbea-0c9b-42f8-823f-5708b62b90ab",
   "metadata": {},
   "source": [
    "# Encodings of the features"
   ]
  },
  {
   "cell_type": "markdown",
   "id": "2b138224-fad5-4faf-8f7e-1c020f53c616",
   "metadata": {},
   "source": [
    "We decide to encode the variables as follows:\n",
    "- __One-Hot Encoding:__ For variables with a small number of unique values (< 5); preferable because it treats each category independently and avoids introducing an artificial order.\n",
    "- __Ordinal Encoding:__ For variables with a natural order or numeric-like scale."
   ]
  },
  {
   "cell_type": "markdown",
   "id": "067aa5ea-03d3-42eb-b759-a1714a58af24",
   "metadata": {},
   "source": [
    "| **Variable**                     | **Encoding Type**       | **Reason**                                                                 |\n",
    "|----------------------------------|-------------------------|-----------------------------------------------------------------------------|\n",
    "| Age at Injury                    | None                   | Numerical variable; leave as-is.                                           |\n",
    "| Attorney/Representative          | One-Hot                | Binary categorical (Yes/No).                                               |\n",
    "| Average Weekly Wage              | None                   | Numerical variable; leave as-is.                                           |\n",
    "| Carrier Type                     | One-Hot                | Nominal categorical; moderate cardinality.                                 |\n",
    "| Claim Identifier                 | None                   | Unique identifier; leave as-is.                                            |\n",
    "| County of Injury                 | One-Hot                | Nominal categorical; One-Hot Encoding avoids unintended ordinal meaning.   |\n",
    "| COVID-19 Indicator               | One-Hot                | Binary categorical (Yes/No).                                               |\n",
    "| District Name                    | One-Hot                | Nominal categorical; One-Hot avoids ordinal meaning.                       |\n",
    "| Gender                           | One-Hot                | Binary categorical (Male/Female/Other).                                    |\n",
    "| Industry Code Description        | One-Hot                | Nominal categorical; One-Hot avoids ordinal assumptions.                   |\n",
    "| Medical Fee Region               | One-Hot                | Nominal categorical (regions); One-Hot avoids unintended ordinal meaning.  |\n",
    "| Number of Dependents             | None                   | Numerical variable; leave as-is.                                           |\n",
    "| Lag_Time                         | None                   | Numerical variable; leave as-is.                                           |\n",
    "| Accident_to_C2_Lag               | None                   | Numerical variable; leave as-is.                                           |\n",
    "| Accident Date_Year               | None                   | Numerical variable; leave as-is.                                           |\n",
    "| Accident Date_Month              | One-Hot                | Nominal categorical; avoids unintended ordinal meaning.                    |\n",
    "| Accident Date_Day                | None                   | Numerical; leave as-is unless specific patterns are found.                 |\n",
    "| Assembly Date_Month              | One-Hot                | Nominal categorical; avoids unintended ordinal meaning.                    |\n",
    "| Assembly Date_Day                | None                   | Numerical; leave as-is unless specific patterns are found.                 |\n",
    "| C-2 Date_Year                    | None                   | Numerical variable; leave as-is.                                           |\n",
    "| C-2 Date_Month                   | One-Hot                | Nominal categorical; avoids unintended ordinal meaning.                    |\n",
    "| C-2 Date_Day                     | None                   | Numerical; leave as-is unless specific patterns are found.                 |\n",
    "| Accident_Month_Sin               | None                   | Already processed as cyclical; leave as-is.                                |\n",
    "| Accident_Month_Cos               | None                   | Already processed as cyclical; leave as-is.                                |\n",
    "| Accident_Day                     | None                   | Numerical; leave as-is unless specific patterns are found.                 |\n",
    "| Assembly_Year                    | None                   | Numerical variable; leave as-is.                                           |\n",
    "| Assembly_Month_Sin               | None                   | Already processed as cyclical; leave as-is.                                |\n",
    "| Assembly_Month_Cos               | None                   | Already processed as cyclical; leave as-is.                                |\n",
    "| Assembly_Day                     | None                   | Numerical; leave as-is unless specific patterns are found.                 |\n",
    "| C-2_Month_Sin                    | None                   | Already processed as cyclical; leave as-is.                                |\n",
    "| C-2_Month_Cos                    | None                   | Already processed as cyclical; leave as-is.                                |\n",
    "| C-2_Day                          | None                   | Numerical; leave as-is unless specific patterns are found.                 |\n",
    "| Cause Injury Category            | One-Hot                | Nominal categorical; avoids unintended ordinal meaning.                    |\n",
    "| Nature of Injury Category        | One-Hot                | Nominal categorical; avoids unintended ordinal meaning.                    |\n",
    "| Body Part Category               | One-Hot                | Nominal categorical; avoids unintended ordinal meaning.                    |\n",
    "| Region                           | One-Hot                | Nominal categorical; avoids unintended ordinal meaning.                    |\n",
    "| State                            | One-Hot                | Nominal categorical; avoids unintended ordinal meaning.                    |\n",
    "| Age_Group                        | Ordinal                | Categorical with inherent order (e.g., Teen, Adult).                       |\n",
    "| Wage_Group                       | Ordinal                | Categorical with inherent order (e.g., Low, Medium, High).                 |\n",
    "| Carrier Name Grouped             | One-Hot                | Nominal categorical; avoids unintended ordinal meaning.                    |"
   ]
  },
  {
   "cell_type": "code",
   "execution_count": 6,
   "id": "34bda8ec-b09f-4601-a914-92a3c24ecd26",
   "metadata": {},
   "outputs": [],
   "source": [
    "X_train['Region'] = X_train['Zip Code'].astype(str).str[0]\n",
    "X_val['Region'] = X_val['Zip Code'].astype(str).str[0]\n",
    "X_test['Region'] = X_test['Zip Code'].astype(str).str[0]\n"
   ]
  },
  {
   "cell_type": "code",
   "execution_count": 7,
   "id": "cda90a7f-00af-4b44-b05d-1d200d1b6661",
   "metadata": {},
   "outputs": [],
   "source": [
    "X_train['State'] = X_train['Zip Code'].astype(str).str[:2]\n",
    "X_val['State'] = X_val['Zip Code'].astype(str).str[:2]\n",
    "X_test['State'] = X_test['Zip Code'].astype(str).str[:2]\n"
   ]
  },
  {
   "cell_type": "code",
   "execution_count": 8,
   "id": "a268f55a-dd03-42a6-99be-109d71cd8ba8",
   "metadata": {},
   "outputs": [],
   "source": [
    "X_train = X_train.drop(columns=[ 'Carrier Name', 'WCIO Cause of Injury Description', 'WCIO Nature of Injury Description', 'WCIO Part Of Body Description', 'Zip Code'])\n",
    "X_val = X_val.drop(columns=[ 'Carrier Name', 'WCIO Cause of Injury Description', 'WCIO Nature of Injury Description', 'WCIO Part Of Body Description', 'Zip Code'])\n",
    "X_test = X_test.drop(columns=['Carrier Name', 'WCIO Cause of Injury Description', 'WCIO Nature of Injury Description', 'WCIO Part Of Body Description', 'Zip Code'])"
   ]
  },
  {
   "cell_type": "markdown",
   "id": "ef2996b0-7c44-4976-9262-c2b6faa550ce",
   "metadata": {},
   "source": [
    "## Scalling"
   ]
  },
  {
   "cell_type": "code",
   "execution_count": 9,
   "id": "c21b7649-56aa-4229-86a3-7cccd748191b",
   "metadata": {},
   "outputs": [],
   "source": [
    "from sklearn.preprocessing import StandardScaler\n",
    "import pandas as pd\n",
    "\n",
    "# Separate numerical and categorical columns\n",
    "numerical_columns = X_train.select_dtypes(include=['int64', 'float64']).columns.tolist()\n",
    "categorical_columns = X_train.select_dtypes(exclude=['int64', 'float64']).columns.tolist()\n",
    "\n",
    "# Scale numerical features\n",
    "scaler = StandardScaler()\n",
    "X_train_scaled_numerical = scaler.fit_transform(X_train[numerical_columns])\n",
    "X_val_scaled_numerical = scaler.transform(X_val[numerical_columns])\n",
    "X_test_scaled_numerical = scaler.transform(X_test[numerical_columns])\n",
    "\n",
    "# Convert scaled numerical data back to DataFrame\n",
    "X_train_scaled_numerical = pd.DataFrame(X_train_scaled_numerical, columns=numerical_columns, index=X_train.index)\n",
    "X_val_scaled_numerical = pd.DataFrame(X_val_scaled_numerical, columns=numerical_columns, index=X_val.index)\n",
    "X_test_scaled_numerical = pd.DataFrame(X_test_scaled_numerical, columns=numerical_columns, index=X_test.index)\n",
    "\n"
   ]
  },
  {
   "cell_type": "code",
   "execution_count": 10,
   "id": "b4a31fe6-3835-4c18-8a85-1001650a1328",
   "metadata": {},
   "outputs": [
    {
     "data": {
      "text/html": [
       "<div>\n",
       "<style scoped>\n",
       "    .dataframe tbody tr th:only-of-type {\n",
       "        vertical-align: middle;\n",
       "    }\n",
       "\n",
       "    .dataframe tbody tr th {\n",
       "        vertical-align: top;\n",
       "    }\n",
       "\n",
       "    .dataframe thead th {\n",
       "        text-align: right;\n",
       "    }\n",
       "</style>\n",
       "<table border=\"1\" class=\"dataframe\">\n",
       "  <thead>\n",
       "    <tr style=\"text-align: right;\">\n",
       "      <th></th>\n",
       "      <th>Age at Injury</th>\n",
       "      <th>Average Weekly Wage</th>\n",
       "      <th>Claim Identifier</th>\n",
       "      <th>Number of Dependents</th>\n",
       "      <th>Lag_Time</th>\n",
       "      <th>Accident_to_C2_Lag</th>\n",
       "      <th>Accident Date_Year</th>\n",
       "      <th>Accident Date_Month</th>\n",
       "      <th>Assembly Date_Month</th>\n",
       "      <th>Assembly Date_Day</th>\n",
       "      <th>C-2 Date_Year</th>\n",
       "      <th>C-2 Date_Month</th>\n",
       "      <th>C-2 Date_Day</th>\n",
       "      <th>Accident_Month_Sin</th>\n",
       "      <th>Accident_Month_Cos</th>\n",
       "      <th>Accident_Day</th>\n",
       "      <th>Assembly_Year</th>\n",
       "      <th>Assembly_Month_Sin</th>\n",
       "      <th>Assembly_Month_Cos</th>\n",
       "      <th>Assembly_Day</th>\n",
       "      <th>C-2_Month_Sin</th>\n",
       "      <th>C-2_Month_Cos</th>\n",
       "      <th>C-2_Day</th>\n",
       "    </tr>\n",
       "  </thead>\n",
       "  <tbody>\n",
       "    <tr>\n",
       "      <th>0</th>\n",
       "      <td>-1.182536</td>\n",
       "      <td>-0.632462</td>\n",
       "      <td>0.880103</td>\n",
       "      <td>-1.502617</td>\n",
       "      <td>0.887462</td>\n",
       "      <td>0.039054</td>\n",
       "      <td>1.185679</td>\n",
       "      <td>-1.585308</td>\n",
       "      <td>-0.722808</td>\n",
       "      <td>-0.700776</td>\n",
       "      <td>-0.090365</td>\n",
       "      <td>0.149348</td>\n",
       "      <td>-0.099383</td>\n",
       "      <td>0.719264</td>\n",
       "      <td>1.217411</td>\n",
       "      <td>-0.275587</td>\n",
       "      <td>1.167647</td>\n",
       "      <td>1.234900</td>\n",
       "      <td>-0.712083</td>\n",
       "      <td>-0.700776</td>\n",
       "      <td>0.015589</td>\n",
       "      <td>-0.002609</td>\n",
       "      <td>-0.099383</td>\n",
       "    </tr>\n",
       "    <tr>\n",
       "      <th>1</th>\n",
       "      <td>1.212683</td>\n",
       "      <td>0.809764</td>\n",
       "      <td>0.116911</td>\n",
       "      <td>1.496494</td>\n",
       "      <td>0.153694</td>\n",
       "      <td>0.132213</td>\n",
       "      <td>0.043169</td>\n",
       "      <td>0.434498</td>\n",
       "      <td>0.728991</td>\n",
       "      <td>-0.700776</td>\n",
       "      <td>-0.090365</td>\n",
       "      <td>0.735702</td>\n",
       "      <td>-0.785048</td>\n",
       "      <td>-1.205401</td>\n",
       "      <td>-0.722067</td>\n",
       "      <td>-0.826830</td>\n",
       "      <td>-0.067156</td>\n",
       "      <td>-1.387530</td>\n",
       "      <td>-0.000347</td>\n",
       "      <td>-0.700776</td>\n",
       "      <td>-1.402742</td>\n",
       "      <td>-0.002609</td>\n",
       "      <td>-0.785048</td>\n",
       "    </tr>\n",
       "    <tr>\n",
       "      <th>2</th>\n",
       "      <td>-1.255119</td>\n",
       "      <td>1.316476</td>\n",
       "      <td>0.388915</td>\n",
       "      <td>1.496494</td>\n",
       "      <td>0.407813</td>\n",
       "      <td>0.389202</td>\n",
       "      <td>0.043169</td>\n",
       "      <td>1.300129</td>\n",
       "      <td>1.309710</td>\n",
       "      <td>1.383737</td>\n",
       "      <td>-0.090365</td>\n",
       "      <td>1.322056</td>\n",
       "      <td>1.271948</td>\n",
       "      <td>-0.689689</td>\n",
       "      <td>1.217411</td>\n",
       "      <td>1.378143</td>\n",
       "      <td>-0.067156</td>\n",
       "      <td>-0.684852</td>\n",
       "      <td>1.232417</td>\n",
       "      <td>1.383737</td>\n",
       "      <td>-0.693576</td>\n",
       "      <td>1.245486</td>\n",
       "      <td>1.271948</td>\n",
       "    </tr>\n",
       "    <tr>\n",
       "      <th>3</th>\n",
       "      <td>-1.255119</td>\n",
       "      <td>-0.632462</td>\n",
       "      <td>0.884552</td>\n",
       "      <td>1.496494</td>\n",
       "      <td>0.890639</td>\n",
       "      <td>0.877480</td>\n",
       "      <td>1.185679</td>\n",
       "      <td>-0.719677</td>\n",
       "      <td>-0.722808</td>\n",
       "      <td>-0.005938</td>\n",
       "      <td>1.153264</td>\n",
       "      <td>-0.730183</td>\n",
       "      <td>-0.099383</td>\n",
       "      <td>1.234976</td>\n",
       "      <td>-0.722067</td>\n",
       "      <td>1.929386</td>\n",
       "      <td>1.167647</td>\n",
       "      <td>1.234900</td>\n",
       "      <td>-0.712083</td>\n",
       "      <td>-0.005938</td>\n",
       "      <td>1.243900</td>\n",
       "      <td>-0.723197</td>\n",
       "      <td>-0.099383</td>\n",
       "    </tr>\n",
       "    <tr>\n",
       "      <th>4</th>\n",
       "      <td>-1.690613</td>\n",
       "      <td>-0.632462</td>\n",
       "      <td>-1.037381</td>\n",
       "      <td>-1.002766</td>\n",
       "      <td>-1.027959</td>\n",
       "      <td>-1.062785</td>\n",
       "      <td>-1.099342</td>\n",
       "      <td>0.434498</td>\n",
       "      <td>0.438631</td>\n",
       "      <td>-1.395614</td>\n",
       "      <td>-1.333994</td>\n",
       "      <td>0.442525</td>\n",
       "      <td>-1.470714</td>\n",
       "      <td>-1.205401</td>\n",
       "      <td>-0.722067</td>\n",
       "      <td>0.826900</td>\n",
       "      <td>-1.301960</td>\n",
       "      <td>-1.199248</td>\n",
       "      <td>-0.712083</td>\n",
       "      <td>-1.395614</td>\n",
       "      <td>-1.212721</td>\n",
       "      <td>-0.723197</td>\n",
       "      <td>-1.470714</td>\n",
       "    </tr>\n",
       "  </tbody>\n",
       "</table>\n",
       "</div>"
      ],
      "text/plain": [
       "   Age at Injury  Average Weekly Wage  Claim Identifier  Number of Dependents  \\\n",
       "0      -1.182536            -0.632462          0.880103             -1.502617   \n",
       "1       1.212683             0.809764          0.116911              1.496494   \n",
       "2      -1.255119             1.316476          0.388915              1.496494   \n",
       "3      -1.255119            -0.632462          0.884552              1.496494   \n",
       "4      -1.690613            -0.632462         -1.037381             -1.002766   \n",
       "\n",
       "   Lag_Time  Accident_to_C2_Lag  Accident Date_Year  Accident Date_Month  \\\n",
       "0  0.887462            0.039054            1.185679            -1.585308   \n",
       "1  0.153694            0.132213            0.043169             0.434498   \n",
       "2  0.407813            0.389202            0.043169             1.300129   \n",
       "3  0.890639            0.877480            1.185679            -0.719677   \n",
       "4 -1.027959           -1.062785           -1.099342             0.434498   \n",
       "\n",
       "   Assembly Date_Month  Assembly Date_Day  C-2 Date_Year  C-2 Date_Month  \\\n",
       "0            -0.722808          -0.700776      -0.090365        0.149348   \n",
       "1             0.728991          -0.700776      -0.090365        0.735702   \n",
       "2             1.309710           1.383737      -0.090365        1.322056   \n",
       "3            -0.722808          -0.005938       1.153264       -0.730183   \n",
       "4             0.438631          -1.395614      -1.333994        0.442525   \n",
       "\n",
       "   C-2 Date_Day  Accident_Month_Sin  Accident_Month_Cos  Accident_Day  \\\n",
       "0     -0.099383            0.719264            1.217411     -0.275587   \n",
       "1     -0.785048           -1.205401           -0.722067     -0.826830   \n",
       "2      1.271948           -0.689689            1.217411      1.378143   \n",
       "3     -0.099383            1.234976           -0.722067      1.929386   \n",
       "4     -1.470714           -1.205401           -0.722067      0.826900   \n",
       "\n",
       "   Assembly_Year  Assembly_Month_Sin  Assembly_Month_Cos  Assembly_Day  \\\n",
       "0       1.167647            1.234900           -0.712083     -0.700776   \n",
       "1      -0.067156           -1.387530           -0.000347     -0.700776   \n",
       "2      -0.067156           -0.684852            1.232417      1.383737   \n",
       "3       1.167647            1.234900           -0.712083     -0.005938   \n",
       "4      -1.301960           -1.199248           -0.712083     -1.395614   \n",
       "\n",
       "   C-2_Month_Sin  C-2_Month_Cos   C-2_Day  \n",
       "0       0.015589      -0.002609 -0.099383  \n",
       "1      -1.402742      -0.002609 -0.785048  \n",
       "2      -0.693576       1.245486  1.271948  \n",
       "3       1.243900      -0.723197 -0.099383  \n",
       "4      -1.212721      -0.723197 -1.470714  "
      ]
     },
     "execution_count": 10,
     "metadata": {},
     "output_type": "execute_result"
    }
   ],
   "source": [
    "X_train_scaled_numerical.head()"
   ]
  },
  {
   "cell_type": "markdown",
   "id": "8059fa56-3c6a-40a5-b632-8b48807b8990",
   "metadata": {},
   "source": [
    "## Verificaton of the scalling of the data"
   ]
  },
  {
   "cell_type": "code",
   "execution_count": 11,
   "id": "ba189784-0bfe-444d-a69e-8b83051c9486",
   "metadata": {},
   "outputs": [
    {
     "name": "stdout",
     "output_type": "stream",
     "text": [
      "Scaled X_train mean: Age at Injury           3.380745e-17\n",
      "Average Weekly Wage     1.609493e-16\n",
      "Claim Identifier       -1.694760e-15\n",
      "Number of Dependents   -1.269881e-16\n",
      "Lag_Time                4.920798e-15\n",
      "Accident_to_C2_Lag      4.811277e-15\n",
      "Accident Date_Year      4.504731e-14\n",
      "Accident Date_Month     1.914867e-17\n",
      "Assembly Date_Month     5.115196e-17\n",
      "Assembly Date_Day       1.615746e-16\n",
      "C-2 Date_Year          -6.826357e-14\n",
      "C-2 Date_Month         -7.064916e-17\n",
      "C-2 Date_Day           -7.733274e-17\n",
      "Accident_Month_Sin     -3.852286e-17\n",
      "Accident_Month_Cos     -5.057791e-17\n",
      "Accident_Day            1.126163e-16\n",
      "Assembly_Year           1.910262e-14\n",
      "Assembly_Month_Sin      3.485304e-17\n",
      "Assembly_Month_Cos      1.828759e-17\n",
      "Assembly_Day            1.615746e-16\n",
      "C-2_Month_Sin          -1.305964e-17\n",
      "C-2_Month_Cos           5.671819e-17\n",
      "C-2_Day                -7.733274e-17\n",
      "dtype: float64\n",
      "Scaled X_train std: Age at Injury           1.000001\n",
      "Average Weekly Wage     1.000001\n",
      "Claim Identifier        1.000001\n",
      "Number of Dependents    1.000001\n",
      "Lag_Time                1.000001\n",
      "Accident_to_C2_Lag      1.000001\n",
      "Accident Date_Year      1.000001\n",
      "Accident Date_Month     1.000001\n",
      "Assembly Date_Month     1.000001\n",
      "Assembly Date_Day       1.000001\n",
      "C-2 Date_Year           1.000001\n",
      "C-2 Date_Month          1.000001\n",
      "C-2 Date_Day            1.000001\n",
      "Accident_Month_Sin      1.000001\n",
      "Accident_Month_Cos      1.000001\n",
      "Accident_Day            1.000001\n",
      "Assembly_Year           1.000001\n",
      "Assembly_Month_Sin      1.000001\n",
      "Assembly_Month_Cos      1.000001\n",
      "Assembly_Day            1.000001\n",
      "C-2_Month_Sin           1.000001\n",
      "C-2_Month_Cos           1.000001\n",
      "C-2_Day                 1.000001\n",
      "dtype: float64\n"
     ]
    }
   ],
   "source": [
    "# Verify scaled data\n",
    "print(\"Scaled X_train mean:\",X_train_scaled_numerical.mean(axis=0))\n",
    "print(\"Scaled X_train std:\", X_train_scaled_numerical.std(axis=0))"
   ]
  },
  {
   "cell_type": "code",
   "execution_count": 12,
   "id": "789c729e-cf45-479d-8ef3-2695de0e06df",
   "metadata": {},
   "outputs": [
    {
     "name": "stdout",
     "output_type": "stream",
     "text": [
      "Number of features after encoding: 23\n"
     ]
    }
   ],
   "source": [
    "#Checking the number of features after Scalling\n",
    "num_features2 = X_train_scaled_numerical.shape[1]\n",
    "print(f\"Number of features after encoding: {num_features2}\")"
   ]
  },
  {
   "cell_type": "markdown",
   "id": "049e208c-2f9e-4c6b-a8a6-2abe539a9af0",
   "metadata": {},
   "source": [
    "## Verificaton of the mapping of the target variable"
   ]
  },
  {
   "cell_type": "code",
   "execution_count": 13,
   "id": "df3ad88c-6076-4c79-9848-43d1ab6d427b",
   "metadata": {},
   "outputs": [
    {
     "name": "stdout",
     "output_type": "stream",
     "text": [
      "y_train type (after extraction): <class 'pandas.core.series.Series'>\n",
      "y_val type (after extraction): <class 'pandas.core.series.Series'>\n",
      "y_test type (after extraction): <class 'pandas.core.series.Series'>\n",
      "Mapped y_train unique values: [0. 2. 4. 1. 3. 5. 7. 6.]\n",
      "Mapped y_val unique values: [1. 3. 4. 2. 0. 5. 6. 7.]\n",
      "Mapped y_test unique values: [4. 3. 2. 1. 0. 5. 7. 6.]\n"
     ]
    }
   ],
   "source": [
    "# Ensure `y_train`, `y_val`, and `y_test` are Series\n",
    "if isinstance(y_train, pd.DataFrame):\n",
    "    if 'Claim Injury Type' in y_train.columns:  # Replace with actual column name\n",
    "        y_train = y_train['Claim Injury Type']\n",
    "        y_val = y_val['Claim Injury Type']\n",
    "        y_test = y_test['Claim Injury Type']\n",
    "    else:\n",
    "        # If no explicit column name, take the first column\n",
    "        y_train = y_train.iloc[:, 0]\n",
    "        y_val = y_val.iloc[:, 0]\n",
    "        y_test = y_test.iloc[:, 0]\n",
    "\n",
    "# Verify they are Series\n",
    "print(\"y_train type (after extraction):\", type(y_train))\n",
    "print(\"y_val type (after extraction):\", type(y_val))\n",
    "print(\"y_test type (after extraction):\", type(y_test))\n",
    "\n",
    "\n",
    "# Verify the mapping\n",
    "print(\"Mapped y_train unique values:\", y_train.unique())\n",
    "print(\"Mapped y_val unique values:\", y_val.unique())\n",
    "print(\"Mapped y_test unique values:\", y_test.unique())"
   ]
  },
  {
   "cell_type": "markdown",
   "id": "519ee78a-8c2d-40c4-83c1-bfba174a0faa",
   "metadata": {},
   "source": [
    "# Feature Selection Pipeline"
   ]
  },
  {
   "cell_type": "markdown",
   "id": "4e4fb399-595a-4846-b10a-5df537106a20",
   "metadata": {},
   "source": [
    "## Correlation Matrix"
   ]
  },
  {
   "cell_type": "code",
   "execution_count": 14,
   "id": "5f390e75-8e30-431a-90da-efcbb20f1bfa",
   "metadata": {},
   "outputs": [],
   "source": [
    "correlation_matrix= X_train_scaled_numerical.corr(method='spearman')"
   ]
  },
  {
   "cell_type": "code",
   "execution_count": 15,
   "id": "803d3d64-8cf3-41bd-8f8e-e09e3e6306bd",
   "metadata": {},
   "outputs": [
    {
     "data": {
      "image/png": "[encoded data removed]",
      "text/plain": [
       "<Figure size 1200x1000 with 2 Axes>"
      ]
     },
     "metadata": {},
     "output_type": "display_data"
    }
   ],
   "source": [
    "# heatmap \n",
    "def cor_heatmap(data):\n",
    "    cor_matrix = data.corr()\n",
    "    plt.figure(figsize=(12, 10))\n",
    "    sns.heatmap(data=cor_matrix, annot=True, cmap= 'YlGnBu' , fmt='.1')\n",
    "    plt.title(\"Correlation Heatmap\")\n",
    "    plt.show()\n",
    "\n",
    "cor_heatmap(X_train_scaled_numerical)"
   ]
  },
  {
   "cell_type": "markdown",
   "id": "9c539531-d818-44d5-b1be-bff7f4d878f6",
   "metadata": {},
   "source": [
    "## Identify High Correlated Pairs - Pearson Correlation"
   ]
  },
  {
   "cell_type": "code",
   "execution_count": 35,
   "id": "83d57fc8-ae4f-49d9-a40b-21171dac366b",
   "metadata": {},
   "outputs": [
    {
     "name": "stdout",
     "output_type": "stream",
     "text": [
      "\n",
      "--- Highly Correlated Pairs (|correlation| > 0.8) ---\n",
      "Claim Identifier <--> Lag_Time\n",
      "Accident_to_C2_Lag <--> Claim Identifier\n",
      "Accident Date_Year <--> Claim Identifier\n",
      "C-2 Date_Year <--> Claim Identifier\n",
      "Assembly_Year <--> Claim Identifier\n",
      "Accident_to_C2_Lag <--> Lag_Time\n",
      "Accident Date_Year <--> Lag_Time\n",
      "C-2 Date_Year <--> Lag_Time\n",
      "Assembly_Year <--> Lag_Time\n",
      "Accident Date_Year <--> Accident_to_C2_Lag\n",
      "Accident_to_C2_Lag <--> C-2 Date_Year\n",
      "Accident_to_C2_Lag <--> Assembly_Year\n",
      "Accident Date_Year <--> C-2 Date_Year\n",
      "Accident Date_Year <--> Assembly_Year\n",
      "Assembly Date_Month <--> C-2 Date_Month\n",
      "Assembly Date_Day <--> Assembly_Day\n",
      "Assembly_Year <--> C-2 Date_Year\n",
      "C-2 Date_Day <--> C-2_Day\n",
      "Accident_Month_Sin <--> Assembly_Month_Sin\n",
      "Accident_Month_Cos <--> Assembly_Month_Cos\n",
      "Assembly_Month_Sin <--> C-2_Month_Sin\n",
      "Assembly_Month_Cos <--> C-2_Month_Cos\n",
      "\n",
      "--- Variables to Discard ---\n",
      "{'C-2_Day', 'Claim Identifier', 'C-2_Month_Sin', 'Accident_to_C2_Lag', 'C-2 Date_Year', 'Assembly_Day', 'Assembly_Month_Cos', 'C-2 Date_Month', 'C-2_Month_Cos', 'Assembly_Year', 'Assembly_Month_Sin', 'Lag_Time'}\n",
      "\n",
      "--- Variables to Keep ---\n",
      "['Age at Injury', 'Average Weekly Wage', 'Number of Dependents', 'Accident Date_Year', 'Accident Date_Month', 'Assembly Date_Month', 'Assembly Date_Day', 'C-2 Date_Day', 'Accident_Month_Sin', 'Accident_Month_Cos', 'Accident_Day']\n"
     ]
    }
   ],
   "source": [
    "# Step 2: Identify Highly Correlated Pairs\n",
    "threshold = 0.8  # Correlation threshold\n",
    "high_corr_pairs = []\n",
    "to_discard_correlation = set()\n",
    "\n",
    "for col in correlation_matrix.columns:\n",
    "    for row in correlation_matrix.index:\n",
    "        if col != row and abs(correlation_matrix.loc[row, col]) > threshold:\n",
    "            pair = tuple(sorted([row, col]))  # Ensure pairs are unique\n",
    "            if pair not in high_corr_pairs:\n",
    "                high_corr_pairs.append(pair)\n",
    "                # Add one side of the pair to discard list\n",
    "                to_discard_correlation.add(pair[1])\n",
    "\n",
    "# Step 3: Create List of Variables to Keep\n",
    "variables_to_keep_correlation = [col for col in X_train_scaled_numerical.columns if col not in to_discard_correlation]\n",
    "\n",
    "# Step 4: Display Results\n",
    "print(\"\\n--- Highly Correlated Pairs (|correlation| > 0.8) ---\")\n",
    "for pair in high_corr_pairs:\n",
    "    print(f\"{pair[0]} <--> {pair[1]}\")\n",
    "\n",
    "print(\"\\n--- Variables to Discard ---\")\n",
    "print(to_discard_correlation)\n",
    "\n",
    "print(\"\\n--- Variables to Keep ---\")\n",
    "print(variables_to_keep_correlation)\n",
    "\n",
    "# Optional: Convert Results to Lists\n",
    "variables_to_discard = list(to_discard_correlation)\n",
    "variables_to_keep = list(variables_to_keep_correlation)\n",
    "\n",
    "# Step 4: Create DataFrame with Selected Variables\n",
    "selected_variables_df = X_train_scaled_numerical[variables_to_keep_correlation]"
   ]
  },
  {
   "cell_type": "markdown",
   "id": "0c3e43fd-cc4e-4355-bca3-535ac4758d13",
   "metadata": {},
   "source": [
    "## RandomForest Regressor"
   ]
  },
  {
   "cell_type": "code",
   "execution_count": 36,
   "id": "e6a19384-9c6d-441b-bb1b-041817f21a8e",
   "metadata": {},
   "outputs": [
    {
     "name": "stdout",
     "output_type": "stream",
     "text": [
      "\n",
      "--- Final Feature Selection ---\n",
      "Number of Remaining Features: 11\n",
      "Top 20 Features by Random Forest: ['Average Weekly Wage', 'Age at Injury', 'Number of Dependents', 'Accident_Day', 'Assembly Date_Month', 'Accident Date_Year', 'Assembly Date_Day', 'C-2 Date_Day', 'Accident Date_Month', 'Accident_Month_Sin', 'Accident_Month_Cos']\n",
      "\n",
      "--- Final Selected Features ---\n",
      "1. Average Weekly Wage\n",
      "2. Age at Injury\n",
      "3. Number of Dependents\n",
      "4. Accident_Day\n",
      "5. Assembly Date_Month\n",
      "6. Accident Date_Year\n",
      "7. Assembly Date_Day\n",
      "8. C-2 Date_Day\n",
      "9. Accident Date_Month\n",
      "10. Accident_Month_Sin\n",
      "11. Accident_Month_Cos\n"
     ]
    }
   ],
   "source": [
    "from sklearn.preprocessing import StandardScaler\n",
    "from sklearn.compose import ColumnTransformer\n",
    "from sklearn.ensemble import RandomForestRegressor\n",
    "import pandas as pd\n",
    "\n",
    "# Initialize 'to_exclude' if not already defined\n",
    "to_exclude = set()  # Or use an empty list: to_exclude = []\n",
    "\n",
    "# Train Random Forest Regressor\n",
    "rf = RandomForestRegressor(n_estimators=100, random_state=42)\n",
    "rf.fit(selected_variables_df, y_train.values.ravel())\n",
    "\n",
    "# Extract Feature Importances\n",
    "feature_importances = pd.Series(rf.feature_importances_, index= selected_variables_df.columns)\n",
    "\n",
    "# Filter Remaining Features\n",
    "remaining_features = [f for f in selected_variables_df.columns if f not in to_exclude]\n",
    "\n",
    "# Select Top 20 Features\n",
    "top_features = feature_importances[remaining_features].nlargest(20).index.tolist()\n",
    "\n",
    "# Output Final Results\n",
    "print(\"\\n--- Final Feature Selection ---\")\n",
    "print(f\"Number of Remaining Features: {len(remaining_features)}\")\n",
    "print(f\"Top 20 Features by Random Forest: {top_features}\")\n",
    "\n",
    "print(\"\\n--- Final Selected Features ---\")\n",
    "for i, feature in enumerate(top_features, 1):\n",
    "    print(f\"{i}. {feature}\")"
   ]
  },
  {
   "cell_type": "markdown",
   "id": "00a1a5ee-4f69-4ee6-9b8e-73737c0c0917",
   "metadata": {},
   "source": [
    "## Lasso Feature Importance "
   ]
  },
  {
   "cell_type": "code",
   "execution_count": 37,
   "id": "77b1525d-b2e4-493b-baae-7d5fc93ab325",
   "metadata": {},
   "outputs": [
    {
     "name": "stdout",
     "output_type": "stream",
     "text": [
      "Optimal alpha: 0.0008313552403081629\n"
     ]
    },
    {
     "data": {
      "image/png": "[encoded data removed]",
      "text/plain": [
       "<Figure size 1000x1200 with 1 Axes>"
      ]
     },
     "metadata": {},
     "output_type": "display_data"
    },
    {
     "name": "stdout",
     "output_type": "stream",
     "text": [
      "Features with non-zero coefficients: ['Age at Injury', 'Average Weekly Wage', 'Accident Date_Year', 'Accident Date_Month', 'Assembly Date_Month', 'C-2 Date_Day', 'Accident_Month_Sin', 'Accident_Month_Cos', 'Accident_Day']\n",
      "/Features with zero coefficients: ['Number of Dependents', 'Assembly Date_Day']\n"
     ]
    }
   ],
   "source": [
    "from sklearn.linear_model import Lasso\n",
    "from sklearn.preprocessing import StandardScaler\n",
    "from sklearn.model_selection import train_test_split\n",
    "import pandas as pd\n",
    "\n",
    "# Automatically tune alpha\n",
    "lasso_cv = LassoCV(cv=5)  # 5-fold cross-validation\n",
    "lasso_cv.fit(selected_variables_df, y_train)\n",
    "\n",
    "# Optimal alpha\n",
    "best_alpha = lasso_cv.alpha_\n",
    "print(\"Optimal alpha:\", best_alpha)\n",
    "\n",
    "# Fit Lasso with the optimal alpha\n",
    "lasso = Lasso(alpha=best_alpha)\n",
    "lasso.fit(selected_variables_df, y_train)\n",
    "\n",
    "coef = pd.Series(lasso.coef_, index = selected_variables_df.columns)\n",
    "\n",
    "# Sort coefficients by importance\n",
    "coef_sorted = coef.sort_values()\n",
    "\n",
    "# Plot feature importance\n",
    "def plot_importance(coef, model_name):\n",
    "    plt.figure(figsize=(10, 12))\n",
    "    coef.plot(kind=\"barh\")\n",
    "    plt.title(f\"Feature Importance using {model_name}\")\n",
    "    plt.show()\n",
    "\n",
    "plot_importance(coef_sorted, \"Lasso\")\n",
    "\n",
    "important_features = coef[coef != 0].index.tolist()\n",
    "not_important_features = coef[coef == 0].index.tolist()\n",
    "print(\"Features with non-zero coefficients:\", important_features)\n",
    "print(\"/Features with zero coefficients:\", not_important_features)"
   ]
  },
  {
   "cell_type": "markdown",
   "id": "b8424900-7fba-4efa-af3b-3fb707902a37",
   "metadata": {},
   "source": [
    "## LASSO Regression"
   ]
  },
  {
   "cell_type": "code",
   "execution_count": 44,
   "id": "700c03d2-f0dc-4a4b-b686-8664e458a456",
   "metadata": {},
   "outputs": [
    {
     "name": "stdout",
     "output_type": "stream",
     "text": [
      "Optimal alpha: 0.0001\n",
      "Mean Squared Error: 167.0361\n",
      "R^2 Score: -130.6247\n"
     ]
    }
   ],
   "source": [
    "from sklearn.linear_model import LassoCV\n",
    "from sklearn.metrics import mean_squared_error, r2_score\n",
    "from sklearn.preprocessing import StandardScaler\n",
    "import numpy as np\n",
    "\n",
    "# Ensure the validation set has the same columns as the training set\n",
    "X_val_filtered = X_val_scaled_numerical[selected_variables_df.columns]\n",
    "\n",
    "# Train LassoCV\n",
    "lasso = LassoCV(max_iter=5000, cv=5, random_state=42, alphas=np.logspace(-4, 1, 50))\n",
    "lasso.fit(selected_variables_df, y_train)\n",
    "\n",
    "# Predict on validation set\n",
    "y_pred = lasso.predict(X_val_filtered)\n",
    "\n",
    "# Evaluate model\n",
    "mse = mean_squared_error(y_val, y_pred)\n",
    "r2 = r2_score(y_val, y_pred)\n",
    "\n",
    "# Print results\n",
    "print(f\"Optimal alpha: {lasso.alpha_}\")\n",
    "print(f\"Mean Squared Error: {mse:.4f}\")\n",
    "print(f\"R^2 Score: {r2:.4f}\")\n"
   ]
  },
  {
   "cell_type": "markdown",
   "id": "0d3ee9da-b313-4642-8906-a8c1676df8a3",
   "metadata": {},
   "source": [
    "## Chi-Squared "
   ]
  },
  {
   "cell_type": "code",
   "execution_count": 30,
   "id": "27038f89-7c1a-41d9-8a2e-874bd2d38308",
   "metadata": {},
   "outputs": [
    {
     "name": "stdout",
     "output_type": "stream",
     "text": [
      "Important Variables: ['Attorney/Representative', 'Carrier Type', 'County of Injury', 'COVID-19 Indicator', 'District Name', 'Gender', 'Industry Code Description', 'Medical Fee Region', 'Cause Injury Category', 'Nature of Injury Category', 'Body Part Category', 'Age_Group', 'Wage_Group', 'Carrier Name Grouped', 'Region', 'State']\n"
     ]
    }
   ],
   "source": [
    "import pandas as pd\n",
    "from scipy import stats\n",
    "\n",
    "def TestIndependence(X, y, var, alpha=0.05):\n",
    "    \"\"\"\n",
    "    Performs a chi-squared test of independence for the variable X with the target y.\n",
    "    \n",
    "    Parameters:\n",
    "    - X: A pandas Series or DataFrame column (categorical feature).\n",
    "    - y: A pandas Series or DataFrame column (target variable).\n",
    "    - var: String, name of the variable (used in the output message).\n",
    "    - alpha: Significance level (default=0.05).\n",
    "    \n",
    "    Returns:\n",
    "    - Boolean indicating whether the variable is important for prediction.\n",
    "    \"\"\"\n",
    "    # Create contingency table\n",
    "    dfObserved = pd.crosstab(y, X)\n",
    "    \n",
    "    # Perform chi-squared test\n",
    "    chi2, p, dof, expected = stats.chi2_contingency(dfObserved.values)\n",
    "    \n",
    "    # Return True if the variable is important, otherwise False\n",
    "    return p < alpha\n",
    "\n",
    "\n",
    "# List to store important variables\n",
    "important_variables_chi = []\n",
    "\n",
    "# Loop through all categorical columns\n",
    "for var in categorical_columns:\n",
    "    if TestIndependence(X_train[var], y_train, var):\n",
    "        important_variables_chi.append(var)\n",
    "\n",
    "# Print the list of important variables\n",
    "print(\"Important Variables:\", important_variables_chi)"
   ]
  },
  {
   "cell_type": "markdown",
   "id": "071de0e3-a199-45e4-8e34-c4e58dc605a7",
   "metadata": {},
   "source": [
    "## Result List"
   ]
  },
  {
   "cell_type": "code",
   "execution_count": 48,
   "id": "a292a4a0-461c-41f9-ade2-175e4b02a5b2",
   "metadata": {},
   "outputs": [
    {
     "name": "stdout",
     "output_type": "stream",
     "text": [
      "Correlation Method 1: ['Age at Injury', 'Average Weekly Wage', 'Number of Dependents', 'Accident Date_Year', 'Accident Date_Month', 'Assembly Date_Month', 'Assembly Date_Day', 'C-2 Date_Day', 'Accident_Month_Sin', 'Accident_Month_Cos', 'Accident_Day']\n",
      "Top Features: ['Average Weekly Wage', 'Age at Injury', 'Number of Dependents', 'Accident_Day', 'Assembly Date_Month', 'Accident Date_Year', 'Assembly Date_Day', 'C-2 Date_Day', 'Accident Date_Month', 'Accident_Month_Sin', 'Accident_Month_Cos']\n",
      "Top Features: ['Age at Injury', 'Average Weekly Wage', 'Accident Date_Year', 'Accident Date_Month', 'Assembly Date_Month', 'C-2 Date_Day', 'Accident_Month_Sin', 'Accident_Month_Cos', 'Accident_Day']\n",
      "Important Variables (Chi-squared): ['Attorney/Representative', 'Carrier Type', 'County of Injury', 'COVID-19 Indicator', 'District Name', 'Gender', 'Industry Code Description', 'Medical Fee Region', 'Cause Injury Category', 'Nature of Injury Category', 'Body Part Category', 'Age_Group', 'Wage_Group', 'Carrier Name Grouped', 'Region', 'State']\n",
      "Total variables to keep: 11\n",
      "Final List of Variables to Keep (Majority Vote):\n",
      "- Accident Date_Month\n",
      "- Accident Date_Year\n",
      "- Accident_Day\n",
      "- Accident_Month_Cos\n",
      "- Accident_Month_Sin\n",
      "- Age at Injury\n",
      "- Assembly Date_Day\n",
      "- Assembly Date_Month\n",
      "- Average Weekly Wage\n",
      "- C-2 Date_Day\n",
      "- Number of Dependents\n",
      "Final list: ['Accident Date_Month', 'Accident Date_Year', 'Accident_Day', 'Accident_Month_Cos', 'Accident_Month_Sin', 'Age at Injury', 'Assembly Date_Day', 'Assembly Date_Month', 'Average Weekly Wage', 'C-2 Date_Day', 'Number of Dependents', 'Attorney/Representative', 'Carrier Type', 'County of Injury', 'COVID-19 Indicator', 'District Name', 'Gender', 'Industry Code Description', 'Medical Fee Region', 'Cause Injury Category', 'Nature of Injury Category', 'Body Part Category', 'Age_Group', 'Wage_Group', 'Carrier Name Grouped', 'Region', 'State']\n"
     ]
    }
   ],
   "source": [
    "from collections import Counter  # Import Counter\n",
    "\n",
    "#features selected by each method\n",
    "print(\"Correlation Method 1:\", variables_to_keep_correlation)\n",
    "print(\"Top Features:\", top_features)\n",
    "print(\"Top Features:\", important_features)\n",
    "print(\"Important Variables (Chi-squared):\", important_variables_chi)\n",
    "\n",
    "# Combine all numerical lists into one\n",
    "all_methods = [\n",
    "    variables_to_keep_correlation,\n",
    "    top_features,\n",
    "    important_features,\n",
    "]\n",
    "\n",
    "# Flatten all variables and count occurrences\n",
    "variable_counts = Counter(var for method in all_methods for var in method)\n",
    "\n",
    "# Calculate majority threshold\n",
    "total_methods = len(all_methods)\n",
    "majority_threshold = 2\n",
    "\n",
    "# Keep variables with votes greater than or equal to the majority threshold\n",
    "final_keep_set = sorted([var for var, count in variable_counts.items() if count >= majority_threshold])\n",
    "\n",
    "# Print the final list of variables to keep\n",
    "print(f\"Total variables to keep: {len(final_keep_set)}\")\n",
    "print(\"Final List of Variables to Keep (Majority Vote):\")\n",
    "for feature in final_keep_set:\n",
    "    print(f\"- {feature}\")\n",
    "\n",
    "final_list = final_keep_set + important_variables_chi\n",
    "print(\"Final list:\", final_list)"
   ]
  },
  {
   "cell_type": "code",
   "execution_count": 49,
   "id": "1a627750-2643-416a-92dc-82ab13ecad24",
   "metadata": {},
   "outputs": [],
   "source": [
    "selected_variables_df = X_train_scaled_numerical[final_keep_set] + X_train[important_variables_chi]"
   ]
  },
  {
   "cell_type": "code",
   "execution_count": null,
   "id": "4d7e3b5f-ad78-4f27-bad6-02333ca3857c",
   "metadata": {},
   "outputs": [],
   "source": [
    "import os\n",
    "import pandas as pd\n",
    "# Define the absolute path for saving files\n",
    "processed_dir = \"/Users/pedrocosta/Desktop/NOVA IMS/Mestrado DSAA/1º Semestre/Apredizagem automática/project_data/processed test/\"\n",
    "\n",
    "# Ensure the directory exists\n",
    "os.makedirs(processed_dir, exist_ok=True)\n",
    "\n",
    "# Define file paths\n",
    "train_file_path = os.path.join(processed_dir, 'X_train_featured.csv')\n",
    "val_file_path = os.path.join(processed_dir, 'X_val_featured.csv')\n",
    "test_file_path = os.path.join(processed_dir, 'X_test_featured.csv')\n",
    "\n",
    "# Save the filtered datasets with the final features\n",
    "X_train_lasso2.to_csv(train_file_path, index=True)  # Preserve original indices\n",
    "X_val_lasso2.to_csv(val_file_path, index=True)     # Preserve original indices\n",
    "X_test_lasso2.to_csv(test_file_path, index=True)   # Preserve original indices\n",
    "\n",
    "# Print confirmation messages\n",
    "print(f\"Filtered training data saved to: {train_file_path}\")\n",
    "print(f\"Filtered validation data saved to: {val_file_path}\")\n",
    "print(f\"Filtered test data saved to: {test_file_path}\")"
   ]
  },
  {
   "cell_type": "code",
   "execution_count": null,
   "id": "71ab1115-e20f-4a8f-9bb5-6d9c258ac0ab",
   "metadata": {},
   "outputs": [],
   "source": []
  },
  {
   "cell_type": "code",
   "execution_count": null,
   "id": "6cb792d6-a8c7-4f5a-8e01-2511ac7fdf40",
   "metadata": {},
   "outputs": [],
   "source": []
  },
  {
   "cell_type": "code",
   "execution_count": null,
   "id": "36cde96c-8d4d-42a2-b54f-3e61048cc1d4",
   "metadata": {},
   "outputs": [],
   "source": []
  }
 ],
 "metadata": {
  "kernelspec": {
   "display_name": "Python 3 (ipykernel)",
   "language": "python",
   "name": "python3"
  },
  "language_info": {
   "codemirror_mode": {
    "name": "ipython",
    "version": 3
   },
   "file_extension": ".py",
   "mimetype": "text/x-python",
   "name": "python",
   "nbconvert_exporter": "python",
   "pygments_lexer": "ipython3",
   "version": "3.9.18"
  }
 },
 "nbformat": 4,
 "nbformat_minor": 5
}
