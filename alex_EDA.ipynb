{
 "cells": [
  {
   "attachments": {},
   "cell_type": "markdown",
   "id": "757ef9d0",
   "metadata": {},
   "source": [
    "# To Grant or Not to Grant: Deciding on Compensation Benefits "
   ]
  },
  {
   "attachments": {},
   "cell_type": "markdown",
   "id": "d084bd42",
   "metadata": {},
   "source": [
    "### Machine Learning Group Project 2024/2025 - Group 52\n",
    "\n",
    "\n",
    "__Members:__\n",
    "- Diogo Rodrigues _(20240512@novaims.unl.pt)_\n",
    "- Alexandre Gonçalves _(20240738@novaims.unl.pt)_\n",
    "- Pedro Costa _(20222121@novaims.unl.pt)_\n",
    "- Santiago Taylor _(20240542@novaims.unl.pt)_\n",
    "- Lena Hermann _(20241446@novaims.unl.pt)_"
   ]
  },
  {
   "attachments": {},
   "cell_type": "markdown",
   "id": "240e8937",
   "metadata": {},
   "source": [
    "## Introduction\n",
    "- __Motivation__: x\n",
    "- __Dataset__: The dataset represents x\n",
    "- __Task and Goal__: The purpose of this notebook is to create and evaluate several classification models for accurately predicting the WCB’s final decision on what type of injury should be given to a claim."
   ]
  },
  {
   "attachments": {},
   "cell_type": "markdown",
   "id": "ed167b59",
   "metadata": {},
   "source": [
    "## Table of Content\n",
    "<a id='top'></a>\n",
    "[1. Set-Up and Data Loading](#dataload) <br>\n",
    "[2. Data Understanding and Exploration](#dataunderstand) <br>\n",
    "[3. Data Cleaning and Pre-processing](#dataclean) <br>\n",
    "[4. Feature Selection](#features) <br>\n",
    "[5. Modeling and Evaluation](#modeling) <br>"
   ]
  },
  {
   "attachments": {},
   "cell_type": "markdown",
   "id": "ada46065",
   "metadata": {},
   "source": [
    "## 1. Set-Up and Data Loading <a id='dataload'></a>\n",
    "[to the top](#top)\n",
    "\n",
    "### 1.1 Import the needed libraries"
   ]
  },
  {
   "cell_type": "code",
   "execution_count": 1,
   "id": "98fd98bf",
   "metadata": {},
   "outputs": [],
   "source": [
    "import numpy as np #to efficiently compute functions\n",
    "import pandas as pd #to work with data frames\n",
    "import matplotlib.pyplot as plt\n",
    "import seaborn as sns\n",
    "sns.set(style=\"whitegrid\")\n",
    "import zipfile #to open zipfile\n",
    "pd.set_option('display.max_columns', 35) #to display 35 columns\n",
    "pd.set_option('display.max_rows', 100) #to display 100 rows\n",
    "from ydata_profiling import ProfileReport\n",
    "import os\n",
    "\n",
    "# data partition\n",
    "from sklearn.model_selection import train_test_split\n",
    "\n",
    "#filter methods\n",
    "# spearman \n",
    "# chi-square\n",
    "import scipy.stats as stats\n",
    "from scipy.stats import pearsonr, spearmanr\n",
    "from scipy.stats import chi2_contingency\n",
    "\n",
    "#wrapper methods\n",
    "from sklearn.linear_model import LogisticRegression\n",
    "from sklearn.svm import SVC\n",
    "from sklearn.feature_selection import RFE\n",
    "from sklearn.preprocessing import LabelEncoder\n",
    "\n",
    "# embedded methods\n",
    "from sklearn.linear_model import LassoCV\n",
    "\n",
    "import warnings\n",
    "warnings.filterwarnings('ignore')"
   ]
  },
  {
   "attachments": {},
   "cell_type": "markdown",
   "id": "24d6254a",
   "metadata": {},
   "source": [
    "### 1.2 Read the data and first overview"
   ]
  },
  {
   "cell_type": "code",
   "execution_count": 2,
   "id": "88bee714",
   "metadata": {},
   "outputs": [
    {
     "data": {
      "text/plain": [
       "' \\nprint(\"Train Data:\")\\nprint(train_df.head())\\nprint(\"Test Data:\")\\nprint(test_df.head())  '"
      ]
     },
     "execution_count": 2,
     "metadata": {},
     "output_type": "execute_result"
    }
   ],
   "source": [
    "train_zip_path = 'train_data.csv.zip'\n",
    "test_zip_path = 'test_data.csv.zip'\n",
    "\n",
    "# open csv file from zip\n",
    "def read_zipped_csv(zip_path):\n",
    "    with zipfile.ZipFile(zip_path, 'r') as z:\n",
    "        csv_filename = z.namelist()[0]\n",
    "        \n",
    "        with z.open(csv_filename) as f:\n",
    "            return pd.read_csv(f)\n",
    "\n",
    "train_df = read_zipped_csv(train_zip_path)\n",
    "test_df = read_zipped_csv(test_zip_path)\n",
    "\"\"\" \n",
    "print(\"Train Data:\")\n",
    "print(train_df.head())\n",
    "print(\"Test Data:\")\n",
    "print(test_df.head())  \"\"\""
   ]
  },
  {
   "attachments": {},
   "cell_type": "markdown",
   "id": "c4cc6ea8",
   "metadata": {},
   "source": [
    "## 2. Data Understanding and Exploration <a id='dataunderstand'></a>\n",
    "[to the top](#top)"
   ]
  },
  {
   "attachments": {},
   "cell_type": "markdown",
   "id": "6d45a131",
   "metadata": {},
   "source": [
    "__Target Variable__\n",
    "\n",
    "We just have a look at the distribution of the target variable 'Claim Injury Type'. To check how our dataset is balanced."
   ]
  },
  {
   "cell_type": "code",
   "execution_count": 3,
   "id": "4ada7bc8",
   "metadata": {},
   "outputs": [
    {
     "data": {
      "text/plain": [
       "count          574026\n",
       "unique              8\n",
       "top       2. NON-COMP\n",
       "freq           291078\n",
       "Name: Claim Injury Type, dtype: object"
      ]
     },
     "execution_count": 3,
     "metadata": {},
     "output_type": "execute_result"
    }
   ],
   "source": [
    "# Target variable statistics\n",
    "train_df['Claim Injury Type'].describe()\n"
   ]
  },
  {
   "cell_type": "markdown",
   "id": "b6564a86",
   "metadata": {},
   "source": [
    "Building a PMF distribution"
   ]
  },
  {
   "cell_type": "code",
   "execution_count": 4,
   "id": "abbb1165",
   "metadata": {},
   "outputs": [],
   "source": [
    "copy_train_df = train_df.copy()\n",
    "\n",
    "copy_train_df['Claim Injury Type'].fillna('Missing', inplace=True)\n"
   ]
  },
  {
   "cell_type": "code",
   "execution_count": 5,
   "id": "d2649ccd",
   "metadata": {},
   "outputs": [],
   "source": [
    "# Get the counts for each category\n",
    "\n",
    "counts = copy_train_df['Claim Injury Type'].value_counts().sort_index()"
   ]
  },
  {
   "cell_type": "code",
   "execution_count": 6,
   "id": "4729ccd7",
   "metadata": {},
   "outputs": [
    {
     "name": "stdout",
     "output_type": "stream",
     "text": [
      "Labels List: [0, 1, 2, 3, 4, 5, 6, 7, -1]\n"
     ]
    },
    {
     "data": {
      "image/png": "[encoded data removed]",
      "text/plain": [
       "<Figure size 1000x600 with 1 Axes>"
      ]
     },
     "metadata": {},
     "output_type": "display_data"
    },
    {
     "name": "stdout",
     "output_type": "stream",
     "text": [
      "Claim Injury Type\n",
      "1. CANCELLED       0.021024\n",
      "2. NON-COMP        0.490467\n",
      "3. MED ONLY        0.116107\n",
      "4. TEMPORARY       0.250235\n",
      "5. PPD SCH LOSS    0.081352\n",
      "6. PPD NSL         0.007096\n",
      "7. PTD             0.000163\n",
      "8. DEATH           0.000792\n",
      "Missing            0.032765\n",
      "Name: count, dtype: float64\n"
     ]
    }
   ],
   "source": [
    "# Compute the probability mass function\n",
    "\n",
    "\n",
    "# Calculate probabilities\n",
    "probabilities = counts / counts.sum()\n",
    "\n",
    "# Define the mapping\n",
    "injury_type_mapping = {\n",
    "    '1. CANCELLED': 0,\n",
    "    '2. NON-COMP': 1,\n",
    "    '3. MED ONLY': 2,\n",
    "    '4. TEMPORARY': 3,\n",
    "    '5. PPD SCH LOSS': 4,\n",
    "    '6. PPD NSL': 5,\n",
    "    '7. PTD': 6,\n",
    "    '8. DEATH': 7,\n",
    "    'Missing': -1  # Represent missing values as -1\n",
    "}\n",
    "\n",
    "# Apply the mapping\n",
    "copy_train_df['Claim Injury Type Numeric'] = copy_train_df['Claim Injury Type'].map(injury_type_mapping)\n",
    "\n",
    "# Generate labels\n",
    "labels = [injury_type_mapping.get(x, str(x)) for x in probabilities.index]\n",
    "\n",
    "# Print labels\n",
    "print(\"Labels List:\", labels)\n",
    "\n",
    "# Plot the PMF\n",
    "plt.figure(figsize=(10, 6))\n",
    "probabilities.plot(kind='bar')\n",
    "\n",
    "plt.xlabel('Claim Injury Type')\n",
    "plt.ylabel('Probability')\n",
    "plt.title('PMF of Claim Injury Type')\n",
    "\n",
    "\n",
    "# Set ticks and labels\n",
    "plt.xticks(ticks=range(len(probabilities)), labels=labels, rotation=45)\n",
    "plt.tight_layout()\n",
    "plt.show()\n",
    "\n",
    "\"\"\" print(\"Counts Index:\", counts.index.tolist())\n",
    "print(\"Probabilities Index:\", probabilities.index.tolist()) \"\"\"\n",
    "print(probabilities)"
   ]
  },
  {
   "cell_type": "code",
   "execution_count": 7,
   "id": "6e83f300",
   "metadata": {},
   "outputs": [
    {
     "name": "stdout",
     "output_type": "stream",
     "text": [
      "Skewness: 0.29\n",
      "Kurtosis: -0.22\n"
     ]
    }
   ],
   "source": [
    "# Calculating skewness and kurtosis\n",
    "\n",
    "skewness = copy_train_df['Claim Injury Type Numeric'].skew() # Slight positive skew \n",
    "print(f\"Skewness: {skewness:.2f}\") # The majority of the claims are concentrated around the lower injury types, with fewer claims in the \n",
    "# higher severity categories.\n",
    "\n",
    "kurtosis = copy_train_df['Claim Injury Type Numeric'].kurtosis() #The distribution of claim injury types is less peaked and has lighter tails compared \n",
    "# to a normal distribution. The data is more evenly spread out, with fewer extreme outliers\n",
    "\n",
    "print(f\"Kurtosis: {kurtosis:.2f}\")"
   ]
  },
  {
   "cell_type": "markdown",
   "id": "6b979bd1",
   "metadata": {},
   "source": [
    "Examine Missing Values"
   ]
  },
  {
   "cell_type": "code",
   "execution_count": 8,
   "id": "ec032810",
   "metadata": {},
   "outputs": [
    {
     "name": "stdout",
     "output_type": "stream",
     "text": [
      "Your selected dataframe has 34 columns.\n",
      "There are 30 columns that have missing values.\n"
     ]
    }
   ],
   "source": [
    "# Function to calculate missing values by column# Funct \n",
    "def missing_values_table(df):\n",
    "        # Total missing values\n",
    "        mis_val = df.isnull().sum()\n",
    "        \n",
    "        # Percentage of missing values\n",
    "        mis_val_percent = 100 * df.isnull().sum() / len(df)\n",
    "        \n",
    "        # Make a table with the results\n",
    "        mis_val_table = pd.concat([mis_val, mis_val_percent], axis=1)\n",
    "        \n",
    "        # Rename the columns\n",
    "        mis_val_table_ren_columns = mis_val_table.rename(\n",
    "        columns = {0 : 'Missing Values', 1 : '% of Total Values'})\n",
    "        \n",
    "        # Sort the table by percentage of missing descending\n",
    "        mis_val_table_ren_columns = mis_val_table_ren_columns[\n",
    "            mis_val_table_ren_columns.iloc[:,1] != 0].sort_values(\n",
    "        '% of Total Values', ascending=False).round(1)\n",
    "        \n",
    "        # Print some summary information\n",
    "        print (\"Your selected dataframe has \" + str(df.shape[1]) + \" columns.\\n\"      \n",
    "            \"There are \" + str(mis_val_table_ren_columns.shape[0]) +\n",
    "              \" columns that have missing values.\")\n",
    "        \n",
    "        # Return the dataframe with missing information\n",
    "        return mis_val_table_ren_columns\n",
    "\n",
    "missing_values = missing_values_table(copy_train_df)"
   ]
  },
  {
   "cell_type": "code",
   "execution_count": 9,
   "id": "4bbacf12",
   "metadata": {},
   "outputs": [
    {
     "data": {
      "text/html": [
       "<div>\n",
       "<style scoped>\n",
       "    .dataframe tbody tr th:only-of-type {\n",
       "        vertical-align: middle;\n",
       "    }\n",
       "\n",
       "    .dataframe tbody tr th {\n",
       "        vertical-align: top;\n",
       "    }\n",
       "\n",
       "    .dataframe thead th {\n",
       "        text-align: right;\n",
       "    }\n",
       "</style>\n",
       "<table border=\"1\" class=\"dataframe\">\n",
       "  <thead>\n",
       "    <tr style=\"text-align: right;\">\n",
       "      <th></th>\n",
       "      <th>Missing Values</th>\n",
       "      <th>% of Total Values</th>\n",
       "    </tr>\n",
       "  </thead>\n",
       "  <tbody>\n",
       "    <tr>\n",
       "      <th>OIICS Nature of Injury Description</th>\n",
       "      <td>593471</td>\n",
       "      <td>100.0</td>\n",
       "    </tr>\n",
       "    <tr>\n",
       "      <th>IME-4 Count</th>\n",
       "      <td>460668</td>\n",
       "      <td>77.6</td>\n",
       "    </tr>\n",
       "    <tr>\n",
       "      <th>First Hearing Date</th>\n",
       "      <td>442673</td>\n",
       "      <td>74.6</td>\n",
       "    </tr>\n",
       "    <tr>\n",
       "      <th>C-3 Date</th>\n",
       "      <td>406226</td>\n",
       "      <td>68.4</td>\n",
       "    </tr>\n",
       "    <tr>\n",
       "      <th>Birth Year</th>\n",
       "      <td>48523</td>\n",
       "      <td>8.2</td>\n",
       "    </tr>\n",
       "    <tr>\n",
       "      <th>Average Weekly Wage</th>\n",
       "      <td>48096</td>\n",
       "      <td>8.1</td>\n",
       "    </tr>\n",
       "    <tr>\n",
       "      <th>Zip Code</th>\n",
       "      <td>48082</td>\n",
       "      <td>8.1</td>\n",
       "    </tr>\n",
       "    <tr>\n",
       "      <th>WCIO Part Of Body Description</th>\n",
       "      <td>36527</td>\n",
       "      <td>6.2</td>\n",
       "    </tr>\n",
       "    <tr>\n",
       "      <th>WCIO Part Of Body Code</th>\n",
       "      <td>36527</td>\n",
       "      <td>6.2</td>\n",
       "    </tr>\n",
       "    <tr>\n",
       "      <th>WCIO Nature of Injury Description</th>\n",
       "      <td>35102</td>\n",
       "      <td>5.9</td>\n",
       "    </tr>\n",
       "    <tr>\n",
       "      <th>WCIO Nature of Injury Code</th>\n",
       "      <td>35102</td>\n",
       "      <td>5.9</td>\n",
       "    </tr>\n",
       "    <tr>\n",
       "      <th>WCIO Cause of Injury Description</th>\n",
       "      <td>35085</td>\n",
       "      <td>5.9</td>\n",
       "    </tr>\n",
       "    <tr>\n",
       "      <th>WCIO Cause of Injury Code</th>\n",
       "      <td>35085</td>\n",
       "      <td>5.9</td>\n",
       "    </tr>\n",
       "    <tr>\n",
       "      <th>C-2 Date</th>\n",
       "      <td>34005</td>\n",
       "      <td>5.7</td>\n",
       "    </tr>\n",
       "    <tr>\n",
       "      <th>Industry Code</th>\n",
       "      <td>29403</td>\n",
       "      <td>5.0</td>\n",
       "    </tr>\n",
       "    <tr>\n",
       "      <th>Industry Code Description</th>\n",
       "      <td>29403</td>\n",
       "      <td>5.0</td>\n",
       "    </tr>\n",
       "    <tr>\n",
       "      <th>Accident Date</th>\n",
       "      <td>23134</td>\n",
       "      <td>3.9</td>\n",
       "    </tr>\n",
       "    <tr>\n",
       "      <th>Age at Injury</th>\n",
       "      <td>19445</td>\n",
       "      <td>3.3</td>\n",
       "    </tr>\n",
       "    <tr>\n",
       "      <th>Medical Fee Region</th>\n",
       "      <td>19445</td>\n",
       "      <td>3.3</td>\n",
       "    </tr>\n",
       "    <tr>\n",
       "      <th>Gender</th>\n",
       "      <td>19445</td>\n",
       "      <td>3.3</td>\n",
       "    </tr>\n",
       "    <tr>\n",
       "      <th>District Name</th>\n",
       "      <td>19445</td>\n",
       "      <td>3.3</td>\n",
       "    </tr>\n",
       "    <tr>\n",
       "      <th>COVID-19 Indicator</th>\n",
       "      <td>19445</td>\n",
       "      <td>3.3</td>\n",
       "    </tr>\n",
       "    <tr>\n",
       "      <th>County of Injury</th>\n",
       "      <td>19445</td>\n",
       "      <td>3.3</td>\n",
       "    </tr>\n",
       "    <tr>\n",
       "      <th>Carrier Type</th>\n",
       "      <td>19445</td>\n",
       "      <td>3.3</td>\n",
       "    </tr>\n",
       "    <tr>\n",
       "      <th>Carrier Name</th>\n",
       "      <td>19445</td>\n",
       "      <td>3.3</td>\n",
       "    </tr>\n",
       "    <tr>\n",
       "      <th>Attorney/Representative</th>\n",
       "      <td>19445</td>\n",
       "      <td>3.3</td>\n",
       "    </tr>\n",
       "    <tr>\n",
       "      <th>Alternative Dispute Resolution</th>\n",
       "      <td>19445</td>\n",
       "      <td>3.3</td>\n",
       "    </tr>\n",
       "    <tr>\n",
       "      <th>Agreement Reached</th>\n",
       "      <td>19445</td>\n",
       "      <td>3.3</td>\n",
       "    </tr>\n",
       "    <tr>\n",
       "      <th>WCB Decision</th>\n",
       "      <td>19445</td>\n",
       "      <td>3.3</td>\n",
       "    </tr>\n",
       "    <tr>\n",
       "      <th>Number of Dependents</th>\n",
       "      <td>19445</td>\n",
       "      <td>3.3</td>\n",
       "    </tr>\n",
       "  </tbody>\n",
       "</table>\n",
       "</div>"
      ],
      "text/plain": [
       "                                    Missing Values  % of Total Values\n",
       "OIICS Nature of Injury Description          593471              100.0\n",
       "IME-4 Count                                 460668               77.6\n",
       "First Hearing Date                          442673               74.6\n",
       "C-3 Date                                    406226               68.4\n",
       "Birth Year                                   48523                8.2\n",
       "Average Weekly Wage                          48096                8.1\n",
       "Zip Code                                     48082                8.1\n",
       "WCIO Part Of Body Description                36527                6.2\n",
       "WCIO Part Of Body Code                       36527                6.2\n",
       "WCIO Nature of Injury Description            35102                5.9\n",
       "WCIO Nature of Injury Code                   35102                5.9\n",
       "WCIO Cause of Injury Description             35085                5.9\n",
       "WCIO Cause of Injury Code                    35085                5.9\n",
       "C-2 Date                                     34005                5.7\n",
       "Industry Code                                29403                5.0\n",
       "Industry Code Description                    29403                5.0\n",
       "Accident Date                                23134                3.9\n",
       "Age at Injury                                19445                3.3\n",
       "Medical Fee Region                           19445                3.3\n",
       "Gender                                       19445                3.3\n",
       "District Name                                19445                3.3\n",
       "COVID-19 Indicator                           19445                3.3\n",
       "County of Injury                             19445                3.3\n",
       "Carrier Type                                 19445                3.3\n",
       "Carrier Name                                 19445                3.3\n",
       "Attorney/Representative                      19445                3.3\n",
       "Alternative Dispute Resolution               19445                3.3\n",
       "Agreement Reached                            19445                3.3\n",
       "WCB Decision                                 19445                3.3\n",
       "Number of Dependents                         19445                3.3"
      ]
     },
     "execution_count": 9,
     "metadata": {},
     "output_type": "execute_result"
    }
   ],
   "source": [
    "missing_values.head(30)"
   ]
  },
  {
   "cell_type": "code",
   "execution_count": 10,
   "id": "03a67360",
   "metadata": {},
   "outputs": [
    {
     "data": {
      "image/png": "[encoded data removed]",
      "text/plain": [
       "<Figure size 1000x800 with 1 Axes>"
      ]
     },
     "metadata": {},
     "output_type": "display_data"
    }
   ],
   "source": [
    "# Assuming mis_val_table_ren_columns is your resulting table\n",
    "def plot_missing_values(mis_val_table):\n",
    "    plt.figure(figsize=(10, 8))\n",
    "    \n",
    "    # Create a bar plot for the percentage of missing values\n",
    "    sns.barplot(x=mis_val_table.index, \n",
    "                y=mis_val_table['% of Total Values'])\n",
    "    \n",
    "    # Rotate the x labels for better readability\n",
    "    plt.xticks(rotation=90)\n",
    "    \n",
    "    # Set plot labels and title\n",
    "    plt.title('Percentage of Missing Values by Column')\n",
    "    plt.xlabel('Columns')\n",
    "    plt.ylabel('% of Total Values')\n",
    "    \n",
    "    # Display the plot\n",
    "    plt.tight_layout()\n",
    "    plt.show()\n",
    "\n",
    "# Call the function to plot the missing values\n",
    "plot_missing_values(missing_values)"
   ]
  },
  {
   "cell_type": "markdown",
   "id": "26e31168",
   "metadata": {},
   "source": [
    "### Numerical and categorical features split"
   ]
  },
  {
   "cell_type": "code",
   "execution_count": 12,
   "id": "db8f1a0f",
   "metadata": {},
   "outputs": [
    {
     "name": "stdout",
     "output_type": "stream",
     "text": [
      "['Age at Injury', 'Average Weekly Wage', 'Birth Year', 'Claim Identifier', 'IME-4 Count', 'Industry Code', 'OIICS Nature of Injury Description', 'WCIO Cause of Injury Code', 'WCIO Nature of Injury Code', 'WCIO Part Of Body Code', 'Agreement Reached', 'Number of Dependents', 'Claim Injury Type Numeric'] \n",
      " ['Accident Date', 'Alternative Dispute Resolution', 'Assembly Date', 'Attorney/Representative', 'C-2 Date', 'C-3 Date', 'Carrier Name', 'Carrier Type', 'Claim Injury Type', 'County of Injury', 'COVID-19 Indicator', 'District Name', 'First Hearing Date', 'Gender', 'Industry Code Description', 'Medical Fee Region', 'WCIO Cause of Injury Description', 'WCIO Nature of Injury Description', 'WCIO Part Of Body Description', 'Zip Code', 'WCB Decision']\n"
     ]
    }
   ],
   "source": [
    "# Separate from X_copy numerical and categorical columns\n",
    "numerical_cols = copy_train_df.select_dtypes(include=np.number).columns.tolist()\n",
    "categorical_cols = copy_train_df.select_dtypes('object').columns.tolist()\n",
    "\n",
    "print(numerical_cols, \"\\n\", categorical_cols)"
   ]
  },
  {
   "cell_type": "markdown",
   "id": "53fc06f7",
   "metadata": {},
   "source": [
    "### Anomalies detection on numerical features"
   ]
  },
  {
   "cell_type": "code",
   "execution_count": 26,
   "id": "b1192cdf",
   "metadata": {},
   "outputs": [
    {
     "name": "stdout",
     "output_type": "stream",
     "text": [
      "Description for column Age at Injury:\n",
      "\n",
      "count    574026.000000\n",
      "mean         42.114270\n",
      "std          14.256432\n",
      "min           0.000000\n",
      "25%          31.000000\n",
      "50%          42.000000\n",
      "75%          54.000000\n",
      "max         117.000000\n",
      "Name: Age at Injury, dtype: float64\n",
      "Description for column Average Weekly Wage:\n",
      "\n",
      "count    5.453750e+05\n",
      "mean     4.910883e+02\n",
      "std      6.092918e+03\n",
      "min      0.000000e+00\n",
      "25%      0.000000e+00\n",
      "50%      0.000000e+00\n",
      "75%      8.410000e+02\n",
      "max      2.828079e+06\n",
      "Name: Average Weekly Wage, dtype: float64\n",
      "Description for column Birth Year:\n",
      "\n",
      "count    544948.000000\n",
      "mean       1886.767604\n",
      "std         414.644423\n",
      "min           0.000000\n",
      "25%        1965.000000\n",
      "50%        1977.000000\n",
      "75%        1989.000000\n",
      "max        2018.000000\n",
      "Name: Birth Year, dtype: float64\n",
      "Description for column Claim Identifier:\n",
      "\n",
      "count    5.934710e+05\n",
      "mean     2.366760e+07\n",
      "std      1.079271e+08\n",
      "min      5.393066e+06\n",
      "25%      5.593414e+06\n",
      "50%      5.791212e+06\n",
      "75%      5.991000e+06\n",
      "max      9.998917e+08\n",
      "Name: Claim Identifier, dtype: float64\n",
      "Description for column IME-4 Count:\n",
      "\n",
      "count    132803.000000\n",
      "mean          3.207337\n",
      "std           2.832303\n",
      "min           1.000000\n",
      "25%           1.000000\n",
      "50%           2.000000\n",
      "75%           4.000000\n",
      "max          73.000000\n",
      "Name: IME-4 Count, dtype: float64\n",
      "Description for column Industry Code:\n",
      "\n",
      "count    564068.000000\n",
      "mean         58.645305\n",
      "std          19.644175\n",
      "min          11.000000\n",
      "25%          45.000000\n",
      "50%          61.000000\n",
      "75%          71.000000\n",
      "max          92.000000\n",
      "Name: Industry Code, dtype: float64\n",
      "Description for column OIICS Nature of Injury Description:\n",
      "\n",
      "count    0.0\n",
      "mean     NaN\n",
      "std      NaN\n",
      "min      NaN\n",
      "25%      NaN\n",
      "50%      NaN\n",
      "75%      NaN\n",
      "max      NaN\n",
      "Name: OIICS Nature of Injury Description, dtype: float64\n",
      "Description for column WCIO Cause of Injury Code:\n",
      "\n",
      "count    558386.000000\n",
      "mean         54.381143\n",
      "std          25.874281\n",
      "min           1.000000\n",
      "25%          31.000000\n",
      "50%          56.000000\n",
      "75%          75.000000\n",
      "max          99.000000\n",
      "Name: WCIO Cause of Injury Code, dtype: float64\n",
      "Description for column WCIO Nature of Injury Code:\n",
      "\n",
      "count    558369.000000\n",
      "mean         41.013839\n",
      "std          22.207521\n",
      "min           1.000000\n",
      "25%          16.000000\n",
      "50%          49.000000\n",
      "75%          52.000000\n",
      "max          91.000000\n",
      "Name: WCIO Nature of Injury Code, dtype: float64\n",
      "Description for column WCIO Part Of Body Code:\n",
      "\n",
      "count    556944.000000\n",
      "mean         39.738146\n",
      "std          22.365940\n",
      "min          -9.000000\n",
      "25%          33.000000\n",
      "50%          38.000000\n",
      "75%          53.000000\n",
      "max          99.000000\n",
      "Name: WCIO Part Of Body Code, dtype: float64\n",
      "Description for column Agreement Reached:\n",
      "\n",
      "count    574026.000000\n",
      "mean          0.046665\n",
      "std           0.210921\n",
      "min           0.000000\n",
      "25%           0.000000\n",
      "50%           0.000000\n",
      "75%           0.000000\n",
      "max           1.000000\n",
      "Name: Agreement Reached, dtype: float64\n",
      "Description for column Number of Dependents:\n",
      "\n",
      "count    574026.000000\n",
      "mean          3.006559\n",
      "std           2.000801\n",
      "min           0.000000\n",
      "25%           1.000000\n",
      "50%           3.000000\n",
      "75%           5.000000\n",
      "max           6.000000\n",
      "Name: Number of Dependents, dtype: float64\n",
      "Description for column Claim Injury Type Numeric:\n",
      "\n",
      "count    593471.000000\n",
      "mean          1.808029\n",
      "std           1.222502\n",
      "min          -1.000000\n",
      "25%           1.000000\n",
      "50%           1.000000\n",
      "75%           3.000000\n",
      "max           7.000000\n",
      "Name: Claim Injury Type Numeric, dtype: float64\n"
     ]
    }
   ],
   "source": [
    "def numerical_describe(df, num_col):\n",
    "    # Check if the column in the DataFrame is numerical\n",
    "    if np.issubdtype(df[num_col].dtype, np.number):\n",
    "        return df[num_col].describe()\n",
    "    else:\n",
    "        return None\n",
    "\n",
    "# Iterate over the list of numerical columns\n",
    "for col in numerical_cols:\n",
    "    print(f\"Description for column {col}:\\n\")\n",
    "    \n",
    "    print(numerical_describe(copy_train_df, col))\n",
    "\n"
   ]
  },
  {
   "cell_type": "code",
   "execution_count": 19,
   "id": "b805da0c",
   "metadata": {},
   "outputs": [
    {
     "data": {
      "text/plain": [
       "Text(0.5, 0, 'Age at Injury')"
      ]
     },
     "execution_count": 19,
     "metadata": {},
     "output_type": "execute_result"
    },
    {
     "data": {
      "image/png": "[encoded data removed]",
      "text/plain": [
       "<Figure size 640x480 with 1 Axes>"
      ]
     },
     "metadata": {},
     "output_type": "display_data"
    }
   ],
   "source": [
    "# Age at injury has a max value of 117, which is likely an error\n",
    "\n",
    "copy_train_df['Age at Injury'].plot.hist(title = 'Age at Injury Histogram');\n",
    "plt.xlabel('Age at Injury')"
   ]
  },
  {
   "cell_type": "code",
   "execution_count": 42,
   "id": "4e059dbe",
   "metadata": {},
   "outputs": [
    {
     "name": "stdout",
     "output_type": "stream",
     "text": [
      "There are 0 persons with anomalous age of injury.\n"
     ]
    },
    {
     "data": {
      "image/png": "[encoded data removed]",
      "text/plain": [
       "<Figure size 640x480 with 1 Axes>"
      ]
     },
     "metadata": {},
     "output_type": "display_data"
    }
   ],
   "source": [
    "# Anomalous ages: 117 or under 14 (minimum legal working age in the US)\n",
    "anom_age = copy_train_df[(copy_train_df['Age at Injury'] == 117) | (copy_train_df['Age at Injury'] < 14)]\n",
    "non_anom_age = copy_train_df[(copy_train_df['Age at Injury'] != 117) & (copy_train_df['Age at Injury'] >= 14)]\n",
    "\n",
    "print(f'There are {len(anom_age)} persons with anomalous age of injury.')\n",
    "\n",
    "# Create an anomalous age flag column: True if age is anomalous, otherwise False\n",
    "copy_train_df['ANOM_AGE'] = (copy_train_df['Age at Injury'] == 117) | (copy_train_df['Age at Injury'] < 14)\n",
    "\n",
    "# Replace the anomalous age values (117 or age under 14) with NaN\n",
    "copy_train_df.loc[copy_train_df['ANOM_AGE'], 'Age at Injury'] = np.nan\n",
    "\n",
    "# Plot the 'Age at Injury' histogram (after replacing anomalous values)\n",
    "copy_train_df['Age at Injury'].plot.hist(title='Age at Injury Histogram without Anomalous Values')\n",
    "plt.xlabel('Age at Injury')\n",
    "plt.show()\n"
   ]
  },
  {
   "cell_type": "code",
   "execution_count": 40,
   "id": "5ce6a4b8",
   "metadata": {},
   "outputs": [
    {
     "name": "stdout",
     "output_type": "stream",
     "text": [
      "There are 2 persons with anomalous average weekly wage.\n"
     ]
    }
   ],
   "source": [
    "anom_wage = copy_train_df[copy_train_df['Average Weekly Wage'] > 2000000]\n",
    "non_anom_wage = copy_train_df[copy_train_df['Average Weekly Wage'] != 2000000]\n",
    "\n",
    "print(f'There are {len(anom_wage)} persons with anomalous average weekly wage.')"
   ]
  },
  {
   "cell_type": "markdown",
   "id": "d4f0914c",
   "metadata": {},
   "source": [
    "### Column Types\n",
    "Let's look at the number of columns of each data type. int64 and float64 are numeric variables (which can be either discrete or continuous). object columns contain strings and are categorical features. ."
   ]
  },
  {
   "cell_type": "code",
   "execution_count": 11,
   "id": "39b19b1a",
   "metadata": {},
   "outputs": [
    {
     "data": {
      "text/plain": [
       "object     21\n",
       "float64    11\n",
       "int64       2\n",
       "Name: count, dtype: int64"
      ]
     },
     "execution_count": 11,
     "metadata": {},
     "output_type": "execute_result"
    }
   ],
   "source": [
    "copy_train_df.dtypes.value_counts()"
   ]
  },
  {
   "cell_type": "markdown",
   "id": "5547d12d",
   "metadata": {},
   "source": [
    "Let's now look at the number of unique entries in each of the object (categorical) columns."
   ]
  },
  {
   "cell_type": "code",
   "execution_count": 14,
   "id": "102e4c34",
   "metadata": {},
   "outputs": [
    {
     "data": {
      "text/plain": [
       "Accident Date                         5539\n",
       "Alternative Dispute Resolution           3\n",
       "Assembly Date                         1096\n",
       "Attorney/Representative                  2\n",
       "C-2 Date                              2475\n",
       "C-3 Date                              1648\n",
       "Carrier Name                          2046\n",
       "Carrier Type                             8\n",
       "Claim Injury Type                        9\n",
       "County of Injury                        63\n",
       "COVID-19 Indicator                       2\n",
       "District Name                            8\n",
       "First Hearing Date                    1094\n",
       "Gender                                   4\n",
       "Industry Code Description               20\n",
       "Medical Fee Region                       5\n",
       "WCIO Cause of Injury Description        74\n",
       "WCIO Nature of Injury Description       56\n",
       "WCIO Part Of Body Description           54\n",
       "Zip Code                             10060\n",
       "WCB Decision                             1\n",
       "dtype: int64"
      ]
     },
     "execution_count": 14,
     "metadata": {},
     "output_type": "execute_result"
    }
   ],
   "source": [
    "copy_train_df.select_dtypes('object').apply(pd.Series.nunique, axis = 0) # axis = 0 to apply function to each column"
   ]
  },
  {
   "cell_type": "code",
   "execution_count": null,
   "id": "613d27e9",
   "metadata": {},
   "outputs": [],
   "source": []
  },
  {
   "cell_type": "markdown",
   "id": "4c76dcc2",
   "metadata": {},
   "source": [
    "Most of the categorical variables have a relatively small number of unique entries. We will need to find a way to deal with these categorical variables."
   ]
  },
  {
   "cell_type": "code",
   "execution_count": 4,
   "id": "cf8e75a5",
   "metadata": {},
   "outputs": [
    {
     "data": {
      "text/plain": [
       "\" # List of variables you want to assess correlation with\\nvariables = ['Accident Date', 'Age at Injury', 'Alternative Dispute Resolution',\\n             'Assembly Date' ,'Attorney/Representative' , 'Average Weekly Wage',\\n             'C-2 Date' , 'C-3 Date' , 'Carrier Name' , 'Carrier Type',\\n             'COVID-19 Indicator', 'District Name' , 'First Hearing Date',\\n             'Gender' , 'IME-4 Count' , 'Industry Code' , 'Medical Fee Region',\\n             'WCIO Cause of Injury Code' , 'Zip Code',\\n             'Agreement Reached' ,'Number of Dependents'\\n             ]  # Replace with your actual variable names\\n\\n\\n# Assuming your target variable is 'Claim Injury Type'\\ntarget_column = 'Claim Injury Type'\\n\\n# Empty list to store the results\\ncorrelation_results = []\\n\\n# Assuming your target variable is 'Claim Injury Type'\\ntarget_column = 'Claim Injury Type'\\n\\n# Initialize LabelEncoder\\nlabel_encoder = LabelEncoder()\\n\\n# Empty list to store the results\\ncorrelation_results = []\\n\\n# Loop through the variables\\nfor var in variables:\\n    # Drop rows with NaN values in the current variable and target\\n    train_df_clean = train_df[[var, target_column]].dropna()\\n\\n    # Check if both the variable and the target column are numeric\\n    if pd.api.types.is_numeric_dtype(train_df_clean[var]) and pd.api.types.is_numeric_dtype(train_df_clean[target_column]):\\n        # Calculate Pearson correlation (only for numeric data)\\n        pearson_corr, _ = pearsonr(train_df_clean[var], train_df_clean[target_column])\\n    else:\\n        pearson_corr = 'Non-numeric'\\n\\n    # Convert all values to strings for Label Encoding\\n    train_df_clean[var] = train_df_clean[var].astype(str)\\n    train_df_clean[target_column] = train_df_clean[target_column].astype(str)\\n\\n    # Encode non-numeric data for Spearman correlation\\n    train_df_clean[var] = label_encoder.fit_transform(train_df_clean[var])\\n    train_df_clean[target_column] = label_encoder.fit_transform(train_df_clean[target_column])\\n    \\n    # Calculate Spearman correlation\\n    spearman_corr, _ = spearmanr(train_df_clean[var], train_df_clean[target_column])\\n    \\n    # Append the results to the list\\n    correlation_results.append({\\n        'Variable': var,\\n        'Pearson Correlation': pearson_corr,\\n        'Spearman Correlation': spearman_corr\\n    })\\n\\n# Convert results to a DataFrame for easier reading\\ncorrelation_df = pd.DataFrame(correlation_results)\\n\\ncorrelation_df.head(21)\\n \""
      ]
     },
     "execution_count": 4,
     "metadata": {},
     "output_type": "execute_result"
    }
   ],
   "source": [
    "\"\"\" # List of variables you want to assess correlation with\n",
    "variables = ['Accident Date', 'Age at Injury', 'Alternative Dispute Resolution',\n",
    "             'Assembly Date' ,'Attorney/Representative' , 'Average Weekly Wage',\n",
    "             'C-2 Date' , 'C-3 Date' , 'Carrier Name' , 'Carrier Type',\n",
    "             'COVID-19 Indicator', 'District Name' , 'First Hearing Date',\n",
    "             'Gender' , 'IME-4 Count' , 'Industry Code' , 'Medical Fee Region',\n",
    "             'WCIO Cause of Injury Code' , 'Zip Code',\n",
    "             'Agreement Reached' ,'Number of Dependents'\n",
    "             ]  # Replace with your actual variable names\n",
    "\n",
    "\n",
    "# Assuming your target variable is 'Claim Injury Type'\n",
    "target_column = 'Claim Injury Type'\n",
    "\n",
    "# Empty list to store the results\n",
    "correlation_results = []\n",
    "\n",
    "# Assuming your target variable is 'Claim Injury Type'\n",
    "target_column = 'Claim Injury Type'\n",
    "\n",
    "# Initialize LabelEncoder\n",
    "label_encoder = LabelEncoder()\n",
    "\n",
    "# Empty list to store the results\n",
    "correlation_results = []\n",
    "\n",
    "# Loop through the variables\n",
    "for var in variables:\n",
    "    # Drop rows with NaN values in the current variable and target\n",
    "    train_df_clean = train_df[[var, target_column]].dropna()\n",
    "\n",
    "    # Check if both the variable and the target column are numeric\n",
    "    if pd.api.types.is_numeric_dtype(train_df_clean[var]) and pd.api.types.is_numeric_dtype(train_df_clean[target_column]):\n",
    "        # Calculate Pearson correlation (only for numeric data)\n",
    "        pearson_corr, _ = pearsonr(train_df_clean[var], train_df_clean[target_column])\n",
    "    else:\n",
    "        pearson_corr = 'Non-numeric'\n",
    "\n",
    "    # Convert all values to strings for Label Encoding\n",
    "    train_df_clean[var] = train_df_clean[var].astype(str)\n",
    "    train_df_clean[target_column] = train_df_clean[target_column].astype(str)\n",
    "\n",
    "    # Encode non-numeric data for Spearman correlation\n",
    "    train_df_clean[var] = label_encoder.fit_transform(train_df_clean[var])\n",
    "    train_df_clean[target_column] = label_encoder.fit_transform(train_df_clean[target_column])\n",
    "    \n",
    "    # Calculate Spearman correlation\n",
    "    spearman_corr, _ = spearmanr(train_df_clean[var], train_df_clean[target_column])\n",
    "    \n",
    "    # Append the results to the list\n",
    "    correlation_results.append({\n",
    "        'Variable': var,\n",
    "        'Pearson Correlation': pearson_corr,\n",
    "        'Spearman Correlation': spearman_corr\n",
    "    })\n",
    "\n",
    "# Convert results to a DataFrame for easier reading\n",
    "correlation_df = pd.DataFrame(correlation_results)\n",
    "\n",
    "correlation_df.head(21)\n",
    " \"\"\""
   ]
  },
  {
   "attachments": {},
   "cell_type": "markdown",
   "id": "d3ee0e95",
   "metadata": {},
   "source": [
    "_\"Explore data visually and extract relevant insights. Explain your rationale and\n",
    "findings. Do not forget to analyse multivariate relationships.\"_"
   ]
  },
  {
   "attachments": {},
   "cell_type": "markdown",
   "id": "6f20e759",
   "metadata": {},
   "source": [
    "## 3. Data Cleaning and Pre-processing <a id='dataclean'></a>\n",
    "[to the top](#top)"
   ]
  },
  {
   "attachments": {},
   "cell_type": "markdown",
   "id": "b5f021b7",
   "metadata": {},
   "source": [
    "- _\"Are there any missing values? Take action to handle them._\n",
    "- _Check the dataset for outliers and pre-process them. Justify your decisions._\n",
    "- _Deal with categorical variables._\n",
    "- _Review current features and create extra features if needed. Explain your steps._\n",
    "- _Perform data scaling. Explain the reasoning behind your choices.\"_"
   ]
  },
  {
   "attachments": {},
   "cell_type": "markdown",
   "id": "257e9b6c",
   "metadata": {},
   "source": [
    "## 4. Feature Selection <a id='features'></a>\n",
    "[to the top](#top)"
   ]
  },
  {
   "attachments": {},
   "cell_type": "markdown",
   "id": "cb7d6a9e",
   "metadata": {},
   "source": [
    "_\"Define and implement an unambiguous strategy for feature selection. Use methods discussed in the course. Present and justify your final selection.\"_"
   ]
  },
  {
   "attachments": {},
   "cell_type": "markdown",
   "id": "6a1a804b",
   "metadata": {},
   "source": [
    "## 5. Modeling and Evaluation <a id='modeling'></a>\n",
    "[to the top](#top)"
   ]
  },
  {
   "attachments": {},
   "cell_type": "markdown",
   "id": "9573be04",
   "metadata": {},
   "source": [
    "- _\"Identify the type of the problem and select the relevant algorithms._\n",
    "- _Use cross-validation to assess performance. Which metrics did you use and why?_\n",
    "- _Train at least 1 model using the train dataset and obtain predictions for the test dataset.\"_"
   ]
  },
  {
   "cell_type": "code",
   "execution_count": 5,
   "id": "dcdabcb1",
   "metadata": {},
   "outputs": [],
   "source": [
    "# test"
   ]
  }
 ],
 "metadata": {
  "kernelspec": {
   "display_name": "Python 3",
   "language": "python",
   "name": "python3"
  },
  "language_info": {
   "codemirror_mode": {
    "name": "ipython",
    "version": 3
   },
   "file_extension": ".py",
   "mimetype": "text/x-python",
   "name": "python",
   "nbconvert_exporter": "python",
   "pygments_lexer": "ipython3",
   "version": "3.8.5"
  }
 },
 "nbformat": 4,
 "nbformat_minor": 5
}
