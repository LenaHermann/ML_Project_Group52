{
 "cells": [
  {
   "cell_type": "markdown",
   "metadata": {},
   "source": [
    "# To Grant or Not to Grant: Deciding on Compensation Benefits "
   ]
  },
  {
   "cell_type": "markdown",
   "metadata": {},
   "source": [
    "### Machine Learning Group Project 2024/2025 - Group 52\n",
    "\n",
    "\n",
    "__Members:__\n",
    "- Diogo Rodrigues _(20240512@novaims.unl.pt)_\n",
    "- Alexandre Gonçalves _(20240738@novaims.unl.pt)_\n",
    "- Pedro Costa _(20222121@novaims.unl.pt)_\n",
    "- Santiago Taylor _(20240542@novaims.unl.pt)_\n",
    "- Lena Hermann _(20241446@novaims.unl.pt)_"
   ]
  },
  {
   "cell_type": "markdown",
   "metadata": {},
   "source": [
    "## Introduction\n",
    "- __Motivation__: The New York Workers’ Compensation Board (WCB) handles a vast number of workplace injury claims, which require timely and accurate decisions. Currently, manually reviewing these claims is both resource-intensive and time-consuming. An automated model could significantly expedite the decision-making process, improving efficiency and consistency in awarding compensation.\n",
    "- __Dataset__: The dataset contains claims assembled by the WCB from the beginning of 2020 to the end of 2022, which serves as the training data. The test data comprises claims from January 2023 onward. Each claim includes various attributes such as injury details, claimant information, and associated codes that characterize the nature, cause, and affected body part of the injury. This comprehensive dataset enables the development of predictive models based on historical decisions.\n",
    "- __Task and Goal__: The primary objective of this project is to develop and evaluate machine learning models that can accurately classify the WCB’s final decision on the type of injury for each claim (i.e., the \"Claim Injury Type\"). This involves creating a multiclass classification model to predict injury types based on the provided features, optimizing model performance, and assessing the importance of different features. The ultimate goal is to produce a model that can generalize well to unseen data, assisting the WCB in making faster, data-driven decisions on new claims.\n",
    "\n",
    "| **ATTRIBUTE**                        | **DESCRIPTION**                                                                                                         |\n",
    "|--------------------------------------|-------------------------------------------------------------------------------------------------------------------------|\n",
    "| Accident Date                        | Injury date of the claim.                                                                                               |\n",
    "| Age at Injury                        | Age of injured worker when the injury occurred.                                                                         |\n",
    "| Alternative Dispute Resolution       | Adjudication processes external to the Board.                                                                           |\n",
    "| Assembly Date                        | The date the claim was first assembled.                                                                                 |\n",
    "| Attorney/Representative              | Is the claim being represented by an Attorney?                                                                          |\n",
    "| Average Weekly Wage                  | The wage used to calculate workers’ compensation, disability, or Paid Leave wage replacement benefits.                  |\n",
    "| Birth Year                           | The reported year of birth of the injured worker.                                                                       |\n",
    "| C-2 Date                             | Date of receipt of the Employer's Report of Work-Related Injury/Illness or equivalent (formerly Form C-2).              |\n",
    "| C-3 Date                             | Date Form C-3 (Employee Claim Form) was received.                                                                       |\n",
    "| Carrier Name                         | Name of primary insurance provider responsible for providing workers’ compensation coverage to the injured worker's employer. |\n",
    "| Carrier Type                         | Type of primary insurance provider responsible for providing workers’ compensation coverage.                            |\n",
    "| Claim Identifier                     | Unique identifier for each claim, assigned by WCB.                                                                      |\n",
    "| County of Injury                     | Name of the New York County where the injury occurred.                                                                  |\n",
    "| COVID-19 Indicator                   | Indication that the claim may be associated with COVID-19.                                                              |\n",
    "| District Name                        | Name of the WCB district office that oversees claims for that region or area of the state.                              |\n",
    "| First Hearing Date                   | Date the first hearing was held on a claim at a WCB hearing location. A blank date means the claim has not yet had a hearing held. |\n",
    "| Gender                               | The reported gender of the injured worker.                                                                              |\n",
    "| IME-4 Count                          | Number of IME-4 forms received per claim. The IME-4 form is the “Independent Examiner’s Report of Independent Medical Examination” form. |\n",
    "| Industry Code                        | NAICS code and descriptions are available at https://www.naics.com/search-naics-codes-by-industry/.                     |\n",
    "| Industry Code Description            | 2-digit NAICS industry code description used to classify businesses according to their economic activity.               |\n",
    "| Medical Fee Region                   | Approximate region where the injured worker would receive medical service.                                               |\n",
    "| OIICS Nature of Injury Description   | The OIICS nature of injury codes & descriptions are available at https://www.bls.gov/iif/oiics_manual_2007.pdf.         |\n",
    "| WCIO Cause of Injury Code            | The WCIO cause of injury codes & descriptions are available at https://www.wcio.org/Active%20PNC/WCIO_Cause_Table.pdf.  |\n",
    "| WCIO Cause of Injury Description     | See description of field above.                                                                                         |\n",
    "| WCIO Nature of Injury Code           | The WCIO nature of injury are available at https://www.wcio.org/Active%20PNC/WCIO_Nature_Table.pdf.                     |\n",
    "| WCIO Nature of Injury Description    | See description of field above.                                                                                         |\n",
    "| WCIO Part Of Body Code               | The WCIO part of body codes & descriptions are available at https://www.wcio.org/Active%20PNC/WCIO_Part_Table.pdf.      |\n",
    "| WCIO Part Of Body Description        | See description of field above.                                                                                         |\n",
    "| Zip Code                             | The reported ZIP code of the injured worker’s home address.                                                             |\n",
    "| Agreement Reached                    | Binary variable: Yes if there is an agreement without the involvement of the WCB -> unknown at the start of a claim.    |\n",
    "| WCB Decision                         | Multiclass variable: Decision of the WCB relative to the claim: “Accident” means that claim refers to workplace accident, “Occupational Disease” means illness from the workplace. -> requires WCB deliberation so it is unknown at start of claim. |\n",
    "| Claim Injury Type                    | Main target variable: Deliberation of the WCB relative to benefits awarded to the claim. Numbering indicates severity.   |\n"
   ]
  },
  {
   "cell_type": "markdown",
   "metadata": {},
   "source": [
    "## Table of Content\n",
    "<a id='top'></a>\n",
    "[1. Set-Up and Data Loading](#dataload) <br>\n",
    "&nbsp;&nbsp;&nbsp;[1.1 Import the Needed Libraries](#import_libaries) <br>\n",
    "&nbsp;&nbsp;&nbsp;[1.2 Read the Data and First Overview](#read_data) <br>"
   ]
  },
  {
   "cell_type": "markdown",
   "metadata": {},
   "source": [
    "## 1. Set-Up and Data Loading <a id='dataload'></a>\n",
    "[to the top](#top)\n",
    "\n",
    "### 1.1 Import the Needed Libraries <a id='import_libaries'></a>"
   ]
  },
  {
   "cell_type": "code",
   "execution_count": 295,
   "metadata": {},
   "outputs": [],
   "source": [
    "import os\n",
    "import numpy as np #to efficiently compute functions\n",
    "import pandas as pd #to work with data frames\n",
    "import matplotlib.pyplot as plt\n",
    "import seaborn as sns\n",
    "sns.set()\n",
    "import zipfile #to open zipfile\n",
    "pd.set_option('display.max_rows', 500)\n",
    "pd.set_option('display.max_columns', 60)\n",
    "from scipy.stats import mode\n",
    "\n",
    "# data partition\n",
    "from sklearn.model_selection import train_test_split, StratifiedKFold\n",
    "from sklearn.model_selection import StratifiedShuffleSplit\n",
    "\n",
    "from sklearn.impute import KNNImputer\n",
    "#filter methods\n",
    "# spearman \n",
    "# chi-square\n",
    "import scipy.stats as stats\n",
    "from scipy.stats import chi2_contingency\n",
    "\n",
    "#wrapper methods\n",
    "from sklearn.linear_model import LogisticRegression\n",
    "from sklearn.svm import SVC\n",
    "from sklearn.feature_selection import RFE\n",
    "from sklearn.feature_selection import RFECV\n",
    "\n",
    "# embedded methods\n",
    "from sklearn.linear_model import LassoCV\n",
    "\n",
    "#Imputing missing values\n",
    "from sklearn.impute import SimpleImputer\n",
    "\n",
    "# encoding and scaling\n",
    "from sklearn.preprocessing import LabelEncoder, OrdinalEncoder\n",
    "from sklearn.preprocessing import StandardScaler\n",
    "\n",
    "# model selection\n",
    "from sklearn.model_selection import GridSearchCV\n",
    "from sklearn.model_selection import cross_val_score\n",
    "\n",
    "# models\n",
    "from sklearn.ensemble import RandomForestClassifier\n",
    "\n",
    "# model assessment\n",
    "from sklearn.metrics import accuracy_score, classification_report\n",
    "from sklearn.metrics import confusion_matrix\n",
    "\n",
    "import warnings\n",
    "warnings.filterwarnings('ignore')"
   ]
  },
  {
   "cell_type": "markdown",
   "metadata": {},
   "source": [
    "### 1.2 Read the Data and First Overview <a id='read_data'></a>\n",
    "[to the top](#top)"
   ]
  },
  {
   "cell_type": "code",
   "execution_count": 296,
   "metadata": {},
   "outputs": [],
   "source": [
    "train_zip_path = 'train_data.csv.zip'\n",
    "test_zip_path = 'test_data.csv.zip'\n",
    "\n",
    "# open csv file from zip\n",
    "def read_zipped_csv(zip_path):\n",
    "    with zipfile.ZipFile(zip_path, 'r') as z:\n",
    "        csv_filename = z.namelist()[0]\n",
    "        \n",
    "        with z.open(csv_filename) as f:\n",
    "            return pd.read_csv(f)\n",
    "\n",
    "train_df = read_zipped_csv(train_zip_path)\n",
    "test_df = read_zipped_csv(test_zip_path)"
   ]
  },
  {
   "cell_type": "code",
   "execution_count": 297,
   "metadata": {},
   "outputs": [
    {
     "data": {
      "text/html": [
       "<div>\n",
       "<style scoped>\n",
       "    .dataframe tbody tr th:only-of-type {\n",
       "        vertical-align: middle;\n",
       "    }\n",
       "\n",
       "    .dataframe tbody tr th {\n",
       "        vertical-align: top;\n",
       "    }\n",
       "\n",
       "    .dataframe thead th {\n",
       "        text-align: right;\n",
       "    }\n",
       "</style>\n",
       "<table border=\"1\" class=\"dataframe\">\n",
       "  <thead>\n",
       "    <tr style=\"text-align: right;\">\n",
       "      <th></th>\n",
       "      <th>Accident Date</th>\n",
       "      <th>Age at Injury</th>\n",
       "      <th>Alternative Dispute Resolution</th>\n",
       "      <th>Assembly Date</th>\n",
       "      <th>Attorney/Representative</th>\n",
       "      <th>Average Weekly Wage</th>\n",
       "      <th>Birth Year</th>\n",
       "      <th>C-2 Date</th>\n",
       "      <th>C-3 Date</th>\n",
       "      <th>Carrier Name</th>\n",
       "      <th>Carrier Type</th>\n",
       "      <th>Claim Identifier</th>\n",
       "      <th>Claim Injury Type</th>\n",
       "      <th>County of Injury</th>\n",
       "      <th>COVID-19 Indicator</th>\n",
       "      <th>District Name</th>\n",
       "      <th>First Hearing Date</th>\n",
       "      <th>Gender</th>\n",
       "      <th>IME-4 Count</th>\n",
       "      <th>Industry Code</th>\n",
       "      <th>Industry Code Description</th>\n",
       "      <th>Medical Fee Region</th>\n",
       "      <th>OIICS Nature of Injury Description</th>\n",
       "      <th>WCIO Cause of Injury Code</th>\n",
       "      <th>WCIO Cause of Injury Description</th>\n",
       "      <th>WCIO Nature of Injury Code</th>\n",
       "      <th>WCIO Nature of Injury Description</th>\n",
       "      <th>WCIO Part Of Body Code</th>\n",
       "      <th>WCIO Part Of Body Description</th>\n",
       "      <th>Zip Code</th>\n",
       "      <th>Agreement Reached</th>\n",
       "      <th>WCB Decision</th>\n",
       "      <th>Number of Dependents</th>\n",
       "    </tr>\n",
       "  </thead>\n",
       "  <tbody>\n",
       "    <tr>\n",
       "      <th>0</th>\n",
       "      <td>2019-12-30</td>\n",
       "      <td>31.0</td>\n",
       "      <td>N</td>\n",
       "      <td>2020-01-01</td>\n",
       "      <td>N</td>\n",
       "      <td>0.00</td>\n",
       "      <td>1988.0</td>\n",
       "      <td>2019-12-31</td>\n",
       "      <td>NaN</td>\n",
       "      <td>NEW HAMPSHIRE INSURANCE CO</td>\n",
       "      <td>1A. PRIVATE</td>\n",
       "      <td>5393875</td>\n",
       "      <td>2. NON-COMP</td>\n",
       "      <td>ST. LAWRENCE</td>\n",
       "      <td>N</td>\n",
       "      <td>SYRACUSE</td>\n",
       "      <td>NaN</td>\n",
       "      <td>M</td>\n",
       "      <td>NaN</td>\n",
       "      <td>44.0</td>\n",
       "      <td>RETAIL TRADE</td>\n",
       "      <td>I</td>\n",
       "      <td>NaN</td>\n",
       "      <td>27.0</td>\n",
       "      <td>FROM LIQUID OR GREASE SPILLS</td>\n",
       "      <td>10.0</td>\n",
       "      <td>CONTUSION</td>\n",
       "      <td>62.0</td>\n",
       "      <td>BUTTOCKS</td>\n",
       "      <td>13662</td>\n",
       "      <td>0.0</td>\n",
       "      <td>Not Work Related</td>\n",
       "      <td>1.0</td>\n",
       "    </tr>\n",
       "    <tr>\n",
       "      <th>1</th>\n",
       "      <td>2019-08-30</td>\n",
       "      <td>46.0</td>\n",
       "      <td>N</td>\n",
       "      <td>2020-01-01</td>\n",
       "      <td>Y</td>\n",
       "      <td>1745.93</td>\n",
       "      <td>1973.0</td>\n",
       "      <td>2020-01-01</td>\n",
       "      <td>2020-01-14</td>\n",
       "      <td>ZURICH AMERICAN INSURANCE CO</td>\n",
       "      <td>1A. PRIVATE</td>\n",
       "      <td>5393091</td>\n",
       "      <td>4. TEMPORARY</td>\n",
       "      <td>WYOMING</td>\n",
       "      <td>N</td>\n",
       "      <td>ROCHESTER</td>\n",
       "      <td>2020-02-21</td>\n",
       "      <td>F</td>\n",
       "      <td>4.0</td>\n",
       "      <td>23.0</td>\n",
       "      <td>CONSTRUCTION</td>\n",
       "      <td>I</td>\n",
       "      <td>NaN</td>\n",
       "      <td>97.0</td>\n",
       "      <td>REPETITIVE MOTION</td>\n",
       "      <td>49.0</td>\n",
       "      <td>SPRAIN OR TEAR</td>\n",
       "      <td>38.0</td>\n",
       "      <td>SHOULDER(S)</td>\n",
       "      <td>14569</td>\n",
       "      <td>1.0</td>\n",
       "      <td>Not Work Related</td>\n",
       "      <td>4.0</td>\n",
       "    </tr>\n",
       "    <tr>\n",
       "      <th>2</th>\n",
       "      <td>2019-12-06</td>\n",
       "      <td>40.0</td>\n",
       "      <td>N</td>\n",
       "      <td>2020-01-01</td>\n",
       "      <td>N</td>\n",
       "      <td>1434.80</td>\n",
       "      <td>1979.0</td>\n",
       "      <td>2020-01-01</td>\n",
       "      <td>NaN</td>\n",
       "      <td>INDEMNITY INSURANCE CO OF</td>\n",
       "      <td>1A. PRIVATE</td>\n",
       "      <td>5393889</td>\n",
       "      <td>4. TEMPORARY</td>\n",
       "      <td>ORANGE</td>\n",
       "      <td>N</td>\n",
       "      <td>ALBANY</td>\n",
       "      <td>NaN</td>\n",
       "      <td>M</td>\n",
       "      <td>NaN</td>\n",
       "      <td>56.0</td>\n",
       "      <td>ADMINISTRATIVE AND SUPPORT AND WASTE MANAGEMEN...</td>\n",
       "      <td>II</td>\n",
       "      <td>NaN</td>\n",
       "      <td>79.0</td>\n",
       "      <td>OBJECT BEING LIFTED OR HANDLED</td>\n",
       "      <td>7.0</td>\n",
       "      <td>CONCUSSION</td>\n",
       "      <td>10.0</td>\n",
       "      <td>MULTIPLE HEAD INJURY</td>\n",
       "      <td>12589</td>\n",
       "      <td>0.0</td>\n",
       "      <td>Not Work Related</td>\n",
       "      <td>6.0</td>\n",
       "    </tr>\n",
       "    <tr>\n",
       "      <th>3</th>\n",
       "      <td>NaN</td>\n",
       "      <td>NaN</td>\n",
       "      <td>NaN</td>\n",
       "      <td>2020-01-01</td>\n",
       "      <td>NaN</td>\n",
       "      <td>NaN</td>\n",
       "      <td>NaN</td>\n",
       "      <td>NaN</td>\n",
       "      <td>NaN</td>\n",
       "      <td>NaN</td>\n",
       "      <td>NaN</td>\n",
       "      <td>957648180</td>\n",
       "      <td>NaN</td>\n",
       "      <td>NaN</td>\n",
       "      <td>NaN</td>\n",
       "      <td>NaN</td>\n",
       "      <td>NaN</td>\n",
       "      <td>NaN</td>\n",
       "      <td>NaN</td>\n",
       "      <td>NaN</td>\n",
       "      <td>NaN</td>\n",
       "      <td>NaN</td>\n",
       "      <td>NaN</td>\n",
       "      <td>NaN</td>\n",
       "      <td>NaN</td>\n",
       "      <td>NaN</td>\n",
       "      <td>NaN</td>\n",
       "      <td>NaN</td>\n",
       "      <td>NaN</td>\n",
       "      <td>NaN</td>\n",
       "      <td>NaN</td>\n",
       "      <td>NaN</td>\n",
       "      <td>NaN</td>\n",
       "    </tr>\n",
       "    <tr>\n",
       "      <th>4</th>\n",
       "      <td>2019-12-30</td>\n",
       "      <td>61.0</td>\n",
       "      <td>N</td>\n",
       "      <td>2020-01-01</td>\n",
       "      <td>N</td>\n",
       "      <td>NaN</td>\n",
       "      <td>1958.0</td>\n",
       "      <td>2019-12-31</td>\n",
       "      <td>NaN</td>\n",
       "      <td>STATE INSURANCE FUND</td>\n",
       "      <td>2A. SIF</td>\n",
       "      <td>5393887</td>\n",
       "      <td>2. NON-COMP</td>\n",
       "      <td>DUTCHESS</td>\n",
       "      <td>N</td>\n",
       "      <td>ALBANY</td>\n",
       "      <td>NaN</td>\n",
       "      <td>M</td>\n",
       "      <td>NaN</td>\n",
       "      <td>62.0</td>\n",
       "      <td>HEALTH CARE AND SOCIAL ASSISTANCE</td>\n",
       "      <td>II</td>\n",
       "      <td>NaN</td>\n",
       "      <td>16.0</td>\n",
       "      <td>HAND TOOL, UTENSIL; NOT POWERED</td>\n",
       "      <td>43.0</td>\n",
       "      <td>PUNCTURE</td>\n",
       "      <td>36.0</td>\n",
       "      <td>FINGER(S)</td>\n",
       "      <td>12603</td>\n",
       "      <td>0.0</td>\n",
       "      <td>Not Work Related</td>\n",
       "      <td>1.0</td>\n",
       "    </tr>\n",
       "  </tbody>\n",
       "</table>\n",
       "</div>"
      ],
      "text/plain": [
       "  Accident Date  Age at Injury Alternative Dispute Resolution Assembly Date  \\\n",
       "0    2019-12-30           31.0                              N    2020-01-01   \n",
       "1    2019-08-30           46.0                              N    2020-01-01   \n",
       "2    2019-12-06           40.0                              N    2020-01-01   \n",
       "3           NaN            NaN                            NaN    2020-01-01   \n",
       "4    2019-12-30           61.0                              N    2020-01-01   \n",
       "\n",
       "  Attorney/Representative  Average Weekly Wage  Birth Year    C-2 Date  \\\n",
       "0                       N                 0.00      1988.0  2019-12-31   \n",
       "1                       Y              1745.93      1973.0  2020-01-01   \n",
       "2                       N              1434.80      1979.0  2020-01-01   \n",
       "3                     NaN                  NaN         NaN         NaN   \n",
       "4                       N                  NaN      1958.0  2019-12-31   \n",
       "\n",
       "     C-3 Date                  Carrier Name Carrier Type  Claim Identifier  \\\n",
       "0         NaN    NEW HAMPSHIRE INSURANCE CO  1A. PRIVATE           5393875   \n",
       "1  2020-01-14  ZURICH AMERICAN INSURANCE CO  1A. PRIVATE           5393091   \n",
       "2         NaN     INDEMNITY INSURANCE CO OF  1A. PRIVATE           5393889   \n",
       "3         NaN                           NaN          NaN         957648180   \n",
       "4         NaN          STATE INSURANCE FUND      2A. SIF           5393887   \n",
       "\n",
       "  Claim Injury Type County of Injury COVID-19 Indicator District Name  \\\n",
       "0       2. NON-COMP     ST. LAWRENCE                  N      SYRACUSE   \n",
       "1      4. TEMPORARY          WYOMING                  N     ROCHESTER   \n",
       "2      4. TEMPORARY           ORANGE                  N        ALBANY   \n",
       "3               NaN              NaN                NaN           NaN   \n",
       "4       2. NON-COMP         DUTCHESS                  N        ALBANY   \n",
       "\n",
       "  First Hearing Date Gender  IME-4 Count  Industry Code  \\\n",
       "0                NaN      M          NaN           44.0   \n",
       "1         2020-02-21      F          4.0           23.0   \n",
       "2                NaN      M          NaN           56.0   \n",
       "3                NaN    NaN          NaN            NaN   \n",
       "4                NaN      M          NaN           62.0   \n",
       "\n",
       "                           Industry Code Description Medical Fee Region  \\\n",
       "0                                       RETAIL TRADE                  I   \n",
       "1                                       CONSTRUCTION                  I   \n",
       "2  ADMINISTRATIVE AND SUPPORT AND WASTE MANAGEMEN...                 II   \n",
       "3                                                NaN                NaN   \n",
       "4                  HEALTH CARE AND SOCIAL ASSISTANCE                 II   \n",
       "\n",
       "   OIICS Nature of Injury Description  WCIO Cause of Injury Code  \\\n",
       "0                                 NaN                       27.0   \n",
       "1                                 NaN                       97.0   \n",
       "2                                 NaN                       79.0   \n",
       "3                                 NaN                        NaN   \n",
       "4                                 NaN                       16.0   \n",
       "\n",
       "  WCIO Cause of Injury Description  WCIO Nature of Injury Code  \\\n",
       "0     FROM LIQUID OR GREASE SPILLS                        10.0   \n",
       "1                REPETITIVE MOTION                        49.0   \n",
       "2   OBJECT BEING LIFTED OR HANDLED                         7.0   \n",
       "3                              NaN                         NaN   \n",
       "4  HAND TOOL, UTENSIL; NOT POWERED                        43.0   \n",
       "\n",
       "  WCIO Nature of Injury Description  WCIO Part Of Body Code  \\\n",
       "0                         CONTUSION                    62.0   \n",
       "1                    SPRAIN OR TEAR                    38.0   \n",
       "2                        CONCUSSION                    10.0   \n",
       "3                               NaN                     NaN   \n",
       "4                          PUNCTURE                    36.0   \n",
       "\n",
       "  WCIO Part Of Body Description Zip Code  Agreement Reached      WCB Decision  \\\n",
       "0                      BUTTOCKS    13662                0.0  Not Work Related   \n",
       "1                   SHOULDER(S)    14569                1.0  Not Work Related   \n",
       "2          MULTIPLE HEAD INJURY    12589                0.0  Not Work Related   \n",
       "3                           NaN      NaN                NaN               NaN   \n",
       "4                     FINGER(S)    12603                0.0  Not Work Related   \n",
       "\n",
       "   Number of Dependents  \n",
       "0                   1.0  \n",
       "1                   4.0  \n",
       "2                   6.0  \n",
       "3                   NaN  \n",
       "4                   1.0  "
      ]
     },
     "execution_count": 297,
     "metadata": {},
     "output_type": "execute_result"
    }
   ],
   "source": [
    "train_df.head()"
   ]
  },
  {
   "cell_type": "code",
   "execution_count": 298,
   "metadata": {},
   "outputs": [
    {
     "data": {
      "text/html": [
       "<div>\n",
       "<style scoped>\n",
       "    .dataframe tbody tr th:only-of-type {\n",
       "        vertical-align: middle;\n",
       "    }\n",
       "\n",
       "    .dataframe tbody tr th {\n",
       "        vertical-align: top;\n",
       "    }\n",
       "\n",
       "    .dataframe thead th {\n",
       "        text-align: right;\n",
       "    }\n",
       "</style>\n",
       "<table border=\"1\" class=\"dataframe\">\n",
       "  <thead>\n",
       "    <tr style=\"text-align: right;\">\n",
       "      <th></th>\n",
       "      <th>Accident Date</th>\n",
       "      <th>Age at Injury</th>\n",
       "      <th>Alternative Dispute Resolution</th>\n",
       "      <th>Assembly Date</th>\n",
       "      <th>Attorney/Representative</th>\n",
       "      <th>Average Weekly Wage</th>\n",
       "      <th>Birth Year</th>\n",
       "      <th>C-2 Date</th>\n",
       "      <th>C-3 Date</th>\n",
       "      <th>Carrier Name</th>\n",
       "      <th>Carrier Type</th>\n",
       "      <th>Claim Identifier</th>\n",
       "      <th>County of Injury</th>\n",
       "      <th>COVID-19 Indicator</th>\n",
       "      <th>District Name</th>\n",
       "      <th>First Hearing Date</th>\n",
       "      <th>Gender</th>\n",
       "      <th>IME-4 Count</th>\n",
       "      <th>Industry Code</th>\n",
       "      <th>Industry Code Description</th>\n",
       "      <th>Medical Fee Region</th>\n",
       "      <th>OIICS Nature of Injury Description</th>\n",
       "      <th>WCIO Cause of Injury Code</th>\n",
       "      <th>WCIO Cause of Injury Description</th>\n",
       "      <th>WCIO Nature of Injury Code</th>\n",
       "      <th>WCIO Nature of Injury Description</th>\n",
       "      <th>WCIO Part Of Body Code</th>\n",
       "      <th>WCIO Part Of Body Description</th>\n",
       "      <th>Zip Code</th>\n",
       "      <th>Number of Dependents</th>\n",
       "    </tr>\n",
       "  </thead>\n",
       "  <tbody>\n",
       "    <tr>\n",
       "      <th>0</th>\n",
       "      <td>2022-12-24</td>\n",
       "      <td>19</td>\n",
       "      <td>N</td>\n",
       "      <td>2023-01-02</td>\n",
       "      <td>N</td>\n",
       "      <td>NaN</td>\n",
       "      <td>2003.0</td>\n",
       "      <td>2023-01-02</td>\n",
       "      <td>NaN</td>\n",
       "      <td>INDEMNITY INSURANCE CO OF</td>\n",
       "      <td>1A. PRIVATE</td>\n",
       "      <td>6165911</td>\n",
       "      <td>BRONX</td>\n",
       "      <td>N</td>\n",
       "      <td>NYC</td>\n",
       "      <td>NaN</td>\n",
       "      <td>M</td>\n",
       "      <td>NaN</td>\n",
       "      <td>48.0</td>\n",
       "      <td>TRANSPORTATION AND WAREHOUSING</td>\n",
       "      <td>IV</td>\n",
       "      <td>NaN</td>\n",
       "      <td>31.0</td>\n",
       "      <td>FALL, SLIP OR TRIP, NOC</td>\n",
       "      <td>10.0</td>\n",
       "      <td>CONTUSION</td>\n",
       "      <td>54.0</td>\n",
       "      <td>LOWER LEG</td>\n",
       "      <td>10466</td>\n",
       "      <td>1</td>\n",
       "    </tr>\n",
       "    <tr>\n",
       "      <th>1</th>\n",
       "      <td>2022-11-20</td>\n",
       "      <td>19</td>\n",
       "      <td>N</td>\n",
       "      <td>2023-01-02</td>\n",
       "      <td>N</td>\n",
       "      <td>NaN</td>\n",
       "      <td>2003.0</td>\n",
       "      <td>2023-01-02</td>\n",
       "      <td>NaN</td>\n",
       "      <td>A I U INSURANCE COMPANY</td>\n",
       "      <td>1A. PRIVATE</td>\n",
       "      <td>6166141</td>\n",
       "      <td>QUEENS</td>\n",
       "      <td>N</td>\n",
       "      <td>NYC</td>\n",
       "      <td>NaN</td>\n",
       "      <td>F</td>\n",
       "      <td>NaN</td>\n",
       "      <td>45.0</td>\n",
       "      <td>RETAIL TRADE</td>\n",
       "      <td>IV</td>\n",
       "      <td>NaN</td>\n",
       "      <td>75.0</td>\n",
       "      <td>FALLING OR FLYING OBJECT</td>\n",
       "      <td>10.0</td>\n",
       "      <td>CONTUSION</td>\n",
       "      <td>10.0</td>\n",
       "      <td>MULTIPLE HEAD INJURY</td>\n",
       "      <td>11691</td>\n",
       "      <td>1</td>\n",
       "    </tr>\n",
       "    <tr>\n",
       "      <th>2</th>\n",
       "      <td>2022-12-26</td>\n",
       "      <td>59</td>\n",
       "      <td>N</td>\n",
       "      <td>2023-01-02</td>\n",
       "      <td>N</td>\n",
       "      <td>0.0</td>\n",
       "      <td>1963.0</td>\n",
       "      <td>2022-12-31</td>\n",
       "      <td>NaN</td>\n",
       "      <td>AMGUARD INSURANCE COMPANY</td>\n",
       "      <td>1A. PRIVATE</td>\n",
       "      <td>6165907</td>\n",
       "      <td>WESTCHESTER</td>\n",
       "      <td>N</td>\n",
       "      <td>NYC</td>\n",
       "      <td>NaN</td>\n",
       "      <td>F</td>\n",
       "      <td>NaN</td>\n",
       "      <td>56.0</td>\n",
       "      <td>ADMINISTRATIVE AND SUPPORT AND WASTE MANAGEMEN...</td>\n",
       "      <td>III</td>\n",
       "      <td>NaN</td>\n",
       "      <td>68.0</td>\n",
       "      <td>STATIONARY OBJECT</td>\n",
       "      <td>49.0</td>\n",
       "      <td>SPRAIN OR TEAR</td>\n",
       "      <td>62.0</td>\n",
       "      <td>BUTTOCKS</td>\n",
       "      <td>10604</td>\n",
       "      <td>0</td>\n",
       "    </tr>\n",
       "    <tr>\n",
       "      <th>3</th>\n",
       "      <td>2022-12-28</td>\n",
       "      <td>55</td>\n",
       "      <td>N</td>\n",
       "      <td>2023-01-02</td>\n",
       "      <td>N</td>\n",
       "      <td>0.0</td>\n",
       "      <td>0.0</td>\n",
       "      <td>2023-01-02</td>\n",
       "      <td>NaN</td>\n",
       "      <td>INDEMNITY INS. OF N AMERICA</td>\n",
       "      <td>1A. PRIVATE</td>\n",
       "      <td>6166047</td>\n",
       "      <td>QUEENS</td>\n",
       "      <td>N</td>\n",
       "      <td>NYC</td>\n",
       "      <td>NaN</td>\n",
       "      <td>F</td>\n",
       "      <td>NaN</td>\n",
       "      <td>48.0</td>\n",
       "      <td>TRANSPORTATION AND WAREHOUSING</td>\n",
       "      <td>IV</td>\n",
       "      <td>NaN</td>\n",
       "      <td>25.0</td>\n",
       "      <td>FROM DIFFERENT LEVEL (ELEVATION)</td>\n",
       "      <td>10.0</td>\n",
       "      <td>CONTUSION</td>\n",
       "      <td>53.0</td>\n",
       "      <td>KNEE</td>\n",
       "      <td>11411</td>\n",
       "      <td>6</td>\n",
       "    </tr>\n",
       "    <tr>\n",
       "      <th>4</th>\n",
       "      <td>2022-12-20</td>\n",
       "      <td>25</td>\n",
       "      <td>N</td>\n",
       "      <td>2023-01-02</td>\n",
       "      <td>N</td>\n",
       "      <td>0.0</td>\n",
       "      <td>1997.0</td>\n",
       "      <td>2022-12-31</td>\n",
       "      <td>NaN</td>\n",
       "      <td>NEW HAMPSHIRE INSURANCE CO</td>\n",
       "      <td>1A. PRIVATE</td>\n",
       "      <td>6166102</td>\n",
       "      <td>KINGS</td>\n",
       "      <td>N</td>\n",
       "      <td>NYC</td>\n",
       "      <td>NaN</td>\n",
       "      <td>M</td>\n",
       "      <td>NaN</td>\n",
       "      <td>55.0</td>\n",
       "      <td>MANAGEMENT OF COMPANIES AND ENTERPRISES</td>\n",
       "      <td>IV</td>\n",
       "      <td>NaN</td>\n",
       "      <td>79.0</td>\n",
       "      <td>OBJECT BEING LIFTED OR HANDLED</td>\n",
       "      <td>40.0</td>\n",
       "      <td>LACERATION</td>\n",
       "      <td>37.0</td>\n",
       "      <td>THUMB</td>\n",
       "      <td>11212</td>\n",
       "      <td>5</td>\n",
       "    </tr>\n",
       "  </tbody>\n",
       "</table>\n",
       "</div>"
      ],
      "text/plain": [
       "  Accident Date  Age at Injury Alternative Dispute Resolution Assembly Date  \\\n",
       "0    2022-12-24             19                              N    2023-01-02   \n",
       "1    2022-11-20             19                              N    2023-01-02   \n",
       "2    2022-12-26             59                              N    2023-01-02   \n",
       "3    2022-12-28             55                              N    2023-01-02   \n",
       "4    2022-12-20             25                              N    2023-01-02   \n",
       "\n",
       "  Attorney/Representative  Average Weekly Wage  Birth Year    C-2 Date  \\\n",
       "0                       N                  NaN      2003.0  2023-01-02   \n",
       "1                       N                  NaN      2003.0  2023-01-02   \n",
       "2                       N                  0.0      1963.0  2022-12-31   \n",
       "3                       N                  0.0         0.0  2023-01-02   \n",
       "4                       N                  0.0      1997.0  2022-12-31   \n",
       "\n",
       "  C-3 Date                 Carrier Name Carrier Type  Claim Identifier  \\\n",
       "0      NaN    INDEMNITY INSURANCE CO OF  1A. PRIVATE           6165911   \n",
       "1      NaN      A I U INSURANCE COMPANY  1A. PRIVATE           6166141   \n",
       "2      NaN    AMGUARD INSURANCE COMPANY  1A. PRIVATE           6165907   \n",
       "3      NaN  INDEMNITY INS. OF N AMERICA  1A. PRIVATE           6166047   \n",
       "4      NaN   NEW HAMPSHIRE INSURANCE CO  1A. PRIVATE           6166102   \n",
       "\n",
       "  County of Injury COVID-19 Indicator District Name First Hearing Date Gender  \\\n",
       "0            BRONX                  N           NYC                NaN      M   \n",
       "1           QUEENS                  N           NYC                NaN      F   \n",
       "2      WESTCHESTER                  N           NYC                NaN      F   \n",
       "3           QUEENS                  N           NYC                NaN      F   \n",
       "4            KINGS                  N           NYC                NaN      M   \n",
       "\n",
       "   IME-4 Count  Industry Code  \\\n",
       "0          NaN           48.0   \n",
       "1          NaN           45.0   \n",
       "2          NaN           56.0   \n",
       "3          NaN           48.0   \n",
       "4          NaN           55.0   \n",
       "\n",
       "                           Industry Code Description Medical Fee Region  \\\n",
       "0                     TRANSPORTATION AND WAREHOUSING                 IV   \n",
       "1                                       RETAIL TRADE                 IV   \n",
       "2  ADMINISTRATIVE AND SUPPORT AND WASTE MANAGEMEN...                III   \n",
       "3                     TRANSPORTATION AND WAREHOUSING                 IV   \n",
       "4            MANAGEMENT OF COMPANIES AND ENTERPRISES                 IV   \n",
       "\n",
       "   OIICS Nature of Injury Description  WCIO Cause of Injury Code  \\\n",
       "0                                 NaN                       31.0   \n",
       "1                                 NaN                       75.0   \n",
       "2                                 NaN                       68.0   \n",
       "3                                 NaN                       25.0   \n",
       "4                                 NaN                       79.0   \n",
       "\n",
       "   WCIO Cause of Injury Description  WCIO Nature of Injury Code  \\\n",
       "0           FALL, SLIP OR TRIP, NOC                        10.0   \n",
       "1          FALLING OR FLYING OBJECT                        10.0   \n",
       "2                 STATIONARY OBJECT                        49.0   \n",
       "3  FROM DIFFERENT LEVEL (ELEVATION)                        10.0   \n",
       "4    OBJECT BEING LIFTED OR HANDLED                        40.0   \n",
       "\n",
       "  WCIO Nature of Injury Description  WCIO Part Of Body Code  \\\n",
       "0                         CONTUSION                    54.0   \n",
       "1                         CONTUSION                    10.0   \n",
       "2                    SPRAIN OR TEAR                    62.0   \n",
       "3                         CONTUSION                    53.0   \n",
       "4                        LACERATION                    37.0   \n",
       "\n",
       "  WCIO Part Of Body Description Zip Code  Number of Dependents  \n",
       "0                     LOWER LEG    10466                     1  \n",
       "1          MULTIPLE HEAD INJURY    11691                     1  \n",
       "2                      BUTTOCKS    10604                     0  \n",
       "3                          KNEE    11411                     6  \n",
       "4                         THUMB    11212                     5  "
      ]
     },
     "execution_count": 298,
     "metadata": {},
     "output_type": "execute_result"
    }
   ],
   "source": [
    "test_df.head()"
   ]
  },
  {
   "cell_type": "markdown",
   "metadata": {},
   "source": [
    "# 2. Data Understanding, Consistency and Feature Engineering <a id='dataunderstand'></a>\n",
    "[to the top](#top)"
   ]
  },
  {
   "cell_type": "markdown",
   "metadata": {},
   "source": [
    "## 2.1. Perform the Hold Out Method w/ 2 splits to avoid data leakage"
   ]
  },
  {
   "cell_type": "code",
   "execution_count": 299,
   "metadata": {},
   "outputs": [],
   "source": [
    "y = train_df['Claim Injury Type'].dropna()"
   ]
  },
  {
   "cell_type": "code",
   "execution_count": 300,
   "metadata": {},
   "outputs": [
    {
     "data": {
      "text/plain": [
       "np.int64(0)"
      ]
     },
     "execution_count": 300,
     "metadata": {},
     "output_type": "execute_result"
    }
   ],
   "source": [
    "y.isna().sum()"
   ]
  },
  {
   "cell_type": "code",
   "execution_count": 301,
   "metadata": {},
   "outputs": [
    {
     "data": {
      "text/plain": [
       "Claim Injury Type\n",
       "2. NON-COMP        291078\n",
       "4. TEMPORARY       148507\n",
       "3. MED ONLY         68906\n",
       "5. PPD SCH LOSS     48280\n",
       "1. CANCELLED        12477\n",
       "6. PPD NSL           4211\n",
       "8. DEATH              470\n",
       "7. PTD                 97\n",
       "Name: count, dtype: int64"
      ]
     },
     "execution_count": 301,
     "metadata": {},
     "output_type": "execute_result"
    }
   ],
   "source": [
    "y.value_counts()"
   ]
  },
  {
   "cell_type": "code",
   "execution_count": 302,
   "metadata": {},
   "outputs": [],
   "source": [
    "# Define X by dropping the target column and aligning it with y's indices\n",
    "X = train_df.drop(columns='Claim Injury Type')\n",
    "X = X.loc[y.index]  # Align X with the indices of y"
   ]
  },
  {
   "cell_type": "code",
   "execution_count": 303,
   "metadata": {},
   "outputs": [
    {
     "name": "stdout",
     "output_type": "stream",
     "text": [
      "Percentage of data removed after cleaning the target variable: 96.72%\n"
     ]
    }
   ],
   "source": [
    "print(f\"Percentage of data removed after cleaning the target variable: {(len(y) / len(train_df['Claim Injury Type'])) * 100:.2f}%\")"
   ]
  },
  {
   "cell_type": "code",
   "execution_count": 304,
   "metadata": {},
   "outputs": [],
   "source": [
    "# Re-do the split to avoid Leakage\n",
    "\n",
    "X_train_val, X_test, y_train_val, y_test = train_test_split(\n",
    "    X, \n",
    "    y, \n",
    "    test_size=0.2, \n",
    "    random_state=15, \n",
    "    stratify=y\n",
    ")\n"
   ]
  },
  {
   "cell_type": "code",
   "execution_count": 305,
   "metadata": {},
   "outputs": [],
   "source": [
    "# Step 2: Perform Validation + Test split\n",
    "X_train, X_val, y_train, y_val = train_test_split(X_train_val, \n",
    "                                                  y_train_val, \n",
    "                                                  test_size = 0.2, \n",
    "                                                  random_state = 15, \n",
    "                                                  stratify = y_train_val)"
   ]
  },
  {
   "cell_type": "code",
   "execution_count": 306,
   "metadata": {},
   "outputs": [
    {
     "data": {
      "text/plain": [
       "((367376, 32), (91844, 32), (114806, 32))"
      ]
     },
     "execution_count": 306,
     "metadata": {},
     "output_type": "execute_result"
    }
   ],
   "source": [
    "X_train.shape, X_val.shape, X_test.shape"
   ]
  },
  {
   "cell_type": "code",
   "execution_count": 307,
   "metadata": {},
   "outputs": [
    {
     "data": {
      "text/plain": [
       "((367376,), (91844,), (114806,))"
      ]
     },
     "execution_count": 307,
     "metadata": {},
     "output_type": "execute_result"
    }
   ],
   "source": [
    "y_train.shape, y_val.shape, y_test.shape"
   ]
  },
  {
   "cell_type": "markdown",
   "metadata": {},
   "source": [
    "### Label Enconder on the target variable"
   ]
  },
  {
   "cell_type": "code",
   "execution_count": 308,
   "metadata": {},
   "outputs": [],
   "source": [
    "# Define the mapping for the target variable\n",
    "target_mapping = {\n",
    "    '1. CANCELLED': 0,\n",
    "    '2. NON-COMP': 1,\n",
    "    '3. MED ONLY': 2,\n",
    "    '4. TEMPORARY': 3,\n",
    "    '5. PPD SCH LOSS': 4,\n",
    "    '6. PPD NSL': 5,\n",
    "    '7. PTD': 6,\n",
    "    '8. DEATH': 7\n",
    "}"
   ]
  },
  {
   "cell_type": "code",
   "execution_count": 309,
   "metadata": {},
   "outputs": [],
   "source": [
    "# Apply the mapping to target datasets\n",
    "y_train = y_train.replace(target_mapping).astype(float)\n",
    "y_val = y_val.replace(target_mapping).astype(float)\n",
    "y_test = y_test.replace(target_mapping).astype(float)"
   ]
  },
  {
   "cell_type": "code",
   "execution_count": 310,
   "metadata": {},
   "outputs": [
    {
     "name": "stdout",
     "output_type": "stream",
     "text": [
      "Mapped y_train unique values: [0. 2. 4. 1. 3. 5. 7. 6.]\n"
     ]
    }
   ],
   "source": [
    "# Verify the mapping\n",
    "print(\"Mapped y_train unique values:\", y_train.unique())"
   ]
  },
  {
   "cell_type": "code",
   "execution_count": 311,
   "metadata": {},
   "outputs": [
    {
     "data": {
      "text/plain": [
       "Claim Injury Type\n",
       "1.0    186290\n",
       "3.0     95044\n",
       "2.0     44100\n",
       "4.0     30899\n",
       "0.0      7985\n",
       "5.0      2695\n",
       "7.0       301\n",
       "6.0        62\n",
       "Name: count, dtype: int64"
      ]
     },
     "execution_count": 311,
     "metadata": {},
     "output_type": "execute_result"
    }
   ],
   "source": [
    "y_train.value_counts()"
   ]
  },
  {
   "cell_type": "markdown",
   "metadata": {},
   "source": [
    "## 2.2. Check Missing Values and Duplicates"
   ]
  },
  {
   "cell_type": "code",
   "execution_count": 312,
   "metadata": {},
   "outputs": [
    {
     "data": {
      "text/plain": [
       "Accident Date                           2365\n",
       "Age at Injury                              0\n",
       "Alternative Dispute Resolution             0\n",
       "Assembly Date                              0\n",
       "Attorney/Representative                    0\n",
       "Average Weekly Wage                    18304\n",
       "Birth Year                             18571\n",
       "C-2 Date                                9283\n",
       "C-3 Date                              247721\n",
       "Carrier Name                               0\n",
       "Carrier Type                               0\n",
       "Claim Identifier                           0\n",
       "County of Injury                           0\n",
       "COVID-19 Indicator                         0\n",
       "District Name                              0\n",
       "First Hearing Date                    270721\n",
       "Gender                                     0\n",
       "IME-4 Count                           282316\n",
       "Industry Code                           6373\n",
       "Industry Code Description               6373\n",
       "Medical Fee Region                         0\n",
       "OIICS Nature of Injury Description    367376\n",
       "WCIO Cause of Injury Code              10000\n",
       "WCIO Cause of Injury Description       10000\n",
       "WCIO Nature of Injury Code             10011\n",
       "WCIO Nature of Injury Description      10011\n",
       "WCIO Part Of Body Code                 10903\n",
       "WCIO Part Of Body Description          10903\n",
       "Zip Code                               18291\n",
       "Agreement Reached                          0\n",
       "WCB Decision                               0\n",
       "Number of Dependents                       0\n",
       "dtype: int64"
      ]
     },
     "execution_count": 312,
     "metadata": {},
     "output_type": "execute_result"
    }
   ],
   "source": [
    "X_train.isnull().sum()"
   ]
  },
  {
   "cell_type": "code",
   "execution_count": 313,
   "metadata": {},
   "outputs": [
    {
     "data": {
      "text/plain": [
       "Accident Date                           581\n",
       "Age at Injury                             0\n",
       "Alternative Dispute Resolution            0\n",
       "Assembly Date                             0\n",
       "Attorney/Representative                   0\n",
       "Average Weekly Wage                    4684\n",
       "Birth Year                             4717\n",
       "C-2 Date                               2269\n",
       "C-3 Date                              61733\n",
       "Carrier Name                              0\n",
       "Carrier Type                              0\n",
       "Claim Identifier                          0\n",
       "County of Injury                          0\n",
       "COVID-19 Indicator                        0\n",
       "District Name                             0\n",
       "First Hearing Date                    67776\n",
       "Gender                                    0\n",
       "IME-4 Count                           70619\n",
       "Industry Code                          1557\n",
       "Industry Code Description              1557\n",
       "Medical Fee Region                        0\n",
       "OIICS Nature of Injury Description    91844\n",
       "WCIO Cause of Injury Code              2420\n",
       "WCIO Cause of Injury Description       2420\n",
       "WCIO Nature of Injury Code             2424\n",
       "WCIO Nature of Injury Description      2424\n",
       "WCIO Part Of Body Code                 2684\n",
       "WCIO Part Of Body Description          2684\n",
       "Zip Code                               4606\n",
       "Agreement Reached                         0\n",
       "WCB Decision                              0\n",
       "Number of Dependents                      0\n",
       "dtype: int64"
      ]
     },
     "execution_count": 313,
     "metadata": {},
     "output_type": "execute_result"
    }
   ],
   "source": [
    "X_val.isnull().sum()"
   ]
  },
  {
   "cell_type": "code",
   "execution_count": 314,
   "metadata": {},
   "outputs": [
    {
     "name": "stdout",
     "output_type": "stream",
     "text": [
      "<class 'pandas.core.frame.DataFrame'>\n",
      "RangeIndex: 387975 entries, 0 to 387974\n",
      "Data columns (total 30 columns):\n",
      " #   Column                              Non-Null Count   Dtype  \n",
      "---  ------                              --------------   -----  \n",
      " 0   Accident Date                       385531 non-null  object \n",
      " 1   Age at Injury                       387975 non-null  int64  \n",
      " 2   Alternative Dispute Resolution      387975 non-null  object \n",
      " 3   Assembly Date                       387975 non-null  object \n",
      " 4   Attorney/Representative             387975 non-null  object \n",
      " 5   Average Weekly Wage                 368771 non-null  float64\n",
      " 6   Birth Year                          368505 non-null  float64\n",
      " 7   C-2 Date                            378841 non-null  object \n",
      " 8   C-3 Date                            85216 non-null   object \n",
      " 9   Carrier Name                        387975 non-null  object \n",
      " 10  Carrier Type                        387975 non-null  object \n",
      " 11  Claim Identifier                    387975 non-null  int64  \n",
      " 12  County of Injury                    387975 non-null  object \n",
      " 13  COVID-19 Indicator                  387975 non-null  object \n",
      " 14  District Name                       387975 non-null  object \n",
      " 15  First Hearing Date                  43028 non-null   object \n",
      " 16  Gender                              387975 non-null  object \n",
      " 17  IME-4 Count                         35249 non-null   float64\n",
      " 18  Industry Code                       380239 non-null  float64\n",
      " 19  Industry Code Description           380239 non-null  object \n",
      " 20  Medical Fee Region                  387975 non-null  object \n",
      " 21  OIICS Nature of Injury Description  0 non-null       float64\n",
      " 22  WCIO Cause of Injury Code           377627 non-null  float64\n",
      " 23  WCIO Cause of Injury Description    377627 non-null  object \n",
      " 24  WCIO Nature of Injury Code          377415 non-null  float64\n",
      " 25  WCIO Nature of Injury Description   377415 non-null  object \n",
      " 26  WCIO Part Of Body Code              378426 non-null  float64\n",
      " 27  WCIO Part Of Body Description       378426 non-null  object \n",
      " 28  Zip Code                            368633 non-null  object \n",
      " 29  Number of Dependents                387975 non-null  int64  \n",
      "dtypes: float64(8), int64(3), object(19)\n",
      "memory usage: 88.8+ MB\n"
     ]
    }
   ],
   "source": [
    "test_df.info()"
   ]
  },
  {
   "cell_type": "markdown",
   "metadata": {},
   "source": [
    "## 2.2.1 Check the % of missing values"
   ]
  },
  {
   "cell_type": "code",
   "execution_count": 315,
   "metadata": {},
   "outputs": [],
   "source": [
    "# Function to calculate missing values by column# Funct \n",
    "def missing_values_table(df):\n",
    "        # Total missing values\n",
    "        mis_val = df.isnull().sum()\n",
    "        \n",
    "        # Percentage of missing values\n",
    "        mis_val_percent = 100 * df.isnull().sum() / len(df)\n",
    "        \n",
    "        # Make a table with the results\n",
    "        mis_val_table = pd.concat([mis_val, mis_val_percent], axis=1)\n",
    "        \n",
    "        # Rename the columns\n",
    "        mis_val_table_ren_columns = mis_val_table.rename(\n",
    "        columns = {0 : 'Missing Values', 1 : '% of Total Values'})\n",
    "        \n",
    "        # Sort the table by percentage of missing descending\n",
    "        mis_val_table_ren_columns = mis_val_table_ren_columns[\n",
    "            mis_val_table_ren_columns.iloc[:,1] != 0].sort_values(\n",
    "        '% of Total Values', ascending=False).round(1)\n",
    "        \n",
    "        # Print some summary information\n",
    "        print (\"Your selected dataframe has \" + str(df.shape[1]) + \" columns.\\n\"      \n",
    "            \"There are \" + str(mis_val_table_ren_columns.shape[0]) +\n",
    "              \" columns that have missing values.\")\n",
    "        \n",
    "        # Return the dataframe with missing information\n",
    "        return mis_val_table_ren_columns"
   ]
  },
  {
   "cell_type": "code",
   "execution_count": 316,
   "metadata": {},
   "outputs": [
    {
     "name": "stdout",
     "output_type": "stream",
     "text": [
      "Your selected dataframe has 32 columns.\n",
      "There are 17 columns that have missing values.\n"
     ]
    },
    {
     "data": {
      "text/html": [
       "<div>\n",
       "<style scoped>\n",
       "    .dataframe tbody tr th:only-of-type {\n",
       "        vertical-align: middle;\n",
       "    }\n",
       "\n",
       "    .dataframe tbody tr th {\n",
       "        vertical-align: top;\n",
       "    }\n",
       "\n",
       "    .dataframe thead th {\n",
       "        text-align: right;\n",
       "    }\n",
       "</style>\n",
       "<table border=\"1\" class=\"dataframe\">\n",
       "  <thead>\n",
       "    <tr style=\"text-align: right;\">\n",
       "      <th></th>\n",
       "      <th>Missing Values</th>\n",
       "      <th>% of Total Values</th>\n",
       "    </tr>\n",
       "  </thead>\n",
       "  <tbody>\n",
       "    <tr>\n",
       "      <th>OIICS Nature of Injury Description</th>\n",
       "      <td>367376</td>\n",
       "      <td>100.0</td>\n",
       "    </tr>\n",
       "    <tr>\n",
       "      <th>IME-4 Count</th>\n",
       "      <td>282316</td>\n",
       "      <td>76.8</td>\n",
       "    </tr>\n",
       "    <tr>\n",
       "      <th>First Hearing Date</th>\n",
       "      <td>270721</td>\n",
       "      <td>73.7</td>\n",
       "    </tr>\n",
       "    <tr>\n",
       "      <th>C-3 Date</th>\n",
       "      <td>247721</td>\n",
       "      <td>67.4</td>\n",
       "    </tr>\n",
       "    <tr>\n",
       "      <th>Birth Year</th>\n",
       "      <td>18571</td>\n",
       "      <td>5.1</td>\n",
       "    </tr>\n",
       "    <tr>\n",
       "      <th>Average Weekly Wage</th>\n",
       "      <td>18304</td>\n",
       "      <td>5.0</td>\n",
       "    </tr>\n",
       "    <tr>\n",
       "      <th>Zip Code</th>\n",
       "      <td>18291</td>\n",
       "      <td>5.0</td>\n",
       "    </tr>\n",
       "    <tr>\n",
       "      <th>WCIO Part Of Body Description</th>\n",
       "      <td>10903</td>\n",
       "      <td>3.0</td>\n",
       "    </tr>\n",
       "    <tr>\n",
       "      <th>WCIO Part Of Body Code</th>\n",
       "      <td>10903</td>\n",
       "      <td>3.0</td>\n",
       "    </tr>\n",
       "    <tr>\n",
       "      <th>WCIO Nature of Injury Description</th>\n",
       "      <td>10011</td>\n",
       "      <td>2.7</td>\n",
       "    </tr>\n",
       "    <tr>\n",
       "      <th>WCIO Nature of Injury Code</th>\n",
       "      <td>10011</td>\n",
       "      <td>2.7</td>\n",
       "    </tr>\n",
       "    <tr>\n",
       "      <th>WCIO Cause of Injury Code</th>\n",
       "      <td>10000</td>\n",
       "      <td>2.7</td>\n",
       "    </tr>\n",
       "    <tr>\n",
       "      <th>WCIO Cause of Injury Description</th>\n",
       "      <td>10000</td>\n",
       "      <td>2.7</td>\n",
       "    </tr>\n",
       "    <tr>\n",
       "      <th>C-2 Date</th>\n",
       "      <td>9283</td>\n",
       "      <td>2.5</td>\n",
       "    </tr>\n",
       "    <tr>\n",
       "      <th>Industry Code Description</th>\n",
       "      <td>6373</td>\n",
       "      <td>1.7</td>\n",
       "    </tr>\n",
       "    <tr>\n",
       "      <th>Industry Code</th>\n",
       "      <td>6373</td>\n",
       "      <td>1.7</td>\n",
       "    </tr>\n",
       "    <tr>\n",
       "      <th>Accident Date</th>\n",
       "      <td>2365</td>\n",
       "      <td>0.6</td>\n",
       "    </tr>\n",
       "  </tbody>\n",
       "</table>\n",
       "</div>"
      ],
      "text/plain": [
       "                                    Missing Values  % of Total Values\n",
       "OIICS Nature of Injury Description          367376              100.0\n",
       "IME-4 Count                                 282316               76.8\n",
       "First Hearing Date                          270721               73.7\n",
       "C-3 Date                                    247721               67.4\n",
       "Birth Year                                   18571                5.1\n",
       "Average Weekly Wage                          18304                5.0\n",
       "Zip Code                                     18291                5.0\n",
       "WCIO Part Of Body Description                10903                3.0\n",
       "WCIO Part Of Body Code                       10903                3.0\n",
       "WCIO Nature of Injury Description            10011                2.7\n",
       "WCIO Nature of Injury Code                   10011                2.7\n",
       "WCIO Cause of Injury Code                    10000                2.7\n",
       "WCIO Cause of Injury Description             10000                2.7\n",
       "C-2 Date                                      9283                2.5\n",
       "Industry Code Description                     6373                1.7\n",
       "Industry Code                                 6373                1.7\n",
       "Accident Date                                 2365                0.6"
      ]
     },
     "execution_count": 316,
     "metadata": {},
     "output_type": "execute_result"
    }
   ],
   "source": [
    "missing_values_table(X_train)"
   ]
  },
  {
   "cell_type": "code",
   "execution_count": 317,
   "metadata": {},
   "outputs": [
    {
     "name": "stdout",
     "output_type": "stream",
     "text": [
      "Your selected dataframe has 32 columns.\n",
      "There are 17 columns that have missing values.\n"
     ]
    },
    {
     "data": {
      "text/html": [
       "<div>\n",
       "<style scoped>\n",
       "    .dataframe tbody tr th:only-of-type {\n",
       "        vertical-align: middle;\n",
       "    }\n",
       "\n",
       "    .dataframe tbody tr th {\n",
       "        vertical-align: top;\n",
       "    }\n",
       "\n",
       "    .dataframe thead th {\n",
       "        text-align: right;\n",
       "    }\n",
       "</style>\n",
       "<table border=\"1\" class=\"dataframe\">\n",
       "  <thead>\n",
       "    <tr style=\"text-align: right;\">\n",
       "      <th></th>\n",
       "      <th>Missing Values</th>\n",
       "      <th>% of Total Values</th>\n",
       "    </tr>\n",
       "  </thead>\n",
       "  <tbody>\n",
       "    <tr>\n",
       "      <th>OIICS Nature of Injury Description</th>\n",
       "      <td>91844</td>\n",
       "      <td>100.0</td>\n",
       "    </tr>\n",
       "    <tr>\n",
       "      <th>IME-4 Count</th>\n",
       "      <td>70619</td>\n",
       "      <td>76.9</td>\n",
       "    </tr>\n",
       "    <tr>\n",
       "      <th>First Hearing Date</th>\n",
       "      <td>67776</td>\n",
       "      <td>73.8</td>\n",
       "    </tr>\n",
       "    <tr>\n",
       "      <th>C-3 Date</th>\n",
       "      <td>61733</td>\n",
       "      <td>67.2</td>\n",
       "    </tr>\n",
       "    <tr>\n",
       "      <th>Birth Year</th>\n",
       "      <td>4717</td>\n",
       "      <td>5.1</td>\n",
       "    </tr>\n",
       "    <tr>\n",
       "      <th>Average Weekly Wage</th>\n",
       "      <td>4684</td>\n",
       "      <td>5.1</td>\n",
       "    </tr>\n",
       "    <tr>\n",
       "      <th>Zip Code</th>\n",
       "      <td>4606</td>\n",
       "      <td>5.0</td>\n",
       "    </tr>\n",
       "    <tr>\n",
       "      <th>WCIO Part Of Body Description</th>\n",
       "      <td>2684</td>\n",
       "      <td>2.9</td>\n",
       "    </tr>\n",
       "    <tr>\n",
       "      <th>WCIO Part Of Body Code</th>\n",
       "      <td>2684</td>\n",
       "      <td>2.9</td>\n",
       "    </tr>\n",
       "    <tr>\n",
       "      <th>WCIO Nature of Injury Description</th>\n",
       "      <td>2424</td>\n",
       "      <td>2.6</td>\n",
       "    </tr>\n",
       "    <tr>\n",
       "      <th>WCIO Nature of Injury Code</th>\n",
       "      <td>2424</td>\n",
       "      <td>2.6</td>\n",
       "    </tr>\n",
       "    <tr>\n",
       "      <th>WCIO Cause of Injury Code</th>\n",
       "      <td>2420</td>\n",
       "      <td>2.6</td>\n",
       "    </tr>\n",
       "    <tr>\n",
       "      <th>WCIO Cause of Injury Description</th>\n",
       "      <td>2420</td>\n",
       "      <td>2.6</td>\n",
       "    </tr>\n",
       "    <tr>\n",
       "      <th>C-2 Date</th>\n",
       "      <td>2269</td>\n",
       "      <td>2.5</td>\n",
       "    </tr>\n",
       "    <tr>\n",
       "      <th>Industry Code Description</th>\n",
       "      <td>1557</td>\n",
       "      <td>1.7</td>\n",
       "    </tr>\n",
       "    <tr>\n",
       "      <th>Industry Code</th>\n",
       "      <td>1557</td>\n",
       "      <td>1.7</td>\n",
       "    </tr>\n",
       "    <tr>\n",
       "      <th>Accident Date</th>\n",
       "      <td>581</td>\n",
       "      <td>0.6</td>\n",
       "    </tr>\n",
       "  </tbody>\n",
       "</table>\n",
       "</div>"
      ],
      "text/plain": [
       "                                    Missing Values  % of Total Values\n",
       "OIICS Nature of Injury Description           91844              100.0\n",
       "IME-4 Count                                  70619               76.9\n",
       "First Hearing Date                           67776               73.8\n",
       "C-3 Date                                     61733               67.2\n",
       "Birth Year                                    4717                5.1\n",
       "Average Weekly Wage                           4684                5.1\n",
       "Zip Code                                      4606                5.0\n",
       "WCIO Part Of Body Description                 2684                2.9\n",
       "WCIO Part Of Body Code                        2684                2.9\n",
       "WCIO Nature of Injury Description             2424                2.6\n",
       "WCIO Nature of Injury Code                    2424                2.6\n",
       "WCIO Cause of Injury Code                     2420                2.6\n",
       "WCIO Cause of Injury Description              2420                2.6\n",
       "C-2 Date                                      2269                2.5\n",
       "Industry Code Description                     1557                1.7\n",
       "Industry Code                                 1557                1.7\n",
       "Accident Date                                  581                0.6"
      ]
     },
     "execution_count": 317,
     "metadata": {},
     "output_type": "execute_result"
    }
   ],
   "source": [
    "missing_values_table(X_val)"
   ]
  },
  {
   "cell_type": "markdown",
   "metadata": {},
   "source": [
    "## 2.2.2 Drop features with high % of missing values (See if we should drop these variables for the final report)"
   ]
  },
  {
   "cell_type": "markdown",
   "metadata": {},
   "source": [
    "* OIICS Nature of Injury Description: has 100% missing values and as such it can be removed from our feature space.\n",
    "\n",
    "* IME-4 Count : Given that IME-4 Count has 77,62% of missing values and its variance is low compared to the median variance of numerical features (8 < 439) and its spearman correlation with the target is almost 0 probably it's better if we drop this variable.\n",
    "\n",
    "* C-3 Date: has a high correlation with other variables and 67.4% missing data, making it less informative compared to the others. \n",
    "\n",
    "* First Hearing Date Numeric while it has the lowest correlation with the other date variables, the 73.7% missing data makes it difficult to justify its retention."
   ]
  },
  {
   "cell_type": "code",
   "execution_count": 318,
   "metadata": {},
   "outputs": [],
   "source": [
    "X_train.drop(columns=['OIICS Nature of Injury Description', 'IME-4 Count', 'C-3 Date' , 'First Hearing Date'], inplace=True)\n",
    "X_val.drop(columns=['OIICS Nature of Injury Description', 'IME-4 Count', 'C-3 Date' , 'First Hearing Date'], inplace=True)\n",
    "X_test.drop(columns=['OIICS Nature of Injury Description', 'IME-4 Count', 'C-3 Date' , 'First Hearing Date'], inplace=True)\n",
    "test_df.drop(columns=['OIICS Nature of Injury Description', 'IME-4 Count', 'C-3 Date' , 'First Hearing Date'], inplace=True)"
   ]
  },
  {
   "cell_type": "markdown",
   "metadata": {},
   "source": [
    "## 2.2.3 Drop features with 1 value only / Features that are not present in Test Set / Highly Imbalanced Features"
   ]
  },
  {
   "cell_type": "code",
   "execution_count": 319,
   "metadata": {},
   "outputs": [
    {
     "data": {
      "text/plain": [
       "WCB Decision\n",
       "Not Work Related    367376\n",
       "Name: count, dtype: int64"
      ]
     },
     "execution_count": 319,
     "metadata": {},
     "output_type": "execute_result"
    }
   ],
   "source": [
    "# WCB Decision has only 1 value , so this feature has no predictive power to our model and thus should be dropped\n",
    "\n",
    "X_train['WCB Decision'].value_counts()"
   ]
  },
  {
   "cell_type": "code",
   "execution_count": 320,
   "metadata": {},
   "outputs": [],
   "source": [
    "# Drop the column across all datasets\n",
    "X_train = X_train.drop(columns=['WCB Decision'])\n",
    "X_val = X_val.drop(columns=['WCB Decision'])\n",
    "X_test = X_test.drop(columns=['WCB Decision'])"
   ]
  },
  {
   "cell_type": "code",
   "execution_count": 321,
   "metadata": {},
   "outputs": [],
   "source": [
    "# 'WCB Decision' : this variable is not present in test_df and thus we don't need to drop it"
   ]
  },
  {
   "cell_type": "code",
   "execution_count": 322,
   "metadata": {},
   "outputs": [],
   "source": [
    "# Agreement Reached is not present in X_train and X_val and thus we should drop it from test_df"
   ]
  },
  {
   "cell_type": "markdown",
   "metadata": {},
   "source": [
    "## 2.2.4 Check in EDA Notebook the correlation (ANOVA or Chi-Square Test between Alt.Dispute Resolution and target)"
   ]
  },
  {
   "cell_type": "code",
   "execution_count": 323,
   "metadata": {},
   "outputs": [
    {
     "data": {
      "text/plain": [
       "Alternative Dispute Resolution\n",
       "N    365682\n",
       "Y      1690\n",
       "U         4\n",
       "Name: count, dtype: int64"
      ]
     },
     "execution_count": 323,
     "metadata": {},
     "output_type": "execute_result"
    }
   ],
   "source": [
    "X_train['Alternative Dispute Resolution'].value_counts()    "
   ]
  },
  {
   "cell_type": "code",
   "execution_count": 324,
   "metadata": {},
   "outputs": [
    {
     "data": {
      "text/html": [
       "<div>\n",
       "<style scoped>\n",
       "    .dataframe tbody tr th:only-of-type {\n",
       "        vertical-align: middle;\n",
       "    }\n",
       "\n",
       "    .dataframe tbody tr th {\n",
       "        vertical-align: top;\n",
       "    }\n",
       "\n",
       "    .dataframe thead th {\n",
       "        text-align: right;\n",
       "    }\n",
       "</style>\n",
       "<table border=\"1\" class=\"dataframe\">\n",
       "  <thead>\n",
       "    <tr style=\"text-align: right;\">\n",
       "      <th>Claim Injury Type</th>\n",
       "      <th>0.0</th>\n",
       "      <th>1.0</th>\n",
       "      <th>2.0</th>\n",
       "      <th>3.0</th>\n",
       "      <th>4.0</th>\n",
       "      <th>5.0</th>\n",
       "      <th>6.0</th>\n",
       "      <th>7.0</th>\n",
       "    </tr>\n",
       "    <tr>\n",
       "      <th>Alternative Dispute Resolution</th>\n",
       "      <th></th>\n",
       "      <th></th>\n",
       "      <th></th>\n",
       "      <th></th>\n",
       "      <th></th>\n",
       "      <th></th>\n",
       "      <th></th>\n",
       "      <th></th>\n",
       "    </tr>\n",
       "  </thead>\n",
       "  <tbody>\n",
       "    <tr>\n",
       "      <th>N</th>\n",
       "      <td>7972</td>\n",
       "      <td>184609</td>\n",
       "      <td>44100</td>\n",
       "      <td>95044</td>\n",
       "      <td>30899</td>\n",
       "      <td>2695</td>\n",
       "      <td>62</td>\n",
       "      <td>301</td>\n",
       "    </tr>\n",
       "    <tr>\n",
       "      <th>U</th>\n",
       "      <td>0</td>\n",
       "      <td>4</td>\n",
       "      <td>0</td>\n",
       "      <td>0</td>\n",
       "      <td>0</td>\n",
       "      <td>0</td>\n",
       "      <td>0</td>\n",
       "      <td>0</td>\n",
       "    </tr>\n",
       "    <tr>\n",
       "      <th>Y</th>\n",
       "      <td>13</td>\n",
       "      <td>1677</td>\n",
       "      <td>0</td>\n",
       "      <td>0</td>\n",
       "      <td>0</td>\n",
       "      <td>0</td>\n",
       "      <td>0</td>\n",
       "      <td>0</td>\n",
       "    </tr>\n",
       "  </tbody>\n",
       "</table>\n",
       "</div>"
      ],
      "text/plain": [
       "Claim Injury Type                0.0     1.0    2.0    3.0    4.0   5.0  6.0  \\\n",
       "Alternative Dispute Resolution                                                 \n",
       "N                               7972  184609  44100  95044  30899  2695   62   \n",
       "U                                  0       4      0      0      0     0    0   \n",
       "Y                                 13    1677      0      0      0     0    0   \n",
       "\n",
       "Claim Injury Type               7.0  \n",
       "Alternative Dispute Resolution       \n",
       "N                               301  \n",
       "U                                 0  \n",
       "Y                                 0  "
      ]
     },
     "execution_count": 324,
     "metadata": {},
     "output_type": "execute_result"
    }
   ],
   "source": [
    "pd.crosstab(X_train['Alternative Dispute Resolution'], y_train)\n"
   ]
  },
  {
   "cell_type": "markdown",
   "metadata": {},
   "source": [
    "The \"Alternative Dispute Resolution\" feature has limited predictive value for the low-frequency outcomes. The N category is too general, and the Y and U categories do not provide meaningful insights for rare claim types.\n",
    "Given its limited relevance, high imbalance, and lack of information for critical outcomes, it is reasonable to drop this feature from the datase"
   ]
  },
  {
   "cell_type": "code",
   "execution_count": 325,
   "metadata": {},
   "outputs": [],
   "source": [
    "# Drop the column across all datasets\n",
    "X_train = X_train.drop(columns=['Alternative Dispute Resolution'])\n",
    "X_val = X_val.drop(columns=['Alternative Dispute Resolution'])\n",
    "X_test = X_test.drop(columns=['Alternative Dispute Resolution'])"
   ]
  },
  {
   "cell_type": "code",
   "execution_count": 326,
   "metadata": {},
   "outputs": [],
   "source": [
    "test_df = test_df.drop(columns=['Alternative Dispute Resolution'])   \n"
   ]
  },
  {
   "cell_type": "code",
   "execution_count": 327,
   "metadata": {},
   "outputs": [
    {
     "data": {
      "text/plain": [
       "Agreement Reached\n",
       "0.0    350281\n",
       "1.0     17095\n",
       "Name: count, dtype: int64"
      ]
     },
     "execution_count": 327,
     "metadata": {},
     "output_type": "execute_result"
    }
   ],
   "source": [
    "X_train['Agreement Reached'].value_counts()"
   ]
  },
  {
   "cell_type": "markdown",
   "metadata": {},
   "source": [
    "As the variable Agreement Reached is not available in test_df, it is likely because this information\n",
    "depends on post-outcome data or is not collected or known at prediction time.\n",
    "Therefore, training and validating the model with this variable would create a dependency that cannot be met in production. As a result, we will drop this feature from our X_train and X_val datasets."
   ]
  },
  {
   "cell_type": "code",
   "execution_count": 328,
   "metadata": {},
   "outputs": [],
   "source": [
    "# Drop the column across all datasets\n",
    "X_train = X_train.drop(columns=['Agreement Reached'])\n",
    "X_val = X_val.drop(columns=['Agreement Reached'])\n",
    "X_test = X_test.drop(columns=['Agreement Reached'])"
   ]
  },
  {
   "cell_type": "markdown",
   "metadata": {},
   "source": [
    "## 2.2.5 Duplicates"
   ]
  },
  {
   "cell_type": "code",
   "execution_count": 329,
   "metadata": {},
   "outputs": [
    {
     "data": {
      "text/plain": [
       "np.int64(0)"
      ]
     },
     "execution_count": 329,
     "metadata": {},
     "output_type": "execute_result"
    }
   ],
   "source": [
    "# checking for duplicates\n",
    "X_train.duplicated().sum()"
   ]
  },
  {
   "cell_type": "code",
   "execution_count": 330,
   "metadata": {},
   "outputs": [
    {
     "data": {
      "text/plain": [
       "np.int64(0)"
      ]
     },
     "execution_count": 330,
     "metadata": {},
     "output_type": "execute_result"
    }
   ],
   "source": [
    "X_val.duplicated().sum()"
   ]
  },
  {
   "cell_type": "code",
   "execution_count": 331,
   "metadata": {},
   "outputs": [
    {
     "data": {
      "text/plain": [
       "np.int64(0)"
      ]
     },
     "execution_count": 331,
     "metadata": {},
     "output_type": "execute_result"
    }
   ],
   "source": [
    "test_df.duplicated().sum()"
   ]
  },
  {
   "cell_type": "markdown",
   "metadata": {},
   "source": [
    "## 2.3. Data Coherence Checking"
   ]
  },
  {
   "cell_type": "markdown",
   "metadata": {},
   "source": [
    "## 2.3.1 Codes Analysis"
   ]
  },
  {
   "cell_type": "code",
   "execution_count": 332,
   "metadata": {},
   "outputs": [],
   "source": [
    "def analyze_code_description_relationship(data, code_column, description_column):\n",
    "    # Step 1: Count unique descriptions per code\n",
    "    code_to_description = data.groupby(code_column)[description_column].nunique()\n",
    "    # Check if each code maps to a single unique description\n",
    "    if code_to_description.max() == 1:\n",
    "        print(f\"\\nEach {code_column} has only one unique {description_column}.\")\n",
    "    else:\n",
    "        print(f\"\\nSome {code_column}s have multiple {description_column}s associated with them.\")\n",
    "\n",
    "    # Step 2: Count unique codes per description\n",
    "    description_to_code = data.groupby(description_column)[code_column].nunique()\n",
    "    # Check if each description maps to a single unique code\n",
    "    if description_to_code.max() == 1:\n",
    "        print(f\"\\nEach {description_column} has only one unique {code_column}.\")\n",
    "    else:\n",
    "        print(f\"\\nSome {description_column}s have multiple {code_column}s associated with them.\")\n",
    "\n",
    "    # Step 3: Validate if there is a 1:1 relationship\n",
    "    is_one_to_one = (code_to_description.max() == 1) and (description_to_code.max() == 1)\n",
    "    if is_one_to_one:\n",
    "        print(f\"\\n{code_column} and {description_column} have a 1:1 relationship.\")\n",
    "    else:\n",
    "        print(f\"\\nThere is no 1:1 relationship between {code_column} and {description_column}.\")\n",
    "\n",
    "    # Step 4: Find descriptions with multiple unique associated codes\n",
    "    description_to_unique_codes = data.groupby(description_column)[code_column].apply(lambda x: list(set(x)))\n",
    "    descriptions_with_multiple_unique_codes = description_to_unique_codes[description_to_unique_codes.apply(len) > 1]\n",
    "    \n",
    "    print(f\"\\nDescriptions with multiple unique associated {code_column}s:\")\n",
    "    print(descriptions_with_multiple_unique_codes)"
   ]
  },
  {
   "cell_type": "markdown",
   "metadata": {},
   "source": [
    "__Industry Code / Industry Code Description__"
   ]
  },
  {
   "cell_type": "code",
   "execution_count": 333,
   "metadata": {},
   "outputs": [
    {
     "name": "stdout",
     "output_type": "stream",
     "text": [
      "\n",
      "Each Industry Code has only one unique Industry Code Description.\n",
      "\n",
      "Some Industry Code Descriptions have multiple Industry Codes associated with them.\n",
      "\n",
      "There is no 1:1 relationship between Industry Code and Industry Code Description.\n",
      "\n",
      "Descriptions with multiple unique associated Industry Codes:\n",
      "Industry Code Description\n",
      "MANUFACTURING                     [32.0, 33.0, 31.0]\n",
      "RETAIL TRADE                            [44.0, 45.0]\n",
      "TRANSPORTATION AND WAREHOUSING          [48.0, 49.0]\n",
      "Name: Industry Code, dtype: object\n"
     ]
    }
   ],
   "source": [
    "analyze_code_description_relationship(train_df, 'Industry Code', 'Industry Code Description')"
   ]
  },
  {
   "cell_type": "markdown",
   "metadata": {},
   "source": [
    "Since each __Industry Code__ uniquely maps to one __Industry Code Description__, we can delete the Industry Code and only keep its corresponding description. We will keep the description variable because we have more information within it that we will use for binning / mapping later. Since we have almost the same information in both variables, we don't need to keep both since it would distort the data for the models."
   ]
  },
  {
   "cell_type": "markdown",
   "metadata": {},
   "source": [
    "__WCIO Cause of Injury Code / WCIO Cause of Injury Description__"
   ]
  },
  {
   "cell_type": "code",
   "execution_count": 334,
   "metadata": {},
   "outputs": [
    {
     "name": "stdout",
     "output_type": "stream",
     "text": [
      "\n",
      "Each WCIO Cause of Injury Code has only one unique WCIO Cause of Injury Description.\n",
      "\n",
      "Some WCIO Cause of Injury Descriptions have multiple WCIO Cause of Injury Codes associated with them.\n",
      "\n",
      "There is no 1:1 relationship between WCIO Cause of Injury Code and WCIO Cause of Injury Description.\n",
      "\n",
      "Descriptions with multiple unique associated WCIO Cause of Injury Codes:\n",
      "WCIO Cause of Injury Description\n",
      "OBJECT BEING LIFTED OR HANDLED    [17.0, 66.0, 79.0]\n",
      "REPETITIVE MOTION                       [97.0, 94.0]\n",
      "Name: WCIO Cause of Injury Code, dtype: object\n"
     ]
    }
   ],
   "source": [
    "analyze_code_description_relationship(train_df, 'WCIO Cause of Injury Code', 'WCIO Cause of Injury Description')"
   ]
  },
  {
   "cell_type": "markdown",
   "metadata": {},
   "source": [
    "For __WCIO Cause of Injury Code / Description__ it is the same as for __Industry Code / Description__. It shows that each code corresponds to only one unique description. This indicates that every code maps to a single description. However, some __WCIO Cause of Injury Descriptions__ map to more than one WCIO Cause of Injury Code. We will also just keep the __WCIO Cause of Injury Description.__"
   ]
  },
  {
   "cell_type": "markdown",
   "metadata": {},
   "source": [
    "__WCIO Nature of Injury Code / WCIO Nature of Injury Description__"
   ]
  },
  {
   "cell_type": "code",
   "execution_count": 335,
   "metadata": {},
   "outputs": [
    {
     "name": "stdout",
     "output_type": "stream",
     "text": [
      "\n",
      "Each WCIO Nature of Injury Code has only one unique WCIO Nature of Injury Description.\n",
      "\n",
      "Each WCIO Nature of Injury Description has only one unique WCIO Nature of Injury Code.\n",
      "\n",
      "WCIO Nature of Injury Code and WCIO Nature of Injury Description have a 1:1 relationship.\n",
      "\n",
      "Descriptions with multiple unique associated WCIO Nature of Injury Codes:\n",
      "Series([], Name: WCIO Nature of Injury Code, dtype: object)\n"
     ]
    }
   ],
   "source": [
    "analyze_code_description_relationship(train_df, 'WCIO Nature of Injury Code', 'WCIO Nature of Injury Description')"
   ]
  },
  {
   "cell_type": "markdown",
   "metadata": {},
   "source": [
    "Since the Code and the Description have a 1:1 relationship, we will delete __WCIO Nature of Injury Code__. We decided to keep the description insted of the code to later map into groups. This can be done better with the descriptions than the code because we have more information in the descriptions."
   ]
  },
  {
   "cell_type": "markdown",
   "metadata": {},
   "source": [
    "__WCIO Part Of Body Code / WCIO Part Of Body Description__"
   ]
  },
  {
   "cell_type": "code",
   "execution_count": 336,
   "metadata": {},
   "outputs": [
    {
     "name": "stdout",
     "output_type": "stream",
     "text": [
      "\n",
      "Each WCIO Part Of Body Code has only one unique WCIO Part Of Body Description.\n",
      "\n",
      "Some WCIO Part Of Body Descriptions have multiple WCIO Part Of Body Codes associated with them.\n",
      "\n",
      "There is no 1:1 relationship between WCIO Part Of Body Code and WCIO Part Of Body Description.\n",
      "\n",
      "Descriptions with multiple unique associated WCIO Part Of Body Codes:\n",
      "WCIO Part Of Body Description\n",
      "DISC           [43.0, 22.0]\n",
      "SOFT TISSUE    [25.0, 18.0]\n",
      "SPINAL CORD    [47.0, 23.0]\n",
      "Name: WCIO Part Of Body Code, dtype: object\n"
     ]
    }
   ],
   "source": [
    "analyze_code_description_relationship(train_df, 'WCIO Part Of Body Code', 'WCIO Part Of Body Description')"
   ]
  },
  {
   "cell_type": "markdown",
   "metadata": {},
   "source": [
    "For __WCIO Part Of Body Code / Description__ it is the same as for __Industry Code / Description__ and __WCIO Cause of Injury Code / Description__. It shows that each code corresponds to only one unique description. We will also just keep the __WCIO Part Of Body Description__ for further mapping reasons."
   ]
  },
  {
   "cell_type": "markdown",
   "metadata": {},
   "source": [
    "## 2.3.2 Dropping the previous feature codes from our feature space\n"
   ]
  },
  {
   "cell_type": "code",
   "execution_count": 337,
   "metadata": {},
   "outputs": [],
   "source": [
    "codes_to_drop = columns_to_drop = [\n",
    "    'Industry Code', \n",
    "    'WCIO Cause of Injury Code', \n",
    "    'WCIO Nature of Injury Code', \n",
    "    'WCIO Part Of Body Code'\n",
    "]"
   ]
  },
  {
   "cell_type": "code",
   "execution_count": 338,
   "metadata": {},
   "outputs": [],
   "source": [
    "# Drop columns from the filtered datasets\n",
    "X_train = X_train.drop(columns=columns_to_drop)\n",
    "X_val = X_val.drop(columns=columns_to_drop)\n",
    "X_test = X_test.drop(columns=columns_to_drop)\n",
    "test_df = test_df.drop(columns=columns_to_drop)"
   ]
  },
  {
   "cell_type": "code",
   "execution_count": 339,
   "metadata": {},
   "outputs": [
    {
     "data": {
      "text/plain": [
       "((367376, 21), (367376,), (91844, 21), (91844,), (114806, 21), (114806,))"
      ]
     },
     "execution_count": 339,
     "metadata": {},
     "output_type": "execute_result"
    }
   ],
   "source": [
    "X_train.shape, y_train.shape , X_val.shape , y_val.shape , X_test.shape , y_test.shape"
   ]
  },
  {
   "cell_type": "markdown",
   "metadata": {},
   "source": [
    "## 2.3.3 Mapping for WCIO features"
   ]
  },
  {
   "cell_type": "markdown",
   "metadata": {},
   "source": [
    "__WCIO Cause of Injury Description__"
   ]
  },
  {
   "cell_type": "code",
   "execution_count": 340,
   "metadata": {},
   "outputs": [],
   "source": [
    "# Mapping dictionary\n",
    "injury_mapping = {\n",
    "    # Falls and Slips\n",
    "    'FALL, SLIP OR TRIP, NOC': 'Falls and Slips',\n",
    "    'FROM LIQUID OR GREASE SPILLS': 'Falls and Slips',\n",
    "    'ON ICE OR SNOW': 'Falls and Slips',\n",
    "    'ON SAME LEVEL': 'Falls and Slips',\n",
    "    'ON STAIRS': 'Falls and Slips',\n",
    "    'SLIP, OR TRIP, DID NOT FALL': 'Falls and Slips',\n",
    "    \n",
    "    # Lifting and Strain\n",
    "    'OBJECT BEING LIFTED OR HANDLED': 'Lifting and Strain',\n",
    "    'LIFTING': 'Lifting and Strain',\n",
    "    'TWISTING': 'Lifting and Strain',\n",
    "    'PUSHING OR PULLING': 'Lifting and Strain',\n",
    "    'STRAIN OR INJURY BY, NOC': 'Lifting and Strain',\n",
    "    'REACHING': 'Lifting and Strain',\n",
    "    'HOLDING OR CARRYING': 'Lifting and Strain',\n",
    "    \n",
    "    # Collisions and Motor Vehicle Accidents\n",
    "    'COLLISION OR SIDESWIPE WITH ANOTHER VEHICLE': 'Collisions and Motor Vehicle Accidents',\n",
    "    'MOTOR VEHICLE, NOC': 'Collisions and Motor Vehicle Accidents',\n",
    "    'MOTOR VEHICLE': 'Collisions and Motor Vehicle Accidents',\n",
    "    'COLLISION WITH A FIXED OBJECT': 'Collisions and Motor Vehicle Accidents',\n",
    "    'CRASH OF RAIL VEHICLE': 'Collisions and Motor Vehicle Accidents',\n",
    "    'CRASH OF WATER VEHICLE': 'Collisions and Motor Vehicle Accidents',\n",
    "    'CRASH OF AIRPLANE': 'Collisions and Motor Vehicle Accidents',\n",
    "    'VEHICLE UPSET': 'Collisions and Motor Vehicle Accidents',\n",
    "    \n",
    "    # Struck By Object or Person\n",
    "    'STRUCK OR INJURED, NOC': 'Struck By Object or Person',\n",
    "    'FALLING OR FLYING OBJECT': 'Struck By Object or Person',\n",
    "    'STEPPING ON SHARP OBJECT': 'Struck By Object or Person',\n",
    "    'FELLOW WORKER, PATIENT OR OTHER PERSON': 'Struck By Object or Person',\n",
    "    'ANIMAL OR INSECT': 'Struck By Object or Person',\n",
    "    'WIELDING OR THROWING': 'Struck By Object or Person',\n",
    "    \n",
    "    # Exposure to Substances and Environment\n",
    "    'CHEMICALS': 'Exposure to Substances and Environment',\n",
    "    'DUST, GASES, FUMES OR VAPORS': 'Exposure to Substances and Environment',\n",
    "    'ABSORPTION, INGESTION OR INHALATION, NOC': 'Exposure to Substances and Environment',\n",
    "    'STEAM OR HOT FLUIDS': 'Exposure to Substances and Environment',\n",
    "    'COLD OBJECTS OR SUBSTANCES': 'Exposure to Substances and Environment',\n",
    "    'TEMPERATURE EXTREMES': 'Exposure to Substances and Environment',\n",
    "    'CONTINUAL NOISE': 'Exposure to Substances and Environment',\n",
    "    'MOLD': 'Exposure to Substances and Environment',\n",
    "    'ABNORMAL AIR PRESSURE': 'Exposure to Substances and Environment',\n",
    "    'RADIATION': 'Exposure to Substances and Environment',\n",
    "    \n",
    "    # Tools, Machinery, and Objects\n",
    "    'HAND TOOL, UTENSIL; NOT POWERED': 'Tools, Machinery, and Objects',\n",
    "    'POWERED HAND TOOL, APPLIANCE': 'Tools, Machinery, and Objects',\n",
    "    'USING TOOL OR MACHINERY': 'Tools, Machinery, and Objects',\n",
    "    'MOVING PARTS OF MACHINE': 'Tools, Machinery, and Objects',\n",
    "    'MACHINE OR MACHINERY': 'Tools, Machinery, and Objects',\n",
    "    'MOVING PART OF MACHINE': 'Tools, Machinery, and Objects',\n",
    "    'OBJECT HANDLED BY OTHERS': 'Tools, Machinery, and Objects',\n",
    "    'BROKEN GLASS': 'Tools, Machinery, and Objects',\n",
    "    \n",
    "    # Explosions and Fire\n",
    "    'FIRE OR FLAME': 'Explosions and Fire',\n",
    "    'EXPLOSION OR FLARE BACK': 'Explosions and Fire',\n",
    "    \n",
    "    # Natural Disasters and Uncommon Events\n",
    "    'NATURAL DISASTERS': 'Natural Disasters and Uncommon Events',\n",
    "    'TERRORISM': 'Natural Disasters and Uncommon Events',\n",
    "    'PANDEMIC': 'Natural Disasters and Uncommon Events',\n",
    "}"
   ]
  },
  {
   "cell_type": "code",
   "execution_count": 341,
   "metadata": {},
   "outputs": [],
   "source": [
    "# Apply mapping to X_train\n",
    "X_train['Cause Injury Category'] = X_train['WCIO Cause of Injury Description'].map(injury_mapping).fillna('Other')\n",
    "\n",
    "# Apply mapping to X_val\n",
    "X_val['Cause Injury Category'] = X_val['WCIO Cause of Injury Description'].map(injury_mapping).fillna('Other')\n",
    "\n",
    "X_test['Cause Injury Category'] = X_test['WCIO Cause of Injury Description'].map(injury_mapping).fillna('Other')\n",
    "\n",
    "# Apply mapping to test_df\n",
    "test_df['Cause Injury Category'] = test_df['WCIO Cause of Injury Description'].map(injury_mapping).fillna('Other')\n"
   ]
  },
  {
   "cell_type": "markdown",
   "metadata": {},
   "source": [
    "__WCIO Nature of Injury Description__"
   ]
  },
  {
   "cell_type": "code",
   "execution_count": 342,
   "metadata": {},
   "outputs": [],
   "source": [
    "# Mapping dictionary\n",
    "injury_nature_mapping = {\n",
    "    # Physical Trauma\n",
    "    'CONTUSION': 'Physical Trauma',\n",
    "    'SPRAIN OR TEAR': 'Physical Trauma',\n",
    "    'CONCUSSION': 'Physical Trauma',\n",
    "    'PUNCTURE': 'Physical Trauma',\n",
    "    'LACERATION': 'Physical Trauma',\n",
    "    'FRACTURE': 'Physical Trauma',\n",
    "    'CRUSHING': 'Physical Trauma',\n",
    "    'DISLOCATION': 'Physical Trauma',\n",
    "    'AMPUTATION': 'Physical Trauma',\n",
    "    'SEVERANCE': 'Physical Trauma',\n",
    "    \n",
    "    # Cumulative or Repetitive Injuries\n",
    "    'CARPAL TUNNEL SYNDROME': 'Cumulative or Repetitive Injuries',\n",
    "    'INFLAMMATION': 'Cumulative or Repetitive Injuries',\n",
    "    'ALL OTHER CUMULATIVE INJURY, NOC': 'Cumulative or Repetitive Injuries',\n",
    "    'ALL OTHER OCCUPATIONAL DISEASE INJURY, NOC': 'Cumulative or Repetitive Injuries',\n",
    "    'ALL OTHER SPECIFIC INJURIES, NOC': 'Cumulative or Repetitive Injuries',\n",
    "    \n",
    "    # Burns and Temperature-Related Injuries\n",
    "    'BURN': 'Burns and Temperature-Related Injuries',\n",
    "    'HEAT PROSTRATION': 'Burns and Temperature-Related Injuries',\n",
    "    'FREEZING': 'Burns and Temperature-Related Injuries',\n",
    "    \n",
    "    # Respiratory Issues\n",
    "    'RESPIRATORY DISORDERS': 'Respiratory Issues',\n",
    "    'ASBESTOSIS': 'Respiratory Issues',\n",
    "    'DUST DISEASE, NOC': 'Respiratory Issues',\n",
    "    'BLACK LUNG': 'Respiratory Issues',\n",
    "    'SILICOSIS': 'Respiratory Issues',\n",
    "    'BYSSINOSIS': 'Respiratory Issues',\n",
    "    \n",
    "    # Poisoning and Chemical Exposure\n",
    "    'POISONING - GENERAL (NOT OD OR CUMULATIVE': 'Poisoning and Chemical Exposure',\n",
    "    'POISONING - CHEMICAL, (OTHER THAN METALS)': 'Poisoning and Chemical Exposure',\n",
    "    'POISONING - METAL': 'Poisoning and Chemical Exposure',\n",
    "    \n",
    "    # Infections and Diseases\n",
    "    'INFECTION': 'Infections and Diseases',\n",
    "    'COVID-19': 'Infections and Diseases',\n",
    "    'CONTAGIOUS DISEASE': 'Infections and Diseases',\n",
    "    'AIDS': 'Infections and Diseases',\n",
    "    'HEPATITIS C': 'Infections and Diseases',\n",
    "    'CANCER': 'Infections and Diseases',\n",
    "    \n",
    "    # Psychological and Mental Health\n",
    "    'MENTAL STRESS': 'Psychological and Mental Health',\n",
    "    'MENTAL DISORDER': 'Psychological and Mental Health',\n",
    "    'NO PHYSICAL INJURY': 'Psychological and Mental Health',\n",
    "    'MULTIPLE INJURIES INCLUDING BOTH PHYSICAL AND PSYCHOLOGICAL': 'Psychological and Mental Health',\n",
    "    \n",
    "    # Circulatory and Heart-Related Issues\n",
    "    'MYOCARDIAL INFARCTION': 'Circulatory and Heart-Related Issues',\n",
    "    'ANGINA PECTORIS': 'Circulatory and Heart-Related Issues',\n",
    "    'VASCULAR': 'Circulatory and Heart-Related Issues',\n",
    "    \n",
    "    # Sensory Loss\n",
    "    'LOSS OF HEARING': 'Sensory Loss',\n",
    "    'HEARING LOSS OR IMPAIRMENT': 'Sensory Loss',\n",
    "    'VISION LOSS': 'Sensory Loss',\n",
    "    'ENUCLEATION': 'Sensory Loss',\n",
    "    \n",
    "    # Radiation and Light Exposure\n",
    "    'RADIATION': 'Radiation and Light Exposure',\n",
    "    'VDT - RELATED DISEASES': 'Radiation and Light Exposure',\n",
    "    \n",
    "    # Miscellaneous (catch-all for remaining cases)\n",
    "    'ASPHYXIATION': 'Miscellaneous Conditions',\n",
    "    'SYNCOPE': 'Miscellaneous Conditions',\n",
    "    'DERMATITIS': 'Miscellaneous Conditions',\n",
    "    'ADVERSE REACTION TO A VACCINATION OR INOCULATION': 'Miscellaneous Conditions'\n",
    "}"
   ]
  },
  {
   "cell_type": "code",
   "execution_count": 343,
   "metadata": {},
   "outputs": [],
   "source": [
    "# Apply mapping to X_train\n",
    "X_train['Nature of Injury Category'] = X_train['WCIO Nature of Injury Description'].map(injury_nature_mapping).fillna('Other')\n",
    "\n",
    "# Apply mapping to X_val\n",
    "X_val['Nature of Injury Category'] = X_val['WCIO Nature of Injury Description'].map(injury_nature_mapping).fillna('Other')\n",
    "\n",
    "X_test['Nature of Injury Category'] = X_test['WCIO Cause of Injury Description'].map(injury_nature_mapping).fillna('Other')\n",
    "\n",
    "# Apply mapping to test_df\n",
    "test_df['Nature of Injury Category'] = test_df['WCIO Nature of Injury Description'].map(injury_nature_mapping).fillna('Other')"
   ]
  },
  {
   "cell_type": "markdown",
   "metadata": {},
   "source": [
    "__WCIO Part of Body Description__"
   ]
  },
  {
   "cell_type": "code",
   "execution_count": 344,
   "metadata": {},
   "outputs": [],
   "source": [
    "# Mapping dictionary\n",
    "body_part_mapping = {\n",
    "    # Head and Face\n",
    "    'SKULL': 'Head and Face', 'FACIAL BONES': 'Head and Face', 'EYE(S)': 'Head and Face',\n",
    "    'MOUTH': 'Head and Face', 'NOSE': 'Head and Face', 'EAR(S)': 'Head and Face', \n",
    "    'BRAIN': 'Head and Face', 'TEETH': 'Head and Face',\n",
    "\n",
    "    # Neck and Throat\n",
    "    'MULTIPLE NECK INJURY': 'Neck and Throat', 'LARYNX': 'Neck and Throat', 'TRACHEA': 'Neck and Throat',\n",
    "\n",
    "    # Upper and Lower Back\n",
    "    'UPPER BACK AREA': 'Upper Back',\n",
    "    'LOWER BACK AREA': 'Lower Back', 'LUMBAR & OR SACRAL VERTEBRAE (VERTEBRA': 'Lower Back',\n",
    "    'SACRUM AND COCCYX': 'Lower Back',\n",
    "\n",
    "    # Spinal Column\n",
    "    'SPINAL CORD': 'Spinal Column', 'VERTEBRAE': 'Spinal Column',\n",
    "\n",
    "    # Shoulder\n",
    "    'SHOULDER(S)': 'Shoulder', \n",
    "\n",
    "    # Arm and Wrist\n",
    "    'LOWER ARM': 'Arm and Wrist', 'UPPER ARM': 'Arm and Wrist', 'WRIST': 'Arm and Wrist',\n",
    "\n",
    "    # Hand and Fingers\n",
    "    'HAND': 'Hand and Fingers', 'FINGER(S)': 'Hand and Fingers', 'THUMB': 'Hand and Fingers',\n",
    "\n",
    "    # Hip\n",
    "    'HIP': 'Hip', \n",
    "\n",
    "    # Leg\n",
    "    'LOWER LEG': 'Leg', 'UPPER LEG': 'Leg',\n",
    "\n",
    "    # Knee\n",
    "    'KNEE': 'Knee',\n",
    "\n",
    "    # Ankle and Foot\n",
    "    'ANKLE': 'Ankle and Foot', 'FOOT': 'Ankle and Foot', 'TOES': 'Ankle and Foot', 'GREAT TOE': 'Ankle and Foot',\n",
    "\n",
    "    # Chest\n",
    "    'CHEST': 'Chest',\n",
    "\n",
    "    # Abdomen and Pelvis\n",
    "    'ABDOMEN INCLUDING GROIN': 'Abdomen and Pelvis', 'PELVIS': 'Abdomen and Pelvis', 'BUTTOCKS': 'Abdomen and Pelvis',\n",
    "\n",
    "    # Lungs\n",
    "    'LUNGS': 'Lungs',\n",
    "\n",
    "    # Heart\n",
    "    'HEART': 'Heart',\n",
    "\n",
    "    # Internal Organs\n",
    "    'INTERNAL ORGANS': 'Internal Organs',\n",
    "\n",
    "    # Body Systems\n",
    "    'BODY SYSTEMS AND MULTIPLE BODY SYSTEMS': 'Body Systems', \n",
    "    'WHOLE BODY': 'Body Systems', 'MULTIPLE BODY PARTS (INCLUDING BODY': 'Body Systems',\n",
    "    'ARTIFICIAL APPLIANCE': 'Body Systems',\n",
    "\n",
    "    # Soft Tissue\n",
    "    'SOFT TISSUE': 'Soft Tissue',\n",
    "\n",
    "    # Unclassified or Insufficient Info\n",
    "    'NO PHYSICAL INJURY': 'Unclassified or Insufficient Info',\n",
    "    'INSUFFICIENT INFO TO PROPERLY IDENTIFY - UNCLASSIFIED': 'Unclassified or Insufficient Info'\n",
    "}"
   ]
  },
  {
   "cell_type": "code",
   "execution_count": 345,
   "metadata": {},
   "outputs": [],
   "source": [
    "# Apply mapping to X_train\n",
    "X_train['Body Part Category'] = X_train['WCIO Part Of Body Description'].map(body_part_mapping).fillna('Other')\n",
    "\n",
    "# Apply mapping to X_val\n",
    "X_val['Body Part Category'] = X_val['WCIO Part Of Body Description'].map(body_part_mapping).fillna('Other')\n",
    "\n",
    "X_test['Body Part Category'] = X_test['WCIO Part Of Body Description'].map(body_part_mapping).fillna('Other')\n",
    "\n",
    "\n",
    "# Apply mapping to X_test\n",
    "test_df['Body Part Category'] = test_df['WCIO Part Of Body Description'].map(body_part_mapping).fillna('Other')"
   ]
  },
  {
   "cell_type": "markdown",
   "metadata": {},
   "source": [
    "## 2.3.4 Mapping for Gender"
   ]
  },
  {
   "cell_type": "code",
   "execution_count": 346,
   "metadata": {},
   "outputs": [
    {
     "name": "stdout",
     "output_type": "stream",
     "text": [
      "\n",
      "X_train - Gender Distribution:\n",
      "Gender\n",
      "M        214771\n",
      "F        149526\n",
      "Other      3079\n",
      "Name: count, dtype: int64\n",
      "\n",
      "X_val - Gender Distribution:\n",
      "Gender\n",
      "M        53490\n",
      "F        37590\n",
      "Other      764\n",
      "Name: count, dtype: int64\n",
      "\n",
      "X_test - Gender Distribution:\n",
      "Gender\n",
      "M        66957\n",
      "F        46935\n",
      "Other      914\n",
      "Name: count, dtype: int64\n",
      "\n",
      "test_df - Gender Distribution:\n",
      "Gender\n",
      "M        215343\n",
      "F        167019\n",
      "Other      5613\n",
      "Name: count, dtype: int64\n"
     ]
    }
   ],
   "source": [
    "# Replace 'U' and 'X' with 'Other' in the Gender column for all datasets\n",
    "for dataset, name in zip([X_train, X_val, X_test, test_df], ['X_train', 'X_val', 'X_test', 'test_df']):\n",
    "    dataset['Gender'] = dataset['Gender'].replace({'U': 'Other', 'X': 'Other'})\n",
    "    # Verify the change by printing value counts\n",
    "    print(f\"\\n{name} - Gender Distribution:\")\n",
    "    print(dataset['Gender'].value_counts())"
   ]
  },
  {
   "cell_type": "markdown",
   "metadata": {},
   "source": [
    "## 2.4. Feature Engineering"
   ]
  },
  {
   "cell_type": "markdown",
   "metadata": {},
   "source": [
    "## 2.4.1 Binning Age - Age Category"
   ]
  },
  {
   "cell_type": "code",
   "execution_count": 347,
   "metadata": {},
   "outputs": [],
   "source": [
    "# As we are creating Age Category from Age at Injury which is the relevant variable , we can drop the 'Date of Birth' column from all datasets\n",
    "\n",
    "X_train.drop(columns=['Birth Year'], inplace=True)\n",
    "X_val.drop(columns=['Birth Year'], inplace=True)\n",
    "X_test.drop(columns=['Birth Year'], inplace=True)\n",
    "\n",
    "test_df.drop(columns=['Birth Year'], inplace=True)"
   ]
  },
  {
   "cell_type": "code",
   "execution_count": 348,
   "metadata": {},
   "outputs": [
    {
     "name": "stdout",
     "output_type": "stream",
     "text": [
      "\n",
      "X_train - Age_Group Distribution:\n",
      "Age_Group\n",
      "30-39           84155\n",
      "50-59           82582\n",
      "40-49           74778\n",
      "20-29           70560\n",
      "60 and above    44313\n",
      "Under 20         7476\n",
      "Name: count, dtype: int64\n",
      "\n",
      "X_val - Age_Group Distribution:\n",
      "Age_Group\n",
      "30-39           21213\n",
      "50-59           20636\n",
      "40-49           18769\n",
      "20-29           17631\n",
      "60 and above    10890\n",
      "Under 20         1839\n",
      "Name: count, dtype: int64\n",
      "\n",
      "X_test - Age_Group Distribution:\n",
      "Age_Group\n",
      "30-39           26344\n",
      "50-59           25965\n",
      "40-49           23411\n",
      "20-29           21696\n",
      "60 and above    13963\n",
      "Under 20         2341\n",
      "Name: count, dtype: int64\n",
      "\n",
      "test_df - Age_Group Distribution:\n",
      "Age_Group\n",
      "30-39           91558\n",
      "20-29           83431\n",
      "50-59           77711\n",
      "40-49           76344\n",
      "60 and above    47424\n",
      "Under 20         8259\n",
      "Name: count, dtype: int64\n"
     ]
    }
   ],
   "source": [
    "# Define age bins and labels\n",
    "age_bins = [0, 19, 29, 39, 49, 59, float('inf')]\n",
    "age_labels = ['Under 20', '20-29', '30-39', '40-49', '50-59', '60 and above']\n",
    "\n",
    "# Apply age group binning to all datasets\n",
    "for dataset, name in zip([X_train, X_val, X_test, test_df], ['X_train', 'X_val', 'X_test', 'test_df']):\n",
    "    # Create the age groups\n",
    "    dataset['Age_Group'] = pd.cut(dataset['Age at Injury'], bins=age_bins, labels=age_labels)\n",
    "\n",
    "    # Print distribution for verification\n",
    "    print(f\"\\n{name} - Age_Group Distribution:\")\n",
    "    print(dataset['Age_Group'].value_counts())\n"
   ]
  },
  {
   "cell_type": "markdown",
   "metadata": {},
   "source": [
    "## 2.4.2 Binning Wage - Wage Category"
   ]
  },
  {
   "cell_type": "code",
   "execution_count": 349,
   "metadata": {},
   "outputs": [
    {
     "name": "stdout",
     "output_type": "stream",
     "text": [
      "\n",
      "X_train - Wage_Group Distribution:\n",
      "Wage_Group\n",
      "Zero             214763\n",
      "High              37467\n",
      "Average           36066\n",
      "Below Average     33588\n",
      "Above Average     27188\n",
      "Name: count, dtype: int64\n",
      "\n",
      "X_val - Wage_Group Distribution:\n",
      "Wage_Group\n",
      "Zero             53622\n",
      "High              9330\n",
      "Average           9142\n",
      "Below Average     8312\n",
      "Above Average     6754\n",
      "Name: count, dtype: int64\n",
      "\n",
      "X_test - Wage_Group Distribution:\n",
      "Wage_Group\n",
      "Zero             67065\n",
      "High             11882\n",
      "Average          11219\n",
      "Below Average    10553\n",
      "Above Average     8424\n",
      "Name: count, dtype: int64\n",
      "\n",
      "test_df - Wage_Group Distribution:\n",
      "Wage_Group\n",
      "Zero             316549\n",
      "Average           15087\n",
      "High              14428\n",
      "Below Average     12565\n",
      "Above Average     10142\n",
      "Name: count, dtype: int64\n"
     ]
    }
   ],
   "source": [
    "# Define wage bins and labels\n",
    "wage_bins = [-np.inf, 1, 700, 1100, 1500, float('inf')]\n",
    "wage_labels = ['Zero', 'Below Average', 'Average', 'Above Average', 'High']\n",
    "\n",
    "# Apply wage group binning to all datasets\n",
    "for dataset, name in zip([X_train, X_val, X_test, test_df], ['X_train', 'X_val', 'X_test', 'test_df']):    # Create the wage groups\n",
    "    dataset['Wage_Group'] = pd.cut(dataset['Average Weekly Wage'], bins=wage_bins, labels=wage_labels)\n",
    "\n",
    "    # Print distribution for verification\n",
    "    print(f\"\\n{name} - Wage_Group Distribution:\")\n",
    "    print(dataset['Wage_Group'].value_counts())"
   ]
  },
  {
   "cell_type": "markdown",
   "metadata": {},
   "source": [
    "## 2.4.3 Grouping Carrier Name "
   ]
  },
  {
   "cell_type": "code",
   "execution_count": 350,
   "metadata": {},
   "outputs": [
    {
     "data": {
      "text/plain": [
       "Carrier Name\n",
       "STATE INSURANCE FUND              71061\n",
       "POLICE, FIRE, SANITATION          13937\n",
       "AMERICAN ZURICH INSURANCE CO      11251\n",
       "CHARTER OAK FIRE INS CO           11081\n",
       "INDEMNITY INS. OF N AMERICA        9151\n",
       "                                  ...  \n",
       "AIG PROPERTY CASUALTY CO.             1\n",
       "ENTERGY NUCLEAR OPERATIONS, IN        1\n",
       "CHERRY VALLEY SPRINGFIELD             1\n",
       "NYS WCB (LIABLE CARRIER IS 06)        1\n",
       "WEST BEND MUTUAL INSURANCE            1\n",
       "Name: count, Length: 1951, dtype: int64"
      ]
     },
     "execution_count": 350,
     "metadata": {},
     "output_type": "execute_result"
    }
   ],
   "source": [
    "# Step 1 - Count carrier occurrences in X_train\n",
    "carrier_counts = X_train['Carrier Name'].value_counts()\n",
    "carrier_counts"
   ]
  },
  {
   "cell_type": "code",
   "execution_count": 351,
   "metadata": {},
   "outputs": [],
   "source": [
    "# Step 2 -Define the threshold\n",
    "threshold = 5000\n",
    "\n",
    "# Step 3 - Group carriers in X_train based on the threshold\n",
    "X_train['Carrier Name Grouped'] = X_train['Carrier Name'].apply(\n",
    "    lambda x: x if carrier_counts.get(x, 0) > threshold else 'Other'\n",
    ")"
   ]
  },
  {
   "cell_type": "code",
   "execution_count": 352,
   "metadata": {},
   "outputs": [],
   "source": [
    "# Step 4: Apply the same grouping logic to X_val and test_df\n",
    "def group_carrier_name(carrier_name):\n",
    "    # Use the mapping logic derived from X_train\n",
    "    return carrier_name if carrier_counts.get(carrier_name, 0) > threshold else 'Other'\n",
    "\n",
    "# Step 5 - Apply the function to X_val and test_df\n",
    "X_val['Carrier Name Grouped'] = X_val['Carrier Name'].apply(group_carrier_name)\n",
    "X_test['Carrier Name Grouped'] = X_test['Carrier Name'].apply(group_carrier_name)\n",
    "test_df['Carrier Name Grouped'] = test_df['Carrier Name'].apply(group_carrier_name)"
   ]
  },
  {
   "cell_type": "markdown",
   "metadata": {},
   "source": [
    "## 2.4.4 Convert Date Formats into Numerical Features / Create new Date Features"
   ]
  },
  {
   "cell_type": "markdown",
   "metadata": {},
   "source": [
    "Since we can't use the date variables for the models, we want to extract all the information they contain. Some variables might be exaclty the same \"Accident_Year\" and \"Assembly_Year\". However, we will calaculate all of them and exclude irrelevant ones in the feature selection part.\n",
    "\n",
    "- __Lag_Time__: Difference in days between accident date and assembly date\n",
    "- __Accident_to_C2_Lag__: Difference in days between accident date and C-2 date\n",
    "- __Accident_Year__: Extract the year from Accident Date\n",
    "- __Accident_Month__: Extract the month from Accident Date\n",
    "- __Accident_Month_Sin__: Sine of the month from Accident Date; this transformation is used to represent the cyclic nature of months (ensures that December (month 12) is closer to January (month 1) in feature space)\n",
    "- __Accident_Month_Cos__: Cosine of the month from Accident Date; this transformation is used to represent the cyclic nature of months (ensures that December (month 12) is closer to January (month 1) in feature space)\n",
    "- __Accident_Day__: Extract the day from Accident Date\n",
    "- __Reference_Days_Accident__: Starting with the first accident day and counting onwards to get a numerical order of the dates\n",
    "- __Assembly_Year__: Extract the year from Assembly Date\n",
    "- __Assembly_Month__: Extract the month from Assembly Date\n",
    "- __Assembly_Month_Sin__: Sine of the month from Assembly Date; this transformation is used to represent the cyclic nature of months (ensures that December (month 12) is closer to January (month 1) in feature space)\n",
    "- __Assembly_Month_Cos__: Cosine of the month from Assembly Date; this transformation is used to represent the cyclic nature of months (ensures that December (month 12) is closer to January (month 1) in feature space)\n",
    "- __Assembly_Day__: Extract the day from Assembly Date\n",
    "- __Reference_Days_Assembly__: Starting with the first assembly day and counting onwards to get a numerical order of the dates\n",
    "- __C-2_Year__: Extract the year from C-2 Date\n",
    "- __C-2_Month__: Extract the month from C-2 Date\n",
    "- __C-2_Month_Sin__: Sine of the month from C-2 Date; this transformation is used to represent the cyclic nature of months (ensures that December (month 12) is closer to January (month 1) in feature space)\n",
    "- __C-2_Month_Cos__: Cosine of the month from C-2 Date; this transformation is used to represent the cyclic nature of months (ensures that December (month 12) is closer to January (month 1) in feature space)\n",
    "- __C-2_Day__: Extract the day from C-2 Date\n",
    "- __Reference_Days_C-2__: Starting with the first C-2 day and counting onwards to get a numerical order of the dates"
   ]
  },
  {
   "cell_type": "code",
   "execution_count": 353,
   "metadata": {},
   "outputs": [],
   "source": [
    "# Convert date columns to datetime format\n",
    "date_cols = ['Accident Date', 'Assembly Date', 'C-2 Date']\n",
    "for col in date_cols:\n",
    "    X_train[col] = pd.to_datetime(X_train[col], errors='coerce')\n",
    "    X_val[col] = pd.to_datetime(X_val[col], errors='coerce')\n",
    "    X_test[col] = pd.to_datetime(X_test[col], errors='coerce')\n",
    "    test_df[col] = pd.to_datetime(test_df[col], errors='coerce')\n",
    "\n",
    "# Get the minimum Accident Date from X_train\n",
    "min_accident_date = X_train['Accident Date'].min()\n",
    "\n",
    "# Create new features for X_train\n",
    "X_train['Lag_Time'] = (X_train['Assembly Date'] - min_accident_date).dt.days\n",
    "X_train['Accident_to_C2_Lag'] = (X_train['C-2 Date'] - min_accident_date).dt.days\n",
    "\n",
    "# Create new features for X_val using the same minimum date from X_train\n",
    "X_val['Lag_Time'] = (X_val['Assembly Date'] - min_accident_date).dt.days\n",
    "X_val['Accident_to_C2_Lag'] = (X_val['C-2 Date'] - min_accident_date).dt.days\n",
    "\n",
    "\n",
    "# Create new features for X_test using the same minimum date from X_train\n",
    "X_test['Lag_Time'] = (X_test['Assembly Date'] - min_accident_date).dt.days\n",
    "X_test['Accident_to_C2_Lag'] = (X_test['C-2 Date'] - min_accident_date).dt.days\n",
    "\n",
    "\n",
    "# Create new features for test_df using the same minimum date from X_train\n",
    "test_df['Lag_Time'] = (test_df['Assembly Date'] - min_accident_date).dt.days\n",
    "test_df['Accident_to_C2_Lag'] = (test_df['C-2 Date'] - min_accident_date).dt.days\n",
    "\n"
   ]
  },
  {
   "cell_type": "code",
   "execution_count": 354,
   "metadata": {},
   "outputs": [],
   "source": [
    "# Extract specific components of each date for X_train, X_val, and test_df\n",
    "for col in date_cols:\n",
    "    # X_train transformations\n",
    "    X_train[f'{col}_Year'] = X_train[col].dt.year\n",
    "    X_train[f'{col}_Month'] = X_train[col].dt.month\n",
    "    X_train[f'{col}_Day'] = X_train[col].dt.dayofweek\n",
    "    \n",
    "    # X_val transformations\n",
    "    X_val[f'{col}_Year'] = X_val[col].dt.year\n",
    "    X_val[f'{col}_Month'] = X_val[col].dt.month\n",
    "    X_val[f'{col}_Day'] = X_val[col].dt.dayofweek\n",
    "\n",
    "      # X_test transformations\n",
    "    X_test[f'{col}_Year'] = X_test[col].dt.year\n",
    "    X_test[f'{col}_Month'] = X_test[col].dt.month\n",
    "    X_test[f'{col}_Day'] = X_test[col].dt.dayofweek\n",
    "    \n",
    "    # test_df transformations\n",
    "    test_df[f'{col}_Year'] = test_df[col].dt.year\n",
    "    test_df[f'{col}_Month'] = test_df[col].dt.month\n",
    "    test_df[f'{col}_Day'] = test_df[col].dt.dayofweek"
   ]
  },
  {
   "cell_type": "code",
   "execution_count": 355,
   "metadata": {},
   "outputs": [],
   "source": [
    "# Accident Date transformations\n",
    "for dataset in [X_train, X_val, X_test, test_df]:\n",
    "    dataset['Accident_Year'] = dataset['Accident Date_Year']\n",
    "    dataset['Accident_Month'] = dataset['Accident Date_Month']\n",
    "    dataset['Accident_Month_Sin'] = np.sin(2 * np.pi * dataset['Accident_Month'] / 12)\n",
    "    dataset['Accident_Month_Cos'] = np.cos(2 * np.pi * dataset['Accident_Month'] / 12)\n",
    "    dataset['Accident_Day'] = dataset['Accident Date_Day']\n",
    "\n",
    "# Assembly Date transformations\n",
    "for dataset in [X_train, X_val,X_test, test_df]:\n",
    "    dataset['Assembly_Year'] = dataset['Assembly Date_Year']\n",
    "    dataset['Assembly_Month'] = dataset['Assembly Date_Month']\n",
    "    dataset['Assembly_Month_Sin'] = np.sin(2 * np.pi * dataset['Assembly_Month'] / 12)\n",
    "    dataset['Assembly_Month_Cos'] = np.cos(2 * np.pi * dataset['Assembly_Month'] / 12)\n",
    "    dataset['Assembly_Day'] = dataset['Assembly Date_Day']\n",
    "\n",
    "# C-2 Date transformations\n",
    "for dataset in [X_train, X_val, X_test, test_df]:\n",
    "    dataset['C-2_Year'] = dataset['C-2 Date_Year']\n",
    "    dataset['C-2_Month'] = dataset['C-2 Date_Month']\n",
    "    dataset['C-2_Month_Sin'] = np.sin(2 * np.pi * dataset['C-2_Month'] / 12)\n",
    "    dataset['C-2_Month_Cos'] = np.cos(2 * np.pi * dataset['C-2_Month'] / 12)\n",
    "    dataset['C-2_Day'] = dataset['C-2 Date_Day']\n"
   ]
  },
  {
   "cell_type": "code",
   "execution_count": 356,
   "metadata": {},
   "outputs": [],
   "source": [
    "# Drop the original date columns\n",
    "X_train.drop(columns=date_cols, inplace=True)\n",
    "X_val.drop(columns=date_cols, inplace=True)\n",
    "X_test.drop(columns=date_cols, inplace=True)\n"
   ]
  },
  {
   "cell_type": "code",
   "execution_count": 357,
   "metadata": {},
   "outputs": [],
   "source": [
    "test_df.drop(columns=date_cols, inplace=True)"
   ]
  },
  {
   "cell_type": "code",
   "execution_count": 358,
   "metadata": {},
   "outputs": [
    {
     "data": {
      "text/plain": [
       "((367376, 49), (91844, 49), (114806, 49), (387975, 49))"
      ]
     },
     "execution_count": 358,
     "metadata": {},
     "output_type": "execute_result"
    }
   ],
   "source": [
    "# All the datasets until now have the same number of columns so the preprocessing (until now) is done correctly\n",
    "X_train.shape, X_val.shape, X_test.shape, test_df.shape"
   ]
  },
  {
   "cell_type": "markdown",
   "metadata": {},
   "source": [
    "## 2.4.5 - Checking Outliers for New Features Created"
   ]
  },
  {
   "cell_type": "code",
   "execution_count": 359,
   "metadata": {},
   "outputs": [
    {
     "name": "stdout",
     "output_type": "stream",
     "text": [
      "Number of Accident Year outliers in X_train_filtered: 736\n",
      "Number of Month outliers in X_train_filtered: 0\n",
      "Number of Day outliers in X_train_filtered: 0\n"
     ]
    }
   ],
   "source": [
    "# Check for years outside the valid range\n",
    "year_outliers = X_train[(X_train['Accident_Year'] < 2000) | \n",
    "                                 (X_train['Accident_Year'] > 2022) |\n",
    "                                 (X_train['Assembly_Year'] < 2020) |\n",
    "                                 (X_train['Assembly_Year'] > 2022) |\n",
    "                                 (X_train['C-2_Year'] > 2023)]\n",
    "\n",
    "# Print the length of the year outliers\n",
    "print(f\"Number of Accident Year outliers in X_train_filtered: {len(year_outliers)}\")\n",
    "\n",
    "# Check for months outside the valid range (1 to 12)\n",
    "month_outliers = X_train[(X_train['Accident_Month'] < 1) | \n",
    "                                  (X_train['Accident_Month'] > 12) |\n",
    "                                  (X_train['Assembly_Month'] < 1) |\n",
    "                                  (X_train['Assembly_Month'] > 12) |\n",
    "                                  (X_train['C-2_Month'] < 1) |\n",
    "                                  (X_train['C-2_Month'] > 12)]\n",
    "\n",
    "\n",
    "# Print the length of the month outliers\n",
    "print(f\"Number of Month outliers in X_train_filtered: {len(month_outliers)}\")\n",
    "\n",
    "\n",
    "# Check for days outside the valid range (0 to 6 for days of the week)\n",
    "day_outliers = X_train[(X_train['Accident_Day'] < 0) | \n",
    "                                (X_train['Accident_Day'] > 6) |\n",
    "                                (X_train['Assembly_Day'] < 0) |\n",
    "                                (X_train['Assembly_Day'] > 6) |\n",
    "                                (X_train['C-2_Day'] < 0) |\n",
    "                                (X_train['C-2_Day'] > 6)]\n",
    "\n",
    "\n",
    "# Print the length of the day outliers\n",
    "print(f\"Number of Day outliers in X_train_filtered: {len(day_outliers)}\")"
   ]
  },
  {
   "cell_type": "markdown",
   "metadata": {},
   "source": [
    "## 2.4.6 - Treating Outliers for the New Features Created (Only on X_Train)"
   ]
  },
  {
   "cell_type": "markdown",
   "metadata": {},
   "source": [
    "Filtering logic:\n",
    "\n",
    "* For Accident Date:\n",
    "\n",
    "Keep only records with an Accident Year between 2000 and 2022.\n",
    "\n",
    "* For Assembly Date:\n",
    "\n",
    "Keep only records with an Assembly Year between 2020 and 2022.\n",
    "\n",
    "* For C-2 Date:\n",
    "\n",
    "Keep only records with a C-2 Year less than or equal to 2023 (since there's no lower bound specified)."
   ]
  },
  {
   "cell_type": "code",
   "execution_count": 360,
   "metadata": {},
   "outputs": [],
   "source": [
    "# Check for years outside the valid range and drop the rows\n",
    "X_train_filtered = X_train[\n",
    "    ~((X_train['Accident_Year'] < 2000) | \n",
    "      (X_train['Accident_Year'] > 2022) |\n",
    "      (X_train['Assembly_Year'] < 2020) |\n",
    "      (X_train['Assembly_Year'] > 2022) |\n",
    "      (X_train['C-2_Year'] > 2023))\n",
    "]\n",
    "\n",
    "# Check for months outside the valid range (1 to 12) and drop the rows\n",
    "X_train_filtered = X_train_filtered[\n",
    "    ~((X_train_filtered['Accident_Month'] < 1) | \n",
    "       (X_train_filtered['Accident_Month'] > 12) |\n",
    "       (X_train_filtered['Assembly_Month'] < 1) |\n",
    "       (X_train_filtered['Assembly_Month'] > 12) |\n",
    "       (X_train_filtered['C-2_Month'] < 1) |\n",
    "       (X_train_filtered['C-2_Month'] > 12))\n",
    "]\n",
    "\n",
    "# Check for days outside the valid range (0 to 6 for days of the week) and drop the rows\n",
    "X_train_filtered = X_train_filtered[\n",
    "    ~((X_train_filtered['Accident_Day'] < 0) | \n",
    "       (X_train_filtered['Accident_Day'] > 6) |\n",
    "       (X_train_filtered['Assembly_Day'] < 0) |\n",
    "       (X_train_filtered['Assembly_Day'] > 6) |\n",
    "       (X_train_filtered['C-2_Day'] < 0) |\n",
    "       (X_train_filtered['C-2_Day'] > 6))\n",
    "]"
   ]
  },
  {
   "cell_type": "code",
   "execution_count": 361,
   "metadata": {},
   "outputs": [
    {
     "name": "stdout",
     "output_type": "stream",
     "text": [
      "0.2003397064587742 % of the data was removed due to outlier date filtering.\n"
     ]
    }
   ],
   "source": [
    "print(f\"{(1 - len(X_train_filtered) / X_train.shape[0])*100} % of the data was removed due to outlier date filtering.\")"
   ]
  },
  {
   "cell_type": "markdown",
   "metadata": {},
   "source": [
    "# 2.5. Missing Values Handling (Imputation in X_train and then apply it to X_val and X_test)"
   ]
  },
  {
   "cell_type": "code",
   "execution_count": 362,
   "metadata": {},
   "outputs": [
    {
     "data": {
      "text/plain": [
       "Age at Injury                            0\n",
       "Attorney/Representative                  0\n",
       "Average Weekly Wage                  18304\n",
       "Carrier Name                             0\n",
       "Carrier Type                             0\n",
       "Claim Identifier                         0\n",
       "County of Injury                         0\n",
       "COVID-19 Indicator                       0\n",
       "District Name                            0\n",
       "Gender                                   0\n",
       "Industry Code Description             6373\n",
       "Medical Fee Region                       0\n",
       "WCIO Cause of Injury Description     10000\n",
       "WCIO Nature of Injury Description    10011\n",
       "WCIO Part Of Body Description        10903\n",
       "Zip Code                             18291\n",
       "Number of Dependents                     0\n",
       "Cause Injury Category                    0\n",
       "Nature of Injury Category                0\n",
       "Body Part Category                       0\n",
       "Age_Group                             3512\n",
       "Wage_Group                           18304\n",
       "Carrier Name Grouped                     0\n",
       "Lag_Time                                 0\n",
       "Accident_to_C2_Lag                    9283\n",
       "Accident Date_Year                    2365\n",
       "Accident Date_Month                   2365\n",
       "Accident Date_Day                     2365\n",
       "Assembly Date_Year                       0\n",
       "Assembly Date_Month                      0\n",
       "Assembly Date_Day                        0\n",
       "C-2 Date_Year                         9283\n",
       "C-2 Date_Month                        9283\n",
       "C-2 Date_Day                          9283\n",
       "Accident_Year                         2365\n",
       "Accident_Month                        2365\n",
       "Accident_Month_Sin                    2365\n",
       "Accident_Month_Cos                    2365\n",
       "Accident_Day                          2365\n",
       "Assembly_Year                            0\n",
       "Assembly_Month                           0\n",
       "Assembly_Month_Sin                       0\n",
       "Assembly_Month_Cos                       0\n",
       "Assembly_Day                             0\n",
       "C-2_Year                              9283\n",
       "C-2_Month                             9283\n",
       "C-2_Month_Sin                         9283\n",
       "C-2_Month_Cos                         9283\n",
       "C-2_Day                               9283\n",
       "dtype: int64"
      ]
     },
     "execution_count": 362,
     "metadata": {},
     "output_type": "execute_result"
    }
   ],
   "source": [
    "X_train.isnull().sum()"
   ]
  },
  {
   "cell_type": "markdown",
   "metadata": {},
   "source": [
    "# 2.5.1 Handling NaNs for numerical features training set"
   ]
  },
  {
   "cell_type": "code",
   "execution_count": 363,
   "metadata": {},
   "outputs": [
    {
     "data": {
      "text/plain": [
       "['Age at Injury',\n",
       " 'Average Weekly Wage',\n",
       " 'Claim Identifier',\n",
       " 'Number of Dependents',\n",
       " 'Lag_Time',\n",
       " 'Accident_to_C2_Lag',\n",
       " 'Accident Date_Year',\n",
       " 'Accident Date_Month',\n",
       " 'Accident Date_Day',\n",
       " 'Assembly Date_Year',\n",
       " 'Assembly Date_Month',\n",
       " 'Assembly Date_Day',\n",
       " 'C-2 Date_Year',\n",
       " 'C-2 Date_Month',\n",
       " 'C-2 Date_Day',\n",
       " 'Accident_Year',\n",
       " 'Accident_Month',\n",
       " 'Accident_Month_Sin',\n",
       " 'Accident_Month_Cos',\n",
       " 'Accident_Day',\n",
       " 'Assembly_Year',\n",
       " 'Assembly_Month',\n",
       " 'Assembly_Month_Sin',\n",
       " 'Assembly_Month_Cos',\n",
       " 'Assembly_Day',\n",
       " 'C-2_Year',\n",
       " 'C-2_Month',\n",
       " 'C-2_Month_Sin',\n",
       " 'C-2_Month_Cos',\n",
       " 'C-2_Day']"
      ]
     },
     "execution_count": 363,
     "metadata": {},
     "output_type": "execute_result"
    }
   ],
   "source": [
    "numerical_cols = X_train_filtered.select_dtypes(include=np.number).columns.tolist()\n",
    "numerical_cols"
   ]
  },
  {
   "cell_type": "markdown",
   "metadata": {},
   "source": [
    "# 2.5.2 Median Imputation"
   ]
  },
  {
   "cell_type": "code",
   "execution_count": 364,
   "metadata": {},
   "outputs": [
    {
     "data": {
      "text/plain": [
       "Age at Injury               0\n",
       "Average Weekly Wage     18304\n",
       "Claim Identifier            0\n",
       "Number of Dependents        0\n",
       "Lag_Time                    0\n",
       "Accident_to_C2_Lag       9283\n",
       "Accident Date_Year       2365\n",
       "Accident Date_Month      2365\n",
       "Accident Date_Day        2365\n",
       "Assembly Date_Year          0\n",
       "Assembly Date_Month         0\n",
       "Assembly Date_Day           0\n",
       "C-2 Date_Year            9283\n",
       "C-2 Date_Month           9283\n",
       "C-2 Date_Day             9283\n",
       "Accident_Year            2365\n",
       "Accident_Month           2365\n",
       "Accident_Month_Sin       2365\n",
       "Accident_Month_Cos       2365\n",
       "Accident_Day             2365\n",
       "Assembly_Year               0\n",
       "Assembly_Month              0\n",
       "Assembly_Month_Sin          0\n",
       "Assembly_Month_Cos          0\n",
       "Assembly_Day                0\n",
       "C-2_Year                 9283\n",
       "C-2_Month                9283\n",
       "C-2_Month_Sin            9283\n",
       "C-2_Month_Cos            9283\n",
       "C-2_Day                  9283\n",
       "dtype: int64"
      ]
     },
     "execution_count": 364,
     "metadata": {},
     "output_type": "execute_result"
    }
   ],
   "source": [
    "X_train[numerical_cols].isnull().sum()"
   ]
  },
  {
   "cell_type": "code",
   "execution_count": 365,
   "metadata": {},
   "outputs": [],
   "source": [
    "X_train_median = X_train_filtered.copy()"
   ]
  },
  {
   "cell_type": "code",
   "execution_count": 366,
   "metadata": {},
   "outputs": [],
   "source": [
    "X_val_median = X_val.copy()\n",
    "X_test_median = X_test.copy()\n",
    "test_df_median = test_df.copy()"
   ]
  },
  {
   "cell_type": "code",
   "execution_count": 367,
   "metadata": {},
   "outputs": [],
   "source": [
    "# Create the imputer for median imputation\n",
    "numerical_imputer = SimpleImputer(strategy='median')"
   ]
  },
  {
   "cell_type": "code",
   "execution_count": 368,
   "metadata": {},
   "outputs": [],
   "source": [
    "# Apply the imputer to X_train and fit it\n",
    "X_train_median[numerical_cols] = numerical_imputer.fit_transform(X_train_median[numerical_cols])"
   ]
  },
  {
   "cell_type": "code",
   "execution_count": 369,
   "metadata": {},
   "outputs": [],
   "source": [
    "# Apply the same transformation to X_val and X_test\n",
    "X_val_median[numerical_cols] = numerical_imputer.transform(X_val[numerical_cols])\n",
    "X_test_median[numerical_cols] = numerical_imputer.transform(X_test[numerical_cols])\n",
    "test_df_median[numerical_cols] = numerical_imputer.transform(test_df[numerical_cols])"
   ]
  },
  {
   "cell_type": "code",
   "execution_count": 370,
   "metadata": {},
   "outputs": [],
   "source": [
    "# Align y_train to X_train_median\n",
    "y_train_aligned_median = y_train.reindex(X_train_median.index)\n",
    "y_val_aligned_median = y_val.reindex(X_val_median.index)\n",
    "y_test_aligned_median = y_test.reindex(X_test_median.index)"
   ]
  },
  {
   "cell_type": "code",
   "execution_count": 371,
   "metadata": {},
   "outputs": [
    {
     "name": "stdout",
     "output_type": "stream",
     "text": [
      "Missing rows in y_train_aligned: 0\n"
     ]
    }
   ],
   "source": [
    "# Check for missing rows after alignment\n",
    "print(\"Missing rows in y_train_aligned:\", y_train_aligned_median.isna().sum())"
   ]
  },
  {
   "cell_type": "code",
   "execution_count": 372,
   "metadata": {},
   "outputs": [
    {
     "name": "stdout",
     "output_type": "stream",
     "text": [
      "X_train shape: (366640, 49)\n",
      "y_train shape: (366640,)\n",
      "Matching indices: True\n"
     ]
    }
   ],
   "source": [
    "print(\"X_train shape:\", X_train_median.shape)\n",
    "print(\"y_train shape:\", y_train_aligned_median.shape)\n",
    "print(\"Matching indices:\", X_train_median.index.equals(y_train_aligned_median.index))"
   ]
  },
  {
   "cell_type": "code",
   "execution_count": 373,
   "metadata": {},
   "outputs": [
    {
     "name": "stdout",
     "output_type": "stream",
     "text": [
      "Matching indices: True\n"
     ]
    }
   ],
   "source": [
    "print(\"Matching indices:\", X_val_median.index.equals(y_val_aligned_median.index))"
   ]
  },
  {
   "cell_type": "code",
   "execution_count": 374,
   "metadata": {},
   "outputs": [
    {
     "name": "stdout",
     "output_type": "stream",
     "text": [
      "Matching indices: True\n"
     ]
    }
   ],
   "source": [
    "print(\"Matching indices:\", X_test_median.index.equals(y_test_aligned_median.index))"
   ]
  },
  {
   "cell_type": "markdown",
   "metadata": {},
   "source": [
    "# 2.5.3 KNN Imputation"
   ]
  },
  {
   "cell_type": "code",
   "execution_count": 375,
   "metadata": {},
   "outputs": [
    {
     "data": {
      "text/plain": [
       "' X_train_knn = X_train_filtered.copy() '"
      ]
     },
     "execution_count": 375,
     "metadata": {},
     "output_type": "execute_result"
    }
   ],
   "source": [
    "\"\"\" X_train_knn = X_train_filtered.copy() \"\"\""
   ]
  },
  {
   "cell_type": "code",
   "execution_count": 376,
   "metadata": {},
   "outputs": [
    {
     "data": {
      "text/plain": [
       "' X_val_knn = X_val.copy()\\nX_test_knn = X_test.copy()\\ntest_df_knn = test_df.copy() '"
      ]
     },
     "execution_count": 376,
     "metadata": {},
     "output_type": "execute_result"
    }
   ],
   "source": [
    "\"\"\" X_val_knn = X_val.copy()\n",
    "X_test_knn = X_test.copy()\n",
    "test_df_knn = test_df.copy() \"\"\""
   ]
  },
  {
   "cell_type": "code",
   "execution_count": 377,
   "metadata": {},
   "outputs": [
    {
     "data": {
      "text/plain": [
       "' knn_imputer = KNNImputer(n_neighbors=5) '"
      ]
     },
     "execution_count": 377,
     "metadata": {},
     "output_type": "execute_result"
    }
   ],
   "source": [
    "\"\"\" knn_imputer = KNNImputer(n_neighbors=5) \"\"\""
   ]
  },
  {
   "cell_type": "code",
   "execution_count": 378,
   "metadata": {},
   "outputs": [
    {
     "data": {
      "text/plain": [
       "' # Apply the imputer to X_train and fit it\\nX_train_knn[numerical_cols] = knn_imputer.fit_transform(X_train_knn[numerical_cols]) '"
      ]
     },
     "execution_count": 378,
     "metadata": {},
     "output_type": "execute_result"
    }
   ],
   "source": [
    "\"\"\" # Apply the imputer to X_train and fit it\n",
    "X_train_knn[numerical_cols] = knn_imputer.fit_transform(X_train_knn[numerical_cols]) \"\"\""
   ]
  },
  {
   "cell_type": "code",
   "execution_count": 379,
   "metadata": {},
   "outputs": [
    {
     "data": {
      "text/plain": [
       "' # Apply the same transformation to X_val and X_test\\nX_val_knn[numerical_cols] = knn_imputer.transform(X_val[numerical_cols])\\nX_test_knn[numerical_cols] = knn_imputer.transform(X_test[numerical_cols])\\ntest_df_knn[numerical_cols] = knn_imputer.transform(test_df[numerical_cols]) '"
      ]
     },
     "execution_count": 379,
     "metadata": {},
     "output_type": "execute_result"
    }
   ],
   "source": [
    "\"\"\" # Apply the same transformation to X_val and X_test\n",
    "X_val_knn[numerical_cols] = knn_imputer.transform(X_val[numerical_cols])\n",
    "X_test_knn[numerical_cols] = knn_imputer.transform(X_test[numerical_cols])\n",
    "test_df_knn[numerical_cols] = knn_imputer.transform(test_df[numerical_cols]) \"\"\""
   ]
  },
  {
   "cell_type": "code",
   "execution_count": 380,
   "metadata": {},
   "outputs": [
    {
     "data": {
      "text/plain": [
       "' # Align y_train to X_train_filtered\\ny_train_aligned_knn = y_train.reindex(X_train_knn.index)\\ny_val_aligned_knn = y_val.reindex(X_val_knn.index)\\ny_test_aligned_knn = y_test.reindex(X_test_knn.index) '"
      ]
     },
     "execution_count": 380,
     "metadata": {},
     "output_type": "execute_result"
    }
   ],
   "source": [
    "\"\"\" # Align y_train to X_train_filtered\n",
    "y_train_aligned_knn = y_train.reindex(X_train_knn.index)\n",
    "y_val_aligned_knn = y_val.reindex(X_val_knn.index)\n",
    "y_test_aligned_knn = y_test.reindex(X_test_knn.index) \"\"\""
   ]
  },
  {
   "cell_type": "code",
   "execution_count": 381,
   "metadata": {},
   "outputs": [
    {
     "data": {
      "text/plain": [
       "' # Check for missing rows after alignment\\nprint(\"Missing rows in y_train_aligned:\", y_train_aligned_median.isna().sum()) '"
      ]
     },
     "execution_count": 381,
     "metadata": {},
     "output_type": "execute_result"
    }
   ],
   "source": [
    "\"\"\" # Check for missing rows after alignment\n",
    "print(\"Missing rows in y_train_aligned:\", y_train_aligned_median.isna().sum()) \"\"\""
   ]
  },
  {
   "cell_type": "code",
   "execution_count": 382,
   "metadata": {},
   "outputs": [
    {
     "data": {
      "text/plain": [
       "' print(\"X_train shape:\", X_train_knn.shape)\\nprint(\"y_train shape:\", y_train_aligned_knn.shape)\\nprint(\"Matching indices:\", X_train_knn.index.equals(y_train_aligned_median.index)) '"
      ]
     },
     "execution_count": 382,
     "metadata": {},
     "output_type": "execute_result"
    }
   ],
   "source": [
    "\"\"\" print(\"X_train shape:\", X_train_knn.shape)\n",
    "print(\"y_train shape:\", y_train_aligned_knn.shape)\n",
    "print(\"Matching indices:\", X_train_knn.index.equals(y_train_aligned_median.index)) \"\"\""
   ]
  },
  {
   "cell_type": "code",
   "execution_count": 383,
   "metadata": {},
   "outputs": [
    {
     "data": {
      "text/plain": [
       "' print(\"Matching indices:\", X_val_knn.index.equals(y_val_aligned_knn.index)) '"
      ]
     },
     "execution_count": 383,
     "metadata": {},
     "output_type": "execute_result"
    }
   ],
   "source": [
    "\"\"\" print(\"Matching indices:\", X_val_knn.index.equals(y_val_aligned_knn.index)) \"\"\""
   ]
  },
  {
   "cell_type": "code",
   "execution_count": 384,
   "metadata": {},
   "outputs": [
    {
     "data": {
      "text/plain": [
       "' print(\"Matching indices:\", X_test_knn.index.equals(y_test_aligned_knn.index)) '"
      ]
     },
     "execution_count": 384,
     "metadata": {},
     "output_type": "execute_result"
    }
   ],
   "source": [
    "\"\"\" print(\"Matching indices:\", X_test_knn.index.equals(y_test_aligned_knn.index)) \"\"\""
   ]
  },
  {
   "cell_type": "markdown",
   "metadata": {},
   "source": [
    "# 2.5.3 Handling NaNs for categorical features training set"
   ]
  },
  {
   "cell_type": "code",
   "execution_count": 385,
   "metadata": {},
   "outputs": [
    {
     "data": {
      "text/plain": [
       "['Attorney/Representative',\n",
       " 'Carrier Name',\n",
       " 'Carrier Type',\n",
       " 'County of Injury',\n",
       " 'COVID-19 Indicator',\n",
       " 'District Name',\n",
       " 'Gender',\n",
       " 'Industry Code Description',\n",
       " 'Medical Fee Region',\n",
       " 'WCIO Cause of Injury Description',\n",
       " 'WCIO Nature of Injury Description',\n",
       " 'WCIO Part Of Body Description',\n",
       " 'Zip Code',\n",
       " 'Cause Injury Category',\n",
       " 'Nature of Injury Category',\n",
       " 'Body Part Category',\n",
       " 'Carrier Name Grouped',\n",
       " 'Age_Group',\n",
       " 'Wage_Group']"
      ]
     },
     "execution_count": 385,
     "metadata": {},
     "output_type": "execute_result"
    }
   ],
   "source": [
    "categorical_cols = X_train_filtered.select_dtypes(include='object').columns.tolist()\n",
    "categorical_cols = categorical_cols  + ['Age_Group', 'Wage_Group']\n",
    "categorical_cols"
   ]
  },
  {
   "cell_type": "code",
   "execution_count": 386,
   "metadata": {},
   "outputs": [
    {
     "data": {
      "text/plain": [
       "Attorney/Representative                  0\n",
       "Carrier Name                             0\n",
       "Carrier Type                             0\n",
       "County of Injury                         0\n",
       "COVID-19 Indicator                       0\n",
       "District Name                            0\n",
       "Gender                                   0\n",
       "Industry Code Description             6373\n",
       "Medical Fee Region                       0\n",
       "WCIO Cause of Injury Description     10000\n",
       "WCIO Nature of Injury Description    10011\n",
       "WCIO Part Of Body Description        10903\n",
       "Zip Code                             18291\n",
       "Cause Injury Category                    0\n",
       "Nature of Injury Category                0\n",
       "Body Part Category                       0\n",
       "Carrier Name Grouped                     0\n",
       "Age_Group                             3512\n",
       "Wage_Group                           18304\n",
       "dtype: int64"
      ]
     },
     "execution_count": 386,
     "metadata": {},
     "output_type": "execute_result"
    }
   ],
   "source": [
    "X_train[categorical_cols].isnull().sum()    "
   ]
  },
  {
   "cell_type": "code",
   "execution_count": 387,
   "metadata": {},
   "outputs": [],
   "source": [
    "# Create the imputer for mode imputation\n",
    "categorical_imputer = SimpleImputer(strategy='most_frequent')"
   ]
  },
  {
   "cell_type": "code",
   "execution_count": 388,
   "metadata": {},
   "outputs": [],
   "source": [
    "# Apply the imputer to X_train, X_val, and X_test (and test_df if needed)\n",
    "X_train_median[categorical_cols] = categorical_imputer.fit_transform(X_train_median[categorical_cols])"
   ]
  },
  {
   "cell_type": "code",
   "execution_count": 389,
   "metadata": {},
   "outputs": [],
   "source": [
    "X_val_median[categorical_cols] = categorical_imputer.transform(X_val[categorical_cols])\n",
    "X_test_median[categorical_cols] = categorical_imputer.transform(X_test[categorical_cols])\n",
    "test_df_median[categorical_cols] = categorical_imputer.transform(test_df[categorical_cols])"
   ]
  },
  {
   "cell_type": "code",
   "execution_count": 390,
   "metadata": {},
   "outputs": [
    {
     "data": {
      "text/plain": [
       "' X_train_knn[categorical_cols] = categorical_imputer.fit_transform(X_train_knn[categorical_cols]) '"
      ]
     },
     "execution_count": 390,
     "metadata": {},
     "output_type": "execute_result"
    }
   ],
   "source": [
    "\"\"\" X_train_knn[categorical_cols] = categorical_imputer.fit_transform(X_train_knn[categorical_cols]) \"\"\""
   ]
  },
  {
   "cell_type": "code",
   "execution_count": 391,
   "metadata": {},
   "outputs": [
    {
     "data": {
      "text/plain": [
       "' X_val_knn[categorical_cols] = categorical_imputer.transform(X_val[categorical_cols])\\nX_test_knn[categorical_cols] = categorical_imputer.transform(X_test[categorical_cols])\\ntest_df_knn[categorical_cols] = categorical_imputer.transform(test_df[categorical_cols]) '"
      ]
     },
     "execution_count": 391,
     "metadata": {},
     "output_type": "execute_result"
    }
   ],
   "source": [
    "\"\"\" X_val_knn[categorical_cols] = categorical_imputer.transform(X_val[categorical_cols])\n",
    "X_test_knn[categorical_cols] = categorical_imputer.transform(X_test[categorical_cols])\n",
    "test_df_knn[categorical_cols] = categorical_imputer.transform(test_df[categorical_cols]) \"\"\""
   ]
  },
  {
   "cell_type": "code",
   "execution_count": 392,
   "metadata": {},
   "outputs": [
    {
     "data": {
      "text/plain": [
       "((366640, 49), (91844, 49), (114806, 49), (387975, 49))"
      ]
     },
     "execution_count": 392,
     "metadata": {},
     "output_type": "execute_result"
    }
   ],
   "source": [
    "X_train_median.shape , X_val_median.shape, X_test_median.shape  , test_df_median.shape"
   ]
  },
  {
   "cell_type": "code",
   "execution_count": 393,
   "metadata": {},
   "outputs": [
    {
     "data": {
      "text/plain": [
       "((366640,), (91844,), (114806,))"
      ]
     },
     "execution_count": 393,
     "metadata": {},
     "output_type": "execute_result"
    }
   ],
   "source": [
    "y_train_aligned_median.shape , y_val_aligned_median.shape, y_test_aligned_median.shape"
   ]
  },
  {
   "cell_type": "code",
   "execution_count": 394,
   "metadata": {},
   "outputs": [
    {
     "name": "stdout",
     "output_type": "stream",
     "text": [
      "X_train shape: (366640, 49)\n",
      "y_train shape: (366640,)\n",
      "Matching indices: True\n"
     ]
    }
   ],
   "source": [
    "print(\"X_train shape:\", X_train_median.shape)\n",
    "print(\"y_train shape:\", y_train_aligned_median.shape)\n",
    "print(\"Matching indices:\", X_train_median.index.equals(y_train_aligned_median.index))"
   ]
  },
  {
   "cell_type": "code",
   "execution_count": 395,
   "metadata": {},
   "outputs": [
    {
     "data": {
      "text/plain": [
       "np.int64(0)"
      ]
     },
     "execution_count": 395,
     "metadata": {},
     "output_type": "execute_result"
    }
   ],
   "source": [
    "y_train_aligned_median.isna().sum()"
   ]
  },
  {
   "cell_type": "code",
   "execution_count": 396,
   "metadata": {},
   "outputs": [
    {
     "data": {
      "text/plain": [
       "' X_train_knn.shape , X_val_knn.shape, X_test_knn.shape  , test_df_knn.shape '"
      ]
     },
     "execution_count": 396,
     "metadata": {},
     "output_type": "execute_result"
    }
   ],
   "source": [
    "\"\"\" X_train_knn.shape , X_val_knn.shape, X_test_knn.shape  , test_df_knn.shape \"\"\""
   ]
  },
  {
   "cell_type": "code",
   "execution_count": 397,
   "metadata": {},
   "outputs": [
    {
     "data": {
      "text/plain": [
       "' y_train_aligned_knn.shape , y_val_aligned_knn.shape, y_test_aligned_knn.shape '"
      ]
     },
     "execution_count": 397,
     "metadata": {},
     "output_type": "execute_result"
    }
   ],
   "source": [
    "\"\"\" y_train_aligned_knn.shape , y_val_aligned_knn.shape, y_test_aligned_knn.shape \"\"\""
   ]
  },
  {
   "cell_type": "code",
   "execution_count": 398,
   "metadata": {},
   "outputs": [
    {
     "data": {
      "text/plain": [
       "' print(\"X_train shape:\", X_train_knn.shape)\\nprint(\"y_train shape:\", y_train_aligned_knn.shape)\\nprint(\"Matching indices:\", X_train_knn.index.equals(y_train_aligned_knn.index)) '"
      ]
     },
     "execution_count": 398,
     "metadata": {},
     "output_type": "execute_result"
    }
   ],
   "source": [
    "\"\"\" print(\"X_train shape:\", X_train_knn.shape)\n",
    "print(\"y_train shape:\", y_train_aligned_knn.shape)\n",
    "print(\"Matching indices:\", X_train_knn.index.equals(y_train_aligned_knn.index)) \"\"\""
   ]
  },
  {
   "cell_type": "markdown",
   "metadata": {},
   "source": [
    "# 2.6 Outliers Handling - Include in the EDA Notebook"
   ]
  },
  {
   "cell_type": "code",
   "execution_count": 399,
   "metadata": {},
   "outputs": [],
   "source": [
    "outliers_features =  [\n",
    "    'Age at Injury', 'Average Weekly Wage', 'Claim Identifier', 'Number of Dependents', \n",
    "    'Lag_Time', 'Accident_to_C2_Lag', 'Accident Date_Year', 'Accident Date_Month', \n",
    "    'Accident Date_Day', 'Assembly Date_Year', 'Assembly Date_Month', 'Assembly Date_Day', \n",
    "    'C-2 Date_Year', 'C-2 Date_Month', 'C-2 Date_Day', 'Accident_Year', \n",
    "    'Accident_Month', 'Accident_Month_Sin', 'Accident_Month_Cos', 'Accident_Day', \n",
    "    'Assembly_Year', 'Assembly_Month', 'Assembly_Month_Sin', 'Assembly_Month_Cos', \n",
    "    'Assembly_Day', 'C-2_Year', 'C-2_Month', 'C-2_Month_Sin', 'C-2_Month_Cos', 'C-2_Day'\n",
    "]"
   ]
  },
  {
   "cell_type": "code",
   "execution_count": 400,
   "metadata": {},
   "outputs": [
    {
     "data": {
      "image/png": "[encoded data removed]",
      "text/plain": [
       "<Figure size 2000x2400 with 30 Axes>"
      ]
     },
     "metadata": {},
     "output_type": "display_data"
    }
   ],
   "source": [
    "# Determine grid size for subplots\n",
    "n_features = len(outliers_features)\n",
    "rows = (n_features // 5) + (1 if n_features % 5 != 0 else 0)  # Adjust columns as needed\n",
    "cols = 5\n",
    "\n",
    "fig, axes = plt.subplots(rows, cols, figsize=(20, 4 * rows), tight_layout=True)\n",
    "\n",
    "for i, feature in enumerate(outliers_features):\n",
    "    row, col = divmod(i, cols)\n",
    "    ax = axes[row, col] if rows > 1 else axes[col]\n",
    "    X_train.boxplot(column=feature, ax=ax)\n",
    "    ax.set_title(feature)\n",
    "    ax.set_xticks([])  # Remove x-ticks for cleaner visualization\n",
    "\n",
    "# Remove empty subplots\n",
    "if n_features % cols != 0:\n",
    "    for j in range(n_features, rows * cols):\n",
    "        fig.delaxes(axes.flatten()[j])\n",
    "\n",
    "plt.tight_layout()\n",
    "plt.show()"
   ]
  },
  {
   "cell_type": "markdown",
   "metadata": {},
   "source": [
    "We have some redudant (duplicated) variables in our dataset that resulted from the transformations. \n",
    "\n",
    "Variables to drop:\n",
    "\n",
    "* Accident_Year\n",
    "\n",
    "* C2_Year\n",
    "\n",
    "* Accident_Month\n",
    "\n",
    "* Assembly_Month \n",
    "\n",
    "* C-2_Month\n",
    "\n",
    "* Accident Date_Day \n",
    "\n",
    "* Assembly Date_Year  \n"
   ]
  },
  {
   "cell_type": "code",
   "execution_count": 401,
   "metadata": {},
   "outputs": [],
   "source": [
    "redundant_features = ['Accident_Year', 'C-2_Year', 'Accident_Month', \n",
    "                      'Assembly_Month', 'C-2_Month', 'Accident Date_Day', \n",
    "                      'Assembly Date_Year']\n"
   ]
  },
  {
   "cell_type": "code",
   "execution_count": 402,
   "metadata": {},
   "outputs": [],
   "source": [
    "X_train_median = X_train_median.drop(columns=redundant_features)\n",
    "#X_train_knn = X_train_knn.drop(columns=redundant_features)"
   ]
  },
  {
   "cell_type": "code",
   "execution_count": 403,
   "metadata": {},
   "outputs": [],
   "source": [
    "X_val_median = X_val_median.drop(columns=redundant_features)\n",
    "#X_val_knn = X_val_knn.drop(columns=redundant_features)"
   ]
  },
  {
   "cell_type": "code",
   "execution_count": 404,
   "metadata": {},
   "outputs": [],
   "source": [
    "X_test_median = X_test_median.drop(columns=redundant_features)\n",
    "#X_test_knn = X_test_knn.drop(columns=redundant_features)"
   ]
  },
  {
   "cell_type": "code",
   "execution_count": 405,
   "metadata": {},
   "outputs": [],
   "source": [
    "test_df_median = test_df_median.drop(columns=redundant_features)\n",
    "#test_df_knn = test_df_knn.drop(columns=redundant_features)"
   ]
  },
  {
   "cell_type": "code",
   "execution_count": 406,
   "metadata": {},
   "outputs": [],
   "source": [
    "# Align `y` datasets to the updated `X` indices\n",
    "y_train_aligned_median = y_train_aligned_median.reindex(X_train_median.index)\n",
    "#y_train_aligned_knn = y_train_knn.reindex(X_train_knn.index)"
   ]
  },
  {
   "cell_type": "code",
   "execution_count": 407,
   "metadata": {},
   "outputs": [],
   "source": [
    "y_val_aligned_median = y_val_aligned_median.reindex(X_val_median.index)\n",
    "#y_val_aligned_knn = y_val_aligned_knn.reindex(X_val_knn.index)"
   ]
  },
  {
   "cell_type": "code",
   "execution_count": 408,
   "metadata": {},
   "outputs": [],
   "source": [
    "y_test_aligned_median = y_test_aligned_median.reindex(X_test_median.index)\n",
    "#y_test_aligned_knn = y_test_aligned_knn.reindex(X_test_knn.index)"
   ]
  },
  {
   "cell_type": "code",
   "execution_count": 409,
   "metadata": {},
   "outputs": [
    {
     "name": "stdout",
     "output_type": "stream",
     "text": [
      "After Alignment:\n",
      "X_train_median shape: (366640, 42)\n",
      "y_train_median shape: (366640,)\n",
      "Matching indices: True\n"
     ]
    }
   ],
   "source": [
    "print(\"After Alignment:\")\n",
    "print(\"X_train_median shape:\", X_train_median.shape)\n",
    "print(\"y_train_median shape:\", y_train_aligned_median.shape)\n",
    "print(\"Matching indices:\", X_train_median.index.equals(y_train_aligned_median.index))"
   ]
  },
  {
   "cell_type": "code",
   "execution_count": 410,
   "metadata": {},
   "outputs": [
    {
     "data": {
      "text/plain": [
       "' print(\"After Alignment:\")\\nprint(\"X_train_knn shape:\", X_train_knn.shape)\\nprint(\"y_train_knn shape:\", y_train_aligned_knn.shape)\\nprint(\"Matching indices:\", X_train_knn.index.equals(y_train_aligned_knn.index)) '"
      ]
     },
     "execution_count": 410,
     "metadata": {},
     "output_type": "execute_result"
    }
   ],
   "source": [
    "\"\"\" print(\"After Alignment:\")\n",
    "print(\"X_train_knn shape:\", X_train_knn.shape)\n",
    "print(\"y_train_knn shape:\", y_train_aligned_knn.shape)\n",
    "print(\"Matching indices:\", X_train_knn.index.equals(y_train_aligned_knn.index)) \"\"\""
   ]
  },
  {
   "cell_type": "code",
   "execution_count": 411,
   "metadata": {},
   "outputs": [
    {
     "data": {
      "text/plain": [
       "((366640, 42), (91844, 42), (114806, 42), (387975, 42))"
      ]
     },
     "execution_count": 411,
     "metadata": {},
     "output_type": "execute_result"
    }
   ],
   "source": [
    "X_train_median.shape, X_val_median.shape, X_test_median.shape, test_df_median.shape"
   ]
  },
  {
   "cell_type": "code",
   "execution_count": 412,
   "metadata": {},
   "outputs": [],
   "source": [
    "#X_train_knn.shape, X_val_knn.shape, X_test_knn.shape, test_df_knn.shape"
   ]
  },
  {
   "cell_type": "markdown",
   "metadata": {},
   "source": [
    "## Plot again the BoxPlots and see which variables have outliers and thus should be treated"
   ]
  },
  {
   "cell_type": "code",
   "execution_count": 413,
   "metadata": {},
   "outputs": [],
   "source": [
    "numerical_cols_filtered = X_train_filtered.select_dtypes(include=np.number).columns.tolist()"
   ]
  },
  {
   "cell_type": "code",
   "execution_count": 414,
   "metadata": {},
   "outputs": [
    {
     "data": {
      "image/png": "[encoded data removed]",
      "text/plain": [
       "<Figure size 1000x2400 with 30 Axes>"
      ]
     },
     "metadata": {},
     "output_type": "display_data"
    }
   ],
   "source": [
    "# Determine grid size for subplots\n",
    "n_features = len(numerical_cols_filtered)\n",
    "rows = (n_features // 5) + (1 if n_features % 5 != 0 else 0)  # Adjust rows dynamically\n",
    "cols = 5  # Fixed number of columns\n",
    "\n",
    "fig, axes = plt.subplots(rows, cols, figsize=(10, 4 * rows), tight_layout=True)\n",
    "\n",
    "for i, feature in enumerate(numerical_cols_filtered):\n",
    "    row, col = divmod(i, cols)\n",
    "    ax = axes[row, col] if rows > 1 else axes[col]\n",
    "    X_train_filtered.boxplot(column=feature, ax=ax)\n",
    "    ax.set_title(feature)\n",
    "    ax.set_xticks([])  # Remove x-ticks for cleaner visualization\n",
    "\n",
    "# Remove empty subplots if there are leftover grid spaces\n",
    "if n_features % cols != 0:\n",
    "    for j in range(n_features, rows * cols):\n",
    "        fig.delaxes(axes.flatten()[j])\n",
    "\n",
    "plt.tight_layout()\n",
    "plt.show()"
   ]
  },
  {
   "cell_type": "markdown",
   "metadata": {},
   "source": [
    "### Variables that have outliers:\n",
    "\n",
    "* Age at Injury \n",
    "* Average Weekly Wage\n",
    "* Accident_to_C2_Lag\n",
    "* Accident Date_Year"
   ]
  },
  {
   "cell_type": "code",
   "execution_count": 415,
   "metadata": {},
   "outputs": [],
   "source": [
    "# Copy to treat outliers\n",
    "\n",
    "X_train_processed = X_train_median.copy()\n",
    "X_val_processed = X_val_median.copy()\n",
    "X_test_processed = X_test_median.copy()\n",
    "test_df_processed = test_df_median.copy()"
   ]
  },
  {
   "cell_type": "code",
   "execution_count": 416,
   "metadata": {},
   "outputs": [],
   "source": [
    "y_train_with_outliers = y_train_aligned_median.copy()\n",
    "y_val_with_outliers = y_val_aligned_median.copy()\n",
    "y_test_with_outliers = y_test_aligned_median.copy()\n",
    "\n",
    "\n",
    "test_df_with_outliers = test_df_processed.copy()"
   ]
  },
  {
   "cell_type": "markdown",
   "metadata": {},
   "source": [
    "## 2.6.1 - Age at Injury"
   ]
  },
  {
   "cell_type": "code",
   "execution_count": 417,
   "metadata": {},
   "outputs": [
    {
     "name": "stdout",
     "output_type": "stream",
     "text": [
      "Number of rows with 'Age at Injury' below 14: 3545 (0.96%)\n",
      "Number of rows with 'Age at Injury' over 90: 115 (0.03%)\n"
     ]
    }
   ],
   "source": [
    "# Total number of rows in the DataFrame\n",
    "total_rows = len(X_train)\n",
    "\n",
    "# Count rows with 'Age at Injury' below 14\n",
    "below_14_count = X_train[X_train['Age at Injury'] < 14].shape[0]\n",
    "below_14_percentage = (below_14_count / total_rows) * 100\n",
    "\n",
    "# Count rows with 'Age at Injury' over 90\n",
    "over_90_count = X_train[X_train['Age at Injury'] > 90].shape[0]\n",
    "over_90_percentage = (over_90_count / total_rows) * 100\n",
    "\n",
    "# Print the results\n",
    "print(f\"Number of rows with 'Age at Injury' below 14: {below_14_count} ({below_14_percentage:.2f}%)\")\n",
    "print(f\"Number of rows with 'Age at Injury' over 90: {over_90_count} ({over_90_percentage:.2f}%)\")"
   ]
  },
  {
   "cell_type": "code",
   "execution_count": 418,
   "metadata": {},
   "outputs": [],
   "source": [
    "X_train_processed = X_train_processed[(X_train_processed['Age at Injury'] >= 14) & (X_train_processed['Age at Injury'] <= 90)]\n",
    "#X_train_knn = X_train_knn[(X_train_knn['Age at Injury'] >= 14) & (X_train_knn['Age at Injury'] <= 90)]"
   ]
  },
  {
   "cell_type": "code",
   "execution_count": 419,
   "metadata": {},
   "outputs": [],
   "source": [
    "# Get the indices of the dataframe\n",
    "filtered_indices_age = X_train_processed.index\n",
    "#filtered_indices_age_knn = X_train_knn.index\n"
   ]
  },
  {
   "cell_type": "code",
   "execution_count": 420,
   "metadata": {},
   "outputs": [],
   "source": [
    "# Update y_train\n",
    "\n",
    "# Align y_train with filtered X_train_filtered\n",
    "y_train_aligned = y_train_aligned_median.loc[filtered_indices_age]\n",
    "#y_train_aligned_knn = y_train_aligned_knn.loc[filtered_indices_age_knn]\n"
   ]
  },
  {
   "cell_type": "code",
   "execution_count": 421,
   "metadata": {},
   "outputs": [
    {
     "name": "stdout",
     "output_type": "stream",
     "text": [
      "X_train shape: (363063, 42)\n",
      "y_train shape: (366640,)\n",
      "Matching indices: False\n"
     ]
    }
   ],
   "source": [
    "print(\"X_train shape:\", X_train_processed.shape)\n",
    "print(\"y_train shape:\", y_train_aligned_median.shape)\n",
    "print(\"Matching indices:\", X_train_processed.index.equals(y_train_aligned_median.index))"
   ]
  },
  {
   "cell_type": "code",
   "execution_count": 422,
   "metadata": {},
   "outputs": [
    {
     "data": {
      "text/plain": [
       "' print(\"X_train shape:\", X_train_knn.shape)\\nprint(\"y_train shape:\", y_train_aligned_knn.shape)\\nprint(\"Matching indices:\", X_train_knn.index.equals(y_train_aligned_knn.index)) '"
      ]
     },
     "execution_count": 422,
     "metadata": {},
     "output_type": "execute_result"
    }
   ],
   "source": [
    "\"\"\" print(\"X_train shape:\", X_train_knn.shape)\n",
    "print(\"y_train shape:\", y_train_aligned_knn.shape)\n",
    "print(\"Matching indices:\", X_train_knn.index.equals(y_train_aligned_knn.index)) \"\"\""
   ]
  },
  {
   "cell_type": "code",
   "execution_count": 423,
   "metadata": {},
   "outputs": [
    {
     "name": "stdout",
     "output_type": "stream",
     "text": [
      "Indices match initially: False\n"
     ]
    }
   ],
   "source": [
    "# Check if indices match right after creating X_outliers\n",
    "print(\"Indices match initially:\", X_train_processed.index.equals(y_train_aligned_median.index))\n",
    "#print(\"Indices match initially:\", X_train_knn.index.equals(y_train_aligned_knn.index))"
   ]
  },
  {
   "cell_type": "code",
   "execution_count": 424,
   "metadata": {},
   "outputs": [
    {
     "data": {
      "text/plain": [
       "(np.int64(0), np.int64(0), np.int64(0))"
      ]
     },
     "execution_count": 424,
     "metadata": {},
     "output_type": "execute_result"
    }
   ],
   "source": [
    "y_train_aligned_median.isna().sum() , y_val_aligned_median.isna().sum() , y_test_aligned_median.isna().sum()"
   ]
  },
  {
   "cell_type": "code",
   "execution_count": 425,
   "metadata": {},
   "outputs": [
    {
     "data": {
      "text/plain": [
       "' y_train_aligned_knn.isna().sum() , y_val_aligned_knn.isna().sum() , y_test_aligned_knn.isna().sum() '"
      ]
     },
     "execution_count": 425,
     "metadata": {},
     "output_type": "execute_result"
    }
   ],
   "source": [
    "\"\"\" y_train_aligned_knn.isna().sum() , y_val_aligned_knn.isna().sum() , y_test_aligned_knn.isna().sum() \"\"\""
   ]
  },
  {
   "cell_type": "code",
   "execution_count": 426,
   "metadata": {},
   "outputs": [
    {
     "data": {
      "text/plain": [
       "Claim Injury Type\n",
       "1.0    186127\n",
       "3.0     94621\n",
       "2.0     44070\n",
       "4.0     30887\n",
       "0.0      7877\n",
       "5.0      2695\n",
       "7.0       301\n",
       "6.0        62\n",
       "Name: count, dtype: int64"
      ]
     },
     "execution_count": 426,
     "metadata": {},
     "output_type": "execute_result"
    }
   ],
   "source": [
    "y_train_aligned_median.value_counts()"
   ]
  },
  {
   "cell_type": "markdown",
   "metadata": {},
   "source": [
    "## 2.6.2 - Average Weekly Wage / Accident_to_C2_Lag , Accident Date_Year"
   ]
  },
  {
   "cell_type": "code",
   "execution_count": 427,
   "metadata": {},
   "outputs": [
    {
     "name": "stdout",
     "output_type": "stream",
     "text": [
      "Percentage of data removed due to outliers: 5.47%\n"
     ]
    }
   ],
   "source": [
    "# Initial count of rows in X_train_filtered\n",
    "total_rows = len(X_train_filtered)\n",
    "\n",
    "# Features to analyze for outlier removal\n",
    "features = ['Average Weekly Wage', 'Accident_to_C2_Lag', 'Accident Date_Year']\n",
    "\n",
    "# Initial count of rows in X_train_filtered\n",
    "initial_count = len(X_train_filtered)\n",
    "\n",
    "indexes_list_median = []\n",
    "indexes_list_knn = []\n",
    "\n",
    "# Removing outliers using the IQR method\n",
    "for feature in features:\n",
    "    Q1 = X_train_filtered[feature].quantile(0.25)\n",
    "    Q3 = X_train_filtered[feature].quantile(0.75)\n",
    "    IQR = Q3 - Q1\n",
    "    lower_bound = Q1 - 1.5 * IQR\n",
    "    upper_bound = Q3 + 1.5 * IQR\n",
    "    X_train_processed = X_train_processed[(X_train_processed[feature] >= lower_bound) & (X_train_processed[feature] <= upper_bound)]\n",
    "    #X_train_knn = X_train_knn[(X_train_knn[feature] >= lower_bound) & (X_train_knn[feature] <= upper_bound)]\n",
    "    indexes_median = X_train_processed.index\n",
    "    #indexes_knn = X_train_knn.index\n",
    "    indexes_list_median.append(indexes_median)\n",
    "    #indexes_list_knn.append(indexes_knn)\n",
    "\n",
    "\n",
    "# Final count of rows in X_train_filtered after outlier removal\n",
    "final_count = len(X_train_processed)\n",
    "\n",
    "# Percentage of data removed\n",
    "percentage_removed = ((total_rows - final_count) / total_rows) * 100\n",
    "\n",
    "# Print percentage of data removed \"\"\"\n",
    "print(f\"Percentage of data removed due to outliers: {percentage_removed:.2f}%\")"
   ]
  },
  {
   "cell_type": "code",
   "execution_count": 428,
   "metadata": {},
   "outputs": [
    {
     "name": "stdout",
     "output_type": "stream",
     "text": [
      "5.661774312965462% of the data was removed due to outlier removal.\n"
     ]
    }
   ],
   "source": [
    "percent_removed = (1 - len(X_train_processed) / len(X_train)) * 100\n",
    "print(f\"{percent_removed}% of the data was removed due to outlier removal.\")"
   ]
  },
  {
   "cell_type": "code",
   "execution_count": 429,
   "metadata": {},
   "outputs": [],
   "source": [
    "y_train_aligned_median = y_train_aligned_median.loc[X_train_processed.index]\n",
    "#y_train_aligned_knn = y_train_aligned_knn.loc[X_train_knn.index]"
   ]
  },
  {
   "cell_type": "code",
   "execution_count": 430,
   "metadata": {},
   "outputs": [
    {
     "name": "stdout",
     "output_type": "stream",
     "text": [
      "Shape of X_train_filtered: (346576, 42)\n",
      "Shape of y_train_aligned: (346576,)\n"
     ]
    }
   ],
   "source": [
    "print(\"Shape of X_train_filtered:\", X_train_processed.shape)\n",
    "print(\"Shape of y_train_aligned:\", y_train_aligned_median.shape)"
   ]
  },
  {
   "cell_type": "code",
   "execution_count": 431,
   "metadata": {},
   "outputs": [
    {
     "name": "stdout",
     "output_type": "stream",
     "text": [
      "Shape of X_train_filtered after outlier removal: (346576, 42)\n",
      "Shape of aligned y_train: (346576,)\n"
     ]
    }
   ],
   "source": [
    " \n",
    "# Check the shapes to confirm alignment\n",
    "print(\"Shape of X_train_filtered after outlier removal:\", X_train_processed.shape)\n",
    "print(\"Shape of aligned y_train:\", y_train_aligned_median.shape) "
   ]
  },
  {
   "cell_type": "code",
   "execution_count": 432,
   "metadata": {},
   "outputs": [
    {
     "data": {
      "text/plain": [
       "(np.int64(0), np.int64(0), np.int64(0))"
      ]
     },
     "execution_count": 432,
     "metadata": {},
     "output_type": "execute_result"
    }
   ],
   "source": [
    "y_train_aligned_median.isna().sum() , y_val_aligned_median.isna().sum() , y_test_aligned_median.isna().sum()"
   ]
  },
  {
   "cell_type": "code",
   "execution_count": 433,
   "metadata": {},
   "outputs": [],
   "source": [
    "#y_train_aligned_knn.isna().sum() , y_val_aligned_knn.isna().sum() , y_test_aligned_knn.isna().sum()"
   ]
  },
  {
   "cell_type": "code",
   "execution_count": 434,
   "metadata": {},
   "outputs": [],
   "source": [
    "# Check alignment\n",
    "assert y_train_aligned_median.index.equals(X_train_processed.index), \"Indices are not aligned!\""
   ]
  },
  {
   "cell_type": "code",
   "execution_count": 435,
   "metadata": {},
   "outputs": [],
   "source": [
    "#assert y_train_aligned_knn.index.equals(X_train_knn.index), \"Indices are not aligned!\""
   ]
  },
  {
   "cell_type": "markdown",
   "metadata": {},
   "source": [
    "# 2.7. Saving the pre-processing"
   ]
  },
  {
   "cell_type": "code",
   "execution_count": 436,
   "metadata": {},
   "outputs": [],
   "source": [
    "# Define the absolute path for saving files\n",
    "processed_dir = \"C:/Users/alexg/Ambiente de Trabalho/Mestrado Data Science NOVA IMS/1st semester/Machine Learning/Project_github/ML_Project_Group52/project/data/processed\""
   ]
  },
  {
   "cell_type": "code",
   "execution_count": 437,
   "metadata": {},
   "outputs": [
    {
     "name": "stdout",
     "output_type": "stream",
     "text": [
      "Saving With outliers datasets...\n",
      "Saved: X_train_with_outliers.csv\n",
      "Saved: X_val_with_outliers.csv\n",
      "Saved: X_test_with_outliers.csv\n",
      "Saved: X_test_unseen_with_outliers.csv\n",
      "Saved: y_train_with_outliers.csv\n",
      "Saved: y_val_with_outliers.csv\n",
      "Saved: y_test_with_outliers.csv\n",
      "Saving Processed datasets...\n",
      "Saved: X_train_processed.csv\n",
      "Saved: X_val_processed.csv\n",
      "Saved: X_test_processed.csv\n",
      "Saved: X_test_unseen_processed.csv\n",
      "Saved: y_train_processed.csv\n",
      "Saved: y_val_processed.csv\n",
      "Saved: y_test_processed.csv\n"
     ]
    }
   ],
   "source": [
    "# Ensure the directory exists\n",
    "os.makedirs(processed_dir, exist_ok=True)\n",
    "\n",
    "# Rename X variables for clarity (with outliers and processed datasets)\n",
    "X_train_with_outliers = X_train_median.copy()\n",
    "X_val_with_outliers = X_val_median.copy()\n",
    "X_test_with_outliers = X_test_median.copy()\n",
    "test_df_with_outliers = test_df_median.copy()\n",
    "\n",
    "\n",
    "\n",
    "# Dataset configuration\n",
    "datasets_config = {\n",
    "    \"with_outliers\": {\n",
    "        \"X_files\": [\n",
    "            (X_train_with_outliers, 'X_train_with_outliers.csv', False),\n",
    "            (X_val_with_outliers, 'X_val_with_outliers.csv', False),\n",
    "            (X_test_with_outliers, 'X_test_with_outliers.csv', False),\n",
    "            (test_df_with_outliers, 'X_test_unseen_with_outliers.csv', True)\n",
    "        ],\n",
    "        \"y_files\": [\n",
    "            (y_train_with_outliers, 'y_train_with_outliers.csv', False),\n",
    "            (y_val_with_outliers, 'y_val_with_outliers.csv', False),\n",
    "            (y_test_with_outliers, 'y_test_with_outliers.csv', False)\n",
    "        ]\n",
    "    },\n",
    "    \"processed\": {\n",
    "        \"X_files\": [\n",
    "            (X_train_median, 'X_train_processed.csv', False),\n",
    "            (X_val_median, 'X_val_processed.csv', False),\n",
    "            (X_test_median, 'X_test_processed.csv', False),\n",
    "            (test_df_median, 'X_test_unseen_processed.csv', True)\n",
    "        ],\n",
    "        \"y_files\": [\n",
    "            (y_train_aligned_median, 'y_train_processed.csv', False),\n",
    "            (y_val_aligned_median, 'y_val_processed.csv', False),\n",
    "            (y_test_aligned_median, 'y_test_processed.csv', False)\n",
    "        ]\n",
    "    },\n",
    "     # Uncomment this block to include KNN datasets\n",
    "    # \"knn\": {\n",
    "    #     \"X_files\": [\n",
    "    #         (X_train_knn, 'X_train_knn.csv', False),\n",
    "    #         (X_val_knn, 'X_val_knn.csv', False),\n",
    "    #         (X_test_knn, 'X_test_knn.csv', False)\n",
    "    #     ],\n",
    "    #     \"y_files\": [\n",
    "    #         (y_train_aligned_knn, 'y_train_knn.csv', False),\n",
    "    #         (y_val_aligned_knn, 'y_val_knn.csv', False),\n",
    "    #         (y_test_aligned_knn, 'y_test_knn.csv', False)\n",
    "    #     ]\n",
    "    # }\n",
    "}\n",
    "\n",
    "# Save datasets dynamically\n",
    "for dataset_type, file_config in datasets_config.items():\n",
    "    print(f\"Saving {dataset_type.replace('_', ' ').capitalize()} datasets...\")\n",
    "\n",
    "    for df, filename, index_required in file_config[\"X_files\"] + file_config[\"y_files\"]:\n",
    "        file_path = os.path.join(processed_dir, filename)\n",
    "        df.to_csv(file_path, index=index_required)\n",
    "        print(f\"Saved: {filename}\")\n"
   ]
  },
  {
   "cell_type": "code",
   "execution_count": 438,
   "metadata": {},
   "outputs": [
    {
     "data": {
      "text/plain": [
       "((346576, 42), (91844, 42), (114806, 42), (387975, 42))"
      ]
     },
     "execution_count": 438,
     "metadata": {},
     "output_type": "execute_result"
    }
   ],
   "source": [
    "X_train_processed.shape, X_val_processed.shape, X_test_processed.shape, test_df_processed.shape"
   ]
  },
  {
   "cell_type": "code",
   "execution_count": 439,
   "metadata": {},
   "outputs": [
    {
     "data": {
      "text/plain": [
       "((346576,), (91844,), (114806,))"
      ]
     },
     "execution_count": 439,
     "metadata": {},
     "output_type": "execute_result"
    }
   ],
   "source": [
    "y_train_aligned_median.shape, y_val_aligned_median.shape, y_test_aligned_median.shape"
   ]
  },
  {
   "cell_type": "code",
   "execution_count": 440,
   "metadata": {},
   "outputs": [],
   "source": [
    "assert y_train_aligned_median.index.equals(X_train_processed.index), \"Indices are not aligned!\""
   ]
  }
 ],
 "metadata": {
  "kernelspec": {
   "display_name": "Python 3",
   "language": "python",
   "name": "python3"
  },
  "language_info": {
   "codemirror_mode": {
    "name": "ipython",
    "version": 3
   },
   "file_extension": ".py",
   "mimetype": "text/x-python",
   "name": "python",
   "nbconvert_exporter": "python",
   "pygments_lexer": "ipython3",
   "version": "3.13.0"
  }
 },
 "nbformat": 4,
 "nbformat_minor": 2
}
