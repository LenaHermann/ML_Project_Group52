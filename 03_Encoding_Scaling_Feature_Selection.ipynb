{
 "cells": [
  {
   "attachments": {},
   "cell_type": "markdown",
   "id": "fb2e6816",
   "metadata": {},
   "source": [
    "# To Grant or Not to Grant: Deciding on Compensation Benefits "
   ]
  },
  {
   "attachments": {},
   "cell_type": "markdown",
   "id": "b72fd8ad",
   "metadata": {},
   "source": [
    "### Machine Learning Group Project 2024/2025 - Group 52\n",
    "\n",
    "\n",
    "__Members:__\n",
    "- Diogo Rodrigues _(20240512@novaims.unl.pt)_\n",
    "- Alexandre Gonçalves _(20240738@novaims.unl.pt)_\n",
    "- Pedro Costa _(20222121@novaims.unl.pt)_\n",
    "- Santiago Taylor _(20240542@novaims.unl.pt)_\n",
    "- Lena Hermann _(20241446@novaims.unl.pt)_"
   ]
  },
  {
   "attachments": {},
   "cell_type": "markdown",
   "id": "6c872365",
   "metadata": {},
   "source": [
    "# Notebook 03 - Encoding, Scaling and Feature Selection"
   ]
  },
  {
   "attachments": {},
   "cell_type": "markdown",
   "id": "59a7a81c",
   "metadata": {},
   "source": [
    "## Table of Content\n",
    "<a id='top'></a>\n",
    "[1. Set-Up and Data Loading](#dataload) <br>\n",
    "&nbsp;&nbsp;&nbsp;[1.1 Import the Needed Libraries](#import_libaries) <br>\n",
    "&nbsp;&nbsp;&nbsp;[1.2 Load the Data](#load_data) <br>\n",
    "[2. Encoding Overview](#encoding) <br>\n",
    "[3. Encoding and Scaling Pipeline](#e_s_pipeline) <br>\n",
    "[4. Feature Selection Pipeline](#f_pipeline) <br>\n",
    "&nbsp;&nbsp;&nbsp;[4.1 Correlation](#corr) <br>\n",
    "&nbsp;&nbsp;&nbsp;[4.2 RFE](#rfe) <br>\n",
    "&nbsp;&nbsp;&nbsp;[4.3 Random Forest Feature Importance](#rf) <br>\n",
    "&nbsp;&nbsp;&nbsp;[4.4 Lasso Regression](#lassolr) <br>\n",
    "&nbsp;&nbsp;&nbsp;[4.5 Chi Squared Test](#chi) <br>\n",
    "&nbsp;&nbsp;&nbsp;[4.6 Cramer's V](#cramer) <br>\n",
    "&nbsp;&nbsp;&nbsp;[4.7 Summary](#summary) <br>\n",
    "[5. Saving files](#save) <br>"
   ]
  },
  {
   "attachments": {},
   "cell_type": "markdown",
   "id": "a8bf01f2",
   "metadata": {},
   "source": [
    "## 1. Set-Up and Data Loading <a id='dataload'></a>\n",
    "[to the top](#top)\n",
    "\n",
    "### 1.1 Import the Needed Libraries <a id='import_libaries'></a>"
   ]
  },
  {
   "cell_type": "code",
   "execution_count": 1,
   "id": "1418892c",
   "metadata": {},
   "outputs": [],
   "source": [
    "# imports\n",
    "import pandas as pd\n",
    "import os\n",
    "import matplotlib.pyplot as plt\n",
    "import numpy as np\n",
    "\n",
    "#notebook settings\n",
    "pd.set_option('display.max_columns', None)\n",
    "\n",
    "from scipy.stats import uniform, randint\n",
    "\n",
    "# building a pipeline to preprocess the data\n",
    "from sklearn.preprocessing import StandardScaler, OneHotEncoder, LabelEncoder, OrdinalEncoder\n",
    "from sklearn.compose import ColumnTransformer\n",
    "from sklearn.model_selection import train_test_split, cross_val_score, StratifiedKFold, learning_curve, validation_curve, RandomizedSearchCV\n",
    "from sklearn.feature_selection import RFECV\n",
    "from sklearn.ensemble import RandomForestClassifier\n",
    "from sklearn.pipeline import Pipeline\n",
    "from sklearn.metrics import classification_report\n",
    "from xgboost import XGBClassifier\n",
    "from sklearn.linear_model import LogisticRegression\n",
    "from sklearn.model_selection import StratifiedKFold\n",
    "\n",
    "\n",
    "from sklearn.compose import ColumnTransformer\n",
    "from sklearn.pipeline import Pipeline\n",
    "from sklearn.preprocessing import OrdinalEncoder, OneHotEncoder, StandardScaler\n",
    "import pickle\n",
    "import seaborn as sns\n",
    "import matplotlib.pyplot as plt\n",
    "from sklearn.linear_model import LassoCV\n",
    "from sklearn.model_selection import train_test_split\n",
    "from sklearn.preprocessing import LabelEncoder, StandardScaler\n",
    "from sklearn.metrics import mean_squared_error, r2_score\n",
    "from sklearn.metrics import mean_squared_error, r2_score\n",
    "from sklearn.preprocessing import StandardScaler\n",
    "from sklearn.metrics import f1_score\n",
    "from sklearn.feature_selection import RFE\n",
    "from sklearn.feature_selection import RFECV\n",
    "\n",
    "# chi-square\n",
    "import scipy.stats as stats\n",
    "from scipy.stats import chi2_contingency\n",
    "\n",
    "import os"
   ]
  },
  {
   "cell_type": "code",
   "execution_count": 2,
   "id": "eda1f829",
   "metadata": {},
   "outputs": [],
   "source": [
    "# Set a global seed\n",
    "np.random.seed(42)"
   ]
  },
  {
   "attachments": {},
   "cell_type": "markdown",
   "id": "4a5bc6df-e36f-437f-8ed0-f5fb97afa89c",
   "metadata": {},
   "source": [
    "### 1.2 Load the Data <a id='load_data'></a>\n",
    "[to the top](#top)"
   ]
  },
  {
   "cell_type": "code",
   "execution_count": 5,
   "id": "93e1f1b1-7010-4c52-a6c3-fa03f595f437",
   "metadata": {},
   "outputs": [
    {
     "name": "stderr",
     "output_type": "stream",
     "text": [
      "/var/folders/xr/3nhmmtqd13l0kgdwkqg73d_40000gn/T/ipykernel_21670/152345024.py:4: DtypeWarning: Columns (16) have mixed types. Specify dtype option on import or set low_memory=False.\n",
      "  X_test = pd.read_csv(\"preprocessed_files/prepared_claims_data_test_median.csv\")\n"
     ]
    },
    {
     "name": "stdout",
     "output_type": "stream",
     "text": [
      "X_train shape: (346576, 43) y_train shape: (346576, 2)\n",
      "X_val shape: (91844, 43) y_val shape: (91844, 1)\n",
      "X_test shape: (114806, 43) y_test shape: (114806, 1)\n",
      "X_test_submission shape: (387975, 43) y_test shape: (114806, 1)\n"
     ]
    }
   ],
   "source": [
    "# Load the feature datasets\n",
    "X_train = pd.read_csv(\"preprocessed_files/prepared_claims_data_train_median.csv\")\n",
    "X_val = pd.read_csv(\"preprocessed_files/prepared_claims_data_val_median.csv\")\n",
    "X_test = pd.read_csv(\"preprocessed_files/prepared_claims_data_test_median.csv\")\n",
    "X_test_submission = pd.read_csv(\"preprocessed_files/prepared_claims_data_test_unseen_median.csv\")\n",
    "\n",
    "# Load the target datasets\n",
    "y_train = pd.read_csv(\"preprocessed_files/y_train_encoded_median.csv\")\n",
    "y_val = pd.read_csv(\"preprocessed_files/y_val_encoded_median.csv\")\n",
    "y_test = pd.read_csv(\"preprocessed_files/y_test_encoded_median.csv\")\n",
    "\n",
    "# Inspect loaded data\n",
    "print(\"X_train shape:\", X_train.shape, \"y_train shape:\", y_train.shape)\n",
    "print(\"X_val shape:\", X_val.shape, \"y_val shape:\", y_val.shape)\n",
    "print(\"X_test shape:\", X_test.shape, \"y_test shape:\", y_test.shape)\n",
    "print(\"X_test_submission shape:\", X_test_submission.shape, \"y_test shape:\", y_test.shape)"
   ]
  },
  {
   "cell_type": "code",
   "execution_count": 6,
   "id": "db83a72c-6dc5-492a-9316-4470d1cbcd05",
   "metadata": {},
   "outputs": [
    {
     "name": "stdout",
     "output_type": "stream",
     "text": [
      "Index(['Unnamed: 0', 'Age at Injury', 'Attorney/Representative',\n",
      "       'Average Weekly Wage', 'Carrier Name', 'Carrier Type',\n",
      "       'Claim Identifier', 'County of Injury', 'COVID-19 Indicator',\n",
      "       'District Name', 'Gender', 'Industry Code Description',\n",
      "       'Medical Fee Region', 'WCIO Cause of Injury Description',\n",
      "       'WCIO Nature of Injury Description', 'WCIO Part Of Body Description',\n",
      "       'Zip Code', 'Number of Dependents', 'Cause Injury Category',\n",
      "       'Nature of Injury Category', 'Body Part Category', 'Age_Group',\n",
      "       'Wage_Group', 'Carrier Name Grouped', 'Lag_Time', 'Accident_to_C2_Lag',\n",
      "       'Accident Date_Year', 'Accident Date_Month', 'Assembly Date_Month',\n",
      "       'Assembly Date_Day', 'C-2 Date_Year', 'C-2 Date_Month', 'C-2 Date_Day',\n",
      "       'Accident_Month_Sin', 'Accident_Month_Cos', 'Accident_Day',\n",
      "       'Assembly_Year', 'Assembly_Month_Sin', 'Assembly_Month_Cos',\n",
      "       'Assembly_Day', 'C-2_Month_Sin', 'C-2_Month_Cos', 'C-2_Day'],\n",
      "      dtype='object')\n"
     ]
    }
   ],
   "source": [
    "print(X_train.columns)\n"
   ]
  },
  {
   "cell_type": "code",
   "execution_count": 7,
   "id": "ad18c4cb",
   "metadata": {},
   "outputs": [
    {
     "name": "stdout",
     "output_type": "stream",
     "text": [
      "Are Assembly Date_Day and Assembly_Day identical? True\n"
     ]
    }
   ],
   "source": [
    "are_identical = X_train['Assembly Date_Day'].equals(X_train['Assembly_Day'])\n",
    "print(\"Are Assembly Date_Day and Assembly_Day identical?\", are_identical)"
   ]
  },
  {
   "cell_type": "code",
   "execution_count": 8,
   "id": "b9b38ea2",
   "metadata": {},
   "outputs": [
    {
     "name": "stdout",
     "output_type": "stream",
     "text": [
      "Are C-2 Date_Day and C-2_Day identical? True\n"
     ]
    }
   ],
   "source": [
    "are_identical = X_train['C-2 Date_Day'].equals(X_train['C-2_Day'])\n",
    "print(\"Are C-2 Date_Day and C-2_Day identical?\", are_identical)"
   ]
  },
  {
   "cell_type": "code",
   "execution_count": 9,
   "id": "793a3eb2",
   "metadata": {},
   "outputs": [],
   "source": [
    "X_train = X_train.drop(columns=['Assembly_Day','C-2_Day'])\n",
    "X_val = X_val.drop(columns=['Assembly_Day','C-2_Day'])\n",
    "X_test = X_test.drop(columns=['Assembly_Day','C-2_Day'])\n",
    "X_test_submission = X_test_submission.drop(columns=['Assembly_Day','C-2_Day'])"
   ]
  },
  {
   "attachments": {},
   "cell_type": "markdown",
   "id": "1084fbea-0c9b-42f8-823f-5708b62b90ab",
   "metadata": {},
   "source": [
    "### 2. Encoding Overview <a id='encoding'></a>\n",
    "[to the top](#top)"
   ]
  },
  {
   "attachments": {},
   "cell_type": "markdown",
   "id": "2b138224-fad5-4faf-8f7e-1c020f53c616",
   "metadata": {},
   "source": [
    "We decide to encode the variables as follows:\n",
    "- __One-Hot Encoding:__ For variables with a small number of unique values (< 5); preferable because it treats each category independently and avoids introducing an artificial order.\n",
    "- __Ordinal Encoding:__ For variables with a natural order or numeric-like scale."
   ]
  },
  {
   "attachments": {},
   "cell_type": "markdown",
   "id": "067aa5ea-03d3-42eb-b759-a1714a58af24",
   "metadata": {},
   "source": [
    "| **Variable**                     | **Encoding Type**       | **Reason**                                                                 |\n",
    "|----------------------------------|-------------------------|-----------------------------------------------------------------------------|\n",
    "| Age at Injury                    | None                   | Numerical variable; leave as-is.                                           |\n",
    "| Attorney/Representative          | One-Hot                | Binary categorical (Yes/No).                                               |\n",
    "| Average Weekly Wage              | None                   | Numerical variable; leave as-is.                                           |\n",
    "| Carrier Name                     | -                  | High-cardinality categorical; Will only used grouped feature.                          |\n",
    "| Carrier Type                     | One-Hot                  | Nominal categorical; Label Encoding is efficient for lower cardinality.    |\n",
    "| Claim Identifier                 | None                   | Unique identifier; leave as-is.                                            |\n",
    "| County of Injury                 | One-Hot                  | High-cardinality categorical; One-Hot avoids unintended ordinal meaning.   |\n",
    "| COVID-19 Indicator               | One-Hot                | Binary categorical (Yes/No).                                               |\n",
    "| District Name                    | One-Hot                   | Categorical variable, moderate cardinality.   |\n",
    "| Gender                           | One-Hot                | Binary categorical (Male/Female/Other).                                    |\n",
    "| Industry Code Description        | One-Hot                   | High-cardinality nominal; convert to One-Hot for consistency                    |\n",
    "| Medical Fee Region               | Ordinal                | Nominal categorical (regions); Consists of order.  |\n",
    "| WCIO Cause of Injury Code        | -                  | Numerical but nominal. Will only used grouped feature.\n",
    "| WCIO Nature of Injury Code       | -                  | Numerical but nominal. Will only used grouped feature.                         |\n",
    "| WCIO Part Of Body Code           | -                  | Numerical but nominal. Will only used grouped feature.                        |\n",
    "| Zip Code                         | -                  | High-cardinality categorical.                 |\n",
    "| Number of Dependents             | None                   | Numerical variable; leave as-is.                                           |\n",
    "| Lag_Time                         | None                   | Numerical variable; leave as-is.                                           |\n",
    "| Accident_to_C2_Lag               | None                   | Numerical variable; leave as-is.                                           |\n",
    "| Accident Date_Year               | None                   | Numerical variable; leave as-is.                                           |\n",
    "| Accident Date_Month              | None                | Cyclical data; leave and see if sin/cos transformations work better.                |\n",
    "| Accident Date_Day                | None                   | Numerical; leave as-is unless specific patterns are found.                 |\n",
    "| Assembly Date_Year               | None                   | Numerical variable; leave as-is.                                           |\n",
    "| Assembly Date_Month              | None                | Cyclical data; leave and see if sin/cos transformations work better.                |\n",
    "| Assembly Date_Day                | None                   | Numerical; leave as-is unless specific patterns are found.                 |\n",
    "| C-2 Date_Year                    | None                   | Numerical variable; leave as-is.                                           |\n",
    "| C-2 Date_Month                   | None                | Cyclical data; leave and see if sin/cos transformations work better.                |\n",
    "| C-2 Date_Day                     | None                   | Numerical; leave as-is unless specific patterns are found.                 |\n",
    "| Accident_Year                    | None                   | Numerical variable; leave as-is.                                           |\n",
    "| Accident_Month                   | None                | Cyclical data; leave and see if sin/cos transformations work better.                |\n",
    "| Accident_Month_Sin               | None                   | Already processed as cyclical; leave as-is.                                |\n",
    "| Accident_Month_Cos               | None                   | Already processed as cyclical; leave as-is.                                |\n",
    "| Accident_Day                     | None                   | Numerical; leave as-is unless specific patterns are found.                 |\n",
    "| Assembly_Year                    | None                   | Numerical variable; leave as-is.                                           |\n",
    "| Assembly_Month                   | None                | Cyclical data; leave and see if sin/cos transformations work better.                |\n",
    "| Assembly_Month_Sin               | None                   | Already processed as cyclical; leave as-is.                                |\n",
    "| Assembly_Month_Cos               | None                   | Already processed as cyclical; leave as-is.                                |\n",
    "| Assembly_Day                     | None                   | Numerical; leave as-is unless specific patterns are found.                 |\n",
    "| C-2_Year                         | None                   | Numerical variable; leave as-is.                                           |\n",
    "| C-2_Month                        | None                | Cyclical data; leave and see if sin/cos transformations work better.                |\n",
    "| C-2_Month_Sin                    | None                   | Already processed as cyclical; leave as-is.                                |\n",
    "| C-2_Month_Cos                    | None                   | Already processed as cyclical; leave as-is.                                |\n",
    "| C-2_Day                          | None                   | Numerical; leave as-is unless specific patterns are found.                 |\n",
    "| Cause Injury Category            | One-Hot                  | Nominal categorical.                          |\n",
    "| Nature of Injury Category        | One-Hot                  | Nominal categorical.                          |\n",
    "| Body Part Category               | One-Hot                  | Nominal categorical.                      |\n",
    "| Age_Group                        | Ordinal                | Categorical with inherent order (e.g., Teen, Adult); Ordinal Encoding fits.|\n",
    "| Wage_Group                       | Ordinal                | Categorical with inherent order (e.g., Low, Medium, High); Ordinal fits.   |\n",
    "| Carrier Name Grouped             | One-Hot                  | High-cardinality nominal.                     |\n",
    "| Region                        | Ordinal                | Categorical with inherent order (distance between region related to numbers); Ordinal Encoding fits.|\n",
    "| State                       | Ordinal                | Categorical with inherent order (distance between region related to numbers); Ordinal fits.   |\n"
   ]
  },
  {
   "cell_type": "code",
   "execution_count": 10,
   "id": "e96c5b57",
   "metadata": {},
   "outputs": [
    {
     "name": "stdout",
     "output_type": "stream",
     "text": [
      "Number of features in X_train: 41\n"
     ]
    }
   ],
   "source": [
    "num_features1 = X_train.shape[1]\n",
    "print(f\"Number of features in X_train: {num_features1}\")"
   ]
  },
  {
   "attachments": {},
   "cell_type": "markdown",
   "id": "b670468b-9ebf-4296-8e11-1242cf49ee72",
   "metadata": {},
   "source": [
    "### Numerical Features"
   ]
  },
  {
   "cell_type": "code",
   "execution_count": 11,
   "id": "ff24271c-658c-44e1-aea7-4bae8b427b18",
   "metadata": {},
   "outputs": [],
   "source": [
    "numerical_features = [\n",
    "    'Age at Injury', 'Average Weekly Wage', 'Claim Identifier',\n",
    "    'Number of Dependents', 'Lag_Time', 'Accident_to_C2_Lag',\n",
    "    'Accident Date_Year', 'Accident Date_Month', 'Accident_Day','Accident_Month_Sin', 'Accident_Month_Cos',\n",
    "    'Assembly Date_Month', 'Assembly Date_Day','Assembly_Year', 'Assembly_Month_Sin', 'Assembly_Month_Cos',\n",
    "    'C-2 Date_Year', 'C-2 Date_Month', 'C-2 Date_Day', 'C-2_Month_Sin', 'C-2_Month_Cos'\n",
    "]\n"
   ]
  },
  {
   "attachments": {},
   "cell_type": "markdown",
   "id": "4bc1276b",
   "metadata": {},
   "source": [
    "_Feature Engineering for ZIP Code -> maybe include in Preprocessing?_"
   ]
  },
  {
   "cell_type": "code",
   "execution_count": 12,
   "id": "e4225ceb",
   "metadata": {},
   "outputs": [],
   "source": [
    "X_train['Region'] = X_train['Zip Code'].astype(str).str[0]\n",
    "X_val['Region'] = X_val['Zip Code'].astype(str).str[0]\n",
    "X_test['Region'] = X_test['Zip Code'].astype(str).str[0]\n",
    "X_test_submission['Region'] = X_test_submission['Zip Code'].astype(str).str[0]"
   ]
  },
  {
   "cell_type": "code",
   "execution_count": 13,
   "id": "9d5a7b18",
   "metadata": {},
   "outputs": [],
   "source": [
    "X_train['State'] = X_train['Zip Code'].astype(str).str[:2]\n",
    "X_val['State'] = X_val['Zip Code'].astype(str).str[:2]\n",
    "X_test['State'] = X_test['Zip Code'].astype(str).str[:2]\n",
    "X_test_submission['State'] = X_test_submission['Zip Code'].astype(str).str[:2]"
   ]
  },
  {
   "cell_type": "code",
   "execution_count": 14,
   "id": "169a2a82",
   "metadata": {},
   "outputs": [
    {
     "data": {
      "text/plain": [
       "1    330921\n",
       "0     10311\n",
       "3      2008\n",
       "2      1143\n",
       "7       635\n",
       "9       466\n",
       "4       305\n",
       "8       287\n",
       "6       193\n",
       "5       114\n",
       "M        39\n",
       "H        36\n",
       "V        32\n",
       "L        31\n",
       "J        13\n",
       "U        10\n",
       "T         8\n",
       "K         6\n",
       "N         4\n",
       "S         4\n",
       "F         2\n",
       "B         2\n",
       "C         2\n",
       "G         1\n",
       "D         1\n",
       ".         1\n",
       "R         1\n",
       "Name: Region, dtype: int64"
      ]
     },
     "execution_count": 14,
     "metadata": {},
     "output_type": "execute_result"
    }
   ],
   "source": [
    "X_train['Region'].value_counts()"
   ]
  },
  {
   "cell_type": "code",
   "execution_count": 15,
   "id": "48c2bb18",
   "metadata": {},
   "outputs": [],
   "source": [
    "X_train['Region'] = X_train['Region'].apply(lambda x: 'other' if (isinstance(x, str) and (x.isalpha() or x == \".\")) else x)\n",
    "X_val['Region'] = X_val['Region'].apply(lambda x: 'other' if (isinstance(x, str) and (x.isalpha() or x == \".\")) else x)\n",
    "X_test['Region'] = X_test['Region'].apply(lambda x: 'other' if (isinstance(x, str) and (x.isalpha() or x == \".\")) else x)\n",
    "X_test_submission['Region'] = X_test_submission['Region'].apply(lambda x: 'other' if (isinstance(x, str) and (x.isalpha() or x == \".\")) else x)\n",
    "\n",
    "X_train['State'] = X_train['State'].apply(lambda x: 'other' if not str(x).isdigit() or int(x) > 99 else int(x))\n",
    "X_val['State'] = X_val['State'].apply(lambda x: 'other' if not str(x).isdigit() or int(x) > 99 else int(x))\n",
    "X_test['State'] = X_test['State'].apply(lambda x: 'other' if not str(x).isdigit() or int(x) > 99 else int(x))\n",
    "X_test_submission['State'] = X_test_submission['State'].apply(lambda x: 'other' if not str(x).isdigit() or int(x) > 99 else int(x))"
   ]
  },
  {
   "attachments": {},
   "cell_type": "markdown",
   "id": "f419735d",
   "metadata": {},
   "source": [
    "__Drop the following columns because grouped versions were created and otherwise One-Hot Encoding will blow up the data sets__\n",
    "\n",
    "_'Unnamed: 0', 'Carrier Name', 'WCIO Cause of Injury Description', 'WCIO Nature of Injury Description', 'WCIO Part Of Body Description', 'Zip Code'_"
   ]
  },
  {
   "cell_type": "code",
   "execution_count": 16,
   "id": "25153283",
   "metadata": {},
   "outputs": [],
   "source": [
    "X_train = X_train.drop(columns=['Unnamed: 0', 'Carrier Name', 'WCIO Cause of Injury Description', 'WCIO Nature of Injury Description', 'WCIO Part Of Body Description', 'Zip Code'])\n",
    "X_val = X_val.drop(columns=['Unnamed: 0', 'Carrier Name', 'WCIO Cause of Injury Description', 'WCIO Nature of Injury Description', 'WCIO Part Of Body Description', 'Zip Code'])\n",
    "X_test = X_test.drop(columns=['Unnamed: 0', 'Carrier Name', 'WCIO Cause of Injury Description', 'WCIO Nature of Injury Description', 'WCIO Part Of Body Description', 'Zip Code'])\n",
    "X_test_submission = X_test_submission.drop(columns=['Unnamed: 0', 'Carrier Name', 'WCIO Cause of Injury Description', 'WCIO Nature of Injury Description', 'WCIO Part Of Body Description', 'Zip Code'])"
   ]
  },
  {
   "attachments": {},
   "cell_type": "markdown",
   "id": "e82378a7-ca77-4afb-8445-04d6bf9339f2",
   "metadata": {},
   "source": [
    "### One Hot Encoding"
   ]
  },
  {
   "cell_type": "code",
   "execution_count": 17,
   "id": "a3856428-4b4e-4e67-abe4-b212b178b563",
   "metadata": {},
   "outputs": [],
   "source": [
    "onehot_features = [\n",
    "    'Attorney/Representative', 'COVID-19 Indicator', 'Gender', \n",
    "    'Carrier Type', 'District Name', 'Industry Code Description', \n",
    "    'County of Injury', 'Cause Injury Category', 'Nature of Injury Category', \n",
    "    'Body Part Category', 'Carrier Name Grouped'\n",
    "]\n"
   ]
  },
  {
   "cell_type": "code",
   "execution_count": 18,
   "id": "55a07674-3290-4d4e-83f9-66f8e8aa2d56",
   "metadata": {},
   "outputs": [],
   "source": [
    "# Initialize OneHotEncoder\n",
    "onehot_encoder = OneHotEncoder(handle_unknown='ignore', sparse_output=False)"
   ]
  },
  {
   "attachments": {},
   "cell_type": "markdown",
   "id": "cdb85a6f-f70e-4203-bbcd-c26c0563fb8f",
   "metadata": {},
   "source": [
    "### Ordinal Encoding "
   ]
  },
  {
   "cell_type": "code",
   "execution_count": 19,
   "id": "316dc883-9b8b-4441-a38f-cc6dece1d15f",
   "metadata": {},
   "outputs": [],
   "source": [
    "# Define ordinal features and categories\n",
    "state_categories = [str(i) for i in range(100)] + ['other']\n",
    "ordinal_features = ['Age_Group', 'Wage_Group', 'Medical Fee Region','Region', 'State']  # Add ordinal features if applicable\n",
    "ordinal_categories = [\n",
    "    ['Teen', 'Young Adult', 'Adult', 'Middle-Aged Adult', 'Older Adult', 'Senior'],  # Age_Group\n",
    "    ['Low', 'Below Average', 'Average', 'Above Average', 'High'],  # Wage_Group\n",
    "    ['I','II', 'III', 'IV', 'UK'], # Medical Fee Region\n",
    "    ['0','1', '2', '3', '4', '5', '6', '7', '8', '9', 'other'], # Region\n",
    "    state_categories # States\n",
    "]\n",
    "\n",
    "# Initialize and fit OrdinalEncoder\n",
    "ordinal_encoder = OrdinalEncoder(categories=ordinal_categories)\n",
    "\n"
   ]
  },
  {
   "attachments": {},
   "cell_type": "markdown",
   "id": "994e0e4d-9d2c-4e5f-8ca7-865fbf6b07e6",
   "metadata": {},
   "source": [
    "### 3. Encoding and Scaling Pipeline <a id='e_s_pipeline'></a>\n",
    "[to the top](#top)"
   ]
  },
  {
   "cell_type": "code",
   "execution_count": 20,
   "id": "e99b9ba8",
   "metadata": {},
   "outputs": [
    {
     "name": "stdout",
     "output_type": "stream",
     "text": [
      "Validated feature groups:\n",
      "One-hot features: ['Attorney/Representative', 'COVID-19 Indicator', 'Gender', 'Carrier Type', 'District Name', 'Industry Code Description', 'County of Injury', 'Cause Injury Category', 'Nature of Injury Category', 'Body Part Category', 'Carrier Name Grouped']\n",
      "Numerical features: ['Age at Injury', 'Average Weekly Wage', 'Claim Identifier', 'Number of Dependents', 'Lag_Time', 'Accident_to_C2_Lag', 'Accident Date_Year', 'Accident Date_Month', 'Accident_Day', 'Accident_Month_Sin', 'Accident_Month_Cos', 'Assembly Date_Month', 'Assembly Date_Day', 'Assembly_Year', 'Assembly_Month_Sin', 'Assembly_Month_Cos', 'C-2 Date_Year', 'C-2 Date_Month', 'C-2 Date_Day', 'C-2_Month_Sin', 'C-2_Month_Cos']\n",
      "Ordinal features: ['Age_Group', 'Wage_Group', 'Medical Fee Region', 'Region', 'State']\n"
     ]
    }
   ],
   "source": [
    "# Define transformations\n",
    "onehot_transformer = Pipeline(steps=[\n",
    "    ('onehot', OneHotEncoder(handle_unknown='ignore', sparse_output=False)),\n",
    "    ('scaler', StandardScaler())  # Optional scaling for one-hot encoded features\n",
    "])\n",
    "\n",
    "ordinal_transformer = Pipeline(steps=[\n",
    "    ('ordinal', OrdinalEncoder(categories=ordinal_categories, handle_unknown='use_encoded_value', unknown_value=-1)),\n",
    "    ('scaler', StandardScaler())  # Scale the ordinal features\n",
    "])\n",
    "\n",
    "numerical_transformer = Pipeline(steps=[\n",
    "    ('scaler', StandardScaler())  # Scale numerical features\n",
    "])\n",
    "\n",
    "# Combine all transformers into a ColumnTransformer\n",
    "preprocessor = ColumnTransformer(transformers=[\n",
    "    ('onehot', onehot_transformer, onehot_features),\n",
    "    ('ordinal', ordinal_transformer, ordinal_features),\n",
    "    ('num', numerical_transformer, numerical_features)  # Ensure numerical features are also scaled\n",
    "])\n",
    "\n",
    "# Apply the preprocessor: fit on training data and transform all datasets\n",
    "X_train_transformed = preprocessor.fit_transform(X_train)\n",
    "X_val_transformed = preprocessor.transform(X_val)\n",
    "X_test_transformed = preprocessor.transform(X_test)\n",
    "X_test_submission_transformed = preprocessor.transform(X_test_submission)\n",
    "\n",
    "# Save the preprocessor for future use\n",
    "with open('preprocessor.pkl', 'wb') as f:\n",
    "    pickle.dump(preprocessor, f)\n",
    "\n",
    "print(\"Validated feature groups:\")\n",
    "print(\"One-hot features:\", onehot_features)\n",
    "print(\"Numerical features:\", numerical_features)\n",
    "print(\"Ordinal features:\", ordinal_features)"
   ]
  },
  {
   "attachments": {},
   "cell_type": "markdown",
   "id": "8059fa56-3c6a-40a5-b632-8b48807b8990",
   "metadata": {},
   "source": [
    "### Verificaton of the scalling of the data"
   ]
  },
  {
   "cell_type": "code",
   "execution_count": 21,
   "id": "ba189784-0bfe-444d-a69e-8b83051c9486",
   "metadata": {},
   "outputs": [
    {
     "name": "stdout",
     "output_type": "stream",
     "text": [
      "Scaled X_train mean: [-3.44084568e-15  3.44084568e-15  5.45304931e-16 -1.53380292e-15\n",
      " -1.06198360e-15  5.84797075e-15  4.22492603e-15  1.43547427e-15\n",
      " -2.45393065e-15  3.88660706e-16 -8.35687246e-15  3.06636143e-15\n",
      " -4.39446324e-15  4.33798454e-15 -6.82234124e-16 -3.28444651e-15\n",
      "  1.16344791e-15 -4.39442256e-15  3.10694973e-16  5.50854540e-15\n",
      "  1.63206726e-15 -8.93481976e-16  1.05624182e-14 -3.01341193e-16\n",
      " -1.73993405e-15 -6.66983197e-16 -3.31219344e-15 -6.45322899e-16\n",
      " -1.29197361e-15 -2.05017198e-15  6.25594454e-15  2.93477776e-16\n",
      " -1.95935899e-16  1.48862423e-15 -2.15485427e-15  7.07845453e-15\n",
      " -1.29700936e-15  1.97379866e-15  4.18068438e-15 -3.81414958e-15\n",
      "  8.25212306e-16  2.87022216e-15 -6.41546038e-15  2.45978960e-16\n",
      " -1.03564761e-14 -8.21623460e-15  3.78742967e-16 -5.38786668e-15\n",
      "  2.51656529e-15  3.57622018e-15 -2.69775608e-16 -2.06555945e-15\n",
      " -4.37395761e-15  1.55032849e-14  9.00997763e-16 -1.15396359e-15\n",
      "  5.21826060e-16  5.77147282e-15 -4.23250841e-15  5.62402845e-15\n",
      "  5.00924248e-16 -5.75969482e-15  2.17703161e-16  2.75960213e-15\n",
      "  9.05411277e-15  4.20643783e-15 -4.97930567e-15  1.43502299e-16\n",
      "  5.56637053e-16  3.52462607e-15 -1.43007237e-15 -3.78967333e-15\n",
      "  6.48912298e-15  6.25035836e-15 -2.61794823e-15  6.97459777e-15\n",
      "  1.05876266e-15 -2.86515414e-15  3.79465887e-15 -7.42078841e-16\n",
      "  4.60614171e-16 -4.66743789e-15  8.85229045e-16  1.64931824e-15\n",
      "  1.41970775e-15 -1.12045101e-15 -5.84034048e-15  3.82552523e-15\n",
      " -1.13423122e-15  5.69750625e-15  2.47504537e-15 -3.45436725e-15\n",
      " -2.17346905e-15 -1.53417788e-15  2.34569810e-14  7.06983706e-15\n",
      " -2.06326874e-15  3.36458584e-15 -5.67427012e-15  2.29842724e-15\n",
      " -5.71722324e-16  5.41101636e-15  2.86871400e-15 -1.94547656e-15\n",
      " -1.17008774e-15  3.62461809e-15 -2.23727465e-15  2.91318093e-15\n",
      "  2.87452609e-15 -1.95940192e-15 -2.21656304e-15  5.46142237e-15\n",
      "  3.64988030e-15 -2.10023494e-15 -1.26301259e-14 -9.20715953e-15\n",
      "  3.14688112e-15 -2.13360657e-16  7.04488510e-15  1.14791556e-15\n",
      " -4.97244578e-16 -1.50154316e-15 -4.39679404e-15  4.40886953e-15\n",
      "  7.45080711e-16 -5.13410873e-15 -6.36796542e-15  1.01615506e-15\n",
      " -8.39937202e-15 -7.33280243e-15 -2.45769545e-15 -1.88449800e-15\n",
      " -3.63982866e-15 -6.52613110e-15  1.83218144e-16 -1.78024089e-15\n",
      "  1.39437491e-15  2.44198820e-15 -1.31753998e-15  2.47507488e-15\n",
      "  1.97448611e-15 -3.16132143e-15 -4.79450196e-15 -1.28803952e-14\n",
      " -1.78280473e-15  6.95505828e-15  8.97259510e-16  9.33169031e-15\n",
      "  6.35757871e-15 -3.14857781e-15 -6.68147475e-16  3.01246020e-15\n",
      " -4.07901441e-15 -2.38410084e-15  1.79725176e-15 -2.48192392e-15\n",
      " -1.31074506e-14 -7.82213892e-15 -2.45393065e-15  0.00000000e+00\n",
      " -2.58196271e-15  6.73922059e-15  6.57104968e-15 -9.64604063e-15\n",
      " -1.06272935e-17  2.64110364e-15 -1.68510531e-15 -4.14841489e-16\n",
      "  5.02149198e-15  4.96373892e-15  4.72550903e-14 -2.04120597e-16\n",
      "  4.52140646e-16 -1.10776281e-15  7.28254230e-16  8.23523632e-16\n",
      " -5.79014674e-16  1.42681330e-14  4.47114985e-15 -4.41385537e-16\n",
      " -6.63547976e-14  6.22165971e-16  1.75772264e-15 -1.26956964e-15\n",
      "  3.87948269e-16]\n",
      "Scaled X_train std: [1. 1. 1. 1. 1. 1. 1. 1. 1. 1. 1. 1. 1. 1. 1. 1. 1. 1. 1. 1. 1. 1. 1. 1.\n",
      " 1. 1. 1. 1. 1. 1. 1. 1. 1. 1. 1. 1. 1. 1. 1. 1. 1. 1. 1. 1. 1. 1. 1. 1.\n",
      " 1. 1. 1. 1. 1. 1. 1. 1. 1. 1. 1. 1. 1. 1. 1. 1. 1. 1. 1. 1. 1. 1. 1. 1.\n",
      " 1. 1. 1. 1. 1. 1. 1. 1. 1. 1. 1. 1. 1. 1. 1. 1. 1. 1. 1. 1. 1. 1. 1. 1.\n",
      " 1. 1. 1. 1. 1. 1. 1. 1. 1. 1. 1. 1. 1. 1. 1. 1. 1. 1. 1. 1. 1. 1. 1. 1.\n",
      " 1. 1. 1. 1. 1. 1. 1. 1. 1. 1. 1. 1. 1. 1. 1. 1. 1. 1. 1. 1. 1. 1. 1. 1.\n",
      " 1. 1. 1. 1. 1. 1. 1. 1. 1. 1. 1. 1. 1. 1. 1. 0. 1. 1. 1. 1. 1. 1. 1. 1.\n",
      " 1. 1. 1. 1. 1. 1. 1. 1. 1. 1. 1. 1. 1. 1. 1. 1. 1.]\n"
     ]
    }
   ],
   "source": [
    "# Verify scaled data\n",
    "print(\"Scaled X_train mean:\",X_train_transformed.mean(axis=0))\n",
    "print(\"Scaled X_train std:\", X_train_transformed.std(axis=0))"
   ]
  },
  {
   "cell_type": "code",
   "execution_count": 22,
   "id": "789c729e-cf45-479d-8ef3-2695de0e06df",
   "metadata": {},
   "outputs": [
    {
     "name": "stdout",
     "output_type": "stream",
     "text": [
      "Number of features after encoding: 185\n"
     ]
    }
   ],
   "source": [
    "#Checking the number of features after Scalling\n",
    "num_features2 = X_train_transformed.shape[1]\n",
    "print(f\"Number of features after encoding: {num_features2}\")"
   ]
  },
  {
   "cell_type": "code",
   "execution_count": 23,
   "id": "f6fc157b",
   "metadata": {},
   "outputs": [
    {
     "name": "stdout",
     "output_type": "stream",
     "text": [
      "Shape of X_train_transformed: (346576, 185)\n",
      "Corrected feature names: ['Attorney/Representative_N', 'Attorney/Representative_Y', 'COVID-19 Indicator_N', 'COVID-19 Indicator_Y', 'Gender_F', 'Gender_M', 'Gender_Other', 'Carrier Type_1A. PRIVATE', 'Carrier Type_2A. SIF', 'Carrier Type_3A. SELF PUBLIC', 'Carrier Type_4A. SELF PRIVATE', 'Carrier Type_5C. SPECIAL FUND - POI CARRIER WCB MENANDS', 'Carrier Type_5D. SPECIAL FUND - UNKNOWN', 'Carrier Type_UNKNOWN', 'District Name_ALBANY', 'District Name_BINGHAMTON', 'District Name_BUFFALO', 'District Name_HAUPPAUGE', 'District Name_NYC', 'District Name_ROCHESTER', 'District Name_STATEWIDE', 'District Name_SYRACUSE', 'Industry Code Description_ACCOMMODATION AND FOOD SERVICES', 'Industry Code Description_ADMINISTRATIVE AND SUPPORT AND WASTE MANAGEMENT AND REMEDIAT', 'Industry Code Description_AGRICULTURE, FORESTRY, FISHING AND HUNTING', 'Industry Code Description_ARTS, ENTERTAINMENT, AND RECREATION', 'Industry Code Description_CONSTRUCTION', 'Industry Code Description_EDUCATIONAL SERVICES', 'Industry Code Description_FINANCE AND INSURANCE', 'Industry Code Description_HEALTH CARE AND SOCIAL ASSISTANCE', 'Industry Code Description_INFORMATION', 'Industry Code Description_MANAGEMENT OF COMPANIES AND ENTERPRISES', 'Industry Code Description_MANUFACTURING', 'Industry Code Description_MINING', 'Industry Code Description_OTHER SERVICES (EXCEPT PUBLIC ADMINISTRATION)', 'Industry Code Description_PROFESSIONAL, SCIENTIFIC, AND TECHNICAL SERVICES', 'Industry Code Description_PUBLIC ADMINISTRATION', 'Industry Code Description_REAL ESTATE AND RENTAL AND LEASING', 'Industry Code Description_RETAIL TRADE', 'Industry Code Description_TRANSPORTATION AND WAREHOUSING', 'Industry Code Description_UTILITIES', 'Industry Code Description_WHOLESALE TRADE', 'County of Injury_ALBANY', 'County of Injury_ALLEGANY', 'County of Injury_BRONX', 'County of Injury_BROOME', 'County of Injury_CATTARAUGUS', 'County of Injury_CAYUGA', 'County of Injury_CHAUTAUQUA', 'County of Injury_CHEMUNG', 'County of Injury_CHENANGO', 'County of Injury_CLINTON', 'County of Injury_COLUMBIA', 'County of Injury_CORTLAND', 'County of Injury_DELAWARE', 'County of Injury_DUTCHESS', 'County of Injury_ERIE', 'County of Injury_ESSEX', 'County of Injury_FRANKLIN', 'County of Injury_FULTON', 'County of Injury_GENESEE', 'County of Injury_GREENE', 'County of Injury_HAMILTON', 'County of Injury_HERKIMER', 'County of Injury_JEFFERSON', 'County of Injury_KINGS', 'County of Injury_LEWIS', 'County of Injury_LIVINGSTON', 'County of Injury_MADISON', 'County of Injury_MONROE', 'County of Injury_MONTGOMERY', 'County of Injury_NASSAU', 'County of Injury_NEW YORK', 'County of Injury_NIAGARA', 'County of Injury_ONEIDA', 'County of Injury_ONONDAGA', 'County of Injury_ONTARIO', 'County of Injury_ORANGE', 'County of Injury_ORLEANS', 'County of Injury_OSWEGO', 'County of Injury_OTSEGO', 'County of Injury_PUTNAM', 'County of Injury_QUEENS', 'County of Injury_RENSSELAER', 'County of Injury_RICHMOND', 'County of Injury_ROCKLAND', 'County of Injury_SARATOGA', 'County of Injury_SCHENECTADY', 'County of Injury_SCHOHARIE', 'County of Injury_SCHUYLER', 'County of Injury_SENECA', 'County of Injury_ST. LAWRENCE', 'County of Injury_STEUBEN', 'County of Injury_SUFFOLK', 'County of Injury_SULLIVAN', 'County of Injury_TIOGA', 'County of Injury_TOMPKINS', 'County of Injury_ULSTER', 'County of Injury_UNKNOWN', 'County of Injury_WARREN', 'County of Injury_WASHINGTON', 'County of Injury_WAYNE', 'County of Injury_WESTCHESTER', 'County of Injury_WYOMING', 'County of Injury_YATES', 'Cause Injury Category_Collisions and Motor Vehicle Accidents', 'Cause Injury Category_Explosions and Fire', 'Cause Injury Category_Exposure to Substances and Environment', 'Cause Injury Category_Falls and Slips', 'Cause Injury Category_Lifting and Strain', 'Cause Injury Category_Natural Disasters and Uncommon Events', 'Cause Injury Category_Other', 'Cause Injury Category_Struck By Object or Person', 'Cause Injury Category_Tools, Machinery, and Objects', 'Nature of Injury Category_Burns and Temperature-Related Injuries', 'Nature of Injury Category_Circulatory and Heart-Related Issues', 'Nature of Injury Category_Cumulative or Repetitive Injuries', 'Nature of Injury Category_Infections and Diseases', 'Nature of Injury Category_Miscellaneous Conditions', 'Nature of Injury Category_Other', 'Nature of Injury Category_Physical Trauma', 'Nature of Injury Category_Poisoning and Chemical Exposure', 'Nature of Injury Category_Psychological and Mental Health', 'Nature of Injury Category_Radiation and Light Exposure', 'Nature of Injury Category_Respiratory Issues', 'Nature of Injury Category_Sensory Loss', 'Body Part Category_Abdomen and Pelvis', 'Body Part Category_Ankle and Foot', 'Body Part Category_Arm and Wrist', 'Body Part Category_Body Systems', 'Body Part Category_Chest', 'Body Part Category_Hand and Fingers', 'Body Part Category_Head and Face', 'Body Part Category_Heart', 'Body Part Category_Hip', 'Body Part Category_Internal Organs', 'Body Part Category_Knee', 'Body Part Category_Leg', 'Body Part Category_Lower Back', 'Body Part Category_Lungs', 'Body Part Category_Neck and Throat', 'Body Part Category_Other', 'Body Part Category_Shoulder', 'Body Part Category_Soft Tissue', 'Body Part Category_Spinal Column', 'Body Part Category_Unclassified or Insufficient Info', 'Body Part Category_Upper Back', 'Carrier Name Grouped_A I U INSURANCE COMPANY', 'Carrier Name Grouped_AMERICAN ZURICH INSURANCE CO', 'Carrier Name Grouped_CHARTER OAK FIRE INS CO', 'Carrier Name Grouped_INDEMNITY INS. OF N AMERICA', 'Carrier Name Grouped_INDEMNITY INSURANCE CO OF', 'Carrier Name Grouped_LM INSURANCE CORP', 'Carrier Name Grouped_NEW HAMPSHIRE INSURANCE CO', 'Carrier Name Grouped_NYC TRANSIT AUTHORITY', 'Carrier Name Grouped_Other', 'Carrier Name Grouped_POLICE, FIRE, SANITATION', 'Carrier Name Grouped_SAFETY NATIONAL CASUALTY CORP', 'Carrier Name Grouped_STATE INSURANCE FUND', 'Age_Group', 'Wage_Group', 'Medical Fee Region', 'Region', 'State', 'Age at Injury', 'Average Weekly Wage', 'Claim Identifier', 'Number of Dependents', 'Lag_Time', 'Accident_to_C2_Lag', 'Accident Date_Year', 'Accident Date_Month', 'Accident_Day', 'Accident_Month_Sin', 'Accident_Month_Cos', 'Assembly Date_Month', 'Assembly Date_Day', 'Assembly_Year', 'Assembly_Month_Sin', 'Assembly_Month_Cos', 'C-2 Date_Year', 'C-2 Date_Month', 'C-2 Date_Day', 'C-2_Month_Sin', 'C-2_Month_Cos']\n",
      "DataFrame created successfully with shape: (346576, 185)\n"
     ]
    }
   ],
   "source": [
    "print(\"Shape of X_train_transformed:\", X_train_transformed.shape) \n",
    "\n",
    "# Retrieve one-hot encoded feature names\n",
    "onehot_encoded_names = preprocessor.named_transformers_['onehot'].named_steps['onehot'].get_feature_names_out(onehot_features)\n",
    "\n",
    "# Combine all feature names\n",
    "feature_names = (\n",
    "    list(onehot_encoded_names) +\n",
    "    ordinal_features +\n",
    "    numerical_features\n",
    ")\n",
    "print(\"Corrected feature names:\", feature_names)\n",
    "\n",
    "# Convert to DataFrame\n",
    "X_train_df_scaled = pd.DataFrame(X_train_transformed, columns=feature_names)\n",
    "X_val_df_scaled = pd.DataFrame(X_val_transformed, columns=feature_names)\n",
    "X_test_df_scaled = pd.DataFrame(X_test_transformed, columns=feature_names)\n",
    "X_test_submission_df_scaled = pd.DataFrame(X_test_submission_transformed, columns=feature_names)\n",
    "\n",
    "print(\"DataFrame created successfully with shape:\", X_train_df_scaled.shape)"
   ]
  },
  {
   "attachments": {},
   "cell_type": "markdown",
   "id": "049e208c-2f9e-4c6b-a8a6-2abe539a9af0",
   "metadata": {},
   "source": [
    "### Verificaton of the mapping of the target variable"
   ]
  },
  {
   "cell_type": "code",
   "execution_count": 24,
   "id": "df3ad88c-6076-4c79-9848-43d1ab6d427b",
   "metadata": {},
   "outputs": [
    {
     "name": "stdout",
     "output_type": "stream",
     "text": [
      "y_train type (after extraction): <class 'pandas.core.series.Series'>\n",
      "y_val type (after extraction): <class 'pandas.core.series.Series'>\n",
      "y_test type (after extraction): <class 'pandas.core.series.Series'>\n",
      "Mapped y_train unique values: [0. 2. 4. 1. 3. 5. 7. 6.]\n",
      "Mapped y_val unique values: [1. 3. 4. 2. 0. 5. 6. 7.]\n",
      "Mapped y_test unique values: [4. 3. 2. 1. 0. 5. 7. 6.]\n"
     ]
    }
   ],
   "source": [
    "# Ensure `y_train`, `y_val`, and `y_test` are Series\n",
    "if isinstance(y_train, pd.DataFrame):\n",
    "    if 'Claim Injury Type' in y_train.columns:  # Replace with actual column name\n",
    "        y_train = y_train['Claim Injury Type']\n",
    "        y_val = y_val['Claim Injury Type']\n",
    "        y_test = y_test['Claim Injury Type']\n",
    "    else:\n",
    "        # If no explicit column name, take the first column\n",
    "        y_train = y_train.iloc[:, 0]\n",
    "        y_val = y_val.iloc[:, 0]\n",
    "        y_test = y_test.iloc[:, 0]\n",
    "\n",
    "# Verify they are Series\n",
    "print(\"y_train type (after extraction):\", type(y_train))\n",
    "print(\"y_val type (after extraction):\", type(y_val))\n",
    "print(\"y_test type (after extraction):\", type(y_test))\n",
    "\n",
    "\n",
    "# Verify the mapping\n",
    "print(\"Mapped y_train unique values:\", y_train.unique())\n",
    "print(\"Mapped y_val unique values:\", y_val.unique())\n",
    "print(\"Mapped y_test unique values:\", y_test.unique())"
   ]
  },
  {
   "attachments": {},
   "cell_type": "markdown",
   "id": "519ee78a-8c2d-40c4-83c1-bfba174a0faa",
   "metadata": {},
   "source": [
    "### 4. Feature Selection Pipeline <a id='f_pipeline'></a>\n",
    "[to the top](#top)\n"
   ]
  },
  {
   "attachments": {},
   "cell_type": "markdown",
   "id": "366f45f2",
   "metadata": {},
   "source": [
    "For the feature selection, we are diving into numerical and categorical features again to use the different methods. We are using the scaled numerical features and the PRE scaled and encoded categorical variables to prevent that such some categories are selected."
   ]
  },
  {
   "cell_type": "code",
   "execution_count": 25,
   "id": "8f527b37",
   "metadata": {},
   "outputs": [],
   "source": [
    "X_train_scaled_num = X_train_df_scaled[numerical_features]\n",
    "X_val_scaled_num = X_val_df_scaled[numerical_features]\n",
    "X_test_scaled_num = X_test_df_scaled[numerical_features]\n",
    "X_test_submission_scaled_num = X_test_submission_df_scaled[numerical_features]"
   ]
  },
  {
   "cell_type": "code",
   "execution_count": 26,
   "id": "3c1e28d7",
   "metadata": {},
   "outputs": [],
   "source": [
    "X_train_cat = X_train[ordinal_features + onehot_features]\n",
    "X_val_cat = X_val[ordinal_features + onehot_features]\n",
    "X_test_cat = X_test[ordinal_features + onehot_features]\n",
    "X_test_submission_cat = X_test_submission[ordinal_features + onehot_features]"
   ]
  },
  {
   "cell_type": "code",
   "execution_count": 27,
   "id": "f9fd2196",
   "metadata": {},
   "outputs": [
    {
     "name": "stdout",
     "output_type": "stream",
     "text": [
      "<class 'pandas.core.frame.DataFrame'>\n",
      "RangeIndex: 346576 entries, 0 to 346575\n",
      "Data columns (total 16 columns):\n",
      " #   Column                     Non-Null Count   Dtype \n",
      "---  ------                     --------------   ----- \n",
      " 0   Age_Group                  346576 non-null  object\n",
      " 1   Wage_Group                 346576 non-null  object\n",
      " 2   Medical Fee Region         346576 non-null  object\n",
      " 3   Region                     346576 non-null  object\n",
      " 4   State                      346576 non-null  object\n",
      " 5   Attorney/Representative    346576 non-null  object\n",
      " 6   COVID-19 Indicator         346576 non-null  object\n",
      " 7   Gender                     346576 non-null  object\n",
      " 8   Carrier Type               346576 non-null  object\n",
      " 9   District Name              346576 non-null  object\n",
      " 10  Industry Code Description  346576 non-null  object\n",
      " 11  County of Injury           346576 non-null  object\n",
      " 12  Cause Injury Category      346576 non-null  object\n",
      " 13  Nature of Injury Category  346576 non-null  object\n",
      " 14  Body Part Category         346576 non-null  object\n",
      " 15  Carrier Name Grouped       346576 non-null  object\n",
      "dtypes: object(16)\n",
      "memory usage: 42.3+ MB\n"
     ]
    }
   ],
   "source": [
    "X_train_cat.info()"
   ]
  },
  {
   "attachments": {},
   "cell_type": "markdown",
   "id": "4e4fb399-595a-4846-b10a-5df537106a20",
   "metadata": {},
   "source": [
    "### 4.1 Correlation Analysis <a id='corr'></a>\n",
    "[to the top](#top)"
   ]
  },
  {
   "cell_type": "code",
   "execution_count": 26,
   "id": "5f390e75-8e30-431a-90da-efcbb20f1bfa",
   "metadata": {},
   "outputs": [
    {
     "name": "stdout",
     "output_type": "stream",
     "text": [
      "Number of original variables: 21\n",
      "Number of variables removed: 12\n",
      "Number of remaining variables: 9\n",
      "\n",
      "--- Correlation-based Feature Selection ---\n",
      "\n",
      "High Correlation Pairs:\n",
      " - Claim Identifier <--> Lag_Time\n",
      " - Claim Identifier <--> Accident_to_C2_Lag\n",
      " - Claim Identifier <--> Accident Date_Year\n",
      " - Claim Identifier <--> Assembly_Year\n",
      " - Claim Identifier <--> C-2 Date_Year\n",
      " - Lag_Time <--> Accident_to_C2_Lag\n",
      " - Lag_Time <--> Accident Date_Year\n",
      " - Lag_Time <--> Assembly_Year\n",
      " - Lag_Time <--> C-2 Date_Year\n",
      " - Accident_to_C2_Lag <--> Accident Date_Year\n",
      " - Accident_to_C2_Lag <--> Assembly_Year\n",
      " - Accident_to_C2_Lag <--> C-2 Date_Year\n",
      " - Accident Date_Year <--> Assembly_Year\n",
      " - Accident Date_Year <--> C-2 Date_Year\n",
      " - Accident Date_Month <--> Accident_Month_Sin\n",
      " - Accident Date_Month <--> Assembly Date_Month\n",
      " - Accident_Month_Sin <--> Assembly_Month_Sin\n",
      " - Accident_Month_Sin <--> C-2_Month_Sin\n",
      " - Accident_Month_Cos <--> Assembly_Month_Cos\n",
      " - Accident_Month_Cos <--> C-2_Month_Cos\n",
      " - Assembly Date_Month <--> Assembly_Month_Sin\n",
      " - Assembly Date_Month <--> C-2 Date_Month\n",
      " - Assembly Date_Month <--> C-2_Month_Sin\n",
      " - Assembly_Year <--> C-2 Date_Year\n",
      " - Assembly_Month_Sin <--> C-2 Date_Month\n",
      " - Assembly_Month_Sin <--> C-2_Month_Sin\n",
      " - Assembly_Month_Cos <--> C-2_Month_Cos\n",
      " - C-2 Date_Month <--> C-2_Month_Sin\n",
      "\n",
      "Features to Exclude (High Correlation):\n",
      "{'Lag_Time', 'Assembly_Year', 'Assembly_Month_Cos', 'C-2_Month_Sin', 'Accident_to_C2_Lag', 'Accident_Month_Sin', 'C-2_Month_Cos', 'C-2 Date_Month', 'Assembly_Month_Sin', 'C-2 Date_Year', 'Assembly Date_Month', 'Accident Date_Year'}\n"
     ]
    }
   ],
   "source": [
    "# Calculate the correlation matrix\n",
    "corr_matrix = X_train_scaled_num.corr(method='spearman')\n",
    "\n",
    "# Set a threshold for highly correlated variables\n",
    "threshold = 0.7\n",
    "\n",
    "# Find all pairs with a correlation >= 0.7 or <= -0.7\n",
    "# (Returns a \"True\" matrix)\n",
    "high_corr = (corr_matrix.abs() >= threshold) & (corr_matrix != 1)\n",
    "\n",
    "# List of variables to be dropped\n",
    "to_drop = set()\n",
    "\n",
    "# Iterate through the upper triangular matrix (to avoid duplicate pairs)\n",
    "for i in range(len(corr_matrix.columns)):\n",
    "    for j in range(i + 1, len(corr_matrix.columns)):\n",
    "        if high_corr.iloc[i, j]:\n",
    "            colname1 = corr_matrix.columns[i]\n",
    "            colname2 = corr_matrix.columns[j]\n",
    "            # Keep one of the two variables (e.g., the one that comes first alphabetically)\n",
    "            to_drop.add(colname2)\n",
    "\n",
    "# Remove the selected variables\n",
    "X_train_filtered = X_train_scaled_num.drop(columns=to_drop)\n",
    "\n",
    "\n",
    "# Result: Number of remaining variables\n",
    "print(f\"Number of original variables: {X_train_scaled_num.shape[1]}\")\n",
    "print(f\"Number of variables removed: {len(to_drop)}\")\n",
    "print(f\"Number of remaining variables: {X_train_filtered.shape[1]}\")\n",
    "\n",
    "print(\"\\n--- Correlation-based Feature Selection ---\")\n",
    "print(\"\\nHigh Correlation Pairs:\")\n",
    "for i in range(len(corr_matrix.columns)):\n",
    "    for j in range(i + 1, len(corr_matrix.columns)):\n",
    "        if high_corr.iloc[i, j]:\n",
    "            colname1 = corr_matrix.columns[i]\n",
    "            colname2 = corr_matrix.columns[j]\n",
    "            print(f\" - {colname1} <--> {colname2}\")\n",
    "\n",
    "print(\"\\nFeatures to Exclude (High Correlation):\")\n",
    "print(to_drop)\n"
   ]
  },
  {
   "cell_type": "code",
   "execution_count": 29,
   "id": "803d3d64-8cf3-41bd-8f8e-e09e3e6306bd",
   "metadata": {},
   "outputs": [],
   "source": [
    "# heatmap \n",
    "def cor_heatmap(data):\n",
    "    cor_matrix = data.corr()\n",
    "    plt.figure(figsize=(12, 10))\n",
    "    sns.heatmap(data=cor_matrix, annot=True, cmap= 'YlGnBu' , fmt='.1')\n",
    "    plt.title(\"Correlation Heatmap\")\n",
    "    plt.show()"
   ]
  },
  {
   "attachments": {},
   "cell_type": "markdown",
   "id": "5d2a872b",
   "metadata": {},
   "source": [
    "### 4.2 RFE <a id='rfe'></a>\n",
    "[to the top](#top)"
   ]
  },
  {
   "cell_type": "code",
   "execution_count": 34,
   "id": "829238ea",
   "metadata": {},
   "outputs": [
    {
     "name": "stderr",
     "output_type": "stream",
     "text": [
      "/Users/lenahermann/opt/anaconda3/lib/python3.9/site-packages/xgboost/sklearn.py:1421: UserWarning: `use_label_encoder` is deprecated in 1.7.0.\n",
      "  warnings.warn(\"`use_label_encoder` is deprecated in 1.7.0.\")\n",
      "/Users/lenahermann/opt/anaconda3/lib/python3.9/site-packages/xgboost/sklearn.py:1421: UserWarning: `use_label_encoder` is deprecated in 1.7.0.\n",
      "  warnings.warn(\"`use_label_encoder` is deprecated in 1.7.0.\")\n",
      "/Users/lenahermann/opt/anaconda3/lib/python3.9/site-packages/xgboost/sklearn.py:1421: UserWarning: `use_label_encoder` is deprecated in 1.7.0.\n",
      "  warnings.warn(\"`use_label_encoder` is deprecated in 1.7.0.\")\n",
      "/Users/lenahermann/opt/anaconda3/lib/python3.9/site-packages/xgboost/sklearn.py:1421: UserWarning: `use_label_encoder` is deprecated in 1.7.0.\n",
      "  warnings.warn(\"`use_label_encoder` is deprecated in 1.7.0.\")\n",
      "/Users/lenahermann/opt/anaconda3/lib/python3.9/site-packages/xgboost/sklearn.py:1421: UserWarning: `use_label_encoder` is deprecated in 1.7.0.\n",
      "  warnings.warn(\"`use_label_encoder` is deprecated in 1.7.0.\")\n",
      "/Users/lenahermann/opt/anaconda3/lib/python3.9/site-packages/xgboost/sklearn.py:1421: UserWarning: `use_label_encoder` is deprecated in 1.7.0.\n",
      "  warnings.warn(\"`use_label_encoder` is deprecated in 1.7.0.\")\n",
      "/Users/lenahermann/opt/anaconda3/lib/python3.9/site-packages/xgboost/sklearn.py:1421: UserWarning: `use_label_encoder` is deprecated in 1.7.0.\n",
      "  warnings.warn(\"`use_label_encoder` is deprecated in 1.7.0.\")\n",
      "/Users/lenahermann/opt/anaconda3/lib/python3.9/site-packages/xgboost/sklearn.py:1421: UserWarning: `use_label_encoder` is deprecated in 1.7.0.\n",
      "  warnings.warn(\"`use_label_encoder` is deprecated in 1.7.0.\")\n",
      "/Users/lenahermann/opt/anaconda3/lib/python3.9/site-packages/xgboost/sklearn.py:1421: UserWarning: `use_label_encoder` is deprecated in 1.7.0.\n",
      "  warnings.warn(\"`use_label_encoder` is deprecated in 1.7.0.\")\n",
      "/Users/lenahermann/opt/anaconda3/lib/python3.9/site-packages/xgboost/sklearn.py:1421: UserWarning: `use_label_encoder` is deprecated in 1.7.0.\n",
      "  warnings.warn(\"`use_label_encoder` is deprecated in 1.7.0.\")\n",
      "/Users/lenahermann/opt/anaconda3/lib/python3.9/site-packages/xgboost/sklearn.py:1421: UserWarning: `use_label_encoder` is deprecated in 1.7.0.\n",
      "  warnings.warn(\"`use_label_encoder` is deprecated in 1.7.0.\")\n",
      "/Users/lenahermann/opt/anaconda3/lib/python3.9/site-packages/xgboost/sklearn.py:1421: UserWarning: `use_label_encoder` is deprecated in 1.7.0.\n",
      "  warnings.warn(\"`use_label_encoder` is deprecated in 1.7.0.\")\n",
      "/Users/lenahermann/opt/anaconda3/lib/python3.9/site-packages/xgboost/sklearn.py:1421: UserWarning: `use_label_encoder` is deprecated in 1.7.0.\n",
      "  warnings.warn(\"`use_label_encoder` is deprecated in 1.7.0.\")\n",
      "/Users/lenahermann/opt/anaconda3/lib/python3.9/site-packages/xgboost/sklearn.py:1421: UserWarning: `use_label_encoder` is deprecated in 1.7.0.\n",
      "  warnings.warn(\"`use_label_encoder` is deprecated in 1.7.0.\")\n",
      "/Users/lenahermann/opt/anaconda3/lib/python3.9/site-packages/xgboost/sklearn.py:1421: UserWarning: `use_label_encoder` is deprecated in 1.7.0.\n",
      "  warnings.warn(\"`use_label_encoder` is deprecated in 1.7.0.\")\n",
      "/Users/lenahermann/opt/anaconda3/lib/python3.9/site-packages/xgboost/sklearn.py:1421: UserWarning: `use_label_encoder` is deprecated in 1.7.0.\n",
      "  warnings.warn(\"`use_label_encoder` is deprecated in 1.7.0.\")\n",
      "/Users/lenahermann/opt/anaconda3/lib/python3.9/site-packages/xgboost/sklearn.py:1421: UserWarning: `use_label_encoder` is deprecated in 1.7.0.\n",
      "  warnings.warn(\"`use_label_encoder` is deprecated in 1.7.0.\")\n",
      "/Users/lenahermann/opt/anaconda3/lib/python3.9/site-packages/xgboost/sklearn.py:1421: UserWarning: `use_label_encoder` is deprecated in 1.7.0.\n",
      "  warnings.warn(\"`use_label_encoder` is deprecated in 1.7.0.\")\n",
      "/Users/lenahermann/opt/anaconda3/lib/python3.9/site-packages/xgboost/sklearn.py:1421: UserWarning: `use_label_encoder` is deprecated in 1.7.0.\n",
      "  warnings.warn(\"`use_label_encoder` is deprecated in 1.7.0.\")\n",
      "/Users/lenahermann/opt/anaconda3/lib/python3.9/site-packages/xgboost/sklearn.py:1421: UserWarning: `use_label_encoder` is deprecated in 1.7.0.\n",
      "  warnings.warn(\"`use_label_encoder` is deprecated in 1.7.0.\")\n",
      "/Users/lenahermann/opt/anaconda3/lib/python3.9/site-packages/xgboost/sklearn.py:1421: UserWarning: `use_label_encoder` is deprecated in 1.7.0.\n",
      "  warnings.warn(\"`use_label_encoder` is deprecated in 1.7.0.\")\n",
      "/Users/lenahermann/opt/anaconda3/lib/python3.9/site-packages/xgboost/sklearn.py:1421: UserWarning: `use_label_encoder` is deprecated in 1.7.0.\n",
      "  warnings.warn(\"`use_label_encoder` is deprecated in 1.7.0.\")\n",
      "/Users/lenahermann/opt/anaconda3/lib/python3.9/site-packages/xgboost/sklearn.py:1421: UserWarning: `use_label_encoder` is deprecated in 1.7.0.\n",
      "  warnings.warn(\"`use_label_encoder` is deprecated in 1.7.0.\")\n",
      "/Users/lenahermann/opt/anaconda3/lib/python3.9/site-packages/xgboost/sklearn.py:1421: UserWarning: `use_label_encoder` is deprecated in 1.7.0.\n",
      "  warnings.warn(\"`use_label_encoder` is deprecated in 1.7.0.\")\n",
      "/Users/lenahermann/opt/anaconda3/lib/python3.9/site-packages/xgboost/sklearn.py:1421: UserWarning: `use_label_encoder` is deprecated in 1.7.0.\n",
      "  warnings.warn(\"`use_label_encoder` is deprecated in 1.7.0.\")\n",
      "/Users/lenahermann/opt/anaconda3/lib/python3.9/site-packages/xgboost/sklearn.py:1421: UserWarning: `use_label_encoder` is deprecated in 1.7.0.\n",
      "  warnings.warn(\"`use_label_encoder` is deprecated in 1.7.0.\")\n",
      "/Users/lenahermann/opt/anaconda3/lib/python3.9/site-packages/xgboost/sklearn.py:1421: UserWarning: `use_label_encoder` is deprecated in 1.7.0.\n",
      "  warnings.warn(\"`use_label_encoder` is deprecated in 1.7.0.\")\n",
      "/Users/lenahermann/opt/anaconda3/lib/python3.9/site-packages/xgboost/sklearn.py:1421: UserWarning: `use_label_encoder` is deprecated in 1.7.0.\n",
      "  warnings.warn(\"`use_label_encoder` is deprecated in 1.7.0.\")\n",
      "/Users/lenahermann/opt/anaconda3/lib/python3.9/site-packages/xgboost/sklearn.py:1421: UserWarning: `use_label_encoder` is deprecated in 1.7.0.\n",
      "  warnings.warn(\"`use_label_encoder` is deprecated in 1.7.0.\")\n",
      "/Users/lenahermann/opt/anaconda3/lib/python3.9/site-packages/xgboost/sklearn.py:1421: UserWarning: `use_label_encoder` is deprecated in 1.7.0.\n",
      "  warnings.warn(\"`use_label_encoder` is deprecated in 1.7.0.\")\n",
      "/Users/lenahermann/opt/anaconda3/lib/python3.9/site-packages/xgboost/sklearn.py:1421: UserWarning: `use_label_encoder` is deprecated in 1.7.0.\n",
      "  warnings.warn(\"`use_label_encoder` is deprecated in 1.7.0.\")\n",
      "/Users/lenahermann/opt/anaconda3/lib/python3.9/site-packages/xgboost/sklearn.py:1421: UserWarning: `use_label_encoder` is deprecated in 1.7.0.\n",
      "  warnings.warn(\"`use_label_encoder` is deprecated in 1.7.0.\")\n",
      "/Users/lenahermann/opt/anaconda3/lib/python3.9/site-packages/xgboost/sklearn.py:1421: UserWarning: `use_label_encoder` is deprecated in 1.7.0.\n",
      "  warnings.warn(\"`use_label_encoder` is deprecated in 1.7.0.\")\n",
      "/Users/lenahermann/opt/anaconda3/lib/python3.9/site-packages/xgboost/sklearn.py:1421: UserWarning: `use_label_encoder` is deprecated in 1.7.0.\n",
      "  warnings.warn(\"`use_label_encoder` is deprecated in 1.7.0.\")\n",
      "/Users/lenahermann/opt/anaconda3/lib/python3.9/site-packages/xgboost/sklearn.py:1421: UserWarning: `use_label_encoder` is deprecated in 1.7.0.\n",
      "  warnings.warn(\"`use_label_encoder` is deprecated in 1.7.0.\")\n",
      "/Users/lenahermann/opt/anaconda3/lib/python3.9/site-packages/xgboost/sklearn.py:1421: UserWarning: `use_label_encoder` is deprecated in 1.7.0.\n",
      "  warnings.warn(\"`use_label_encoder` is deprecated in 1.7.0.\")\n",
      "/Users/lenahermann/opt/anaconda3/lib/python3.9/site-packages/xgboost/sklearn.py:1421: UserWarning: `use_label_encoder` is deprecated in 1.7.0.\n",
      "  warnings.warn(\"`use_label_encoder` is deprecated in 1.7.0.\")\n",
      "/Users/lenahermann/opt/anaconda3/lib/python3.9/site-packages/xgboost/sklearn.py:1421: UserWarning: `use_label_encoder` is deprecated in 1.7.0.\n",
      "  warnings.warn(\"`use_label_encoder` is deprecated in 1.7.0.\")\n",
      "/Users/lenahermann/opt/anaconda3/lib/python3.9/site-packages/xgboost/sklearn.py:1421: UserWarning: `use_label_encoder` is deprecated in 1.7.0.\n",
      "  warnings.warn(\"`use_label_encoder` is deprecated in 1.7.0.\")\n",
      "/Users/lenahermann/opt/anaconda3/lib/python3.9/site-packages/xgboost/sklearn.py:1421: UserWarning: `use_label_encoder` is deprecated in 1.7.0.\n",
      "  warnings.warn(\"`use_label_encoder` is deprecated in 1.7.0.\")\n",
      "/Users/lenahermann/opt/anaconda3/lib/python3.9/site-packages/xgboost/sklearn.py:1421: UserWarning: `use_label_encoder` is deprecated in 1.7.0.\n",
      "  warnings.warn(\"`use_label_encoder` is deprecated in 1.7.0.\")\n",
      "/Users/lenahermann/opt/anaconda3/lib/python3.9/site-packages/xgboost/sklearn.py:1421: UserWarning: `use_label_encoder` is deprecated in 1.7.0.\n",
      "  warnings.warn(\"`use_label_encoder` is deprecated in 1.7.0.\")\n",
      "/Users/lenahermann/opt/anaconda3/lib/python3.9/site-packages/xgboost/sklearn.py:1421: UserWarning: `use_label_encoder` is deprecated in 1.7.0.\n",
      "  warnings.warn(\"`use_label_encoder` is deprecated in 1.7.0.\")\n"
     ]
    }
   ],
   "source": [
    "# Number of features to test\n",
    "nof_list = np.arange(10, 15)            \n",
    "high_score = 0\n",
    "# Variable to store the optimum number of features\n",
    "nof = 0           \n",
    "train_score_list = []\n",
    "val_score_list = []\n",
    "\n",
    "for n in range(len(nof_list)):\n",
    "    model = XGBClassifier(use_label_encoder=False, eval_metric='logloss', random_state=42)\n",
    "    #model = LogisticRegression(solver='saga', class_weight='balanced', max_iter=500) #'saga': Scalable to large datasets, supports L1 and L2 regularization.\n",
    "    \n",
    "    # Recursive Feature Elimination (RFE)\n",
    "    rfe = RFE(estimator=model, n_features_to_select=nof_list[n])\n",
    "    X_train_rfe = rfe.fit_transform(X=X_train_scaled_num, y=y_train)\n",
    "    X_val_rfe = rfe.transform(X_val_scaled_num)\n",
    "    \n",
    "    # Train the model\n",
    "    model.fit(X_train_rfe, y_train)\n",
    "    \n",
    "    # Calculate F1 macro score on training data\n",
    "    y_train_pred = model.predict(X_train_rfe)\n",
    "    train_score = f1_score(y_train, y_train_pred, average='macro')\n",
    "    train_score_list.append(train_score)\n",
    "    \n",
    "    # Calculate F1 macro score on validation data\n",
    "    y_val_pred = model.predict(X_val_rfe)\n",
    "    val_score = f1_score(y_val, y_val_pred, average='macro')\n",
    "    val_score_list.append(val_score)\n",
    "    \n",
    "    # Check if current F1 macro score on validation set is the best\n",
    "    if val_score >= high_score:\n",
    "        high_score = val_score\n",
    "        nof = nof_list[n]\n",
    "\n",
    "print(\"Optimum number of features: %d\" % nof)\n",
    "print(\"F1 Macro Score with %d features: %f\" % (nof, high_score))"
   ]
  },
  {
   "cell_type": "code",
   "execution_count": null,
   "id": "d6dbf609",
   "metadata": {},
   "outputs": [],
   "source": [
    "plt.plot(list(range(10,15)), train_score_list, label=\"Score on Training Set\", color='yellowgreen')\n",
    "plt.plot(list(range(10,15)), val_score_list, label=\"Score on Validation Set\", color='dimgray')\n",
    "plt.xlabel(\"Maximum Depth\")\n",
    "plt.ylabel(\"F1 Macro Score\")\n",
    "plt.legend()\n",
    "plt.show()"
   ]
  },
  {
   "cell_type": "code",
   "execution_count": null,
   "id": "a7a5e79f",
   "metadata": {},
   "outputs": [],
   "source": [
    "features_to_select = X_train_scaled_num.columns[rfe.support_]\n",
    "features_to_select"
   ]
  },
  {
   "attachments": {},
   "cell_type": "markdown",
   "id": "6f99457c",
   "metadata": {},
   "source": [
    "### 4.3 Random Forest Feature Importance <a id='rf'></a>\n",
    "[to the top](#top)"
   ]
  },
  {
   "cell_type": "code",
   "execution_count": 47,
   "id": "288f9b06",
   "metadata": {},
   "outputs": [
    {
     "name": "stdout",
     "output_type": "stream",
     "text": [
      "Number of original features: 21\n",
      "Number of selected features: 6\n",
      "Selected features: ['Age at Injury', 'Average Weekly Wage', 'Claim Identifier', 'Number of Dependents', 'Accident_to_C2_Lag', 'Accident_Day']\n"
     ]
    }
   ],
   "source": [
    "# Train a Random Forest\n",
    "model = RandomForestClassifier(random_state=42)\n",
    "model.fit(X_train_scaled_num, y_train)\n",
    "\n",
    "# Extract feature importance values\n",
    "feature_importances = model.feature_importances_\n",
    "\n",
    "# Calculate the threshold\n",
    "num_features = X_train_scaled_num.shape[1]\n",
    "threshold = 1 / num_features\n",
    "\n",
    "# Get the indices of features to keep\n",
    "features_to_keep = np.where(feature_importances >= threshold)[0]\n",
    "\n",
    "# Filter the dataset to keep only selected features\n",
    "X_train_selected = X_train_scaled_num.iloc[:, features_to_keep]\n",
    "\n",
    "# Convert selected features back to DataFrame (if needed)\n",
    "X_train_selected_df = pd.DataFrame(X_train_selected, columns=np.array(X_train_scaled_num.columns)[features_to_keep])\n",
    "\n",
    "# Print the result\n",
    "print(f\"Number of original features: {num_features}\")\n",
    "print(f\"Number of selected features: {len(features_to_keep)}\")\n",
    "print(f\"Selected features: {list(X_train_selected_df.columns)}\")"
   ]
  },
  {
   "attachments": {},
   "cell_type": "markdown",
   "id": "00a1a5ee-4f69-4ee6-9b8e-73737c0c0917",
   "metadata": {},
   "source": [
    "### 4.4 Lasso Regression <a id='lr'></a>\n",
    "[to the top](#top)"
   ]
  },
  {
   "cell_type": "code",
   "execution_count": 28,
   "id": "68191824",
   "metadata": {},
   "outputs": [
    {
     "data": {
      "text/html": [
       "<style>#sk-container-id-1 {\n",
       "  /* Definition of color scheme common for light and dark mode */\n",
       "  --sklearn-color-text: black;\n",
       "  --sklearn-color-line: gray;\n",
       "  /* Definition of color scheme for unfitted estimators */\n",
       "  --sklearn-color-unfitted-level-0: #fff5e6;\n",
       "  --sklearn-color-unfitted-level-1: #f6e4d2;\n",
       "  --sklearn-color-unfitted-level-2: #ffe0b3;\n",
       "  --sklearn-color-unfitted-level-3: chocolate;\n",
       "  /* Definition of color scheme for fitted estimators */\n",
       "  --sklearn-color-fitted-level-0: #f0f8ff;\n",
       "  --sklearn-color-fitted-level-1: #d4ebff;\n",
       "  --sklearn-color-fitted-level-2: #b3dbfd;\n",
       "  --sklearn-color-fitted-level-3: cornflowerblue;\n",
       "\n",
       "  /* Specific color for light theme */\n",
       "  --sklearn-color-text-on-default-background: var(--sg-text-color, var(--theme-code-foreground, var(--jp-content-font-color1, black)));\n",
       "  --sklearn-color-background: var(--sg-background-color, var(--theme-background, var(--jp-layout-color0, white)));\n",
       "  --sklearn-color-border-box: var(--sg-text-color, var(--theme-code-foreground, var(--jp-content-font-color1, black)));\n",
       "  --sklearn-color-icon: #696969;\n",
       "\n",
       "  @media (prefers-color-scheme: dark) {\n",
       "    /* Redefinition of color scheme for dark theme */\n",
       "    --sklearn-color-text-on-default-background: var(--sg-text-color, var(--theme-code-foreground, var(--jp-content-font-color1, white)));\n",
       "    --sklearn-color-background: var(--sg-background-color, var(--theme-background, var(--jp-layout-color0, #111)));\n",
       "    --sklearn-color-border-box: var(--sg-text-color, var(--theme-code-foreground, var(--jp-content-font-color1, white)));\n",
       "    --sklearn-color-icon: #878787;\n",
       "  }\n",
       "}\n",
       "\n",
       "#sk-container-id-1 {\n",
       "  color: var(--sklearn-color-text);\n",
       "}\n",
       "\n",
       "#sk-container-id-1 pre {\n",
       "  padding: 0;\n",
       "}\n",
       "\n",
       "#sk-container-id-1 input.sk-hidden--visually {\n",
       "  border: 0;\n",
       "  clip: rect(1px 1px 1px 1px);\n",
       "  clip: rect(1px, 1px, 1px, 1px);\n",
       "  height: 1px;\n",
       "  margin: -1px;\n",
       "  overflow: hidden;\n",
       "  padding: 0;\n",
       "  position: absolute;\n",
       "  width: 1px;\n",
       "}\n",
       "\n",
       "#sk-container-id-1 div.sk-dashed-wrapped {\n",
       "  border: 1px dashed var(--sklearn-color-line);\n",
       "  margin: 0 0.4em 0.5em 0.4em;\n",
       "  box-sizing: border-box;\n",
       "  padding-bottom: 0.4em;\n",
       "  background-color: var(--sklearn-color-background);\n",
       "}\n",
       "\n",
       "#sk-container-id-1 div.sk-container {\n",
       "  /* jupyter's `normalize.less` sets `[hidden] { display: none; }`\n",
       "     but bootstrap.min.css set `[hidden] { display: none !important; }`\n",
       "     so we also need the `!important` here to be able to override the\n",
       "     default hidden behavior on the sphinx rendered scikit-learn.org.\n",
       "     See: https://github.com/scikit-learn/scikit-learn/issues/21755 */\n",
       "  display: inline-block !important;\n",
       "  position: relative;\n",
       "}\n",
       "\n",
       "#sk-container-id-1 div.sk-text-repr-fallback {\n",
       "  display: none;\n",
       "}\n",
       "\n",
       "div.sk-parallel-item,\n",
       "div.sk-serial,\n",
       "div.sk-item {\n",
       "  /* draw centered vertical line to link estimators */\n",
       "  background-image: linear-gradient(var(--sklearn-color-text-on-default-background), var(--sklearn-color-text-on-default-background));\n",
       "  background-size: 2px 100%;\n",
       "  background-repeat: no-repeat;\n",
       "  background-position: center center;\n",
       "}\n",
       "\n",
       "/* Parallel-specific style estimator block */\n",
       "\n",
       "#sk-container-id-1 div.sk-parallel-item::after {\n",
       "  content: \"\";\n",
       "  width: 100%;\n",
       "  border-bottom: 2px solid var(--sklearn-color-text-on-default-background);\n",
       "  flex-grow: 1;\n",
       "}\n",
       "\n",
       "#sk-container-id-1 div.sk-parallel {\n",
       "  display: flex;\n",
       "  align-items: stretch;\n",
       "  justify-content: center;\n",
       "  background-color: var(--sklearn-color-background);\n",
       "  position: relative;\n",
       "}\n",
       "\n",
       "#sk-container-id-1 div.sk-parallel-item {\n",
       "  display: flex;\n",
       "  flex-direction: column;\n",
       "}\n",
       "\n",
       "#sk-container-id-1 div.sk-parallel-item:first-child::after {\n",
       "  align-self: flex-end;\n",
       "  width: 50%;\n",
       "}\n",
       "\n",
       "#sk-container-id-1 div.sk-parallel-item:last-child::after {\n",
       "  align-self: flex-start;\n",
       "  width: 50%;\n",
       "}\n",
       "\n",
       "#sk-container-id-1 div.sk-parallel-item:only-child::after {\n",
       "  width: 0;\n",
       "}\n",
       "\n",
       "/* Serial-specific style estimator block */\n",
       "\n",
       "#sk-container-id-1 div.sk-serial {\n",
       "  display: flex;\n",
       "  flex-direction: column;\n",
       "  align-items: center;\n",
       "  background-color: var(--sklearn-color-background);\n",
       "  padding-right: 1em;\n",
       "  padding-left: 1em;\n",
       "}\n",
       "\n",
       "\n",
       "/* Toggleable style: style used for estimator/Pipeline/ColumnTransformer box that is\n",
       "clickable and can be expanded/collapsed.\n",
       "- Pipeline and ColumnTransformer use this feature and define the default style\n",
       "- Estimators will overwrite some part of the style using the `sk-estimator` class\n",
       "*/\n",
       "\n",
       "/* Pipeline and ColumnTransformer style (default) */\n",
       "\n",
       "#sk-container-id-1 div.sk-toggleable {\n",
       "  /* Default theme specific background. It is overwritten whether we have a\n",
       "  specific estimator or a Pipeline/ColumnTransformer */\n",
       "  background-color: var(--sklearn-color-background);\n",
       "}\n",
       "\n",
       "/* Toggleable label */\n",
       "#sk-container-id-1 label.sk-toggleable__label {\n",
       "  cursor: pointer;\n",
       "  display: block;\n",
       "  width: 100%;\n",
       "  margin-bottom: 0;\n",
       "  padding: 0.5em;\n",
       "  box-sizing: border-box;\n",
       "  text-align: center;\n",
       "}\n",
       "\n",
       "#sk-container-id-1 label.sk-toggleable__label-arrow:before {\n",
       "  /* Arrow on the left of the label */\n",
       "  content: \"▸\";\n",
       "  float: left;\n",
       "  margin-right: 0.25em;\n",
       "  color: var(--sklearn-color-icon);\n",
       "}\n",
       "\n",
       "#sk-container-id-1 label.sk-toggleable__label-arrow:hover:before {\n",
       "  color: var(--sklearn-color-text);\n",
       "}\n",
       "\n",
       "/* Toggleable content - dropdown */\n",
       "\n",
       "#sk-container-id-1 div.sk-toggleable__content {\n",
       "  max-height: 0;\n",
       "  max-width: 0;\n",
       "  overflow: hidden;\n",
       "  text-align: left;\n",
       "  /* unfitted */\n",
       "  background-color: var(--sklearn-color-unfitted-level-0);\n",
       "}\n",
       "\n",
       "#sk-container-id-1 div.sk-toggleable__content.fitted {\n",
       "  /* fitted */\n",
       "  background-color: var(--sklearn-color-fitted-level-0);\n",
       "}\n",
       "\n",
       "#sk-container-id-1 div.sk-toggleable__content pre {\n",
       "  margin: 0.2em;\n",
       "  border-radius: 0.25em;\n",
       "  color: var(--sklearn-color-text);\n",
       "  /* unfitted */\n",
       "  background-color: var(--sklearn-color-unfitted-level-0);\n",
       "}\n",
       "\n",
       "#sk-container-id-1 div.sk-toggleable__content.fitted pre {\n",
       "  /* unfitted */\n",
       "  background-color: var(--sklearn-color-fitted-level-0);\n",
       "}\n",
       "\n",
       "#sk-container-id-1 input.sk-toggleable__control:checked~div.sk-toggleable__content {\n",
       "  /* Expand drop-down */\n",
       "  max-height: 200px;\n",
       "  max-width: 100%;\n",
       "  overflow: auto;\n",
       "}\n",
       "\n",
       "#sk-container-id-1 input.sk-toggleable__control:checked~label.sk-toggleable__label-arrow:before {\n",
       "  content: \"▾\";\n",
       "}\n",
       "\n",
       "/* Pipeline/ColumnTransformer-specific style */\n",
       "\n",
       "#sk-container-id-1 div.sk-label input.sk-toggleable__control:checked~label.sk-toggleable__label {\n",
       "  color: var(--sklearn-color-text);\n",
       "  background-color: var(--sklearn-color-unfitted-level-2);\n",
       "}\n",
       "\n",
       "#sk-container-id-1 div.sk-label.fitted input.sk-toggleable__control:checked~label.sk-toggleable__label {\n",
       "  background-color: var(--sklearn-color-fitted-level-2);\n",
       "}\n",
       "\n",
       "/* Estimator-specific style */\n",
       "\n",
       "/* Colorize estimator box */\n",
       "#sk-container-id-1 div.sk-estimator input.sk-toggleable__control:checked~label.sk-toggleable__label {\n",
       "  /* unfitted */\n",
       "  background-color: var(--sklearn-color-unfitted-level-2);\n",
       "}\n",
       "\n",
       "#sk-container-id-1 div.sk-estimator.fitted input.sk-toggleable__control:checked~label.sk-toggleable__label {\n",
       "  /* fitted */\n",
       "  background-color: var(--sklearn-color-fitted-level-2);\n",
       "}\n",
       "\n",
       "#sk-container-id-1 div.sk-label label.sk-toggleable__label,\n",
       "#sk-container-id-1 div.sk-label label {\n",
       "  /* The background is the default theme color */\n",
       "  color: var(--sklearn-color-text-on-default-background);\n",
       "}\n",
       "\n",
       "/* On hover, darken the color of the background */\n",
       "#sk-container-id-1 div.sk-label:hover label.sk-toggleable__label {\n",
       "  color: var(--sklearn-color-text);\n",
       "  background-color: var(--sklearn-color-unfitted-level-2);\n",
       "}\n",
       "\n",
       "/* Label box, darken color on hover, fitted */\n",
       "#sk-container-id-1 div.sk-label.fitted:hover label.sk-toggleable__label.fitted {\n",
       "  color: var(--sklearn-color-text);\n",
       "  background-color: var(--sklearn-color-fitted-level-2);\n",
       "}\n",
       "\n",
       "/* Estimator label */\n",
       "\n",
       "#sk-container-id-1 div.sk-label label {\n",
       "  font-family: monospace;\n",
       "  font-weight: bold;\n",
       "  display: inline-block;\n",
       "  line-height: 1.2em;\n",
       "}\n",
       "\n",
       "#sk-container-id-1 div.sk-label-container {\n",
       "  text-align: center;\n",
       "}\n",
       "\n",
       "/* Estimator-specific */\n",
       "#sk-container-id-1 div.sk-estimator {\n",
       "  font-family: monospace;\n",
       "  border: 1px dotted var(--sklearn-color-border-box);\n",
       "  border-radius: 0.25em;\n",
       "  box-sizing: border-box;\n",
       "  margin-bottom: 0.5em;\n",
       "  /* unfitted */\n",
       "  background-color: var(--sklearn-color-unfitted-level-0);\n",
       "}\n",
       "\n",
       "#sk-container-id-1 div.sk-estimator.fitted {\n",
       "  /* fitted */\n",
       "  background-color: var(--sklearn-color-fitted-level-0);\n",
       "}\n",
       "\n",
       "/* on hover */\n",
       "#sk-container-id-1 div.sk-estimator:hover {\n",
       "  /* unfitted */\n",
       "  background-color: var(--sklearn-color-unfitted-level-2);\n",
       "}\n",
       "\n",
       "#sk-container-id-1 div.sk-estimator.fitted:hover {\n",
       "  /* fitted */\n",
       "  background-color: var(--sklearn-color-fitted-level-2);\n",
       "}\n",
       "\n",
       "/* Specification for estimator info (e.g. \"i\" and \"?\") */\n",
       "\n",
       "/* Common style for \"i\" and \"?\" */\n",
       "\n",
       ".sk-estimator-doc-link,\n",
       "a:link.sk-estimator-doc-link,\n",
       "a:visited.sk-estimator-doc-link {\n",
       "  float: right;\n",
       "  font-size: smaller;\n",
       "  line-height: 1em;\n",
       "  font-family: monospace;\n",
       "  background-color: var(--sklearn-color-background);\n",
       "  border-radius: 1em;\n",
       "  height: 1em;\n",
       "  width: 1em;\n",
       "  text-decoration: none !important;\n",
       "  margin-left: 1ex;\n",
       "  /* unfitted */\n",
       "  border: var(--sklearn-color-unfitted-level-1) 1pt solid;\n",
       "  color: var(--sklearn-color-unfitted-level-1);\n",
       "}\n",
       "\n",
       ".sk-estimator-doc-link.fitted,\n",
       "a:link.sk-estimator-doc-link.fitted,\n",
       "a:visited.sk-estimator-doc-link.fitted {\n",
       "  /* fitted */\n",
       "  border: var(--sklearn-color-fitted-level-1) 1pt solid;\n",
       "  color: var(--sklearn-color-fitted-level-1);\n",
       "}\n",
       "\n",
       "/* On hover */\n",
       "div.sk-estimator:hover .sk-estimator-doc-link:hover,\n",
       ".sk-estimator-doc-link:hover,\n",
       "div.sk-label-container:hover .sk-estimator-doc-link:hover,\n",
       ".sk-estimator-doc-link:hover {\n",
       "  /* unfitted */\n",
       "  background-color: var(--sklearn-color-unfitted-level-3);\n",
       "  color: var(--sklearn-color-background);\n",
       "  text-decoration: none;\n",
       "}\n",
       "\n",
       "div.sk-estimator.fitted:hover .sk-estimator-doc-link.fitted:hover,\n",
       ".sk-estimator-doc-link.fitted:hover,\n",
       "div.sk-label-container:hover .sk-estimator-doc-link.fitted:hover,\n",
       ".sk-estimator-doc-link.fitted:hover {\n",
       "  /* fitted */\n",
       "  background-color: var(--sklearn-color-fitted-level-3);\n",
       "  color: var(--sklearn-color-background);\n",
       "  text-decoration: none;\n",
       "}\n",
       "\n",
       "/* Span, style for the box shown on hovering the info icon */\n",
       ".sk-estimator-doc-link span {\n",
       "  display: none;\n",
       "  z-index: 9999;\n",
       "  position: relative;\n",
       "  font-weight: normal;\n",
       "  right: .2ex;\n",
       "  padding: .5ex;\n",
       "  margin: .5ex;\n",
       "  width: min-content;\n",
       "  min-width: 20ex;\n",
       "  max-width: 50ex;\n",
       "  color: var(--sklearn-color-text);\n",
       "  box-shadow: 2pt 2pt 4pt #999;\n",
       "  /* unfitted */\n",
       "  background: var(--sklearn-color-unfitted-level-0);\n",
       "  border: .5pt solid var(--sklearn-color-unfitted-level-3);\n",
       "}\n",
       "\n",
       ".sk-estimator-doc-link.fitted span {\n",
       "  /* fitted */\n",
       "  background: var(--sklearn-color-fitted-level-0);\n",
       "  border: var(--sklearn-color-fitted-level-3);\n",
       "}\n",
       "\n",
       ".sk-estimator-doc-link:hover span {\n",
       "  display: block;\n",
       "}\n",
       "\n",
       "/* \"?\"-specific style due to the `<a>` HTML tag */\n",
       "\n",
       "#sk-container-id-1 a.estimator_doc_link {\n",
       "  float: right;\n",
       "  font-size: 1rem;\n",
       "  line-height: 1em;\n",
       "  font-family: monospace;\n",
       "  background-color: var(--sklearn-color-background);\n",
       "  border-radius: 1rem;\n",
       "  height: 1rem;\n",
       "  width: 1rem;\n",
       "  text-decoration: none;\n",
       "  /* unfitted */\n",
       "  color: var(--sklearn-color-unfitted-level-1);\n",
       "  border: var(--sklearn-color-unfitted-level-1) 1pt solid;\n",
       "}\n",
       "\n",
       "#sk-container-id-1 a.estimator_doc_link.fitted {\n",
       "  /* fitted */\n",
       "  border: var(--sklearn-color-fitted-level-1) 1pt solid;\n",
       "  color: var(--sklearn-color-fitted-level-1);\n",
       "}\n",
       "\n",
       "/* On hover */\n",
       "#sk-container-id-1 a.estimator_doc_link:hover {\n",
       "  /* unfitted */\n",
       "  background-color: var(--sklearn-color-unfitted-level-3);\n",
       "  color: var(--sklearn-color-background);\n",
       "  text-decoration: none;\n",
       "}\n",
       "\n",
       "#sk-container-id-1 a.estimator_doc_link.fitted:hover {\n",
       "  /* fitted */\n",
       "  background-color: var(--sklearn-color-fitted-level-3);\n",
       "}\n",
       "</style><div id=\"sk-container-id-1\" class=\"sk-top-container\"><div class=\"sk-text-repr-fallback\"><pre>LassoCV()</pre><b>In a Jupyter environment, please rerun this cell to show the HTML representation or trust the notebook. <br />On GitHub, the HTML representation is unable to render, please try loading this page with nbviewer.org.</b></div><div class=\"sk-container\" hidden><div class=\"sk-item\"><div class=\"sk-estimator fitted sk-toggleable\"><input class=\"sk-toggleable__control sk-hidden--visually\" id=\"sk-estimator-id-1\" type=\"checkbox\" checked><label for=\"sk-estimator-id-1\" class=\"sk-toggleable__label fitted sk-toggleable__label-arrow fitted\">&nbsp;&nbsp;LassoCV<a class=\"sk-estimator-doc-link fitted\" rel=\"noreferrer\" target=\"_blank\" href=\"https://scikit-learn.org/1.5/modules/generated/sklearn.linear_model.LassoCV.html\">?<span>Documentation for LassoCV</span></a><span class=\"sk-estimator-doc-link fitted\">i<span>Fitted</span></span></label><div class=\"sk-toggleable__content fitted\"><pre>LassoCV()</pre></div> </div></div></div></div>"
      ],
      "text/plain": [
       "LassoCV()"
      ]
     },
     "execution_count": 28,
     "metadata": {},
     "output_type": "execute_result"
    }
   ],
   "source": [
    "lasso = LassoCV()\n",
    "lasso.fit(X_train_scaled_num, y_train)"
   ]
  },
  {
   "cell_type": "code",
   "execution_count": 30,
   "id": "fec4799d",
   "metadata": {},
   "outputs": [
    {
     "data": {
      "text/plain": [
       "Claim Identifier       -0.236909\n",
       "Accident_Month_Sin     -0.008013\n",
       "Assembly_Year          -0.006994\n",
       "C-2_Month_Sin          -0.004813\n",
       "Accident_Month_Cos     -0.004028\n",
       "Assembly_Month_Cos      0.000000\n",
       "Assembly_Month_Sin      0.000000\n",
       "Assembly Date_Day       0.000000\n",
       "C-2_Month_Cos          -0.000000\n",
       "Accident_to_C2_Lag     -0.000000\n",
       "Lag_Time               -0.000000\n",
       "Number of Dependents   -0.000000\n",
       "Accident_Day            0.002757\n",
       "C-2 Date_Day            0.003037\n",
       "C-2 Date_Month          0.009797\n",
       "Accident Date_Month     0.018931\n",
       "Assembly Date_Month     0.022557\n",
       "Age at Injury           0.023499\n",
       "Accident Date_Year      0.069108\n",
       "C-2 Date_Year           0.121555\n",
       "Average Weekly Wage     0.823123\n",
       "dtype: float64"
      ]
     },
     "execution_count": 30,
     "metadata": {},
     "output_type": "execute_result"
    }
   ],
   "source": [
    "coef = pd.Series(lasso.coef_, index = X_train_scaled_num.columns)\n",
    "coef.sort_values()"
   ]
  },
  {
   "cell_type": "code",
   "execution_count": 31,
   "id": "356c8e41",
   "metadata": {},
   "outputs": [],
   "source": [
    "def plot_importance(coef,name):\n",
    "    imp_coef = coef.sort_values()\n",
    "    plt.figure(figsize=(8,10))\n",
    "    imp_coef.plot(kind = \"barh\")\n",
    "    plt.title(\"Feature importance using \" + name + \" Model\")\n",
    "    plt.show()"
   ]
  },
  {
   "cell_type": "code",
   "execution_count": 32,
   "id": "a74b0b36",
   "metadata": {},
   "outputs": [
    {
     "data": {
      "image/png": "[encoded data removed]",
      "text/plain": [
       "<Figure size 576x720 with 1 Axes>"
      ]
     },
     "metadata": {
      "needs_background": "light"
     },
     "output_type": "display_data"
    }
   ],
   "source": [
    "plot_importance(coef,'Lasso')"
   ]
  },
  {
   "attachments": {},
   "cell_type": "markdown",
   "id": "dfad7673",
   "metadata": {},
   "source": [
    "### 4.5 Chi Square Test <a id='chi'></a>\n",
    "[to the top](#top)"
   ]
  },
  {
   "cell_type": "code",
   "execution_count": 39,
   "id": "1da74a00",
   "metadata": {},
   "outputs": [],
   "source": [
    "def TestIndependence(X,y,var,alpha=0.01):        \n",
    "    dfObserved = pd.crosstab(y,X) \n",
    "    chi2, p, dof, expected = stats.chi2_contingency(dfObserved.values)\n",
    "    dfExpected = pd.DataFrame(expected, columns=dfObserved.columns, index = dfObserved.index)\n",
    "    if p<alpha:\n",
    "        result=\"{0} is IMPORTANT for Prediction\".format(var)\n",
    "    else:\n",
    "        result=\"{0} is NOT an important predictor. (Discard {0} from model)\".format(var)\n",
    "    print(result)"
   ]
  },
  {
   "cell_type": "code",
   "execution_count": 40,
   "id": "bd11b050",
   "metadata": {},
   "outputs": [
    {
     "name": "stdout",
     "output_type": "stream",
     "text": [
      "Age_Group is IMPORTANT for Prediction\n",
      "Wage_Group is IMPORTANT for Prediction\n",
      "Medical Fee Region is IMPORTANT for Prediction\n",
      "Region is IMPORTANT for Prediction\n",
      "State is IMPORTANT for Prediction\n",
      "Attorney/Representative is IMPORTANT for Prediction\n",
      "COVID-19 Indicator is IMPORTANT for Prediction\n",
      "Gender is IMPORTANT for Prediction\n",
      "Carrier Type is IMPORTANT for Prediction\n",
      "District Name is IMPORTANT for Prediction\n",
      "Industry Code Description is IMPORTANT for Prediction\n",
      "County of Injury is IMPORTANT for Prediction\n",
      "Cause Injury Category is IMPORTANT for Prediction\n",
      "Nature of Injury Category is IMPORTANT for Prediction\n",
      "Body Part Category is IMPORTANT for Prediction\n",
      "Carrier Name Grouped is IMPORTANT for Prediction\n"
     ]
    }
   ],
   "source": [
    "for var in X_train_cat:\n",
    "    TestIndependence(X_train_cat[var],y_train, var)"
   ]
  },
  {
   "attachments": {},
   "cell_type": "markdown",
   "id": "a220283a",
   "metadata": {},
   "source": [
    "Chi-Sqare Test results in all categorical variables are important (even if alpha is very small). That why we use Cramers V as a second method for the importance of the categorical variables."
   ]
  },
  {
   "attachments": {},
   "cell_type": "markdown",
   "id": "2f6eb1cd",
   "metadata": {},
   "source": [
    "### 4.6 Cramérs V <a id='c'></a>\n",
    "[to the top](#top)"
   ]
  },
  {
   "attachments": {},
   "cell_type": "markdown",
   "id": "e3b24071",
   "metadata": {},
   "source": [
    "Cramér's V is used for categorical variables because it measures the strength of association between two nominal variables, making it ideal for evaluating relationships between categorical predictors and the target variable. Unlike other correlation measures, it works well for data where the variables have no inherent order, providing a normalized value between 0 and 1."
   ]
  },
  {
   "cell_type": "code",
   "execution_count": 41,
   "id": "c1603b05",
   "metadata": {},
   "outputs": [
    {
     "name": "stdout",
     "output_type": "stream",
     "text": [
      "Cramér's V for Age_Group: 0.055398151237964426\n",
      "Cramér's V for Wage_Group: 0.4455334558152806\n",
      "Cramér's V for Medical Fee Region: 0.03547905141461885\n",
      "Cramér's V for Region: 0.02370669060818557\n",
      "Cramér's V for State: 0.044571734271814\n",
      "Cramér's V for Attorney/Representative: 0.6136082562137779\n",
      "Cramér's V for COVID-19 Indicator: 0.1068659760172149\n",
      "Cramér's V for Gender: 0.06271346506343152\n",
      "Cramér's V for Carrier Type: 0.07545909529245474\n",
      "Cramér's V for District Name: 0.041327527954982235\n",
      "Cramér's V for Industry Code Description: 0.09721000207134345\n",
      "Cramér's V for County of Injury: 0.05260545848861066\n",
      "Cramér's V for Cause Injury Category: 0.09117090200130262\n",
      "Cramér's V for Nature of Injury Category: 0.08091738881104635\n",
      "Cramér's V for Body Part Category: 0.12868504756816213\n",
      "Cramér's V for Carrier Name Grouped: 0.11244039566466656\n"
     ]
    }
   ],
   "source": [
    "def cramers_v(x, y):\n",
    "    contingency_table = pd.crosstab(x, y)\n",
    "    chi2, _, _, _ = chi2_contingency(contingency_table)\n",
    "    n = contingency_table.sum().sum()\n",
    "    return np.sqrt(chi2 / (n * (min(contingency_table.shape) - 1)))\n",
    "\n",
    "for var in X_train_cat.columns:\n",
    "    cv = cramers_v(X_train_cat[var], y_train)\n",
    "    print(f\"Cramér's V for {var}: {cv}\")"
   ]
  },
  {
   "attachments": {},
   "cell_type": "markdown",
   "id": "84b0036c",
   "metadata": {},
   "source": [
    "The __threshold of 0.1__ is chosen as a minimum threshold to focus on variables with at least a weak to moderate association with the target, ensuring that only meaningful predictors are retained while discarding those with negligible impact on the model's performance."
   ]
  },
  {
   "cell_type": "code",
   "execution_count": 63,
   "id": "0e3280c9",
   "metadata": {},
   "outputs": [
    {
     "name": "stdout",
     "output_type": "stream",
     "text": [
      "Important Variables: ['Wage_Group', 'Attorney/Representative', 'COVID-19 Indicator', 'Body Part Category', 'Carrier Name Grouped']\n"
     ]
    }
   ],
   "source": [
    "threshold = 0.1  # Threshold for Cramer's V\n",
    "important_vars = [var for var in X_train_cat.columns if cramers_v(X_train_cat[var], y_train) >= threshold]\n",
    "print(\"Important Variables:\", important_vars)"
   ]
  },
  {
   "attachments": {},
   "cell_type": "markdown",
   "id": "82c2a964",
   "metadata": {},
   "source": [
    "### 4.7 Summary <a id='summary'></a>\n",
    "[to the top](#top)"
   ]
  },
  {
   "attachments": {},
   "cell_type": "markdown",
   "id": "97e953ec",
   "metadata": {},
   "source": [
    "### Numerical\n",
    "\n",
    "| Predictor                | Spearman | RFE XGBoost | Random Forest FI | Lasso   | Decision |\n",
    "|--------------------------|----------|-------------|-------------------|--------|----------|\n",
    "| Age at Injury            | Keep     | Keep        | Keep              | Keep   | Keep     |\n",
    "| Average Weekly Wage      | Keep     | Keep        | Keep              | Keep   | Keep     |\n",
    "| Claim Identifier         | Keep     | Keep        | Keep              | Discard| Keep     |\n",
    "| Number of Dependents     | Keep     | Keep        | Keep              | Discard| Keep     |\n",
    "| Lag_Time                 | Discard  | Keep        | Discard           | Discard| Discard  |\n",
    "| Accident_to_C2_Lag       | Discard  | Keep        | Keep              | Discard| Keep     |\n",
    "| Accident Date_Year       | Discard  | Keep        | Discard           | Keep   | Discard  |\n",
    "| Accident Date_Month      | Keep     | Keep        | Discard           | Keep   | Keep     |\n",
    "| Accident_Day             | Keep     | Keep        | Keep              | Keep   | Keep     |\n",
    "| Accident_Month_Sin       | Discard  | Keep        | Discard           | Discard| Discard  |\n",
    "| Accident_Month_Cos       | Keep     | Keep        | Discard           | Discard| Keep     |\n",
    "| Assembly Date_Month      | Discard  | Keep        | Discard           | Keep   | Discard  |\n",
    "| Assembly Date_Day        | Keep     | Keep        | Discard           | Discard| Keep     |\n",
    "| Assembly_Year            | Discard  | Keep        | Discard           | Discard| Discard  |\n",
    "| Assembly_Month_Sin       | Discard  | Keep        | Discard           | Discard| Discard  |\n",
    "| Assembly_Month_Cos       | Discard  | Keep        | Discard           | Discard| Discard  |\n",
    "| C-2 Date_Year            | Discard  | Keep        | Discard           | Keep   | Discard  |\n",
    "| C-2 Date_Month           | Discard  | Keep        | Discard           | Keep   | Discard  |\n",
    "| C-2 Date_Day             | Keep     | Keep        | Discard           | Keep   | Keep     |\n",
    "| C-2_Month_Sin            | Discard  | Keep        | Discard           | Discard| Discard  |\n",
    "| C-2_Month_Cos            | Discard  | Keep        | Discard           | Discard| Discard  |\n",
    "\n"
   ]
  },
  {
   "attachments": {},
   "cell_type": "markdown",
   "id": "7eeeada8",
   "metadata": {},
   "source": [
    "### Categoricals\n",
    "\n",
    "| Predictor                     |Cramér's V|\n",
    "|-------------------------------|----------|\n",
    "| Age_Group                     | Discard  |\n",
    "| Wage_Group                    | Keep     |\n",
    "| Medical Fee Region            | Discard  |\n",
    "| Region                        | Discard  |\n",
    "| State                         | Discard  |\n",
    "| Attorney/Representative       | Keep     |\n",
    "| COVID-19 Indicator            | Keep     |\n",
    "| Gender                        | Discard  |\n",
    "| Carrier Type                  | Discard  |\n",
    "| District Name                 | Discard  |\n",
    "| Industry Code Description     | Discard  |\n",
    "| County of Injury              | Discard  |\n",
    "| Cause Injury Category         | Discard  |\n",
    "| Nature of Injury Category     | Discard  |\n",
    "| Body Part Category            | Keep     |\n",
    "| Carrier Name Grouped          | Keep     |\n"
   ]
  },
  {
   "attachments": {},
   "cell_type": "markdown",
   "id": "70bc1429",
   "metadata": {},
   "source": [
    "### 5. Saving Files <a id='save'></a>\n",
    "[to the top](#top)"
   ]
  },
  {
   "attachments": {},
   "cell_type": "markdown",
   "id": "db68328e",
   "metadata": {},
   "source": []
  }
 ],
 "metadata": {
  "kernelspec": {
   "display_name": "Python 3 (ipykernel)",
   "language": "python",
   "name": "python3"
  },
  "language_info": {
   "codemirror_mode": {
    "name": "ipython",
    "version": 3
   },
   "file_extension": ".py",
   "mimetype": "text/x-python",
   "name": "python",
   "nbconvert_exporter": "python",
   "pygments_lexer": "ipython3",
   "version": "3.9.12"
  }
 },
 "nbformat": 4,
 "nbformat_minor": 5
}
