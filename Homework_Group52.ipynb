{
 "cells": [
  {
   "attachments": {},
   "cell_type": "markdown",
   "id": "757ef9d0",
   "metadata": {},
   "source": [
    "# To Grant or Not to Grant: Deciding on Compensation Benefits "
   ]
  },
  {
   "attachments": {},
   "cell_type": "markdown",
   "id": "d084bd42",
   "metadata": {},
   "source": [
    "### Machine Learning Group Project 2024/2025 - Group 52\n",
    "\n",
    "\n",
    "__Members:__\n",
    "- Diogo Rodrigues _(20240512@novaims.unl.pt)_\n",
    "- Alexandre Gonçalves _(20240738@novaims.unl.pt)_\n",
    "- Pedro Costa _(20222121@novaims.unl.pt)_\n",
    "- Santiago Taylor _(20240542@novaims.unl.pt)_\n",
    "- Lena Hermann _(20241446@novaims.unl.pt)_"
   ]
  },
  {
   "attachments": {},
   "cell_type": "markdown",
   "id": "240e8937",
   "metadata": {},
   "source": [
    "## Introduction\n",
    "- __Motivation__: x\n",
    "- __Dataset__: The dataset represents claims from the start of 2020 till the end of 2022 (training data) and from January 2023 onward (test data). A detailed description of the columns of the datasets can be found below.\n",
    "- __Task and Goal__: The purpose of this notebook is to create and evaluate several classification models for accurately predicting the WCB’s final decision on what type of injury should be given to a claim.\n",
    "\n",
    "| **ATTRIBUTE**                        | **DESCRIPTION**                                                                                                         |\n",
    "|--------------------------------------|-------------------------------------------------------------------------------------------------------------------------|\n",
    "| Accident Date                        | Injury date of the claim.                                                                                               |\n",
    "| Age at Injury                        | Age of injured worker when the injury occurred.                                                                         |\n",
    "| Alternative Dispute Resolution       | Adjudication processes external to the Board.                                                                           |\n",
    "| Assembly Date                        | The date the claim was first assembled.                                                                                 |\n",
    "| Attorney/Representative              | Is the claim being represented by an Attorney?                                                                          |\n",
    "| Average Weekly Wage                  | The wage used to calculate workers’ compensation, disability, or Paid Leave wage replacement benefits.                  |\n",
    "| Birth Year                           | The reported year of birth of the injured worker.                                                                       |\n",
    "| C-2 Date                             | Date of receipt of the Employer's Report of Work-Related Injury/Illness or equivalent (formerly Form C-2).              |\n",
    "| C-3 Date                             | Date Form C-3 (Employee Claim Form) was received.                                                                       |\n",
    "| Carrier Name                         | Name of primary insurance provider responsible for providing workers’ compensation coverage to the injured worker's employer. |\n",
    "| Carrier Type                         | Type of primary insurance provider responsible for providing workers’ compensation coverage.                            |\n",
    "| Claim Identifier                     | Unique identifier for each claim, assigned by WCB.                                                                      |\n",
    "| County of Injury                     | Name of the New York County where the injury occurred.                                                                  |\n",
    "| COVID-19 Indicator                   | Indication that the claim may be associated with COVID-19.                                                              |\n",
    "| District Name                        | Name of the WCB district office that oversees claims for that region or area of the state.                              |\n",
    "| First Hearing Date                   | Date the first hearing was held on a claim at a WCB hearing location. A blank date means the claim has not yet had a hearing held. |\n",
    "| Gender                               | The reported gender of the injured worker.                                                                              |\n",
    "| IME-4 Count                          | Number of IME-4 forms received per claim. The IME-4 form is the “Independent Examiner’s Report of Independent Medical Examination” form. |\n",
    "| Industry Code                        | NAICS code and descriptions are available at https://www.naics.com/search-naics-codes-by-industry/.                     |\n",
    "| Industry Code Description            | 2-digit NAICS industry code description used to classify businesses according to their economic activity.               |\n",
    "| Medical Fee Region                   | Approximate region where the injured worker would receive medical service.                                               |\n",
    "| OIICS Nature of Injury Description   | The OIICS nature of injury codes & descriptions are available at https://www.bls.gov/iif/oiics_manual_2007.pdf.         |\n",
    "| WCIO Cause of Injury Code            | The WCIO cause of injury codes & descriptions are available at https://www.wcio.org/Active%20PNC/WCIO_Cause_Table.pdf.  |\n",
    "| WCIO Cause of Injury Description     | See description of field above.                                                                                         |\n",
    "| WCIO Nature of Injury Code           | The WCIO nature of injury are available at https://www.wcio.org/Active%20PNC/WCIO_Nature_Table.pdf.                     |\n",
    "| WCIO Nature of Injury Description    | See description of field above.                                                                                         |\n",
    "| WCIO Part Of Body Code               | The WCIO part of body codes & descriptions are available at https://www.wcio.org/Active%20PNC/WCIO_Part_Table.pdf.      |\n",
    "| WCIO Part Of Body Description        | See description of field above.                                                                                         |\n",
    "| Zip Code                             | The reported ZIP code of the injured worker’s home address.                                                             |\n",
    "| Agreement Reached                    | Binary variable: Yes if there is an agreement without the involvement of the WCB -> unknown at the start of a claim.    |\n",
    "| WCB Decision                         | Multiclass variable: Decision of the WCB relative to the claim: “Accident” means that claim refers to workplace accident, “Occupational Disease” means illness from the workplace. -> requires WCB deliberation so it is unknown at start of claim. |\n",
    "| Claim Injury Type                    | Main target variable: Deliberation of the WCB relative to benefits awarded to the claim. Numbering indicates severity.   |\n"
   ]
  },
  {
   "attachments": {},
   "cell_type": "markdown",
   "id": "ed167b59",
   "metadata": {},
   "source": [
    "## Table of Content\n",
    "<a id='top'></a>\n",
    "[1. Set-Up and Data Loading](#dataload) <br>\n",
    "[2. Data Understanding and Exploration](#dataunderstand) <br>\n",
    "[3. Data Cleaning and Pre-processing](#dataclean) <br>\n",
    "[4. Feature Selection](#features) <br>\n",
    "[5. Modeling and Evaluation](#modeling) <br>"
   ]
  },
  {
   "attachments": {},
   "cell_type": "markdown",
   "id": "ada46065",
   "metadata": {},
   "source": [
    "## 1. Set-Up and Data Loading <a id='dataload'></a>\n",
    "[to the top](#top)\n",
    "\n",
    "### 1.1 Import the needed libraries"
   ]
  },
  {
   "cell_type": "code",
   "execution_count": 91,
   "id": "98fd98bf",
   "metadata": {},
   "outputs": [],
   "source": [
    "import numpy as np #to efficiently compute functions\n",
    "import pandas as pd #to work with data frames\n",
    "import matplotlib.pyplot as plt\n",
    "import seaborn as sns\n",
    "sns.set()\n",
    "import zipfile #to open zipfile\n",
    "\n",
    "# data partition\n",
    "from sklearn.model_selection import train_test_split\n",
    "\n",
    "#filter methods\n",
    "# spearman \n",
    "# chi-square\n",
    "import scipy.stats as stats\n",
    "from scipy.stats import chi2_contingency\n",
    "\n",
    "#wrapper methods\n",
    "from sklearn.linear_model import LogisticRegression\n",
    "from sklearn.svm import SVC\n",
    "from sklearn.feature_selection import RFE\n",
    "\n",
    "\n",
    "# embedded methods\n",
    "from sklearn.linear_model import LassoCV\n",
    "\n",
    "import warnings\n",
    "warnings.filterwarnings('ignore')"
   ]
  },
  {
   "attachments": {},
   "cell_type": "markdown",
   "id": "24d6254a",
   "metadata": {},
   "source": [
    "### 1.2 Read the data and first overview"
   ]
  },
  {
   "cell_type": "code",
   "execution_count": 92,
   "id": "88bee714",
   "metadata": {},
   "outputs": [
    {
     "name": "stdout",
     "output_type": "stream",
     "text": [
      "Train Data:\n",
      "  Accident Date  Age at Injury Alternative Dispute Resolution Assembly Date  \\\n",
      "0    2019-12-30           31.0                              N    2020-01-01   \n",
      "1    2019-08-30           46.0                              N    2020-01-01   \n",
      "2    2019-12-06           40.0                              N    2020-01-01   \n",
      "3           NaN            NaN                            NaN    2020-01-01   \n",
      "4    2019-12-30           61.0                              N    2020-01-01   \n",
      "\n",
      "  Attorney/Representative  Average Weekly Wage  Birth Year    C-2 Date  \\\n",
      "0                       N                 0.00      1988.0  2019-12-31   \n",
      "1                       Y              1745.93      1973.0  2020-01-01   \n",
      "2                       N              1434.80      1979.0  2020-01-01   \n",
      "3                     NaN                  NaN         NaN         NaN   \n",
      "4                       N                  NaN      1958.0  2019-12-31   \n",
      "\n",
      "     C-3 Date                  Carrier Name  ... WCIO Cause of Injury Code  \\\n",
      "0         NaN    NEW HAMPSHIRE INSURANCE CO  ...                      27.0   \n",
      "1  2020-01-14  ZURICH AMERICAN INSURANCE CO  ...                      97.0   \n",
      "2         NaN     INDEMNITY INSURANCE CO OF  ...                      79.0   \n",
      "3         NaN                           NaN  ...                       NaN   \n",
      "4         NaN          STATE INSURANCE FUND  ...                      16.0   \n",
      "\n",
      "   WCIO Cause of Injury Description WCIO Nature of Injury Code  \\\n",
      "0      FROM LIQUID OR GREASE SPILLS                       10.0   \n",
      "1                 REPETITIVE MOTION                       49.0   \n",
      "2    OBJECT BEING LIFTED OR HANDLED                        7.0   \n",
      "3                               NaN                        NaN   \n",
      "4   HAND TOOL, UTENSIL; NOT POWERED                       43.0   \n",
      "\n",
      "  WCIO Nature of Injury Description WCIO Part Of Body Code  \\\n",
      "0                         CONTUSION                   62.0   \n",
      "1                    SPRAIN OR TEAR                   38.0   \n",
      "2                        CONCUSSION                   10.0   \n",
      "3                               NaN                    NaN   \n",
      "4                          PUNCTURE                   36.0   \n",
      "\n",
      "  WCIO Part Of Body Description Zip Code Agreement Reached      WCB Decision  \\\n",
      "0                      BUTTOCKS    13662               0.0  Not Work Related   \n",
      "1                   SHOULDER(S)    14569               1.0  Not Work Related   \n",
      "2          MULTIPLE HEAD INJURY    12589               0.0  Not Work Related   \n",
      "3                           NaN      NaN               NaN               NaN   \n",
      "4                     FINGER(S)    12603               0.0  Not Work Related   \n",
      "\n",
      "   Number of Dependents  \n",
      "0                   1.0  \n",
      "1                   4.0  \n",
      "2                   6.0  \n",
      "3                   NaN  \n",
      "4                   1.0  \n",
      "\n",
      "[5 rows x 33 columns]\n",
      "\n",
      "Test Data:\n",
      "  Accident Date  Age at Injury Alternative Dispute Resolution Assembly Date  \\\n",
      "0    2022-12-24             19                              N    2023-01-02   \n",
      "1    2022-11-20             19                              N    2023-01-02   \n",
      "2    2022-12-26             59                              N    2023-01-02   \n",
      "3    2022-12-28             55                              N    2023-01-02   \n",
      "4    2022-12-20             25                              N    2023-01-02   \n",
      "\n",
      "  Attorney/Representative  Average Weekly Wage  Birth Year    C-2 Date  \\\n",
      "0                       N                  NaN      2003.0  2023-01-02   \n",
      "1                       N                  NaN      2003.0  2023-01-02   \n",
      "2                       N                  0.0      1963.0  2022-12-31   \n",
      "3                       N                  0.0         0.0  2023-01-02   \n",
      "4                       N                  0.0      1997.0  2022-12-31   \n",
      "\n",
      "  C-3 Date                 Carrier Name  ... Medical Fee Region  \\\n",
      "0      NaN    INDEMNITY INSURANCE CO OF  ...                 IV   \n",
      "1      NaN      A I U INSURANCE COMPANY  ...                 IV   \n",
      "2      NaN    AMGUARD INSURANCE COMPANY  ...                III   \n",
      "3      NaN  INDEMNITY INS. OF N AMERICA  ...                 IV   \n",
      "4      NaN   NEW HAMPSHIRE INSURANCE CO  ...                 IV   \n",
      "\n",
      "   OIICS Nature of Injury Description WCIO Cause of Injury Code  \\\n",
      "0                                 NaN                      31.0   \n",
      "1                                 NaN                      75.0   \n",
      "2                                 NaN                      68.0   \n",
      "3                                 NaN                      25.0   \n",
      "4                                 NaN                      79.0   \n",
      "\n",
      "   WCIO Cause of Injury Description WCIO Nature of Injury Code  \\\n",
      "0           FALL, SLIP OR TRIP, NOC                       10.0   \n",
      "1          FALLING OR FLYING OBJECT                       10.0   \n",
      "2                 STATIONARY OBJECT                       49.0   \n",
      "3  FROM DIFFERENT LEVEL (ELEVATION)                       10.0   \n",
      "4    OBJECT BEING LIFTED OR HANDLED                       40.0   \n",
      "\n",
      "  WCIO Nature of Injury Description WCIO Part Of Body Code  \\\n",
      "0                         CONTUSION                   54.0   \n",
      "1                         CONTUSION                   10.0   \n",
      "2                    SPRAIN OR TEAR                   62.0   \n",
      "3                         CONTUSION                   53.0   \n",
      "4                        LACERATION                   37.0   \n",
      "\n",
      "   WCIO Part Of Body Description  Zip Code Number of Dependents  \n",
      "0                      LOWER LEG     10466                    1  \n",
      "1           MULTIPLE HEAD INJURY     11691                    1  \n",
      "2                       BUTTOCKS     10604                    0  \n",
      "3                           KNEE     11411                    6  \n",
      "4                          THUMB     11212                    5  \n",
      "\n",
      "[5 rows x 30 columns]\n"
     ]
    }
   ],
   "source": [
    "train_zip_path = 'train_data.csv.zip'\n",
    "test_zip_path = 'test_data.csv.zip'\n",
    "\n",
    "# open csv file from zip\n",
    "def read_zipped_csv(zip_path):\n",
    "    with zipfile.ZipFile(zip_path, 'r') as z:\n",
    "        csv_filename = z.namelist()[0]\n",
    "        \n",
    "        with z.open(csv_filename) as f:\n",
    "            return pd.read_csv(f)\n",
    "\n",
    "train_df = read_zipped_csv(train_zip_path)\n",
    "test_df = read_zipped_csv(test_zip_path)\n",
    "\n",
    "print(\"Train Data:\")\n",
    "print(train_df.head())\n",
    "print(\"\\nTest Data:\")\n",
    "print(test_df.head())"
   ]
  },
  {
   "cell_type": "code",
   "execution_count": 93,
   "id": "13187738",
   "metadata": {},
   "outputs": [
    {
     "data": {
      "text/html": [
       "<div>\n",
       "<style scoped>\n",
       "    .dataframe tbody tr th:only-of-type {\n",
       "        vertical-align: middle;\n",
       "    }\n",
       "\n",
       "    .dataframe tbody tr th {\n",
       "        vertical-align: top;\n",
       "    }\n",
       "\n",
       "    .dataframe thead th {\n",
       "        text-align: right;\n",
       "    }\n",
       "</style>\n",
       "<table border=\"1\" class=\"dataframe\">\n",
       "  <thead>\n",
       "    <tr style=\"text-align: right;\">\n",
       "      <th></th>\n",
       "      <th>Accident Date</th>\n",
       "      <th>Age at Injury</th>\n",
       "      <th>Alternative Dispute Resolution</th>\n",
       "      <th>Assembly Date</th>\n",
       "      <th>Attorney/Representative</th>\n",
       "      <th>Average Weekly Wage</th>\n",
       "      <th>Birth Year</th>\n",
       "      <th>C-2 Date</th>\n",
       "      <th>C-3 Date</th>\n",
       "      <th>Carrier Name</th>\n",
       "      <th>...</th>\n",
       "      <th>WCIO Cause of Injury Code</th>\n",
       "      <th>WCIO Cause of Injury Description</th>\n",
       "      <th>WCIO Nature of Injury Code</th>\n",
       "      <th>WCIO Nature of Injury Description</th>\n",
       "      <th>WCIO Part Of Body Code</th>\n",
       "      <th>WCIO Part Of Body Description</th>\n",
       "      <th>Zip Code</th>\n",
       "      <th>Agreement Reached</th>\n",
       "      <th>WCB Decision</th>\n",
       "      <th>Number of Dependents</th>\n",
       "    </tr>\n",
       "  </thead>\n",
       "  <tbody>\n",
       "    <tr>\n",
       "      <th>0</th>\n",
       "      <td>2019-12-30</td>\n",
       "      <td>31.0</td>\n",
       "      <td>N</td>\n",
       "      <td>2020-01-01</td>\n",
       "      <td>N</td>\n",
       "      <td>0.00</td>\n",
       "      <td>1988.0</td>\n",
       "      <td>2019-12-31</td>\n",
       "      <td>NaN</td>\n",
       "      <td>NEW HAMPSHIRE INSURANCE CO</td>\n",
       "      <td>...</td>\n",
       "      <td>27.0</td>\n",
       "      <td>FROM LIQUID OR GREASE SPILLS</td>\n",
       "      <td>10.0</td>\n",
       "      <td>CONTUSION</td>\n",
       "      <td>62.0</td>\n",
       "      <td>BUTTOCKS</td>\n",
       "      <td>13662</td>\n",
       "      <td>0.0</td>\n",
       "      <td>Not Work Related</td>\n",
       "      <td>1.0</td>\n",
       "    </tr>\n",
       "    <tr>\n",
       "      <th>1</th>\n",
       "      <td>2019-08-30</td>\n",
       "      <td>46.0</td>\n",
       "      <td>N</td>\n",
       "      <td>2020-01-01</td>\n",
       "      <td>Y</td>\n",
       "      <td>1745.93</td>\n",
       "      <td>1973.0</td>\n",
       "      <td>2020-01-01</td>\n",
       "      <td>2020-01-14</td>\n",
       "      <td>ZURICH AMERICAN INSURANCE CO</td>\n",
       "      <td>...</td>\n",
       "      <td>97.0</td>\n",
       "      <td>REPETITIVE MOTION</td>\n",
       "      <td>49.0</td>\n",
       "      <td>SPRAIN OR TEAR</td>\n",
       "      <td>38.0</td>\n",
       "      <td>SHOULDER(S)</td>\n",
       "      <td>14569</td>\n",
       "      <td>1.0</td>\n",
       "      <td>Not Work Related</td>\n",
       "      <td>4.0</td>\n",
       "    </tr>\n",
       "    <tr>\n",
       "      <th>2</th>\n",
       "      <td>2019-12-06</td>\n",
       "      <td>40.0</td>\n",
       "      <td>N</td>\n",
       "      <td>2020-01-01</td>\n",
       "      <td>N</td>\n",
       "      <td>1434.80</td>\n",
       "      <td>1979.0</td>\n",
       "      <td>2020-01-01</td>\n",
       "      <td>NaN</td>\n",
       "      <td>INDEMNITY INSURANCE CO OF</td>\n",
       "      <td>...</td>\n",
       "      <td>79.0</td>\n",
       "      <td>OBJECT BEING LIFTED OR HANDLED</td>\n",
       "      <td>7.0</td>\n",
       "      <td>CONCUSSION</td>\n",
       "      <td>10.0</td>\n",
       "      <td>MULTIPLE HEAD INJURY</td>\n",
       "      <td>12589</td>\n",
       "      <td>0.0</td>\n",
       "      <td>Not Work Related</td>\n",
       "      <td>6.0</td>\n",
       "    </tr>\n",
       "    <tr>\n",
       "      <th>3</th>\n",
       "      <td>NaN</td>\n",
       "      <td>NaN</td>\n",
       "      <td>NaN</td>\n",
       "      <td>2020-01-01</td>\n",
       "      <td>NaN</td>\n",
       "      <td>NaN</td>\n",
       "      <td>NaN</td>\n",
       "      <td>NaN</td>\n",
       "      <td>NaN</td>\n",
       "      <td>NaN</td>\n",
       "      <td>...</td>\n",
       "      <td>NaN</td>\n",
       "      <td>NaN</td>\n",
       "      <td>NaN</td>\n",
       "      <td>NaN</td>\n",
       "      <td>NaN</td>\n",
       "      <td>NaN</td>\n",
       "      <td>NaN</td>\n",
       "      <td>NaN</td>\n",
       "      <td>NaN</td>\n",
       "      <td>NaN</td>\n",
       "    </tr>\n",
       "    <tr>\n",
       "      <th>4</th>\n",
       "      <td>2019-12-30</td>\n",
       "      <td>61.0</td>\n",
       "      <td>N</td>\n",
       "      <td>2020-01-01</td>\n",
       "      <td>N</td>\n",
       "      <td>NaN</td>\n",
       "      <td>1958.0</td>\n",
       "      <td>2019-12-31</td>\n",
       "      <td>NaN</td>\n",
       "      <td>STATE INSURANCE FUND</td>\n",
       "      <td>...</td>\n",
       "      <td>16.0</td>\n",
       "      <td>HAND TOOL, UTENSIL; NOT POWERED</td>\n",
       "      <td>43.0</td>\n",
       "      <td>PUNCTURE</td>\n",
       "      <td>36.0</td>\n",
       "      <td>FINGER(S)</td>\n",
       "      <td>12603</td>\n",
       "      <td>0.0</td>\n",
       "      <td>Not Work Related</td>\n",
       "      <td>1.0</td>\n",
       "    </tr>\n",
       "  </tbody>\n",
       "</table>\n",
       "<p>5 rows × 33 columns</p>\n",
       "</div>"
      ],
      "text/plain": [
       "  Accident Date  Age at Injury Alternative Dispute Resolution Assembly Date  \\\n",
       "0    2019-12-30           31.0                              N    2020-01-01   \n",
       "1    2019-08-30           46.0                              N    2020-01-01   \n",
       "2    2019-12-06           40.0                              N    2020-01-01   \n",
       "3           NaN            NaN                            NaN    2020-01-01   \n",
       "4    2019-12-30           61.0                              N    2020-01-01   \n",
       "\n",
       "  Attorney/Representative  Average Weekly Wage  Birth Year    C-2 Date  \\\n",
       "0                       N                 0.00      1988.0  2019-12-31   \n",
       "1                       Y              1745.93      1973.0  2020-01-01   \n",
       "2                       N              1434.80      1979.0  2020-01-01   \n",
       "3                     NaN                  NaN         NaN         NaN   \n",
       "4                       N                  NaN      1958.0  2019-12-31   \n",
       "\n",
       "     C-3 Date                  Carrier Name  ... WCIO Cause of Injury Code  \\\n",
       "0         NaN    NEW HAMPSHIRE INSURANCE CO  ...                      27.0   \n",
       "1  2020-01-14  ZURICH AMERICAN INSURANCE CO  ...                      97.0   \n",
       "2         NaN     INDEMNITY INSURANCE CO OF  ...                      79.0   \n",
       "3         NaN                           NaN  ...                       NaN   \n",
       "4         NaN          STATE INSURANCE FUND  ...                      16.0   \n",
       "\n",
       "   WCIO Cause of Injury Description WCIO Nature of Injury Code  \\\n",
       "0      FROM LIQUID OR GREASE SPILLS                       10.0   \n",
       "1                 REPETITIVE MOTION                       49.0   \n",
       "2    OBJECT BEING LIFTED OR HANDLED                        7.0   \n",
       "3                               NaN                        NaN   \n",
       "4   HAND TOOL, UTENSIL; NOT POWERED                       43.0   \n",
       "\n",
       "  WCIO Nature of Injury Description WCIO Part Of Body Code  \\\n",
       "0                         CONTUSION                   62.0   \n",
       "1                    SPRAIN OR TEAR                   38.0   \n",
       "2                        CONCUSSION                   10.0   \n",
       "3                               NaN                    NaN   \n",
       "4                          PUNCTURE                   36.0   \n",
       "\n",
       "  WCIO Part Of Body Description Zip Code Agreement Reached      WCB Decision  \\\n",
       "0                      BUTTOCKS    13662               0.0  Not Work Related   \n",
       "1                   SHOULDER(S)    14569               1.0  Not Work Related   \n",
       "2          MULTIPLE HEAD INJURY    12589               0.0  Not Work Related   \n",
       "3                           NaN      NaN               NaN               NaN   \n",
       "4                     FINGER(S)    12603               0.0  Not Work Related   \n",
       "\n",
       "   Number of Dependents  \n",
       "0                   1.0  \n",
       "1                   4.0  \n",
       "2                   6.0  \n",
       "3                   NaN  \n",
       "4                   1.0  \n",
       "\n",
       "[5 rows x 33 columns]"
      ]
     },
     "execution_count": 93,
     "metadata": {},
     "output_type": "execute_result"
    }
   ],
   "source": [
    "train_df.head()"
   ]
  },
  {
   "attachments": {},
   "cell_type": "markdown",
   "id": "c4cc6ea8",
   "metadata": {},
   "source": [
    "## 2. Data Understanding and Exploration <a id='dataunderstand'></a>\n",
    "[to the top](#top)"
   ]
  },
  {
   "cell_type": "code",
   "execution_count": 94,
   "id": "4ff1dc04",
   "metadata": {},
   "outputs": [
    {
     "name": "stdout",
     "output_type": "stream",
     "text": [
      "<class 'pandas.core.frame.DataFrame'>\n",
      "RangeIndex: 593471 entries, 0 to 593470\n",
      "Data columns (total 33 columns):\n",
      " #   Column                              Non-Null Count   Dtype  \n",
      "---  ------                              --------------   -----  \n",
      " 0   Accident Date                       570337 non-null  object \n",
      " 1   Age at Injury                       574026 non-null  float64\n",
      " 2   Alternative Dispute Resolution      574026 non-null  object \n",
      " 3   Assembly Date                       593471 non-null  object \n",
      " 4   Attorney/Representative             574026 non-null  object \n",
      " 5   Average Weekly Wage                 545375 non-null  float64\n",
      " 6   Birth Year                          544948 non-null  float64\n",
      " 7   C-2 Date                            559466 non-null  object \n",
      " 8   C-3 Date                            187245 non-null  object \n",
      " 9   Carrier Name                        574026 non-null  object \n",
      " 10  Carrier Type                        574026 non-null  object \n",
      " 11  Claim Identifier                    593471 non-null  int64  \n",
      " 12  Claim Injury Type                   574026 non-null  object \n",
      " 13  County of Injury                    574026 non-null  object \n",
      " 14  COVID-19 Indicator                  574026 non-null  object \n",
      " 15  District Name                       574026 non-null  object \n",
      " 16  First Hearing Date                  150798 non-null  object \n",
      " 17  Gender                              574026 non-null  object \n",
      " 18  IME-4 Count                         132803 non-null  float64\n",
      " 19  Industry Code                       564068 non-null  float64\n",
      " 20  Industry Code Description           564068 non-null  object \n",
      " 21  Medical Fee Region                  574026 non-null  object \n",
      " 22  OIICS Nature of Injury Description  0 non-null       float64\n",
      " 23  WCIO Cause of Injury Code           558386 non-null  float64\n",
      " 24  WCIO Cause of Injury Description    558386 non-null  object \n",
      " 25  WCIO Nature of Injury Code          558369 non-null  float64\n",
      " 26  WCIO Nature of Injury Description   558369 non-null  object \n",
      " 27  WCIO Part Of Body Code              556944 non-null  float64\n",
      " 28  WCIO Part Of Body Description       556944 non-null  object \n",
      " 29  Zip Code                            545389 non-null  object \n",
      " 30  Agreement Reached                   574026 non-null  float64\n",
      " 31  WCB Decision                        574026 non-null  object \n",
      " 32  Number of Dependents                574026 non-null  float64\n",
      "dtypes: float64(11), int64(1), object(21)\n",
      "memory usage: 149.4+ MB\n"
     ]
    }
   ],
   "source": [
    "train_df.info()"
   ]
  },
  {
   "cell_type": "code",
   "execution_count": 95,
   "id": "a3d1d1b2",
   "metadata": {},
   "outputs": [
    {
     "data": {
      "text/html": [
       "<div>\n",
       "<style scoped>\n",
       "    .dataframe tbody tr th:only-of-type {\n",
       "        vertical-align: middle;\n",
       "    }\n",
       "\n",
       "    .dataframe tbody tr th {\n",
       "        vertical-align: top;\n",
       "    }\n",
       "\n",
       "    .dataframe thead th {\n",
       "        text-align: right;\n",
       "    }\n",
       "</style>\n",
       "<table border=\"1\" class=\"dataframe\">\n",
       "  <thead>\n",
       "    <tr style=\"text-align: right;\">\n",
       "      <th></th>\n",
       "      <th>Age at Injury</th>\n",
       "      <th>Average Weekly Wage</th>\n",
       "      <th>Birth Year</th>\n",
       "      <th>Claim Identifier</th>\n",
       "      <th>IME-4 Count</th>\n",
       "      <th>Industry Code</th>\n",
       "      <th>OIICS Nature of Injury Description</th>\n",
       "      <th>WCIO Cause of Injury Code</th>\n",
       "      <th>WCIO Nature of Injury Code</th>\n",
       "      <th>WCIO Part Of Body Code</th>\n",
       "      <th>Agreement Reached</th>\n",
       "      <th>Number of Dependents</th>\n",
       "    </tr>\n",
       "  </thead>\n",
       "  <tbody>\n",
       "    <tr>\n",
       "      <th>count</th>\n",
       "      <td>574026.000000</td>\n",
       "      <td>5.453750e+05</td>\n",
       "      <td>544948.000000</td>\n",
       "      <td>5.934710e+05</td>\n",
       "      <td>132803.000000</td>\n",
       "      <td>564068.000000</td>\n",
       "      <td>0.0</td>\n",
       "      <td>558386.000000</td>\n",
       "      <td>558369.000000</td>\n",
       "      <td>556944.000000</td>\n",
       "      <td>574026.000000</td>\n",
       "      <td>574026.000000</td>\n",
       "    </tr>\n",
       "    <tr>\n",
       "      <th>mean</th>\n",
       "      <td>42.114270</td>\n",
       "      <td>4.910883e+02</td>\n",
       "      <td>1886.767604</td>\n",
       "      <td>2.366760e+07</td>\n",
       "      <td>3.207337</td>\n",
       "      <td>58.645305</td>\n",
       "      <td>NaN</td>\n",
       "      <td>54.381143</td>\n",
       "      <td>41.013839</td>\n",
       "      <td>39.738146</td>\n",
       "      <td>0.046665</td>\n",
       "      <td>3.006559</td>\n",
       "    </tr>\n",
       "    <tr>\n",
       "      <th>std</th>\n",
       "      <td>14.256432</td>\n",
       "      <td>6.092918e+03</td>\n",
       "      <td>414.644423</td>\n",
       "      <td>1.079271e+08</td>\n",
       "      <td>2.832303</td>\n",
       "      <td>19.644175</td>\n",
       "      <td>NaN</td>\n",
       "      <td>25.874281</td>\n",
       "      <td>22.207521</td>\n",
       "      <td>22.365940</td>\n",
       "      <td>0.210921</td>\n",
       "      <td>2.000801</td>\n",
       "    </tr>\n",
       "    <tr>\n",
       "      <th>min</th>\n",
       "      <td>0.000000</td>\n",
       "      <td>0.000000e+00</td>\n",
       "      <td>0.000000</td>\n",
       "      <td>5.393066e+06</td>\n",
       "      <td>1.000000</td>\n",
       "      <td>11.000000</td>\n",
       "      <td>NaN</td>\n",
       "      <td>1.000000</td>\n",
       "      <td>1.000000</td>\n",
       "      <td>-9.000000</td>\n",
       "      <td>0.000000</td>\n",
       "      <td>0.000000</td>\n",
       "    </tr>\n",
       "    <tr>\n",
       "      <th>25%</th>\n",
       "      <td>31.000000</td>\n",
       "      <td>0.000000e+00</td>\n",
       "      <td>1965.000000</td>\n",
       "      <td>5.593414e+06</td>\n",
       "      <td>1.000000</td>\n",
       "      <td>45.000000</td>\n",
       "      <td>NaN</td>\n",
       "      <td>31.000000</td>\n",
       "      <td>16.000000</td>\n",
       "      <td>33.000000</td>\n",
       "      <td>0.000000</td>\n",
       "      <td>1.000000</td>\n",
       "    </tr>\n",
       "    <tr>\n",
       "      <th>50%</th>\n",
       "      <td>42.000000</td>\n",
       "      <td>0.000000e+00</td>\n",
       "      <td>1977.000000</td>\n",
       "      <td>5.791212e+06</td>\n",
       "      <td>2.000000</td>\n",
       "      <td>61.000000</td>\n",
       "      <td>NaN</td>\n",
       "      <td>56.000000</td>\n",
       "      <td>49.000000</td>\n",
       "      <td>38.000000</td>\n",
       "      <td>0.000000</td>\n",
       "      <td>3.000000</td>\n",
       "    </tr>\n",
       "    <tr>\n",
       "      <th>75%</th>\n",
       "      <td>54.000000</td>\n",
       "      <td>8.410000e+02</td>\n",
       "      <td>1989.000000</td>\n",
       "      <td>5.991000e+06</td>\n",
       "      <td>4.000000</td>\n",
       "      <td>71.000000</td>\n",
       "      <td>NaN</td>\n",
       "      <td>75.000000</td>\n",
       "      <td>52.000000</td>\n",
       "      <td>53.000000</td>\n",
       "      <td>0.000000</td>\n",
       "      <td>5.000000</td>\n",
       "    </tr>\n",
       "    <tr>\n",
       "      <th>max</th>\n",
       "      <td>117.000000</td>\n",
       "      <td>2.828079e+06</td>\n",
       "      <td>2018.000000</td>\n",
       "      <td>9.998917e+08</td>\n",
       "      <td>73.000000</td>\n",
       "      <td>92.000000</td>\n",
       "      <td>NaN</td>\n",
       "      <td>99.000000</td>\n",
       "      <td>91.000000</td>\n",
       "      <td>99.000000</td>\n",
       "      <td>1.000000</td>\n",
       "      <td>6.000000</td>\n",
       "    </tr>\n",
       "  </tbody>\n",
       "</table>\n",
       "</div>"
      ],
      "text/plain": [
       "       Age at Injury  Average Weekly Wage     Birth Year  Claim Identifier  \\\n",
       "count  574026.000000         5.453750e+05  544948.000000      5.934710e+05   \n",
       "mean       42.114270         4.910883e+02    1886.767604      2.366760e+07   \n",
       "std        14.256432         6.092918e+03     414.644423      1.079271e+08   \n",
       "min         0.000000         0.000000e+00       0.000000      5.393066e+06   \n",
       "25%        31.000000         0.000000e+00    1965.000000      5.593414e+06   \n",
       "50%        42.000000         0.000000e+00    1977.000000      5.791212e+06   \n",
       "75%        54.000000         8.410000e+02    1989.000000      5.991000e+06   \n",
       "max       117.000000         2.828079e+06    2018.000000      9.998917e+08   \n",
       "\n",
       "         IME-4 Count  Industry Code  OIICS Nature of Injury Description  \\\n",
       "count  132803.000000  564068.000000                                 0.0   \n",
       "mean        3.207337      58.645305                                 NaN   \n",
       "std         2.832303      19.644175                                 NaN   \n",
       "min         1.000000      11.000000                                 NaN   \n",
       "25%         1.000000      45.000000                                 NaN   \n",
       "50%         2.000000      61.000000                                 NaN   \n",
       "75%         4.000000      71.000000                                 NaN   \n",
       "max        73.000000      92.000000                                 NaN   \n",
       "\n",
       "       WCIO Cause of Injury Code  WCIO Nature of Injury Code  \\\n",
       "count              558386.000000               558369.000000   \n",
       "mean                   54.381143                   41.013839   \n",
       "std                    25.874281                   22.207521   \n",
       "min                     1.000000                    1.000000   \n",
       "25%                    31.000000                   16.000000   \n",
       "50%                    56.000000                   49.000000   \n",
       "75%                    75.000000                   52.000000   \n",
       "max                    99.000000                   91.000000   \n",
       "\n",
       "       WCIO Part Of Body Code  Agreement Reached  Number of Dependents  \n",
       "count           556944.000000      574026.000000         574026.000000  \n",
       "mean                39.738146           0.046665              3.006559  \n",
       "std                 22.365940           0.210921              2.000801  \n",
       "min                 -9.000000           0.000000              0.000000  \n",
       "25%                 33.000000           0.000000              1.000000  \n",
       "50%                 38.000000           0.000000              3.000000  \n",
       "75%                 53.000000           0.000000              5.000000  \n",
       "max                 99.000000           1.000000              6.000000  "
      ]
     },
     "execution_count": 95,
     "metadata": {},
     "output_type": "execute_result"
    }
   ],
   "source": [
    "# Have a first look at the numerical variables and their distirbutions\n",
    "train_df.describe()"
   ]
  },
  {
   "cell_type": "code",
   "execution_count": 96,
   "id": "c1193c43",
   "metadata": {},
   "outputs": [
    {
     "data": {
      "text/html": [
       "<div>\n",
       "<style scoped>\n",
       "    .dataframe tbody tr th:only-of-type {\n",
       "        vertical-align: middle;\n",
       "    }\n",
       "\n",
       "    .dataframe tbody tr th {\n",
       "        vertical-align: top;\n",
       "    }\n",
       "\n",
       "    .dataframe thead th {\n",
       "        text-align: right;\n",
       "    }\n",
       "</style>\n",
       "<table border=\"1\" class=\"dataframe\">\n",
       "  <thead>\n",
       "    <tr style=\"text-align: right;\">\n",
       "      <th></th>\n",
       "      <th>Accident Date</th>\n",
       "      <th>Alternative Dispute Resolution</th>\n",
       "      <th>Assembly Date</th>\n",
       "      <th>Attorney/Representative</th>\n",
       "      <th>C-2 Date</th>\n",
       "      <th>C-3 Date</th>\n",
       "      <th>Carrier Name</th>\n",
       "      <th>Carrier Type</th>\n",
       "      <th>Claim Injury Type</th>\n",
       "      <th>County of Injury</th>\n",
       "      <th>...</th>\n",
       "      <th>District Name</th>\n",
       "      <th>First Hearing Date</th>\n",
       "      <th>Gender</th>\n",
       "      <th>Industry Code Description</th>\n",
       "      <th>Medical Fee Region</th>\n",
       "      <th>WCIO Cause of Injury Description</th>\n",
       "      <th>WCIO Nature of Injury Description</th>\n",
       "      <th>WCIO Part Of Body Description</th>\n",
       "      <th>Zip Code</th>\n",
       "      <th>WCB Decision</th>\n",
       "    </tr>\n",
       "  </thead>\n",
       "  <tbody>\n",
       "    <tr>\n",
       "      <th>count</th>\n",
       "      <td>570337</td>\n",
       "      <td>574026</td>\n",
       "      <td>593471</td>\n",
       "      <td>574026</td>\n",
       "      <td>559466</td>\n",
       "      <td>187245</td>\n",
       "      <td>574026</td>\n",
       "      <td>574026</td>\n",
       "      <td>574026</td>\n",
       "      <td>574026</td>\n",
       "      <td>...</td>\n",
       "      <td>574026</td>\n",
       "      <td>150798</td>\n",
       "      <td>574026</td>\n",
       "      <td>564068</td>\n",
       "      <td>574026</td>\n",
       "      <td>558386</td>\n",
       "      <td>558369</td>\n",
       "      <td>556944</td>\n",
       "      <td>545389</td>\n",
       "      <td>574026</td>\n",
       "    </tr>\n",
       "    <tr>\n",
       "      <th>unique</th>\n",
       "      <td>5539</td>\n",
       "      <td>3</td>\n",
       "      <td>1096</td>\n",
       "      <td>2</td>\n",
       "      <td>2475</td>\n",
       "      <td>1648</td>\n",
       "      <td>2046</td>\n",
       "      <td>8</td>\n",
       "      <td>8</td>\n",
       "      <td>63</td>\n",
       "      <td>...</td>\n",
       "      <td>8</td>\n",
       "      <td>1094</td>\n",
       "      <td>4</td>\n",
       "      <td>20</td>\n",
       "      <td>5</td>\n",
       "      <td>74</td>\n",
       "      <td>56</td>\n",
       "      <td>54</td>\n",
       "      <td>10060</td>\n",
       "      <td>1</td>\n",
       "    </tr>\n",
       "    <tr>\n",
       "      <th>top</th>\n",
       "      <td>2020-03-01</td>\n",
       "      <td>N</td>\n",
       "      <td>2020-03-06</td>\n",
       "      <td>N</td>\n",
       "      <td>2021-05-11</td>\n",
       "      <td>2021-04-21</td>\n",
       "      <td>STATE INSURANCE FUND</td>\n",
       "      <td>1A. PRIVATE</td>\n",
       "      <td>2. NON-COMP</td>\n",
       "      <td>SUFFOLK</td>\n",
       "      <td>...</td>\n",
       "      <td>NYC</td>\n",
       "      <td>2022-04-15</td>\n",
       "      <td>M</td>\n",
       "      <td>HEALTH CARE AND SOCIAL ASSISTANCE</td>\n",
       "      <td>IV</td>\n",
       "      <td>LIFTING</td>\n",
       "      <td>STRAIN OR TEAR</td>\n",
       "      <td>LOWER BACK AREA</td>\n",
       "      <td>11236</td>\n",
       "      <td>Not Work Related</td>\n",
       "    </tr>\n",
       "    <tr>\n",
       "      <th>freq</th>\n",
       "      <td>1245</td>\n",
       "      <td>571412</td>\n",
       "      <td>1422</td>\n",
       "      <td>392291</td>\n",
       "      <td>1847</td>\n",
       "      <td>350</td>\n",
       "      <td>111144</td>\n",
       "      <td>285368</td>\n",
       "      <td>291078</td>\n",
       "      <td>60430</td>\n",
       "      <td>...</td>\n",
       "      <td>270779</td>\n",
       "      <td>440</td>\n",
       "      <td>335218</td>\n",
       "      <td>114339</td>\n",
       "      <td>265981</td>\n",
       "      <td>46610</td>\n",
       "      <td>153373</td>\n",
       "      <td>51862</td>\n",
       "      <td>3302</td>\n",
       "      <td>574026</td>\n",
       "    </tr>\n",
       "  </tbody>\n",
       "</table>\n",
       "<p>4 rows × 21 columns</p>\n",
       "</div>"
      ],
      "text/plain": [
       "       Accident Date Alternative Dispute Resolution Assembly Date  \\\n",
       "count         570337                         574026        593471   \n",
       "unique          5539                              3          1096   \n",
       "top       2020-03-01                              N    2020-03-06   \n",
       "freq            1245                         571412          1422   \n",
       "\n",
       "       Attorney/Representative    C-2 Date    C-3 Date          Carrier Name  \\\n",
       "count                   574026      559466      187245                574026   \n",
       "unique                       2        2475        1648                  2046   \n",
       "top                          N  2021-05-11  2021-04-21  STATE INSURANCE FUND   \n",
       "freq                    392291        1847         350                111144   \n",
       "\n",
       "       Carrier Type Claim Injury Type County of Injury  ... District Name  \\\n",
       "count        574026            574026           574026  ...        574026   \n",
       "unique            8                 8               63  ...             8   \n",
       "top     1A. PRIVATE       2. NON-COMP          SUFFOLK  ...           NYC   \n",
       "freq         285368            291078            60430  ...        270779   \n",
       "\n",
       "       First Hearing Date  Gender          Industry Code Description  \\\n",
       "count              150798  574026                             564068   \n",
       "unique               1094       4                                 20   \n",
       "top            2022-04-15       M  HEALTH CARE AND SOCIAL ASSISTANCE   \n",
       "freq                  440  335218                             114339   \n",
       "\n",
       "       Medical Fee Region WCIO Cause of Injury Description  \\\n",
       "count              574026                           558386   \n",
       "unique                  5                               74   \n",
       "top                    IV                          LIFTING   \n",
       "freq               265981                            46610   \n",
       "\n",
       "       WCIO Nature of Injury Description WCIO Part Of Body Description  \\\n",
       "count                             558369                        556944   \n",
       "unique                                56                            54   \n",
       "top                       STRAIN OR TEAR               LOWER BACK AREA   \n",
       "freq                              153373                         51862   \n",
       "\n",
       "       Zip Code      WCB Decision  \n",
       "count    545389            574026  \n",
       "unique    10060                 1  \n",
       "top       11236  Not Work Related  \n",
       "freq       3302            574026  \n",
       "\n",
       "[4 rows x 21 columns]"
      ]
     },
     "execution_count": 96,
     "metadata": {},
     "output_type": "execute_result"
    }
   ],
   "source": [
    "# Have a first look at the categorical variables and their distirbutions\n",
    "train_df.describe(include='O')"
   ]
  },
  {
   "cell_type": "code",
   "execution_count": 97,
   "id": "39bf3a2a",
   "metadata": {},
   "outputs": [],
   "source": [
    "# before working on the dataset, we will do a copy so we can use the original one if we need it\n",
    "train_df_temp = train_df.copy()"
   ]
  },
  {
   "attachments": {},
   "cell_type": "markdown",
   "id": "6d45a131",
   "metadata": {},
   "source": [
    "__Target Variable__\n",
    "\n",
    "We just have a look at the distribution of the target variable 'Claim Injury Type'. To check how our dataset is balanced."
   ]
  },
  {
   "cell_type": "code",
   "execution_count": 98,
   "id": "8a1eab6d",
   "metadata": {},
   "outputs": [
    {
     "data": {
      "text/plain": [
       "2. NON-COMP        291078\n",
       "4. TEMPORARY       148507\n",
       "3. MED ONLY         68906\n",
       "5. PPD SCH LOSS     48280\n",
       "1. CANCELLED        12477\n",
       "6. PPD NSL           4211\n",
       "8. DEATH              470\n",
       "7. PTD                 97\n",
       "Name: Claim Injury Type, dtype: int64"
      ]
     },
     "execution_count": 98,
     "metadata": {},
     "output_type": "execute_result"
    }
   ],
   "source": [
    "train_df_temp['Claim Injury Type'].value_counts()"
   ]
  },
  {
   "cell_type": "code",
   "execution_count": 99,
   "id": "dd31f24e",
   "metadata": {},
   "outputs": [
    {
     "name": "stdout",
     "output_type": "stream",
     "text": [
      "Percentage of Non-Comp Cases: 49.05%\n"
     ]
    }
   ],
   "source": [
    "non_comp_percent = round(train_df_temp['Claim Injury Type'].value_counts().max() / len(train_df_temp),4)\n",
    "\n",
    "print('Percentage of Non-Comp Cases: {}%'.format(non_comp_percent*100))"
   ]
  },
  {
   "cell_type": "code",
   "execution_count": 100,
   "id": "4b386a0e",
   "metadata": {},
   "outputs": [
    {
     "data": {
      "image/png": "[encoded data removed]",
      "text/plain": [
       "<Figure size 1008x432 with 1 Axes>"
      ]
     },
     "metadata": {},
     "output_type": "display_data"
    }
   ],
   "source": [
    "# Plot distribution of target values\n",
    "target_values = train_df_temp['Claim Injury Type'].value_counts()\n",
    "\n",
    "df_target_counts = target_values.reset_index()\n",
    "df_target_counts.columns = ['Claim Injury Type', 'Count']\n",
    "\n",
    "plt.figure(figsize=(14, 6))\n",
    "sns.barplot(x='Claim Injury Type', y='Count', data=df_target_counts)\n",
    "#plt.xticks(rotation=45)\n",
    "plt.title('Distribution of Claim Injury Types')\n",
    "plt.show()"
   ]
  },
  {
   "attachments": {},
   "cell_type": "markdown",
   "id": "d8e13ccf",
   "metadata": {},
   "source": [
    "We can see that we have 7 different classes. One class, \"NON-COMP\", is very dominantly present with making up for 49.05% of the cases.\n",
    "\n",
    "Let's have an initial look at the correlation of the target variable with the other features."
   ]
  },
  {
   "cell_type": "code",
   "execution_count": 101,
   "id": "977cc462",
   "metadata": {},
   "outputs": [],
   "source": [
    "# Since 'Claim Injury Type' is categorical, let's convert it to numeric to check for the correlation\n",
    "train_df_temp['Claim Injury Type Numeric'] = train_df_temp['Claim Injury Type'].astype('category').cat.codes"
   ]
  },
  {
   "cell_type": "code",
   "execution_count": 177,
   "id": "0988f0b3",
   "metadata": {},
   "outputs": [
    {
     "data": {
      "text/html": [
       "<div>\n",
       "<style scoped>\n",
       "    .dataframe tbody tr th:only-of-type {\n",
       "        vertical-align: middle;\n",
       "    }\n",
       "\n",
       "    .dataframe tbody tr th {\n",
       "        vertical-align: top;\n",
       "    }\n",
       "\n",
       "    .dataframe thead th {\n",
       "        text-align: right;\n",
       "    }\n",
       "</style>\n",
       "<table border=\"1\" class=\"dataframe\">\n",
       "  <thead>\n",
       "    <tr style=\"text-align: right;\">\n",
       "      <th></th>\n",
       "      <th>Age at Injury</th>\n",
       "      <th>Average Weekly Wage</th>\n",
       "      <th>Claim Identifier</th>\n",
       "      <th>IME-4 Count</th>\n",
       "      <th>OIICS Nature of Injury Description</th>\n",
       "      <th>Agreement Reached</th>\n",
       "      <th>Number of Dependents</th>\n",
       "      <th>Claim Injury Type Numeric</th>\n",
       "    </tr>\n",
       "  </thead>\n",
       "  <tbody>\n",
       "    <tr>\n",
       "      <th>Age at Injury</th>\n",
       "      <td>1.000000</td>\n",
       "      <td>0.016196</td>\n",
       "      <td>-0.010944</td>\n",
       "      <td>0.067650</td>\n",
       "      <td>NaN</td>\n",
       "      <td>0.019079</td>\n",
       "      <td>0.000461</td>\n",
       "      <td>0.126114</td>\n",
       "    </tr>\n",
       "    <tr>\n",
       "      <th>Average Weekly Wage</th>\n",
       "      <td>0.016196</td>\n",
       "      <td>1.000000</td>\n",
       "      <td>-0.003451</td>\n",
       "      <td>-0.008122</td>\n",
       "      <td>NaN</td>\n",
       "      <td>0.005610</td>\n",
       "      <td>-0.001098</td>\n",
       "      <td>0.091868</td>\n",
       "    </tr>\n",
       "    <tr>\n",
       "      <th>Claim Identifier</th>\n",
       "      <td>-0.010944</td>\n",
       "      <td>-0.003451</td>\n",
       "      <td>1.000000</td>\n",
       "      <td>-0.112271</td>\n",
       "      <td>NaN</td>\n",
       "      <td>-0.077430</td>\n",
       "      <td>0.001610</td>\n",
       "      <td>-0.380843</td>\n",
       "    </tr>\n",
       "    <tr>\n",
       "      <th>IME-4 Count</th>\n",
       "      <td>0.067650</td>\n",
       "      <td>-0.008122</td>\n",
       "      <td>-0.112271</td>\n",
       "      <td>1.000000</td>\n",
       "      <td>NaN</td>\n",
       "      <td>0.090987</td>\n",
       "      <td>0.000046</td>\n",
       "      <td>0.031527</td>\n",
       "    </tr>\n",
       "    <tr>\n",
       "      <th>OIICS Nature of Injury Description</th>\n",
       "      <td>NaN</td>\n",
       "      <td>NaN</td>\n",
       "      <td>NaN</td>\n",
       "      <td>NaN</td>\n",
       "      <td>NaN</td>\n",
       "      <td>NaN</td>\n",
       "      <td>NaN</td>\n",
       "      <td>NaN</td>\n",
       "    </tr>\n",
       "    <tr>\n",
       "      <th>Agreement Reached</th>\n",
       "      <td>0.019079</td>\n",
       "      <td>0.005610</td>\n",
       "      <td>-0.077430</td>\n",
       "      <td>0.090987</td>\n",
       "      <td>NaN</td>\n",
       "      <td>1.000000</td>\n",
       "      <td>-0.000189</td>\n",
       "      <td>0.225043</td>\n",
       "    </tr>\n",
       "    <tr>\n",
       "      <th>Number of Dependents</th>\n",
       "      <td>0.000461</td>\n",
       "      <td>-0.001098</td>\n",
       "      <td>0.001610</td>\n",
       "      <td>0.000046</td>\n",
       "      <td>NaN</td>\n",
       "      <td>-0.000189</td>\n",
       "      <td>1.000000</td>\n",
       "      <td>-0.000464</td>\n",
       "    </tr>\n",
       "    <tr>\n",
       "      <th>Claim Injury Type Numeric</th>\n",
       "      <td>0.126114</td>\n",
       "      <td>0.091868</td>\n",
       "      <td>-0.380843</td>\n",
       "      <td>0.031527</td>\n",
       "      <td>NaN</td>\n",
       "      <td>0.225043</td>\n",
       "      <td>-0.000464</td>\n",
       "      <td>1.000000</td>\n",
       "    </tr>\n",
       "  </tbody>\n",
       "</table>\n",
       "</div>"
      ],
      "text/plain": [
       "                                    Age at Injury  Average Weekly Wage  \\\n",
       "Age at Injury                            1.000000             0.016196   \n",
       "Average Weekly Wage                      0.016196             1.000000   \n",
       "Claim Identifier                        -0.010944            -0.003451   \n",
       "IME-4 Count                              0.067650            -0.008122   \n",
       "OIICS Nature of Injury Description            NaN                  NaN   \n",
       "Agreement Reached                        0.019079             0.005610   \n",
       "Number of Dependents                     0.000461            -0.001098   \n",
       "Claim Injury Type Numeric                0.126114             0.091868   \n",
       "\n",
       "                                    Claim Identifier  IME-4 Count  \\\n",
       "Age at Injury                              -0.010944     0.067650   \n",
       "Average Weekly Wage                        -0.003451    -0.008122   \n",
       "Claim Identifier                            1.000000    -0.112271   \n",
       "IME-4 Count                                -0.112271     1.000000   \n",
       "OIICS Nature of Injury Description               NaN          NaN   \n",
       "Agreement Reached                          -0.077430     0.090987   \n",
       "Number of Dependents                        0.001610     0.000046   \n",
       "Claim Injury Type Numeric                  -0.380843     0.031527   \n",
       "\n",
       "                                    OIICS Nature of Injury Description  \\\n",
       "Age at Injury                                                      NaN   \n",
       "Average Weekly Wage                                                NaN   \n",
       "Claim Identifier                                                   NaN   \n",
       "IME-4 Count                                                        NaN   \n",
       "OIICS Nature of Injury Description                                 NaN   \n",
       "Agreement Reached                                                  NaN   \n",
       "Number of Dependents                                               NaN   \n",
       "Claim Injury Type Numeric                                          NaN   \n",
       "\n",
       "                                    Agreement Reached  Number of Dependents  \\\n",
       "Age at Injury                                0.019079              0.000461   \n",
       "Average Weekly Wage                          0.005610             -0.001098   \n",
       "Claim Identifier                            -0.077430              0.001610   \n",
       "IME-4 Count                                  0.090987              0.000046   \n",
       "OIICS Nature of Injury Description                NaN                   NaN   \n",
       "Agreement Reached                            1.000000             -0.000189   \n",
       "Number of Dependents                        -0.000189              1.000000   \n",
       "Claim Injury Type Numeric                    0.225043             -0.000464   \n",
       "\n",
       "                                    Claim Injury Type Numeric  \n",
       "Age at Injury                                        0.126114  \n",
       "Average Weekly Wage                                  0.091868  \n",
       "Claim Identifier                                    -0.380843  \n",
       "IME-4 Count                                          0.031527  \n",
       "OIICS Nature of Injury Description                        NaN  \n",
       "Agreement Reached                                    0.225043  \n",
       "Number of Dependents                                -0.000464  \n",
       "Claim Injury Type Numeric                            1.000000  "
      ]
     },
     "execution_count": 177,
     "metadata": {},
     "output_type": "execute_result"
    }
   ],
   "source": [
    "corr_base = train_df_temp.corr()\n",
    "corr_base"
   ]
  },
  {
   "attachments": {},
   "cell_type": "markdown",
   "id": "db950ffe",
   "metadata": {},
   "source": [
    "So lets have a look at the features itself."
   ]
  },
  {
   "attachments": {},
   "cell_type": "markdown",
   "id": "09eda34c",
   "metadata": {},
   "source": [
    "__Age at Injury__"
   ]
  },
  {
   "cell_type": "code",
   "execution_count": 103,
   "id": "38543d14",
   "metadata": {},
   "outputs": [
    {
     "data": {
      "text/plain": [
       "count    574026.000000\n",
       "mean         42.114270\n",
       "std          14.256432\n",
       "min           0.000000\n",
       "25%          31.000000\n",
       "50%          42.000000\n",
       "75%          54.000000\n",
       "max         117.000000\n",
       "Name: Age at Injury, dtype: float64"
      ]
     },
     "execution_count": 103,
     "metadata": {},
     "output_type": "execute_result"
    }
   ],
   "source": [
    "train_df_temp['Age at Injury'].describe()"
   ]
  },
  {
   "attachments": {},
   "cell_type": "markdown",
   "id": "6e0b9dc6",
   "metadata": {},
   "source": [
    "We can already see that the minimum and maximum values seem kind of strang with ranging from 0 to 117. We will deal with them in the outlier section."
   ]
  },
  {
   "cell_type": "code",
   "execution_count": 104,
   "id": "44eddbbf",
   "metadata": {},
   "outputs": [],
   "source": [
    "# plot the distribution of a single feature with respect to the target categorical variable.\n",
    "def feature_distribution(data, feature, target_variable):\n",
    "    plt.figure(figsize=(13, 8))\n",
    "    sns.histplot(data=data, x=feature, hue=target_variable, multiple=\"stack\")\n",
    "    plt.title(f'Distribution of {feature}', fontsize=12)\n",
    "    plt.xlabel(feature)\n",
    "    plt.ylabel('Count')\n",
    "    plt.show()\n"
   ]
  },
  {
   "cell_type": "code",
   "execution_count": 105,
   "id": "bd571a34",
   "metadata": {},
   "outputs": [
    {
     "data": {
      "image/png": "[encoded data removed]",
      "text/plain": [
       "<Figure size 936x576 with 1 Axes>"
      ]
     },
     "metadata": {},
     "output_type": "display_data"
    }
   ],
   "source": [
    "feature_distribution(train_df_temp, 'Age at Injury', 'Claim Injury Type')"
   ]
  },
  {
   "attachments": {},
   "cell_type": "markdown",
   "id": "34937791",
   "metadata": {},
   "source": [
    "Some difference of the claim injury type related to the age can already be seen."
   ]
  },
  {
   "attachments": {},
   "cell_type": "markdown",
   "id": "eb941078",
   "metadata": {},
   "source": [
    "__Birth Year__\n",
    "\n",
    "This variable results from accident date and age at accident. Therefore, we do not need it as it does not add any new information."
   ]
  },
  {
   "cell_type": "code",
   "execution_count": 106,
   "id": "7d98963c",
   "metadata": {},
   "outputs": [],
   "source": [
    "train_df_temp = train_df_temp.drop(columns='Birth Year')"
   ]
  },
  {
   "cell_type": "code",
   "execution_count": 107,
   "id": "a28bf91e",
   "metadata": {},
   "outputs": [],
   "source": [
    "# include the other variables !"
   ]
  },
  {
   "attachments": {},
   "cell_type": "markdown",
   "id": "0385f55a",
   "metadata": {},
   "source": [
    "__Code and Description Variables__\n",
    "\n",
    "For the Industry Code & Industry Code Description variables, as well as for the WCIO variables, we want to check their relationship."
   ]
  },
  {
   "cell_type": "code",
   "execution_count": 108,
   "id": "ba0aa5c9",
   "metadata": {},
   "outputs": [],
   "source": [
    "def analyze_code_description_relationship(data, code_column, description_column):\n",
    "    # Step 1: Count unique descriptions per code\n",
    "    code_to_description = data.groupby(code_column)[description_column].nunique()\n",
    "    # Check if each code maps to a single unique description\n",
    "    if code_to_description.max() == 1:\n",
    "        print(f\"\\nEach {code_column} has only one unique {description_column}.\")\n",
    "    else:\n",
    "        print(f\"\\nSome {code_column}s have multiple {description_column}s associated with them.\")\n",
    "\n",
    "    # Step 2: Count unique codes per description\n",
    "    description_to_code = data.groupby(description_column)[code_column].nunique()\n",
    "    # Check if each description maps to a single unique code\n",
    "    if description_to_code.max() == 1:\n",
    "        print(f\"\\nEach {description_column} has only one unique {code_column}.\")\n",
    "    else:\n",
    "        print(f\"\\nSome {description_column}s have multiple {code_column}s associated with them.\")\n",
    "\n",
    "    # Step 3: Validate if there is a 1:1 relationship\n",
    "    is_one_to_one = (code_to_description.max() == 1) and (description_to_code.max() == 1)\n",
    "    if is_one_to_one:\n",
    "        print(f\"\\n{code_column} and {description_column} have a 1:1 relationship.\")\n",
    "    else:\n",
    "        print(f\"\\nThere is no 1:1 relationship between {code_column} and {description_column}.\")\n",
    "\n",
    "    # Step 4: Find descriptions with multiple unique associated codes\n",
    "    description_to_unique_codes = data.groupby(description_column)[code_column].apply(lambda x: list(set(x)))\n",
    "    descriptions_with_multiple_unique_codes = description_to_unique_codes[description_to_unique_codes.apply(len) > 1]\n",
    "    \n",
    "    print(f\"\\nDescriptions with multiple unique associated {code_column}s:\")\n",
    "    print(descriptions_with_multiple_unique_codes)"
   ]
  },
  {
   "attachments": {},
   "cell_type": "markdown",
   "id": "f82de120",
   "metadata": {},
   "source": [
    "__Industry Code / Industry Code Description__"
   ]
  },
  {
   "cell_type": "code",
   "execution_count": 109,
   "id": "da4a9417",
   "metadata": {},
   "outputs": [
    {
     "name": "stdout",
     "output_type": "stream",
     "text": [
      "\n",
      "Each Industry Code has only one unique Industry Code Description.\n",
      "\n",
      "Some Industry Code Descriptions have multiple Industry Codes associated with them.\n",
      "\n",
      "There is no 1:1 relationship between Industry Code and Industry Code Description.\n",
      "\n",
      "Descriptions with multiple unique associated Industry Codes:\n",
      "Industry Code Description\n",
      "MANUFACTURING                     [32.0, 33.0, 31.0]\n",
      "RETAIL TRADE                            [44.0, 45.0]\n",
      "TRANSPORTATION AND WAREHOUSING          [48.0, 49.0]\n",
      "Name: Industry Code, dtype: object\n"
     ]
    }
   ],
   "source": [
    "analyze_code_description_relationship(train_df_temp, 'Industry Code', 'Industry Code Description')"
   ]
  },
  {
   "attachments": {},
   "cell_type": "markdown",
   "id": "4cbf9f84",
   "metadata": {},
   "source": [
    "For each __Industry Code__, the first check shows that each code corresponds to only one unique description. This indicates that every industry code maps to a single description.\n",
    "\n",
    "However, the second check reveals that some __Industry Code Descriptions__ map to more than one Industry Code. Specifically, the description \"MANUFACTURING\" maps to 3 different codes, and \"RETAIL TRADE\" and \"TRANSPORTATION AND WAREHOUSING\" each map to 2 different codes.\n",
    "\n",
    "Since each Industry Code uniquely maps to one Industry Code Description, we can delete the Industry Code and only keep its corresponding description. We will keep the description variable because we have more information within it that we will use for binning / mapping later. Since we have almost the same withformation in both variables, we don't need to keep both since it would distort the data for the models."
   ]
  },
  {
   "cell_type": "code",
   "execution_count": 110,
   "id": "d492ef10",
   "metadata": {},
   "outputs": [],
   "source": [
    "train_df_temp = train_df_temp.drop(columns='Industry Code')"
   ]
  },
  {
   "attachments": {},
   "cell_type": "markdown",
   "id": "d9b39fba",
   "metadata": {},
   "source": [
    "__WCIO Cause of Injury Code / WCIO Cause of Injury Description__"
   ]
  },
  {
   "cell_type": "code",
   "execution_count": 111,
   "id": "8746e323",
   "metadata": {},
   "outputs": [
    {
     "name": "stdout",
     "output_type": "stream",
     "text": [
      "\n",
      "Each WCIO Cause of Injury Code has only one unique WCIO Cause of Injury Description.\n",
      "\n",
      "Some WCIO Cause of Injury Descriptions have multiple WCIO Cause of Injury Codes associated with them.\n",
      "\n",
      "There is no 1:1 relationship between WCIO Cause of Injury Code and WCIO Cause of Injury Description.\n",
      "\n",
      "Descriptions with multiple unique associated WCIO Cause of Injury Codes:\n",
      "WCIO Cause of Injury Description\n",
      "OBJECT BEING LIFTED OR HANDLED    [17.0, 66.0, 79.0]\n",
      "REPETITIVE MOTION                       [97.0, 94.0]\n",
      "Name: WCIO Cause of Injury Code, dtype: object\n"
     ]
    }
   ],
   "source": [
    "analyze_code_description_relationship(train_df_temp, 'WCIO Cause of Injury Code', 'WCIO Cause of Injury Description')"
   ]
  },
  {
   "attachments": {},
   "cell_type": "markdown",
   "id": "c5411b91",
   "metadata": {},
   "source": [
    "For __WCIO Cause of Injury Code / Description__ it is the same as for __Industry Code / Description__. It shows that each code corresponds to only one unique description. This indicates that every code maps to a single description. However, some __WCIO Cause of Injury Descriptions__ map to more than one WCIO Cause of Injury Code. We will also just keep the __WCIO Cause of Injury Description.__"
   ]
  },
  {
   "cell_type": "code",
   "execution_count": 112,
   "id": "d50f3d43",
   "metadata": {},
   "outputs": [],
   "source": [
    "train_df_temp = train_df_temp.drop(columns='WCIO Cause of Injury Code')"
   ]
  },
  {
   "attachments": {},
   "cell_type": "markdown",
   "id": "151463ff",
   "metadata": {},
   "source": [
    "__WCIO Nature of Injury Code / WCIO Nature of Injury Description__"
   ]
  },
  {
   "cell_type": "code",
   "execution_count": 113,
   "id": "f41e9b45",
   "metadata": {},
   "outputs": [
    {
     "name": "stdout",
     "output_type": "stream",
     "text": [
      "\n",
      "Each WCIO Nature of Injury Code has only one unique WCIO Nature of Injury Description.\n",
      "\n",
      "Each WCIO Nature of Injury Description has only one unique WCIO Nature of Injury Code.\n",
      "\n",
      "WCIO Nature of Injury Code and WCIO Nature of Injury Description have a 1:1 relationship.\n",
      "\n",
      "Descriptions with multiple unique associated WCIO Nature of Injury Codes:\n",
      "Series([], Name: WCIO Nature of Injury Code, dtype: object)\n"
     ]
    }
   ],
   "source": [
    "analyze_code_description_relationship(train_df_temp, 'WCIO Nature of Injury Code', 'WCIO Nature of Injury Description')"
   ]
  },
  {
   "attachments": {},
   "cell_type": "markdown",
   "id": "6ecbc055",
   "metadata": {},
   "source": [
    "Since the Code and the Description have a 1:1 relationship, we will delete __WCIO Nature of Injury Code__. We decided to keep the description insted of the code to later map into groups. This can be done better with the descriptions than the code because we have more information in the descriptions."
   ]
  },
  {
   "cell_type": "code",
   "execution_count": 114,
   "id": "fd044114",
   "metadata": {},
   "outputs": [],
   "source": [
    "train_df_temp = train_df_temp.drop(columns='WCIO Nature of Injury Code')"
   ]
  },
  {
   "attachments": {},
   "cell_type": "markdown",
   "id": "809fa9be",
   "metadata": {},
   "source": [
    "__WCIO Part Of Body Code / WCIO Part Of Body Description__"
   ]
  },
  {
   "cell_type": "code",
   "execution_count": 115,
   "id": "654e5110",
   "metadata": {},
   "outputs": [
    {
     "name": "stdout",
     "output_type": "stream",
     "text": [
      "\n",
      "Each WCIO Part Of Body Code has only one unique WCIO Part Of Body Description.\n",
      "\n",
      "Some WCIO Part Of Body Descriptions have multiple WCIO Part Of Body Codes associated with them.\n",
      "\n",
      "There is no 1:1 relationship between WCIO Part Of Body Code and WCIO Part Of Body Description.\n",
      "\n",
      "Descriptions with multiple unique associated WCIO Part Of Body Codes:\n",
      "WCIO Part Of Body Description\n",
      "DISC           [43.0, 22.0]\n",
      "SOFT TISSUE    [25.0, 18.0]\n",
      "SPINAL CORD    [47.0, 23.0]\n",
      "Name: WCIO Part Of Body Code, dtype: object\n"
     ]
    }
   ],
   "source": [
    "analyze_code_description_relationship(train_df_temp, 'WCIO Part Of Body Code', 'WCIO Part Of Body Description')"
   ]
  },
  {
   "attachments": {},
   "cell_type": "markdown",
   "id": "1f8ffbfd",
   "metadata": {},
   "source": [
    "For __WCIO Part Of Body Code / Description__ it is the same as for __Industry Code / Description__ and __WCIO Cause of Injury Code / Description__. It shows that each code corresponds to only one unique description. We will also just keep the __WCIO Part Of Body Description__ for further mapping reasons."
   ]
  },
  {
   "cell_type": "code",
   "execution_count": 116,
   "id": "044f47b6",
   "metadata": {},
   "outputs": [],
   "source": [
    "train_df_temp = train_df_temp.drop(columns='WCIO Part Of Body Code')"
   ]
  },
  {
   "attachments": {},
   "cell_type": "markdown",
   "id": "6f20e759",
   "metadata": {},
   "source": [
    "## 3. Data Cleaning and Pre-processing <a id='dataclean'></a>\n",
    "[to the top](#top)"
   ]
  },
  {
   "attachments": {},
   "cell_type": "markdown",
   "id": "8dfde717",
   "metadata": {},
   "source": [
    "### 3.1 Missing Values"
   ]
  },
  {
   "cell_type": "code",
   "execution_count": 117,
   "id": "35ff5179",
   "metadata": {},
   "outputs": [
    {
     "name": "stdout",
     "output_type": "stream",
     "text": [
      "Your selected dataframe has 29 columns.\n",
      "There are 26 columns that have missing values.\n"
     ]
    }
   ],
   "source": [
    "# Calculation of the number and percentage of missing values per column\n",
    "# Function to calculate missing values by column\n",
    "def missing_values_table(df):\n",
    "        # Total missing values\n",
    "        mis_val = df.isnull().sum()\n",
    "        \n",
    "        # Percentage of missing values\n",
    "        mis_val_percent = 100 * df.isnull().sum() / len(df)\n",
    "        \n",
    "        # Make a table with the results\n",
    "        mis_val_table = pd.concat([mis_val, mis_val_percent], axis=1)\n",
    "        \n",
    "        # Rename the columns\n",
    "        mis_val_table_ren_columns = mis_val_table.rename(\n",
    "        columns = {0 : 'Missing Values', 1 : '% of Total Values'})\n",
    "        \n",
    "        # Sort the table by percentage of missing descending\n",
    "        mis_val_table_ren_columns = mis_val_table_ren_columns[\n",
    "            mis_val_table_ren_columns.iloc[:,1] != 0].sort_values(\n",
    "        '% of Total Values', ascending=False).round(1)\n",
    "        \n",
    "        # Print some summary information\n",
    "        print (\"Your selected dataframe has \" + str(df.shape[1]) + \" columns.\\n\"      \n",
    "            \"There are \" + str(mis_val_table_ren_columns.shape[0]) +\n",
    "              \" columns that have missing values.\")\n",
    "        \n",
    "        # Return the dataframe with missing information\n",
    "        return mis_val_table_ren_columns\n",
    "\n",
    "missing_values = missing_values_table(train_df_temp)"
   ]
  },
  {
   "cell_type": "code",
   "execution_count": 118,
   "id": "b3b360fa",
   "metadata": {},
   "outputs": [
    {
     "data": {
      "text/html": [
       "<div>\n",
       "<style scoped>\n",
       "    .dataframe tbody tr th:only-of-type {\n",
       "        vertical-align: middle;\n",
       "    }\n",
       "\n",
       "    .dataframe tbody tr th {\n",
       "        vertical-align: top;\n",
       "    }\n",
       "\n",
       "    .dataframe thead th {\n",
       "        text-align: right;\n",
       "    }\n",
       "</style>\n",
       "<table border=\"1\" class=\"dataframe\">\n",
       "  <thead>\n",
       "    <tr style=\"text-align: right;\">\n",
       "      <th></th>\n",
       "      <th>Missing Values</th>\n",
       "      <th>% of Total Values</th>\n",
       "    </tr>\n",
       "  </thead>\n",
       "  <tbody>\n",
       "    <tr>\n",
       "      <th>OIICS Nature of Injury Description</th>\n",
       "      <td>593471</td>\n",
       "      <td>100.0</td>\n",
       "    </tr>\n",
       "    <tr>\n",
       "      <th>IME-4 Count</th>\n",
       "      <td>460668</td>\n",
       "      <td>77.6</td>\n",
       "    </tr>\n",
       "    <tr>\n",
       "      <th>First Hearing Date</th>\n",
       "      <td>442673</td>\n",
       "      <td>74.6</td>\n",
       "    </tr>\n",
       "    <tr>\n",
       "      <th>C-3 Date</th>\n",
       "      <td>406226</td>\n",
       "      <td>68.4</td>\n",
       "    </tr>\n",
       "    <tr>\n",
       "      <th>Average Weekly Wage</th>\n",
       "      <td>48096</td>\n",
       "      <td>8.1</td>\n",
       "    </tr>\n",
       "    <tr>\n",
       "      <th>Zip Code</th>\n",
       "      <td>48082</td>\n",
       "      <td>8.1</td>\n",
       "    </tr>\n",
       "    <tr>\n",
       "      <th>WCIO Part Of Body Description</th>\n",
       "      <td>36527</td>\n",
       "      <td>6.2</td>\n",
       "    </tr>\n",
       "    <tr>\n",
       "      <th>WCIO Nature of Injury Description</th>\n",
       "      <td>35102</td>\n",
       "      <td>5.9</td>\n",
       "    </tr>\n",
       "    <tr>\n",
       "      <th>WCIO Cause of Injury Description</th>\n",
       "      <td>35085</td>\n",
       "      <td>5.9</td>\n",
       "    </tr>\n",
       "    <tr>\n",
       "      <th>C-2 Date</th>\n",
       "      <td>34005</td>\n",
       "      <td>5.7</td>\n",
       "    </tr>\n",
       "    <tr>\n",
       "      <th>Industry Code Description</th>\n",
       "      <td>29403</td>\n",
       "      <td>5.0</td>\n",
       "    </tr>\n",
       "    <tr>\n",
       "      <th>Accident Date</th>\n",
       "      <td>23134</td>\n",
       "      <td>3.9</td>\n",
       "    </tr>\n",
       "    <tr>\n",
       "      <th>District Name</th>\n",
       "      <td>19445</td>\n",
       "      <td>3.3</td>\n",
       "    </tr>\n",
       "    <tr>\n",
       "      <th>Age at Injury</th>\n",
       "      <td>19445</td>\n",
       "      <td>3.3</td>\n",
       "    </tr>\n",
       "    <tr>\n",
       "      <th>Gender</th>\n",
       "      <td>19445</td>\n",
       "      <td>3.3</td>\n",
       "    </tr>\n",
       "    <tr>\n",
       "      <th>COVID-19 Indicator</th>\n",
       "      <td>19445</td>\n",
       "      <td>3.3</td>\n",
       "    </tr>\n",
       "    <tr>\n",
       "      <th>County of Injury</th>\n",
       "      <td>19445</td>\n",
       "      <td>3.3</td>\n",
       "    </tr>\n",
       "    <tr>\n",
       "      <th>Medical Fee Region</th>\n",
       "      <td>19445</td>\n",
       "      <td>3.3</td>\n",
       "    </tr>\n",
       "    <tr>\n",
       "      <th>Claim Injury Type</th>\n",
       "      <td>19445</td>\n",
       "      <td>3.3</td>\n",
       "    </tr>\n",
       "    <tr>\n",
       "      <th>Carrier Type</th>\n",
       "      <td>19445</td>\n",
       "      <td>3.3</td>\n",
       "    </tr>\n",
       "    <tr>\n",
       "      <th>Carrier Name</th>\n",
       "      <td>19445</td>\n",
       "      <td>3.3</td>\n",
       "    </tr>\n",
       "    <tr>\n",
       "      <th>Attorney/Representative</th>\n",
       "      <td>19445</td>\n",
       "      <td>3.3</td>\n",
       "    </tr>\n",
       "    <tr>\n",
       "      <th>Alternative Dispute Resolution</th>\n",
       "      <td>19445</td>\n",
       "      <td>3.3</td>\n",
       "    </tr>\n",
       "    <tr>\n",
       "      <th>Agreement Reached</th>\n",
       "      <td>19445</td>\n",
       "      <td>3.3</td>\n",
       "    </tr>\n",
       "    <tr>\n",
       "      <th>WCB Decision</th>\n",
       "      <td>19445</td>\n",
       "      <td>3.3</td>\n",
       "    </tr>\n",
       "    <tr>\n",
       "      <th>Number of Dependents</th>\n",
       "      <td>19445</td>\n",
       "      <td>3.3</td>\n",
       "    </tr>\n",
       "  </tbody>\n",
       "</table>\n",
       "</div>"
      ],
      "text/plain": [
       "                                    Missing Values  % of Total Values\n",
       "OIICS Nature of Injury Description          593471              100.0\n",
       "IME-4 Count                                 460668               77.6\n",
       "First Hearing Date                          442673               74.6\n",
       "C-3 Date                                    406226               68.4\n",
       "Average Weekly Wage                          48096                8.1\n",
       "Zip Code                                     48082                8.1\n",
       "WCIO Part Of Body Description                36527                6.2\n",
       "WCIO Nature of Injury Description            35102                5.9\n",
       "WCIO Cause of Injury Description             35085                5.9\n",
       "C-2 Date                                     34005                5.7\n",
       "Industry Code Description                    29403                5.0\n",
       "Accident Date                                23134                3.9\n",
       "District Name                                19445                3.3\n",
       "Age at Injury                                19445                3.3\n",
       "Gender                                       19445                3.3\n",
       "COVID-19 Indicator                           19445                3.3\n",
       "County of Injury                             19445                3.3\n",
       "Medical Fee Region                           19445                3.3\n",
       "Claim Injury Type                            19445                3.3\n",
       "Carrier Type                                 19445                3.3\n",
       "Carrier Name                                 19445                3.3\n",
       "Attorney/Representative                      19445                3.3\n",
       "Alternative Dispute Resolution               19445                3.3\n",
       "Agreement Reached                            19445                3.3\n",
       "WCB Decision                                 19445                3.3\n",
       "Number of Dependents                         19445                3.3"
      ]
     },
     "execution_count": 118,
     "metadata": {},
     "output_type": "execute_result"
    }
   ],
   "source": [
    "missing_values"
   ]
  },
  {
   "cell_type": "code",
   "execution_count": 119,
   "id": "298b59fb",
   "metadata": {},
   "outputs": [
    {
     "data": {
      "image/png": "[encoded data removed]",
      "text/plain": [
       "<Figure size 720x576 with 1 Axes>"
      ]
     },
     "metadata": {},
     "output_type": "display_data"
    }
   ],
   "source": [
    "# Assuming mis_val_table_ren_columns is your resulting table\n",
    "def plot_missing_values(mis_val_table):\n",
    "    plt.figure(figsize=(10, 8))\n",
    "    \n",
    "    # Create a bar plot for the percentage of missing values\n",
    "    sns.barplot(x=mis_val_table.index, \n",
    "                y=mis_val_table['% of Total Values'])\n",
    "    \n",
    "    # Rotate the x labels for better readability\n",
    "    plt.xticks(rotation=90)\n",
    "    \n",
    "    # Set plot labels and title\n",
    "    plt.title('Percentage of Missing Values by Column')\n",
    "    plt.xlabel('Columns')\n",
    "    plt.ylabel('% of Total Values')\n",
    "    \n",
    "    # Display the plot\n",
    "    plt.tight_layout()\n",
    "    plt.show()\n",
    "\n",
    "# Call the function to plot the missing values\n",
    "plot_missing_values(missing_values)"
   ]
  },
  {
   "attachments": {},
   "cell_type": "markdown",
   "id": "d5691d2f",
   "metadata": {},
   "source": [
    "The first look at the missing values reveals four insights:\n",
    "1. There exist __only two__ variables __without missing values__ (Assembly Date and Claim Identifier)\n",
    "2. There exists __one__ variable with __only missing values__ (OIICS Nature of Injury Description). This variable will be dropped directly.\n",
    "3. There exist __three__ variables with missing values ranging from __68% - 78%__, which might be dropped.\n",
    "4. Several variabes show the __same amount of missing values__ (3.28% and 5.91%)\n",
    "5. Our target variable __\"Claim Injury Type\"__ has __19445 missing values__. The respective rows can be dropped because imputation of the target variable introduces artificial outcomes, creating bias and compromising the integrity of our model."
   ]
  },
  {
   "cell_type": "code",
   "execution_count": 120,
   "id": "b25e8c14",
   "metadata": {},
   "outputs": [],
   "source": [
    "# Copy of data for preprocessing\n",
    "train_df_prep = train_df_temp.copy()\n",
    "\n",
    "# Drop the variable with only missing values\n",
    "train_df_prep = train_df_prep.drop(columns='OIICS Nature of Injury Description')"
   ]
  },
  {
   "cell_type": "code",
   "execution_count": 121,
   "id": "56a5709b",
   "metadata": {},
   "outputs": [
    {
     "name": "stdout",
     "output_type": "stream",
     "text": [
      "Remaining rows after dropping missing target values: 574026\n",
      "Percentage of the whole training data set: 97.0%\n"
     ]
    }
   ],
   "source": [
    "# Drop rows where the target variable is missing\n",
    "train_df_prep = train_df_prep.dropna(subset=['Claim Injury Type'])\n",
    "\n",
    "# Check the shape of the cleaned DataFrame\n",
    "print(f\"Remaining rows after dropping missing target values: {len(train_df_prep)}\")\n",
    "print(f\"Percentage of the whole training data set: {round(len(train_df_prep)/len(train_df),2)*100}%\")\n"
   ]
  },
  {
   "cell_type": "code",
   "execution_count": 122,
   "id": "6c2cd66f",
   "metadata": {},
   "outputs": [
    {
     "name": "stdout",
     "output_type": "stream",
     "text": [
      "Your selected dataframe has 28 columns.\n",
      "There are 11 columns that have missing values.\n"
     ]
    }
   ],
   "source": [
    "missing_values_2 = missing_values_table(train_df_prep)"
   ]
  },
  {
   "cell_type": "code",
   "execution_count": 123,
   "id": "8fb6dcf7",
   "metadata": {},
   "outputs": [
    {
     "data": {
      "text/html": [
       "<div>\n",
       "<style scoped>\n",
       "    .dataframe tbody tr th:only-of-type {\n",
       "        vertical-align: middle;\n",
       "    }\n",
       "\n",
       "    .dataframe tbody tr th {\n",
       "        vertical-align: top;\n",
       "    }\n",
       "\n",
       "    .dataframe thead th {\n",
       "        text-align: right;\n",
       "    }\n",
       "</style>\n",
       "<table border=\"1\" class=\"dataframe\">\n",
       "  <thead>\n",
       "    <tr style=\"text-align: right;\">\n",
       "      <th></th>\n",
       "      <th>Missing Values</th>\n",
       "      <th>% of Total Values</th>\n",
       "    </tr>\n",
       "  </thead>\n",
       "  <tbody>\n",
       "    <tr>\n",
       "      <th>IME-4 Count</th>\n",
       "      <td>441223</td>\n",
       "      <td>76.9</td>\n",
       "    </tr>\n",
       "    <tr>\n",
       "      <th>First Hearing Date</th>\n",
       "      <td>423228</td>\n",
       "      <td>73.7</td>\n",
       "    </tr>\n",
       "    <tr>\n",
       "      <th>C-3 Date</th>\n",
       "      <td>386781</td>\n",
       "      <td>67.4</td>\n",
       "    </tr>\n",
       "    <tr>\n",
       "      <th>Average Weekly Wage</th>\n",
       "      <td>28651</td>\n",
       "      <td>5.0</td>\n",
       "    </tr>\n",
       "    <tr>\n",
       "      <th>Zip Code</th>\n",
       "      <td>28637</td>\n",
       "      <td>5.0</td>\n",
       "    </tr>\n",
       "    <tr>\n",
       "      <th>WCIO Part Of Body Description</th>\n",
       "      <td>17082</td>\n",
       "      <td>3.0</td>\n",
       "    </tr>\n",
       "    <tr>\n",
       "      <th>WCIO Nature of Injury Description</th>\n",
       "      <td>15657</td>\n",
       "      <td>2.7</td>\n",
       "    </tr>\n",
       "    <tr>\n",
       "      <th>WCIO Cause of Injury Description</th>\n",
       "      <td>15640</td>\n",
       "      <td>2.7</td>\n",
       "    </tr>\n",
       "    <tr>\n",
       "      <th>C-2 Date</th>\n",
       "      <td>14560</td>\n",
       "      <td>2.5</td>\n",
       "    </tr>\n",
       "    <tr>\n",
       "      <th>Industry Code Description</th>\n",
       "      <td>9958</td>\n",
       "      <td>1.7</td>\n",
       "    </tr>\n",
       "    <tr>\n",
       "      <th>Accident Date</th>\n",
       "      <td>3689</td>\n",
       "      <td>0.6</td>\n",
       "    </tr>\n",
       "  </tbody>\n",
       "</table>\n",
       "</div>"
      ],
      "text/plain": [
       "                                   Missing Values  % of Total Values\n",
       "IME-4 Count                                441223               76.9\n",
       "First Hearing Date                         423228               73.7\n",
       "C-3 Date                                   386781               67.4\n",
       "Average Weekly Wage                         28651                5.0\n",
       "Zip Code                                    28637                5.0\n",
       "WCIO Part Of Body Description               17082                3.0\n",
       "WCIO Nature of Injury Description           15657                2.7\n",
       "WCIO Cause of Injury Description            15640                2.7\n",
       "C-2 Date                                    14560                2.5\n",
       "Industry Code Description                    9958                1.7\n",
       "Accident Date                                3689                0.6"
      ]
     },
     "execution_count": 123,
     "metadata": {},
     "output_type": "execute_result"
    }
   ],
   "source": [
    "missing_values_2"
   ]
  },
  {
   "attachments": {},
   "cell_type": "markdown",
   "id": "8b6bafb8",
   "metadata": {},
   "source": [
    "Nice! We can see that when dropping the rows with the missing target values, a lot of our features had the same missing values in these rows!"
   ]
  },
  {
   "attachments": {},
   "cell_type": "markdown",
   "id": "5c2537ef",
   "metadata": {},
   "source": [
    "Let's have a look at the three variables with the high percentage of missing values:\n",
    "- __IME-4 Count (77.62%)__: This variable describes the number of IME-4 forms received per claim. The missing values could be replaced with zeros, however, since the amout of missing values is so high, it's variance is relatively small.\n",
    "- __First Hearing Date (74.59%)__: The description of the variable states that a blank date means the claim has not yet had a hearing held. The relationship between the date variables should be checked to determine if its relevant. Further, if the variable has an impact on the target variable, one idea would be to transform it into a binary variable which states if the first hearing date took place already (=1) or not (=0).\n",
    "- __C-3 Date (68.45%)__: This variable means that the Date Form C-3 (Employee Claim Form) was received. It could also be transformed into a binary variable if it is important."
   ]
  },
  {
   "cell_type": "code",
   "execution_count": 124,
   "id": "1d280a26",
   "metadata": {},
   "outputs": [
    {
     "data": {
      "text/plain": [
       "1.0     40112\n",
       "2.0     34504\n",
       "3.0     16136\n",
       "4.0     13781\n",
       "5.0      7680\n",
       "6.0      6427\n",
       "7.0      3838\n",
       "8.0      3156\n",
       "9.0      1915\n",
       "10.0     1460\n",
       "11.0     1002\n",
       "12.0      807\n",
       "13.0      516\n",
       "14.0      396\n",
       "15.0      273\n",
       "16.0      214\n",
       "18.0      140\n",
       "17.0      125\n",
       "19.0       79\n",
       "20.0       56\n",
       "21.0       53\n",
       "22.0       34\n",
       "23.0       19\n",
       "24.0       16\n",
       "27.0       14\n",
       "26.0        8\n",
       "25.0        7\n",
       "29.0        5\n",
       "28.0        4\n",
       "30.0        4\n",
       "32.0        4\n",
       "34.0        4\n",
       "36.0        3\n",
       "33.0        2\n",
       "31.0        2\n",
       "39.0        2\n",
       "37.0        1\n",
       "48.0        1\n",
       "35.0        1\n",
       "47.0        1\n",
       "73.0        1\n",
       "Name: IME-4 Count, dtype: int64"
      ]
     },
     "execution_count": 124,
     "metadata": {},
     "output_type": "execute_result"
    }
   ],
   "source": [
    "train_df_prep['IME-4 Count'].value_counts()"
   ]
  },
  {
   "cell_type": "code",
   "execution_count": 125,
   "id": "02099b5b",
   "metadata": {},
   "outputs": [
    {
     "name": "stdout",
     "output_type": "stream",
     "text": [
      "Correlation between IME-4 Count and Claim Injury Type: 0.03152676879822572\n"
     ]
    }
   ],
   "source": [
    "# Since 'Claim Injury Type' is categorical, let's convert it to numeric to check for the correlation\n",
    "train_df_prep['Claim Injury Type Numeric'] = train_df_prep['Claim Injury Type'].astype('category').cat.codes\n",
    "\n",
    "# Calculate the correlation\n",
    "correlation_value = train_df_prep[['Claim Injury Type Numeric', 'IME-4 Count']].corr().iloc[0, 1]\n",
    "print(f\"Correlation between IME-4 Count and Claim Injury Type: {correlation_value}\")"
   ]
  },
  {
   "attachments": {},
   "cell_type": "markdown",
   "id": "55575317",
   "metadata": {},
   "source": [
    "Based on the low correlation to the target, we will drop the variable."
   ]
  },
  {
   "cell_type": "code",
   "execution_count": 127,
   "id": "8ab3dd3b",
   "metadata": {},
   "outputs": [
    {
     "data": {
      "image/png": "[encoded data removed]",
      "text/plain": [
       "<Figure size 576x432 with 2 Axes>"
      ]
     },
     "metadata": {},
     "output_type": "display_data"
    }
   ],
   "source": [
    "# Convert columns to datetime format and handle errors\n",
    "train_df_date = train_df_prep.copy()\n",
    "train_df_date['Accident Date'] = pd.to_datetime(train_df_date['Accident Date'], errors='coerce')\n",
    "train_df_date['Assembly Date'] = pd.to_datetime(train_df_date['Assembly Date'], errors='coerce')\n",
    "train_df_date['C-2 Date'] = pd.to_datetime(train_df_date['C-2 Date'], errors='coerce')\n",
    "train_df_date['C-3 Date'] = pd.to_datetime(train_df_date['C-3 Date'], errors='coerce')\n",
    "train_df_date['First Hearing Date'] = pd.to_datetime(train_df_date['First Hearing Date'], errors='coerce')\n",
    "\n",
    "# Check for any correlation between date columns by converting them to numeric values (days since start)\n",
    "train_df_date['Accident Days'] = (train_df_date['Accident Date'] - train_df_date['Accident Date'].min()).dt.days\n",
    "train_df_date['Lag_Time'] = (train_df_date['Assembly Date'] - train_df_date['Accident Date'].min()).dt.days\n",
    "train_df_date['Accident_to_C2_Lag'] = (train_df_date['C-2 Date'] - train_df_date['Accident Date'].min()).dt.days\n",
    "train_df_date['Accident_to_C3_Lag'] = (train_df_date['C-3 Date'] - train_df_date['Accident Date'].min()).dt.days\n",
    "train_df_date['C2_to_C3_Lag'] = (train_df_date['C-3 Date'] - train_df_date['C-2 Date'].min()).dt.days\n",
    "train_df_date['Accident_to_First_Hearing_Lag'] = (train_df_date['First Hearing Date'] - train_df_date['Accident Date'].min()).dt.days\n",
    "\n",
    "# Correlation matrix for date columns\n",
    "correlation_matrix_date = train_df_date[['Accident Days', 'Lag_Time', 'Accident_to_C2_Lag', 'Accident_to_C3_Lag', 'C2_to_C3_Lag', 'Accident_to_First_Hearing_Lag']].corr()\n",
    "\n",
    "plt.figure(figsize=(8, 6))\n",
    "sns.heatmap(correlation_matrix_date, annot=True, cmap=\"coolwarm\", fmt='.2f')\n",
    "plt.title('Heatmap of Correlation Between Date Variables')\n",
    "plt.show()"
   ]
  },
  {
   "attachments": {},
   "cell_type": "markdown",
   "id": "a8771705",
   "metadata": {},
   "source": [
    "Looking at the date variables, transformed into days related to the accident day, we can see that _First Hearing Date_ and _C-3 Date_ have a very high correlation with _Lag Time (Assembly Days)_. Therefore, we suggest to exclude them. We will create the new date variables as the difference between dates in the feature selection section."
   ]
  },
  {
   "cell_type": "code",
   "execution_count": 128,
   "id": "6c0db986",
   "metadata": {},
   "outputs": [],
   "source": [
    "train_df_prep = train_df_prep.drop(columns=['First Hearing Date', 'C-3 Date', 'IME-4 Count'])"
   ]
  },
  {
   "attachments": {},
   "cell_type": "markdown",
   "id": "46d29f73",
   "metadata": {},
   "source": [
    "Since the other variables had missing values for 5% or less, let's check how many rows have no misisng values for all features."
   ]
  },
  {
   "cell_type": "code",
   "execution_count": 129,
   "id": "163100b5",
   "metadata": {},
   "outputs": [
    {
     "name": "stdout",
     "output_type": "stream",
     "text": [
      "Number of rows without missing values: 499236\n",
      "% of rows without missing values: 86.97%\n"
     ]
    }
   ],
   "source": [
    "# rows without missing values\n",
    "rows_without_missing_values = train_df_prep.dropna()\n",
    "num_rows_without_missing_values = len(rows_without_missing_values)\n",
    "\n",
    "print(f\"Number of rows without missing values: {num_rows_without_missing_values}\")\n",
    "print(f\"% of rows without missing values: {round((num_rows_without_missing_values / len(train_df_prep)) * 100, 2)}%\")"
   ]
  },
  {
   "attachments": {},
   "cell_type": "markdown",
   "id": "466f4ed9",
   "metadata": {},
   "source": [
    "So let's look at the other variables and how we can interpolate the missing values:\n",
    "\n",
    "- __Average Weekly Wage__: use __median__ for missing values, since mean might be influenced by the extrem outliers we already saw; exclue wage = 0 for calculation since this seems to be some kind of mistake in the data\n",
    "- __Accident Date__: drop the rows because they are only 0.6% of the remaining dataset and we can't calculate the new time features without this information. \n",
    "- __C-2 Date__: Calculate average \"Accident_to_C2_Lag\" and compute C-2 Date by adding the amount of days to the accident day.\n",
    "- __Industry Code Description__: Mode imputation, replace missing values with the most frequent category (20%)\n",
    "- __WCIO Cause of Injury Description__: Mode imputation, replace missing values with the most frequent category\n",
    "- __WCIO Nature of Injury Description__: Mode imputation, replace missing values with the most frequent category (27%)\n",
    "- __WCIO Part Of Body Description__: Mode imputation, replace missing values with the most frequent category\n",
    "- __Zip Code__: Mode imputation, replace missing values with the most frequent category\n",
    "\n",
    "\n",
    "-> or randomly weighted distribution?\n"
   ]
  },
  {
   "attachments": {},
   "cell_type": "markdown",
   "id": "f7caffae",
   "metadata": {},
   "source": [
    "__Average Weekly Wage__"
   ]
  },
  {
   "cell_type": "code",
   "execution_count": 138,
   "id": "bcd01642",
   "metadata": {},
   "outputs": [
    {
     "data": {
      "text/plain": [
       "0.00       332046\n",
       "250.00       3193\n",
       "600.00       2317\n",
       "1765.00      1294\n",
       "500.00       1263\n",
       "            ...  \n",
       "1885.51         1\n",
       "2676.03         1\n",
       "1220.26         1\n",
       "2884.98         1\n",
       "1008.86         1\n",
       "Name: Average Weekly Wage, Length: 119990, dtype: int64"
      ]
     },
     "execution_count": 138,
     "metadata": {},
     "output_type": "execute_result"
    }
   ],
   "source": [
    "train_df_prep['Average Weekly Wage'].value_counts()"
   ]
  },
  {
   "cell_type": "code",
   "execution_count": 140,
   "id": "144fb7b2",
   "metadata": {},
   "outputs": [
    {
     "data": {
      "text/plain": [
       "count    5.703370e+05\n",
       "mean     5.226844e+02\n",
       "std      5.959262e+03\n",
       "min      0.000000e+00\n",
       "25%      0.000000e+00\n",
       "50%      0.000000e+00\n",
       "75%      1.000000e+03\n",
       "max      2.828079e+06\n",
       "Name: Average Weekly Wage, dtype: float64"
      ]
     },
     "execution_count": 140,
     "metadata": {},
     "output_type": "execute_result"
    }
   ],
   "source": [
    "train_df_prep['Average Weekly Wage'].describe()"
   ]
  },
  {
   "cell_type": "code",
   "execution_count": 139,
   "id": "02ac2383",
   "metadata": {},
   "outputs": [
    {
     "name": "stdout",
     "output_type": "stream",
     "text": [
      "Median (excluding 0 values): 1068.85\n"
     ]
    }
   ],
   "source": [
    "# Average Weekly Wage\n",
    "# Calculate the median of 'Average Weekly Wage', excluding rows with a wage of 0\n",
    "median_wage = train_df_prep[train_df_prep['Average Weekly Wage'] != 0]['Average Weekly Wage'].median()\n",
    "\n",
    "# Fill missing values in 'Average Weekly Wage' with the calculated median (leave 0 values unchanged)\n",
    "train_df_prep['Average Weekly Wage'].fillna(median_wage, inplace=True)\n",
    "\n",
    "print(f\"Median (excluding 0 values): {median_wage}\")"
   ]
  },
  {
   "attachments": {},
   "cell_type": "markdown",
   "id": "18c87c73",
   "metadata": {},
   "source": [
    "__Accident Date__"
   ]
  },
  {
   "cell_type": "code",
   "execution_count": 131,
   "id": "67afa47a",
   "metadata": {},
   "outputs": [
    {
     "name": "stdout",
     "output_type": "stream",
     "text": [
      "Remaining rows after dropping missing target values: 570337\n",
      "Percentage of the whole training data set: 96.0%\n"
     ]
    }
   ],
   "source": [
    "# Drop rows where the target variable is missing\n",
    "train_df_prep = train_df_prep.dropna(subset=['Accident Date'])\n",
    "\n",
    "# Check the shape of the cleaned DataFrame\n",
    "print(f\"Remaining rows after dropping missing target values: {len(train_df_prep)}\")\n",
    "print(f\"Percentage of the whole training data set: {round(len(train_df_prep)/len(train_df),2)*100}%\")"
   ]
  },
  {
   "attachments": {},
   "cell_type": "markdown",
   "id": "7f0efc07",
   "metadata": {},
   "source": [
    "__C-2 Date__"
   ]
  },
  {
   "cell_type": "code",
   "execution_count": 135,
   "id": "a5d47737",
   "metadata": {},
   "outputs": [
    {
     "name": "stdout",
     "output_type": "stream",
     "text": [
      "Average Accident_to_C2_Lag: 21863.841202146334 days\n"
     ]
    }
   ],
   "source": [
    "# Calculate the average lag for known C-2 Dates\n",
    "average_accident_to_c2_lag = train_df_date['Accident_to_C2_Lag'].mean(skipna=True)\n",
    "\n",
    "# Fill missing C-2 Dates by adding the average lag to Accident Date\n",
    "train_df_date['C-2 Date'] = train_df_date['C-2 Date'].fillna(\n",
    "    train_df_date['Accident Date'] + pd.to_timedelta(average_accident_to_c2_lag, unit='D')\n",
    ")\n",
    "\n",
    "train_df_prep['C-2 Date'] = train_df_date['C-2 Date'].dt.strftime('%Y-%m-%d')\n",
    "\n",
    "print(f\"Average Accident_to_C2_Lag: {average_accident_to_c2_lag} days\")"
   ]
  },
  {
   "cell_type": "code",
   "execution_count": 136,
   "id": "f1b5159c",
   "metadata": {},
   "outputs": [
    {
     "data": {
      "text/plain": [
       "2021-05-11    1844\n",
       "2020-03-05    1342\n",
       "2021-05-27    1263\n",
       "2022-08-15    1132\n",
       "2021-06-22    1080\n",
       "              ... \n",
       "2010-10-22       1\n",
       "2006-11-17       1\n",
       "1996-05-09       1\n",
       "2012-11-13       1\n",
       "2082-10-30       1\n",
       "Name: C-2 Date, Length: 4583, dtype: int64"
      ]
     },
     "execution_count": 136,
     "metadata": {},
     "output_type": "execute_result"
    }
   ],
   "source": [
    "train_df_prep['C-2 Date'].value_counts()"
   ]
  },
  {
   "attachments": {},
   "cell_type": "markdown",
   "id": "e9432c25",
   "metadata": {},
   "source": [
    "__Industry Code Description / WCIO Descriptions and Zip Code__"
   ]
  },
  {
   "attachments": {},
   "cell_type": "markdown",
   "id": "5dfd2f43",
   "metadata": {},
   "source": [
    "Before replacing the last missing values, let's check for the correlation between them."
   ]
  },
  {
   "cell_type": "code",
   "execution_count": 145,
   "id": "5c15a424",
   "metadata": {},
   "outputs": [],
   "source": [
    "from scipy.stats import chi2_contingency\n",
    "\n",
    "# Calculates Cramér's V correlation between two categorical variables.\n",
    "def cramers_v(x, y):\n",
    "    # Create a contingency table\n",
    "    contingency_table = pd.crosstab(x, y)\n",
    "    \n",
    "    # Perform Chi-square test\n",
    "    chi2 = chi2_contingency(contingency_table)[0]\n",
    "    n = contingency_table.sum().sum()\n",
    "    r, k = contingency_table.shape\n",
    "    \n",
    "    # Calculate Cramér's V\n",
    "    return np.sqrt(chi2 / (n * (min(r, k) - 1)))\n"
   ]
  },
  {
   "cell_type": "code",
   "execution_count": 148,
   "id": "98ff6eb4",
   "metadata": {},
   "outputs": [
    {
     "name": "stdout",
     "output_type": "stream",
     "text": [
      "Cramér's V Correlation Matrix:\n",
      "                                   Industry Code Description  \\\n",
      "Industry Code Description                           1.000000   \n",
      "WCIO Cause of Injury Description                    0.153776   \n",
      "WCIO Nature of Injury Description                   0.102527   \n",
      "WCIO Part Of Body Description                       0.087815   \n",
      "Zip Code                                            0.218752   \n",
      "Claim Injury Type                                   0.103670   \n",
      "\n",
      "                                   WCIO Cause of Injury Description  \\\n",
      "Industry Code Description                                  0.153776   \n",
      "WCIO Cause of Injury Description                           1.000000   \n",
      "WCIO Nature of Injury Description                          0.301396   \n",
      "WCIO Part Of Body Description                              0.217985   \n",
      "Zip Code                                                   0.149045   \n",
      "Claim Injury Type                                          0.131364   \n",
      "\n",
      "                                   WCIO Nature of Injury Description  \\\n",
      "Industry Code Description                                   0.102527   \n",
      "WCIO Cause of Injury Description                            0.301396   \n",
      "WCIO Nature of Injury Description                           1.000000   \n",
      "WCIO Part Of Body Description                               0.255224   \n",
      "Zip Code                                                    0.163383   \n",
      "Claim Injury Type                                           0.144490   \n",
      "\n",
      "                                   WCIO Part Of Body Description  Zip Code  \\\n",
      "Industry Code Description                               0.087815  0.218752   \n",
      "WCIO Cause of Injury Description                        0.217985  0.149045   \n",
      "WCIO Nature of Injury Description                       0.255224  0.163383   \n",
      "WCIO Part Of Body Description                           1.000000  0.148782   \n",
      "Zip Code                                                0.148782  1.000000   \n",
      "Claim Injury Type                                       0.140141  0.176654   \n",
      "\n",
      "                                   Claim Injury Type  \n",
      "Industry Code Description                   0.103670  \n",
      "WCIO Cause of Injury Description            0.131364  \n",
      "WCIO Nature of Injury Description           0.144490  \n",
      "WCIO Part Of Body Description               0.140141  \n",
      "Zip Code                                    0.176654  \n",
      "Claim Injury Type                           1.000000  \n"
     ]
    }
   ],
   "source": [
    "# List of categorical columns to compare\n",
    "categorical_columns = [\n",
    "    'Industry Code Description',\n",
    "    'WCIO Cause of Injury Description',\n",
    "    'WCIO Nature of Injury Description',\n",
    "    'WCIO Part Of Body Description',\n",
    "    'Zip Code',\n",
    "    'Claim Injury Type'\n",
    "]\n",
    "\n",
    "# Create a DataFrame to store the correlation results\n",
    "correlation_matrix = pd.DataFrame(index=categorical_columns, columns=categorical_columns)\n",
    "\n",
    "# Calculate pairwise Cramér's V for each combination of the variables\n",
    "for col1 in categorical_columns:\n",
    "    for col2 in categorical_columns:\n",
    "        if col1 == col2:\n",
    "            # Correlation with itself is always 1\n",
    "            correlation_matrix.loc[col1, col2] = 1.0\n",
    "        else:\n",
    "            # Calculate Cramér's V for the pair\n",
    "            correlation_matrix.loc[col1, col2] = cramers_v(train_df_prep[col1], train_df_prep[col2])\n",
    "\n",
    "# Convert the results to numeric type\n",
    "correlation_matrix = correlation_matrix.astype(float)\n",
    "\n",
    "# Display the correlation matrix\n",
    "print(\"Cramér's V Correlation Matrix:\")\n",
    "print(correlation_matrix)\n"
   ]
  },
  {
   "cell_type": "code",
   "execution_count": 149,
   "id": "3cdeeaad",
   "metadata": {},
   "outputs": [],
   "source": [
    "# Impute missing values with mode of each column\n",
    "train_df_prep_final = train_df_prep.apply(lambda col: col.fillna(col.mode()[0]))"
   ]
  },
  {
   "cell_type": "code",
   "execution_count": 174,
   "id": "6585679f",
   "metadata": {},
   "outputs": [
    {
     "name": "stdout",
     "output_type": "stream",
     "text": [
      "Your selected dataframe has 25 columns.\n",
      "There are 0 columns that have missing values.\n"
     ]
    }
   ],
   "source": [
    "# Check if all missing values are handled\n",
    "missing_values_3 = missing_values_table(train_df_prep_final)"
   ]
  },
  {
   "attachments": {},
   "cell_type": "markdown",
   "id": "3e2d5ebc",
   "metadata": {},
   "source": [
    "OR do the weighted randomly distributions for the missing values:"
   ]
  },
  {
   "cell_type": "code",
   "execution_count": 60,
   "id": "341eec9a",
   "metadata": {},
   "outputs": [],
   "source": [
    "# Calculate the frequency distribution (weights) for the 'Industry Code' column\n",
    "industry_counts = train_df_prep['Industry Code Description'].value_counts(normalize=True)\n",
    "\n",
    "# Create a list of possible values and their corresponding weights\n",
    "categories = industry_counts.index.tolist()\n",
    "weights = industry_counts.values.tolist()\n",
    "\n",
    "# Impute missing values based on the weighted distribution\n",
    "# np.random.choice randomly selects from the categories based on their weights\n",
    "train_df_prep['Industry Code Description'] = train_df_prep['Industry Code Description'].apply(lambda x: np.random.choice(categories, p=weights) if pd.isna(x) else x)\n"
   ]
  },
  {
   "attachments": {},
   "cell_type": "markdown",
   "id": "bf126f21",
   "metadata": {},
   "source": [
    "### 3.2 Outliers"
   ]
  },
  {
   "cell_type": "code",
   "execution_count": 153,
   "id": "66200e67",
   "metadata": {},
   "outputs": [],
   "source": [
    "train_df_out = train_df_prep_final.copy()"
   ]
  },
  {
   "cell_type": "code",
   "execution_count": 154,
   "id": "5c74b84c",
   "metadata": {},
   "outputs": [
    {
     "data": {
      "text/plain": [
       "count    570337.00000\n",
       "mean         42.38667\n",
       "std          13.89296\n",
       "min           0.00000\n",
       "25%          31.00000\n",
       "50%          42.00000\n",
       "75%          54.00000\n",
       "max         117.00000\n",
       "Name: Age at Injury, dtype: float64"
      ]
     },
     "execution_count": 154,
     "metadata": {},
     "output_type": "execute_result"
    }
   ],
   "source": [
    "# Age\n",
    "# Anomalous ages: 117 or under 14 (minimum legal working age in the US)£\n",
    "train_df_out['Age at Injury'].describe()"
   ]
  },
  {
   "cell_type": "code",
   "execution_count": 155,
   "id": "30bc7821",
   "metadata": {},
   "outputs": [
    {
     "data": {
      "text/plain": [
       "Text(24.335, 0.5, 'Boxplot')"
      ]
     },
     "execution_count": 155,
     "metadata": {},
     "output_type": "execute_result"
    },
    {
     "data": {
      "image/png": "[encoded data removed]",
      "text/plain": [
       "<Figure size 360x360 with 1 Axes>"
      ]
     },
     "metadata": {},
     "output_type": "display_data"
    }
   ],
   "source": [
    "sns.catplot(data=train_df_out, kind='box', x='Age at Injury', color='cadetblue')\n",
    "plt.xlabel('Age at Injury')\n",
    "plt.ylabel('Boxplot')\n",
    "\n",
    "# Outliers after 85 years old"
   ]
  },
  {
   "cell_type": "code",
   "execution_count": 161,
   "id": "15894720",
   "metadata": {},
   "outputs": [
    {
     "name": "stdout",
     "output_type": "stream",
     "text": [
      "Number of rows with 'Age at Injury' below 14: 1822 (0.32%)\n",
      "Number of rows with 'Age at Injury' over 90: 166 (0.03%)\n"
     ]
    }
   ],
   "source": [
    "# Total number of rows in the DataFrame\n",
    "total_rows = len(train_df_out)\n",
    "\n",
    "# Count rows with 'Age at Injury' below 14\n",
    "below_14_count = train_df_out[train_df_out['Age at Injury'] < 14].shape[0]\n",
    "below_14_percentage = (below_14_count / total_rows) * 100\n",
    "\n",
    "# Count rows with 'Age at Injury' over 90\n",
    "over_90_count = train_df_out[train_df_out['Age at Injury'] > 90].shape[0]\n",
    "over_90_percentage = (over_90_count / total_rows) * 100\n",
    "\n",
    "# Print the results\n",
    "print(f\"Number of rows with 'Age at Injury' below 14: {below_14_count} ({below_14_percentage:.2f}%)\")\n",
    "print(f\"Number of rows with 'Age at Injury' over 90: {over_90_count} ({over_90_percentage:.2f}%)\")"
   ]
  },
  {
   "cell_type": "code",
   "execution_count": 160,
   "id": "245bec09",
   "metadata": {},
   "outputs": [
    {
     "name": "stdout",
     "output_type": "stream",
     "text": [
      "Number of rows after removing outliers: 568349\n",
      "Percentage of the whole training data set: 96.0%\n"
     ]
    }
   ],
   "source": [
    "# Drop rows with 'Age at Injury' below 14 or over 90\n",
    "train_df_out_cleaned = train_df_out[(train_df_out['Age at Injury'] >= 14) & (train_df_out['Age at Injury'] <= 90)]\n",
    "\n",
    "# Reset the index after dropping rows\n",
    "train_df_out_cleaned.reset_index(drop=True, inplace=True)\n",
    "\n",
    "# Print the number of rows in the cleaned DataFrame\n",
    "print(f\"Number of rows after removing outliers: {train_df_out_cleaned.shape[0]}\")\n",
    "print(f\"Percentage of the whole training data set: {round(len(train_df_out_cleaned)/len(train_df),2)*100}%\")"
   ]
  },
  {
   "attachments": {},
   "cell_type": "markdown",
   "id": "0f8a9073",
   "metadata": {},
   "source": [
    "To deal with the outliers of \"Average Weekly Wage\", we will use binning such that the 0 values are one category and the high outliers will be in one category and don't bias the data too much."
   ]
  },
  {
   "attachments": {},
   "cell_type": "markdown",
   "id": "3a294b62",
   "metadata": {},
   "source": [
    "### 3.3 Binning and Feature Extraction"
   ]
  },
  {
   "attachments": {},
   "cell_type": "markdown",
   "id": "b8c60f38",
   "metadata": {},
   "source": [
    "__Binning__:\n",
    "- __Age at Injury__: Bin into 10-year age groups\n",
    "- __Average Weekly Wage__: Group wages into ranges to handle the wide variance\n",
    "- __Gender__: Combine \"X\" and \"U\" into an \"Other\" category for non-binary classifications\n",
    "- __WCIO Cause of Injury Description__: Group similar injury causes together for a consolidated view of cause categories\n",
    "- __WCIO Nature of Injury Description__: Group similar injury types (e.g., physical trauma, diseases) to capture broader injury classifications\n",
    "- __WCIO Part Of Body Description__: Combine specific body parts into larger areas (e.g., \"Upper Arm\" and \"Shoulder\" into \"Upper Arm and Shoulder\") to simplify the body region analysis\n"
   ]
  },
  {
   "cell_type": "code",
   "execution_count": 162,
   "id": "5a45d094",
   "metadata": {},
   "outputs": [],
   "source": [
    "train_df_bin = train_df_out_cleaned.copy()"
   ]
  },
  {
   "cell_type": "code",
   "execution_count": 163,
   "id": "100ce292",
   "metadata": {},
   "outputs": [],
   "source": [
    "# Group \"Age at Injury\" and \"Average Weekly Wage\" into Bins\n",
    "\n",
    "# Define age bins and labels\n",
    "age_bins = [0, 19, 29, 39, 49, 59, float('inf')]\n",
    "age_labels = ['Under 20', '20-29', '30-39', '40-49', '50-59', '60 and above']\n",
    "\n",
    "# Create the age groups\n",
    "train_df_bin['Age_Group'] = pd.cut(train_df_bin['Age at Injury'], bins=age_bins, labels=age_labels)\n",
    "\n",
    "\n",
    "# Group Average Weekly Wage into bins\n",
    "# Define wage bins and labels\n",
    "wage_bins = [0, 1, 700, 1100, 1500, max(train_df_bin['Average Weekly Wage'])]\n",
    "wage_labels = ['Zero','Below Average', 'Average', 'Above Average', 'High']\n",
    "\n",
    "# Create the wage groups\n",
    "train_df_bin['Wage_Group'] = pd.cut(train_df_bin['Average Weekly Wage'], bins=wage_bins, labels=wage_labels)"
   ]
  },
  {
   "cell_type": "code",
   "execution_count": 164,
   "id": "a2270d6c",
   "metadata": {},
   "outputs": [],
   "source": [
    "# Mapping categorical variables\n",
    "\n",
    "# Gender: Combine \"U\" and \"X\" into \"Other\"\n",
    "train_df_bin['Gender'] = train_df_bin['Gender'].replace({'U': 'Other', 'X': 'Other'})\n"
   ]
  },
  {
   "cell_type": "code",
   "execution_count": 165,
   "id": "73b1a2bb",
   "metadata": {},
   "outputs": [
    {
     "data": {
      "text/plain": [
       "LIFTING                                   59594\n",
       "FELLOW WORKER, PATIENT OR OTHER PERSON    37094\n",
       "STRAIN OR INJURY BY, NOC                  32988\n",
       "FALL, SLIP OR TRIP, NOC                   31677\n",
       "ON SAME LEVEL                             29307\n",
       "                                          ...  \n",
       "MOLD                                         55\n",
       "ABNORMAL AIR PRESSURE                        51\n",
       "CRASH OF WATER VEHICLE                       45\n",
       "RADIATION                                    34\n",
       "CRASH OF AIRPLANE                            12\n",
       "Name: WCIO Cause of Injury Description, Length: 74, dtype: int64"
      ]
     },
     "execution_count": 165,
     "metadata": {},
     "output_type": "execute_result"
    }
   ],
   "source": [
    "# WCIO Cause of Injury Description\n",
    "train_df_bin['WCIO Cause of Injury Description'].unique();\n",
    "train_df_bin['WCIO Cause of Injury Description'].value_counts()"
   ]
  },
  {
   "cell_type": "code",
   "execution_count": 166,
   "id": "e135cf55",
   "metadata": {},
   "outputs": [
    {
     "name": "stdout",
     "output_type": "stream",
     "text": [
      "       Accident Date  Age at Injury Alternative Dispute Resolution  \\\n",
      "0         2019-12-30           31.0                              N   \n",
      "1         2019-08-30           46.0                              N   \n",
      "2         2019-12-06           40.0                              N   \n",
      "3         2019-12-30           61.0                              N   \n",
      "4         2019-12-26           67.0                              N   \n",
      "...              ...            ...                            ...   \n",
      "568344    2022-12-14           35.0                              N   \n",
      "568345    2022-12-15           33.0                              N   \n",
      "568346    2022-12-13           61.0                              N   \n",
      "568347    2022-12-14           24.0                              N   \n",
      "568348    2022-12-13           72.0                              N   \n",
      "\n",
      "       Assembly Date Attorney/Representative  Average Weekly Wage    C-2 Date  \\\n",
      "0         2020-01-01                       N                 0.00  2019-12-31   \n",
      "1         2020-01-01                       Y              1745.93  2020-01-01   \n",
      "2         2020-01-01                       N              1434.80  2020-01-01   \n",
      "3         2020-01-01                       N              1068.85  2019-12-31   \n",
      "4         2020-01-01                       N                 0.00  2019-12-31   \n",
      "...              ...                     ...                  ...         ...   \n",
      "568344    2022-12-30                       N                 0.00  2022-12-30   \n",
      "568345    2022-12-31                       N                 0.00  2022-12-31   \n",
      "568346    2022-12-31                       N               991.08  2022-12-31   \n",
      "568347    2022-12-31                       N                 0.00  2022-12-31   \n",
      "568348    2022-12-31                       N                 0.00  2022-12-31   \n",
      "\n",
      "                          Carrier Name Carrier Type  Claim Identifier  ...  \\\n",
      "0           NEW HAMPSHIRE INSURANCE CO  1A. PRIVATE           5393875  ...   \n",
      "1         ZURICH AMERICAN INSURANCE CO  1A. PRIVATE           5393091  ...   \n",
      "2            INDEMNITY INSURANCE CO OF  1A. PRIVATE           5393889  ...   \n",
      "3                 STATE INSURANCE FUND      2A. SIF           5393887  ...   \n",
      "4          INDEMNITY INS. OF N AMERICA  1A. PRIVATE           5393863  ...   \n",
      "...                                ...          ...               ...  ...   \n",
      "568344            STATE INSURANCE FUND      2A. SIF           6165265  ...   \n",
      "568345              WESCO INSURANCE CO  1A. PRIVATE           6165285  ...   \n",
      "568346  SECURITY NATIONAL INSURANCE CO  1A. PRIVATE           6165506  ...   \n",
      "568347   TECHNOLOGY INSURANCE CO. INC.  1A. PRIVATE           6165339  ...   \n",
      "568348   TECHNOLOGY INSURANCE CO. INC.  1A. PRIVATE           6165075  ...   \n",
      "\n",
      "       WCIO Nature of Injury Description WCIO Part Of Body Description  \\\n",
      "0                              CONTUSION                      BUTTOCKS   \n",
      "1                         SPRAIN OR TEAR                   SHOULDER(S)   \n",
      "2                             CONCUSSION          MULTIPLE HEAD INJURY   \n",
      "3                               PUNCTURE                     FINGER(S)   \n",
      "4                              CONTUSION                   SHOULDER(S)   \n",
      "...                                  ...                           ...   \n",
      "568344                         CONTUSION               LOWER BACK AREA   \n",
      "568345                      INFLAMMATION                          HAND   \n",
      "568346  ALL OTHER CUMULATIVE INJURY, NOC                         WRIST   \n",
      "568347  ALL OTHER SPECIFIC INJURIES, NOC                         ANKLE   \n",
      "568348   MULTIPLE PHYSICAL INJURIES ONLY                      MULTIPLE   \n",
      "\n",
      "       Zip Code Agreement Reached      WCB Decision Number of Dependents  \\\n",
      "0         13662               0.0  Not Work Related                  1.0   \n",
      "1         14569               1.0  Not Work Related                  4.0   \n",
      "2         12589               0.0  Not Work Related                  6.0   \n",
      "3         12603               0.0  Not Work Related                  1.0   \n",
      "4         11772               0.0  Not Work Related                  5.0   \n",
      "...         ...               ...               ...                  ...   \n",
      "568344    10467               0.0  Not Work Related                  4.0   \n",
      "568345    11590               0.0  Not Work Related                  6.0   \n",
      "568346    14227               0.0  Not Work Related                  3.0   \n",
      "568347    10029               0.0  Not Work Related                  5.0   \n",
      "568348    12779               0.0  Not Work Related                  3.0   \n",
      "\n",
      "       Claim Injury Type Numeric     Age_Group     Wage_Group  \\\n",
      "0                              1         30-39            NaN   \n",
      "1                              3         40-49           High   \n",
      "2                              3         40-49  Above Average   \n",
      "3                              1  60 and above        Average   \n",
      "4                              2  60 and above            NaN   \n",
      "...                          ...           ...            ...   \n",
      "568344                         1         30-39            NaN   \n",
      "568345                         1         30-39            NaN   \n",
      "568346                         3  60 and above        Average   \n",
      "568347                         1         20-29            NaN   \n",
      "568348                         1  60 and above            NaN   \n",
      "\n",
      "                               Injury Category  \n",
      "0                              Falls and Slips  \n",
      "1                                        Other  \n",
      "2                           Lifting and Strain  \n",
      "3                Tools, Machinery, and Objects  \n",
      "4                              Falls and Slips  \n",
      "...                                        ...  \n",
      "568344  Collisions and Motor Vehicle Accidents  \n",
      "568345              Struck By Object or Person  \n",
      "568346                                   Other  \n",
      "568347           Tools, Machinery, and Objects  \n",
      "568348                                   Other  \n",
      "\n",
      "[568349 rows x 28 columns]\n"
     ]
    }
   ],
   "source": [
    "# Mapping dictionary\n",
    "injury_mapping = {\n",
    "    'FALL, SLIP OR TRIP, NOC': 'Falls and Slips',\n",
    "    'FROM LIQUID OR GREASE SPILLS': 'Falls and Slips',\n",
    "    'ON ICE OR SNOW': 'Falls and Slips',\n",
    "    'ON SAME LEVEL': 'Falls and Slips',\n",
    "    'ON STAIRS': 'Falls and Slips',\n",
    "    'SLIP, OR TRIP, DID NOT FALL': 'Falls and Slips',\n",
    "    \n",
    "    'OBJECT BEING LIFTED OR HANDLED': 'Lifting and Strain',\n",
    "    'LIFTING': 'Lifting and Strain',\n",
    "    'TWISTING': 'Lifting and Strain',\n",
    "    'PUSHING OR PULLING': 'Lifting and Strain',\n",
    "    'STRAIN OR INJURY BY, NOC': 'Lifting and Strain',\n",
    "    'REACHING': 'Lifting and Strain',\n",
    "    'HOLDING OR CARRYING': 'Lifting and Strain',\n",
    "    \n",
    "    'COLLISION OR SIDESWIPE WITH ANOTHER VEHICLE': 'Collisions and Motor Vehicle Accidents',\n",
    "    'MOTOR VEHICLE, NOC': 'Collisions and Motor Vehicle Accidents',\n",
    "    'MOTOR VEHICLE': 'Collisions and Motor Vehicle Accidents',\n",
    "    'COLLISION WITH A FIXED OBJECT': 'Collisions and Motor Vehicle Accidents',\n",
    "    'CRASH OF RAIL VEHICLE': 'Collisions and Motor Vehicle Accidents',\n",
    "    'CRASH OF WATER VEHICLE': 'Collisions and Motor Vehicle Accidents',\n",
    "    'CRASH OF AIRPLANE': 'Collisions and Motor Vehicle Accidents',\n",
    "    'VEHICLE UPSET': 'Collisions and Motor Vehicle Accidents',\n",
    "    \n",
    "    'STRUCK OR INJURED, NOC': 'Struck By Object or Person',\n",
    "    'FALLING OR FLYING OBJECT': 'Struck By Object or Person',\n",
    "    'STEPPING ON SHARP OBJECT': 'Struck By Object or Person',\n",
    "    'FELLOW WORKER, PATIENT OR OTHER PERSON': 'Struck By Object or Person',\n",
    "    'ANIMAL OR INSECT': 'Struck By Object or Person',\n",
    "    'WIELDING OR THROWING': 'Struck By Object or Person',\n",
    "    \n",
    "    'CHEMICALS': 'Exposure to Substances and Environment',\n",
    "    'DUST, GASES, FUMES OR VAPORS': 'Exposure to Substances and Environment',\n",
    "    'ABSORPTION, INGESTION OR INHALATION, NOC': 'Exposure to Substances and Environment',\n",
    "    'STEAM OR HOT FLUIDS': 'Exposure to Substances and Environment',\n",
    "    'COLD OBJECTS OR SUBSTANCES': 'Exposure to Substances and Environment',\n",
    "    'TEMPERATURE EXTREMES': 'Exposure to Substances and Environment',\n",
    "    'CONTINUAL NOISE': 'Exposure to Substances and Environment',\n",
    "    'MOLD': 'Exposure to Substances and Environment',\n",
    "    'ABNORMAL AIR PRESSURE': 'Exposure to Substances and Environment',\n",
    "    'RADIATION': 'Exposure to Substances and Environment',\n",
    "    \n",
    "    'HAND TOOL, UTENSIL; NOT POWERED': 'Tools, Machinery, and Objects',\n",
    "    'POWERED HAND TOOL, APPLIANCE': 'Tools, Machinery, and Objects',\n",
    "    'USING TOOL OR MACHINERY': 'Tools, Machinery, and Objects',\n",
    "    'MOVING PARTS OF MACHINE': 'Tools, Machinery, and Objects',\n",
    "    'MACHINE OR MACHINERY': 'Tools, Machinery, and Objects',\n",
    "    'MOVING PART OF MACHINE': 'Tools, Machinery, and Objects',\n",
    "    'OBJECT HANDLED BY OTHERS': 'Tools, Machinery, and Objects',\n",
    "    'BROKEN GLASS': 'Tools, Machinery, and Objects',\n",
    "    \n",
    "    'FIRE OR FLAME': 'Explosions and Fire',\n",
    "    'EXPLOSION OR FLARE BACK': 'Explosions and Fire',\n",
    "    \n",
    "    'NATURAL DISASTERS': 'Natural Disasters and Uncommon Events',\n",
    "    'TERRORISM': 'Natural Disasters and Uncommon Events',\n",
    "    'PANDEMIC': 'Natural Disasters and Uncommon Events',\n",
    "}\n",
    "\n",
    "# Apply mapping\n",
    "train_df_bin['Injury Category'] = train_df_bin['WCIO Cause of Injury Description'].map(injury_mapping).fillna('Other')\n",
    "print(train_df_bin)"
   ]
  },
  {
   "cell_type": "code",
   "execution_count": 167,
   "id": "358773b2",
   "metadata": {},
   "outputs": [
    {
     "data": {
      "text/plain": [
       "STRAIN OR TEAR                                                 165863\n",
       "CONTUSION                                                      110483\n",
       "SPRAIN OR TEAR                                                  55599\n",
       "LACERATION                                                      47030\n",
       "ALL OTHER SPECIFIC INJURIES, NOC                                35862\n",
       "COVID-19                                                        25524\n",
       "FRACTURE                                                        22639\n",
       "PUNCTURE                                                        17310\n",
       "MULTIPLE PHYSICAL INJURIES ONLY                                 12645\n",
       "INFLAMMATION                                                    12445\n",
       "BURN                                                             7499\n",
       "FOREIGN BODY                                                     7363\n",
       "NO PHYSICAL INJURY                                               5923\n",
       "DISLOCATION                                                      5858\n",
       "CONCUSSION                                                       5475\n",
       "CRUSHING                                                         5212\n",
       "HERNIA                                                           2692\n",
       "ALL OTHER CUMULATIVE INJURY, NOC                                 2658\n",
       "CARPAL TUNNEL SYNDROME                                           2637\n",
       "ALL OTHER OCCUPATIONAL DISEASE INJURY, NOC                       1691\n",
       "HEARING LOSS OR IMPAIRMENT                                       1553\n",
       "MENTAL STRESS                                                    1545\n",
       "SYNCOPE                                                          1418\n",
       "RESPIRATORY DISORDERS                                            1282\n",
       "RUPTURE                                                          1243\n",
       "DERMATITIS                                                       1027\n",
       "INFECTION                                                         937\n",
       "AMPUTATION                                                        733\n",
       "LOSS OF HEARING                                                   732\n",
       "CONTAGIOUS DISEASE                                                722\n",
       "ELECTRIC SHOCK                                                    619\n",
       "MYOCARDIAL INFARCTION                                             459\n",
       "MENTAL DISORDER                                                   444\n",
       "HEAT PROSTRATION                                                  422\n",
       "POISONING - GENERAL (NOT OD OR CUMULATIVE                         396\n",
       "MULTIPLE INJURIES INCLUDING BOTH PHYSICAL AND PSYCHOLOGICAL       368\n",
       "SEVERANCE                                                         340\n",
       "POISONING - CHEMICAL, (OTHER THAN METALS)                         286\n",
       "VISION LOSS                                                       268\n",
       "ADVERSE REACTION TO A VACCINATION OR INOCULATION                  184\n",
       "CANCER                                                            182\n",
       "ANGINA PECTORIS                                                   181\n",
       "VASCULAR                                                          157\n",
       "ASBESTOSIS                                                         99\n",
       "ASPHYXIATION                                                       93\n",
       "DUST DISEASE, NOC                                                  76\n",
       "FREEZING                                                           71\n",
       "AIDS                                                               32\n",
       "POISONING - METAL                                                  25\n",
       "SILICOSIS                                                          14\n",
       "RADIATION                                                          13\n",
       "ENUCLEATION                                                         6\n",
       "BLACK LUNG                                                          5\n",
       "VDT - RELATED DISEASES                                              4\n",
       "HEPATITIS C                                                         4\n",
       "BYSSINOSIS                                                          1\n",
       "Name: WCIO Nature of Injury Description, dtype: int64"
      ]
     },
     "execution_count": 167,
     "metadata": {},
     "output_type": "execute_result"
    }
   ],
   "source": [
    "# WCIO Nature of Injury Description\n",
    "train_df_bin['WCIO Nature of Injury Description'].unique();\n",
    "train_df_bin['WCIO Nature of Injury Description'].value_counts()"
   ]
  },
  {
   "cell_type": "code",
   "execution_count": 168,
   "id": "ec9e7247",
   "metadata": {},
   "outputs": [],
   "source": [
    "# Mapping dictionary\n",
    "injury_nature_mapping = {\n",
    "    'CONTUSION': 'Physical Trauma',\n",
    "    'SPRAIN OR TEAR': 'Physical Trauma',\n",
    "    'CONCUSSION': 'Physical Trauma',\n",
    "    'PUNCTURE': 'Physical Trauma',\n",
    "    'LACERATION': 'Physical Trauma',\n",
    "    'FRACTURE': 'Physical Trauma',\n",
    "    'CRUSHING': 'Physical Trauma',\n",
    "    'DISLOCATION': 'Physical Trauma',\n",
    "    'AMPUTATION': 'Physical Trauma',\n",
    "    'SEVERANCE': 'Physical Trauma',\n",
    "    \n",
    "    'CARPAL TUNNEL SYNDROME': 'Cumulative or Repetitive Injuries',\n",
    "    'INFLAMMATION': 'Cumulative or Repetitive Injuries',\n",
    "    'ALL OTHER CUMULATIVE INJURY, NOC': 'Cumulative or Repetitive Injuries',\n",
    "    'ALL OTHER OCCUPATIONAL DISEASE INJURY, NOC': 'Cumulative or Repetitive Injuries',\n",
    "    'ALL OTHER SPECIFIC INJURIES, NOC': 'Cumulative or Repetitive Injuries',\n",
    "    \n",
    "    'BURN': 'Burns and Temperature-Related Injuries',\n",
    "    'HEAT PROSTRATION': 'Burns and Temperature-Related Injuries',\n",
    "    'FREEZING': 'Burns and Temperature-Related Injuries',\n",
    "    \n",
    "    'RESPIRATORY DISORDERS': 'Respiratory Issues',\n",
    "    'ASBESTOSIS': 'Respiratory Issues',\n",
    "    'DUST DISEASE, NOC': 'Respiratory Issues',\n",
    "    'BLACK LUNG': 'Respiratory Issues',\n",
    "    'SILICOSIS': 'Respiratory Issues',\n",
    "    'BYSSINOSIS': 'Respiratory Issues',\n",
    "    \n",
    "    'POISONING - GENERAL (NOT OD OR CUMULATIVE': 'Poisoning and Chemical Exposure',\n",
    "    'POISONING - CHEMICAL, (OTHER THAN METALS)': 'Poisoning and Chemical Exposure',\n",
    "    'POISONING - METAL': 'Poisoning and Chemical Exposure',\n",
    "    \n",
    "    'INFECTION': 'Infections and Diseases',\n",
    "    'COVID-19': 'Infections and Diseases',\n",
    "    'CONTAGIOUS DISEASE': 'Infections and Diseases',\n",
    "    'AIDS': 'Infections and Diseases',\n",
    "    'HEPATITIS C': 'Infections and Diseases',\n",
    "    'CANCER': 'Infections and Diseases',\n",
    "    \n",
    "    'MENTAL STRESS': 'Psychological and Mental Health',\n",
    "    'MENTAL DISORDER': 'Psychological and Mental Health',\n",
    "    'NO PHYSICAL INJURY': 'Psychological and Mental Health',\n",
    "    'MULTIPLE INJURIES INCLUDING BOTH PHYSICAL AND PSYCHOLOGICAL': 'Psychological and Mental Health',\n",
    "    \n",
    "    'MYOCARDIAL INFARCTION': 'Circulatory and Heart-Related Issues',\n",
    "    'ANGINA PECTORIS': 'Circulatory and Heart-Related Issues',\n",
    "    'VASCULAR': 'Circulatory and Heart-Related Issues',\n",
    "    \n",
    "    'LOSS OF HEARING': 'Sensory Loss',\n",
    "    'HEARING LOSS OR IMPAIRMENT': 'Sensory Loss',\n",
    "    'VISION LOSS': 'Sensory Loss',\n",
    "    'ENUCLEATION': 'Sensory Loss',\n",
    "    \n",
    "    'RADIATION': 'Radiation and Light Exposure',\n",
    "    'VDT - RELATED DISEASES': 'Radiation and Light Exposure',\n",
    "    \n",
    "    # Miscellaneous (catch-all for remaining cases)\n",
    "    'ASPHYXIATION': 'Miscellaneous Conditions',\n",
    "    'SYNCOPE': 'Miscellaneous Conditions',\n",
    "    'DERMATITIS': 'Miscellaneous Conditions',\n",
    "    'ADVERSE REACTION TO A VACCINATION OR INOCULATION': 'Miscellaneous Conditions'\n",
    "}\n",
    "\n",
    "# Apply mapping\n",
    "train_df_bin['Injury Category'] = train_df_bin['WCIO Nature of Injury Description'].map(injury_nature_mapping).fillna('Other')\n"
   ]
  },
  {
   "cell_type": "code",
   "execution_count": 169,
   "id": "b473be57",
   "metadata": {},
   "outputs": [
    {
     "data": {
      "text/plain": [
       "LOWER BACK AREA                                          65837\n",
       "KNEE                                                     47785\n",
       "MULTIPLE                                                 41836\n",
       "SHOULDER(S)                                              37672\n",
       "FINGER(S)                                                36044\n",
       "HAND                                                     31197\n",
       "ANKLE                                                    24909\n",
       "MULTIPLE BODY PARTS (INCLUDING BODY                      22416\n",
       "SOFT TISSUE                                              19646\n",
       "FOOT                                                     18725\n",
       "WRIST                                                    18625\n",
       "LOWER ARM                                                15322\n",
       "LUNGS                                                    13869\n",
       "EYE(S)                                                   12938\n",
       "THUMB                                                    12507\n",
       "LOWER LEG                                                11602\n",
       "UPPER ARM                                                11216\n",
       "BODY SYSTEMS AND MULTIPLE BODY SYSTEMS                   10883\n",
       "ELBOW                                                     9918\n",
       "UPPER BACK AREA                                           8218\n",
       "MULTIPLE HEAD INJURY                                      7925\n",
       "SKULL                                                     7890\n",
       "CHEST                                                     7629\n",
       "ABDOMEN INCLUDING GROIN                                   6754\n",
       "HIP                                                       6394\n",
       "NO PHYSICAL INJURY                                        6044\n",
       "INSUFFICIENT INFO TO PROPERLY IDENTIFY - UNCLASSIFIED     5239\n",
       "UPPER LEG                                                 4291\n",
       "FACIAL BONES                                              3899\n",
       "INTERNAL ORGANS                                           3704\n",
       "EAR(S)                                                    3337\n",
       "DISC                                                      2981\n",
       "MULTIPLE NECK INJURY                                      2837\n",
       "MULTIPLE UPPER EXTREMITIES                                2625\n",
       "WRIST (S) & HAND(S)                                       2564\n",
       "TOES                                                      2531\n",
       "NOSE                                                      2080\n",
       "LUMBAR & OR SACRAL VERTEBRAE (VERTEBRA                    1988\n",
       "BRAIN                                                     1978\n",
       "MULTIPLE LOWER EXTREMITIES                                1921\n",
       "GREAT TOE                                                 1805\n",
       "MULTIPLE TRUNK                                            1739\n",
       "MOUTH                                                     1597\n",
       "VERTEBRAE                                                 1320\n",
       "WHOLE BODY                                                1235\n",
       "BUTTOCKS                                                  1160\n",
       "SPINAL CORD                                                876\n",
       "TEETH                                                      802\n",
       "PELVIS                                                     735\n",
       "HEART                                                      627\n",
       "SACRUM AND COCCYX                                          401\n",
       "LARYNX                                                     140\n",
       "TRACHEA                                                     83\n",
       "ARTIFICIAL APPLIANCE                                        53\n",
       "Name: WCIO Part Of Body Description, dtype: int64"
      ]
     },
     "execution_count": 169,
     "metadata": {},
     "output_type": "execute_result"
    }
   ],
   "source": [
    "# WCIO Part Of Body Description\n",
    "train_df_bin['WCIO Part Of Body Description'].unique();\n",
    "train_df_bin['WCIO Part Of Body Description'].value_counts()"
   ]
  },
  {
   "cell_type": "code",
   "execution_count": 170,
   "id": "2386b405",
   "metadata": {},
   "outputs": [],
   "source": [
    "# Mapping dictionary\n",
    "body_part_mapping = {\n",
    "    # Head and Face\n",
    "    'SKULL': 'Head and Face', 'FACIAL BONES': 'Head and Face', 'EYE(S)': 'Head and Face',\n",
    "    'MOUTH': 'Head and Face', 'NOSE': 'Head and Face', 'EAR(S)': 'Head and Face', \n",
    "    'BRAIN': 'Head and Face', 'TEETH': 'Head and Face',\n",
    "\n",
    "    # Neck and Throat\n",
    "    'MULTIPLE NECK INJURY': 'Neck and Throat', 'LARYNX': 'Neck and Throat', 'TRACHEA': 'Neck and Throat',\n",
    "\n",
    "    # Upper and Lower Back\n",
    "    'UPPER BACK AREA': 'Upper Back',\n",
    "    'LOWER BACK AREA': 'Lower Back', 'LUMBAR & OR SACRAL VERTEBRAE (VERTEBRA': 'Lower Back',\n",
    "    'SACRUM AND COCCYX': 'Lower Back',\n",
    "\n",
    "    # Spinal Column\n",
    "    'SPINAL CORD': 'Spinal Column', 'VERTEBRAE': 'Spinal Column',\n",
    "\n",
    "    # Shoulder\n",
    "    'SHOULDER(S)': 'Shoulder', \n",
    "\n",
    "    # Arm and Wrist\n",
    "    'LOWER ARM': 'Arm and Wrist', 'UPPER ARM': 'Arm and Wrist', 'WRIST': 'Arm and Wrist',\n",
    "\n",
    "    # Hand and Fingers\n",
    "    'HAND': 'Hand and Fingers', 'FINGER(S)': 'Hand and Fingers', 'THUMB': 'Hand and Fingers',\n",
    "\n",
    "    # Hip\n",
    "    'HIP': 'Hip', \n",
    "\n",
    "    # Leg\n",
    "    'LOWER LEG': 'Leg', 'UPPER LEG': 'Leg',\n",
    "\n",
    "    # Lower Leg and Knee\n",
    "    'KNEE': 'Knee',\n",
    "\n",
    "    # Ankle and Foot\n",
    "    'ANKLE': 'Ankle and Foot', 'FOOT': 'Ankle and Foot', 'TOES': 'Ankle and Foot', 'GREAT TOE': 'Ankle and Foot',\n",
    "\n",
    "    # Chest\n",
    "    'CHEST': 'Chest',\n",
    "\n",
    "    # Abdomen and Pelvis\n",
    "    'ABDOMEN INCLUDING GROIN': 'Abdomen and Pelvis', 'PELVIS': 'Abdomen and Pelvis', 'BUTTOCKS': 'Abdomen and Pelvis',\n",
    "\n",
    "    # Lungs\n",
    "    'LUNGS': 'Lungs',\n",
    "\n",
    "    # Heart\n",
    "    'HEART': 'Heart',\n",
    "\n",
    "    # Internal Organs\n",
    "    'INTERNAL ORGANS': 'Internal Organs',\n",
    "\n",
    "    # Body Systems\n",
    "    'BODY SYSTEMS AND MULTIPLE BODY SYSTEMS': 'Body Systems', \n",
    "    'WHOLE BODY': 'Body Systems', 'MULTIPLE BODY PARTS (INCLUDING BODY': 'Body Systems',\n",
    "    'ARTIFICIAL APPLIANCE': 'Body Systems',\n",
    "\n",
    "    # Soft Tissue\n",
    "    'SOFT TISSUE': 'Soft Tissue',\n",
    "\n",
    "    # Unclassified or Insufficient Info\n",
    "    'NO PHYSICAL INJURY': 'Unclassified or Insufficient Info',\n",
    "    'INSUFFICIENT INFO TO PROPERLY IDENTIFY - UNCLASSIFIED': 'Unclassified or Insufficient Info'\n",
    "}\n",
    "\n",
    "# Apply mapping\n",
    "train_df_bin['Body Part Category'] = train_df_bin['WCIO Part Of Body Description'].map(body_part_mapping).fillna('Other')\n"
   ]
  },
  {
   "attachments": {},
   "cell_type": "markdown",
   "id": "d6d5ae8b",
   "metadata": {},
   "source": [
    "__Feature Extraction:__\n",
    "- __Lag_Time__: Difference in days between accident date and assembly date\n",
    "- __Accident_to_C2_Lag__: Difference in days between accident date and C-2 date"
   ]
  },
  {
   "cell_type": "code",
   "execution_count": 172,
   "id": "919835e8",
   "metadata": {},
   "outputs": [
    {
     "data": {
      "text/html": [
       "<div>\n",
       "<style scoped>\n",
       "    .dataframe tbody tr th:only-of-type {\n",
       "        vertical-align: middle;\n",
       "    }\n",
       "\n",
       "    .dataframe tbody tr th {\n",
       "        vertical-align: top;\n",
       "    }\n",
       "\n",
       "    .dataframe thead th {\n",
       "        text-align: right;\n",
       "    }\n",
       "</style>\n",
       "<table border=\"1\" class=\"dataframe\">\n",
       "  <thead>\n",
       "    <tr style=\"text-align: right;\">\n",
       "      <th></th>\n",
       "      <th>Lag_Time</th>\n",
       "      <th>Accident_to_C2_Lag</th>\n",
       "    </tr>\n",
       "  </thead>\n",
       "  <tbody>\n",
       "    <tr>\n",
       "      <th>Lag_Time</th>\n",
       "      <td>1.000000</td>\n",
       "      <td>0.088743</td>\n",
       "    </tr>\n",
       "    <tr>\n",
       "      <th>Accident_to_C2_Lag</th>\n",
       "      <td>0.088743</td>\n",
       "      <td>1.000000</td>\n",
       "    </tr>\n",
       "  </tbody>\n",
       "</table>\n",
       "</div>"
      ],
      "text/plain": [
       "                    Lag_Time  Accident_to_C2_Lag\n",
       "Lag_Time            1.000000            0.088743\n",
       "Accident_to_C2_Lag  0.088743            1.000000"
      ]
     },
     "execution_count": 172,
     "metadata": {},
     "output_type": "execute_result"
    }
   ],
   "source": [
    "# Convert columns to datetime format and handle errors\n",
    "train_df_date2 = train_df_bin.copy()\n",
    "train_df_date2['Accident Date'] = pd.to_datetime(train_df_date2['Accident Date'], errors='coerce')\n",
    "train_df_date2['Assembly Date'] = pd.to_datetime(train_df_date2['Assembly Date'], errors='coerce')\n",
    "train_df_date2['C-2 Date'] = pd.to_datetime(train_df_date2['C-2 Date'], errors='coerce')\n",
    "\n",
    "# Check for any correlation between date columns by converting them to numeric values (days since start)\n",
    "train_df_date2['Lag_Time'] = (train_df_date2['Assembly Date'] - train_df_date2['Accident Date'].min()).dt.days\n",
    "train_df_date2['Accident_to_C2_Lag'] = (train_df_date2['C-2 Date'] - train_df_date2['Accident Date'].min()).dt.days\n",
    "\n",
    "# Correlation matrix for date columns\n",
    "correlation_matrix_date = train_df_date2[['Lag_Time', 'Accident_to_C2_Lag']].corr()\n",
    "correlation_matrix_date"
   ]
  },
  {
   "cell_type": "code",
   "execution_count": 175,
   "id": "31309f96",
   "metadata": {},
   "outputs": [],
   "source": [
    "train_df_bin['Lag_Time'] = train_df_date2['Lag_Time']\n",
    "train_df_bin['Accident_to_C2_Lag'] = train_df_date2['Accident_to_C2_Lag']"
   ]
  },
  {
   "attachments": {},
   "cell_type": "markdown",
   "id": "e3389406",
   "metadata": {},
   "source": [
    "### 3.4 Data Scaling"
   ]
  },
  {
   "cell_type": "code",
   "execution_count": null,
   "id": "9044abf0",
   "metadata": {},
   "outputs": [],
   "source": []
  },
  {
   "attachments": {},
   "cell_type": "markdown",
   "id": "257e9b6c",
   "metadata": {},
   "source": [
    "## 4. Feature Selection <a id='features'></a>\n",
    "[to the top](#top)"
   ]
  },
  {
   "attachments": {},
   "cell_type": "markdown",
   "id": "cb7d6a9e",
   "metadata": {},
   "source": [
    "_\"Define and implement an unambiguous strategy for feature selection. Use methods discussed in the course. Present and justify your final selection.\"_"
   ]
  },
  {
   "attachments": {},
   "cell_type": "markdown",
   "id": "6a1a804b",
   "metadata": {},
   "source": [
    "## 5. Modeling and Evaluation <a id='modeling'></a>\n",
    "[to the top](#top)"
   ]
  },
  {
   "attachments": {},
   "cell_type": "markdown",
   "id": "9573be04",
   "metadata": {},
   "source": [
    "- _\"Identify the type of the problem and select the relevant algorithms._\n",
    "- _Use cross-validation to assess performance. Which metrics did you use and why?_\n",
    "- _Train at least 1 model using the train dataset and obtain predictions for the test dataset.\"_"
   ]
  },
  {
   "cell_type": "code",
   "execution_count": null,
   "id": "dcdabcb1",
   "metadata": {},
   "outputs": [],
   "source": [
    "# test"
   ]
  }
 ],
 "metadata": {
  "kernelspec": {
   "display_name": "Python 3 (ipykernel)",
   "language": "python",
   "name": "python3"
  },
  "language_info": {
   "codemirror_mode": {
    "name": "ipython",
    "version": 3
   },
   "file_extension": ".py",
   "mimetype": "text/x-python",
   "name": "python",
   "nbconvert_exporter": "python",
   "pygments_lexer": "ipython3",
   "version": "3.9.12"
  }
 },
 "nbformat": 4,
 "nbformat_minor": 5
}
